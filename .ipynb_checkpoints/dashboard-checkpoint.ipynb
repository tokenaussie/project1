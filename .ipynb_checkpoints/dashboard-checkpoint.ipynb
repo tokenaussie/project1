{
 "cells": [
  {
   "cell_type": "code",
   "execution_count": 1,
   "metadata": {},
   "outputs": [],
   "source": [
    "# Define functions to return as plots\n",
    "\n",
    "def n_returns():\n",
    "    \n",
    "    normalised_returns_plot = normalised_returns.hvplot(\n",
    "        title = 'Daily returns for all cryptos over 12 months',\n",
    "        \n",
    "    )\n",
    "    \n",
    "    return normalised_returns_plot\n",
    "\n",
    "def n_returns6():\n",
    "    \n",
    "    normalised_returns6_plot = normalised_returns6.hvplot(\n",
    "        title = 'Daily returns for all cryptos over 6 months',\n",
    "        \n",
    "    )\n",
    "    \n",
    "    return normalised_returns6_plot\n",
    "    \n",
    "def n_returns3():\n",
    "    \n",
    "    normalised_returns3_plot = normalised_returns3.hvplot(\n",
    "        \n",
    "    )\n",
    "    \n",
    "    return normalised_returns3_plot\n",
    "\n",
    "def c_returns():\n",
    "    \n",
    "    cumulative_returns_plot = cumulative_returns.hvplot(\n",
    "        title = 'Cumulative returns for all cryptos over 12 months',\n",
    "        \n",
    "    )\n",
    "    \n",
    "    return cumulative_returns_plot\n",
    "\n",
    "def ewm_average():\n",
    "    \n",
    "    ewm_average = pd.DataFrame(normalised_returns).ewm(span=21).mean()\n",
    "    ewm_average_plot = ewm_average.plot(\n",
    "        title = '21-Day Exponentially Weighted Moving Average for all cryptos',\n",
    "    \n",
    "    )\n",
    "    \n",
    "    return ewm_average_plot\n",
    "\n",
    "def sharpe_ratios():\n",
    "    \n",
    "    sharpe_ratios_plot = sharpe_ratios.hvplot.bar(\n",
    "        title = 'Sharpe Ratios of all cryptos'\n",
    "    )"
   ]
  },
  {
   "cell_type": "code",
   "execution_count": 2,
   "metadata": {},
   "outputs": [
    {
     "ename": "NameError",
     "evalue": "name 'pn' is not defined",
     "output_type": "error",
     "traceback": [
      "\u001b[1;31m---------------------------------------------------------------------------\u001b[0m",
      "\u001b[1;31mNameError\u001b[0m                                 Traceback (most recent call last)",
      "\u001b[1;32m<ipython-input-2-a3c6d7a00ae7>\u001b[0m in \u001b[0;36m<module>\u001b[1;34m\u001b[0m\n\u001b[0;32m      1\u001b[0m \u001b[1;31m# Create a Title for the Dashboard\u001b[0m\u001b[1;33m\u001b[0m\u001b[1;33m\u001b[0m\u001b[1;33m\u001b[0m\u001b[0m\n\u001b[1;32m----> 2\u001b[1;33m \u001b[0mtitle\u001b[0m \u001b[1;33m=\u001b[0m \u001b[0mpn\u001b[0m\u001b[1;33m.\u001b[0m\u001b[0mpane\u001b[0m\u001b[1;33m.\u001b[0m\u001b[0mMarkdown\u001b[0m\u001b[1;33m(\u001b[0m\u001b[1;34m\"Quantitative analysis of Cryptocurrency\"\u001b[0m\u001b[1;33m)\u001b[0m\u001b[1;33m\u001b[0m\u001b[1;33m\u001b[0m\u001b[0m\n\u001b[0m\u001b[0;32m      3\u001b[0m \u001b[1;33m\u001b[0m\u001b[0m\n\u001b[0;32m      4\u001b[0m \u001b[1;31m# Create a description for the Dashboard\u001b[0m\u001b[1;33m\u001b[0m\u001b[1;33m\u001b[0m\u001b[1;33m\u001b[0m\u001b[0m\n\u001b[0;32m      5\u001b[0m description = pn.pane.Markdown(\n",
      "\u001b[1;31mNameError\u001b[0m: name 'pn' is not defined"
     ]
    }
   ],
   "source": [
    "# Create a Title for the Dashboard\n",
    "title = pn.pane.Markdown(\"Quantitative analysis of Cryptocurrency\")\n",
    "\n",
    "# Create a description for the Dashboard\n",
    "description = pn.pane.Markdown(\n",
    "    \"\"\"\n",
    "This Dashboard provides an analysis of the performance of cryptocurrencies within the last 12 months.\n",
    "We looked at Bitcoin (BTC), Ethereum (ETH), Vechain (VET) and Cardano (ADA).\n",
    "\n",
    "The different tabs display \n",
    "\n",
    "    \"\"\")\n",
    "\n",
    "# Create a tab layout for the dashboard\n",
    "# Introduction tab\n",
    "intro = pn.Column(description)\n",
    "\n",
    "# Averages per Year tab\n",
    "returns_tab = pn.Row(n_returns, n_returns6, n_returns3, c_returns)\n",
    "averages_tab = pn.Row(ewm_average)\n",
    "ratios_tab = pn.Row(sharpe_ratios)\n",
    "\n",
    "tabs = pn.Tabs(\n",
    "    (\"Welcome\", intro)\n",
    "    (\"Returns\", returns_tab)\n",
    "    (\"Rolling Analysis\", averages_tab)\n",
    "    (\"Performance\", ratios_tab)\n",
    ")\n",
    "\n",
    "dashboard = pn.Column(pn.Row(title), tabs, width = 900)\n"
   ]
  },
  {
   "cell_type": "code",
   "execution_count": null,
   "metadata": {},
   "outputs": [],
   "source": []
  }
 ],
 "metadata": {
  "kernelspec": {
   "display_name": "Python 3",
   "language": "python",
   "name": "python3"
  },
  "language_info": {
   "codemirror_mode": {
    "name": "ipython",
    "version": 3
   },
   "file_extension": ".py",
   "mimetype": "text/x-python",
   "name": "python",
   "nbconvert_exporter": "python",
   "pygments_lexer": "ipython3",
   "version": "3.7.9"
  }
 },
 "nbformat": 4,
 "nbformat_minor": 4
}
