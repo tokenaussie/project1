{
 "cells": [
  {
   "cell_type": "code",
   "execution_count": 260,
   "metadata": {},
   "outputs": [],
   "source": [
    "import pandas as pd\n",
    "#Import reader.py function James's created - it reads the CSV and drops unneeded columns\n",
    "from reader import reader\n",
    "from pathlib import Path\n",
    "import numpy as np\n",
    "import seaborn as sns\n",
    "%matplotlib inline\n",
    "import hvplot.pandas\n",
    "import holoviews as hv\n",
    "import plotly.express as px\n",
    "import matplotlib.pyplot as plt\n",
    "#hv.extension('bokeh')"
   ]
  },
  {
   "cell_type": "code",
   "execution_count": 261,
   "metadata": {},
   "outputs": [
    {
     "data": {
      "text/html": [
       "<div>\n",
       "<style scoped>\n",
       "    .dataframe tbody tr th:only-of-type {\n",
       "        vertical-align: middle;\n",
       "    }\n",
       "\n",
       "    .dataframe tbody tr th {\n",
       "        vertical-align: top;\n",
       "    }\n",
       "\n",
       "    .dataframe thead th {\n",
       "        text-align: right;\n",
       "    }\n",
       "</style>\n",
       "<table border=\"1\" class=\"dataframe\">\n",
       "  <thead>\n",
       "    <tr style=\"text-align: right;\">\n",
       "      <th></th>\n",
       "      <th>ETH</th>\n",
       "    </tr>\n",
       "    <tr>\n",
       "      <th>Date</th>\n",
       "      <th></th>\n",
       "    </tr>\n",
       "  </thead>\n",
       "  <tbody>\n",
       "    <tr>\n",
       "      <th>2018-01-18</th>\n",
       "      <td>991.01</td>\n",
       "    </tr>\n",
       "    <tr>\n",
       "      <th>2018-01-19</th>\n",
       "      <td>979.57</td>\n",
       "    </tr>\n",
       "    <tr>\n",
       "      <th>2018-01-20</th>\n",
       "      <td>1178.29</td>\n",
       "    </tr>\n",
       "    <tr>\n",
       "      <th>2018-01-21</th>\n",
       "      <td>1022.74</td>\n",
       "    </tr>\n",
       "    <tr>\n",
       "      <th>2018-01-22</th>\n",
       "      <td>999.37</td>\n",
       "    </tr>\n",
       "  </tbody>\n",
       "</table>\n",
       "</div>"
      ],
      "text/plain": [
       "                ETH\n",
       "Date               \n",
       "2018-01-18   991.01\n",
       "2018-01-19   979.57\n",
       "2018-01-20  1178.29\n",
       "2018-01-21  1022.74\n",
       "2018-01-22   999.37"
      ]
     },
     "execution_count": 261,
     "metadata": {},
     "output_type": "execute_result"
    }
   ],
   "source": [
    "#Reading the four CSVs\n",
    "eth_df = reader(file1 = \"Resources\\ETH_USD.csv\", ticker1 = \"ETH\")\n",
    "eth_df.head()"
   ]
  },
  {
   "cell_type": "code",
   "execution_count": 262,
   "metadata": {},
   "outputs": [
    {
     "data": {
      "text/html": [
       "<div>\n",
       "<style scoped>\n",
       "    .dataframe tbody tr th:only-of-type {\n",
       "        vertical-align: middle;\n",
       "    }\n",
       "\n",
       "    .dataframe tbody tr th {\n",
       "        vertical-align: top;\n",
       "    }\n",
       "\n",
       "    .dataframe thead th {\n",
       "        text-align: right;\n",
       "    }\n",
       "</style>\n",
       "<table border=\"1\" class=\"dataframe\">\n",
       "  <thead>\n",
       "    <tr style=\"text-align: right;\">\n",
       "      <th></th>\n",
       "      <th>VET</th>\n",
       "    </tr>\n",
       "    <tr>\n",
       "      <th>Date</th>\n",
       "      <th></th>\n",
       "    </tr>\n",
       "  </thead>\n",
       "  <tbody>\n",
       "    <tr>\n",
       "      <th>2018-08-06</th>\n",
       "      <td>0.01342</td>\n",
       "    </tr>\n",
       "    <tr>\n",
       "      <th>2018-08-07</th>\n",
       "      <td>0.01294</td>\n",
       "    </tr>\n",
       "    <tr>\n",
       "      <th>2018-08-08</th>\n",
       "      <td>0.01087</td>\n",
       "    </tr>\n",
       "    <tr>\n",
       "      <th>2018-08-09</th>\n",
       "      <td>0.01155</td>\n",
       "    </tr>\n",
       "    <tr>\n",
       "      <th>2018-08-10</th>\n",
       "      <td>0.00958</td>\n",
       "    </tr>\n",
       "  </tbody>\n",
       "</table>\n",
       "</div>"
      ],
      "text/plain": [
       "                VET\n",
       "Date               \n",
       "2018-08-06  0.01342\n",
       "2018-08-07  0.01294\n",
       "2018-08-08  0.01087\n",
       "2018-08-09  0.01155\n",
       "2018-08-10  0.00958"
      ]
     },
     "execution_count": 262,
     "metadata": {},
     "output_type": "execute_result"
    }
   ],
   "source": [
    "vet_df = reader(file1 = \"Resources\\VET_USD.csv\", ticker1 = \"VET\")\n",
    "vet_df.head()"
   ]
  },
  {
   "cell_type": "code",
   "execution_count": 263,
   "metadata": {},
   "outputs": [
    {
     "data": {
      "text/html": [
       "<div>\n",
       "<style scoped>\n",
       "    .dataframe tbody tr th:only-of-type {\n",
       "        vertical-align: middle;\n",
       "    }\n",
       "\n",
       "    .dataframe tbody tr th {\n",
       "        vertical-align: top;\n",
       "    }\n",
       "\n",
       "    .dataframe thead th {\n",
       "        text-align: right;\n",
       "    }\n",
       "</style>\n",
       "<table border=\"1\" class=\"dataframe\">\n",
       "  <thead>\n",
       "    <tr style=\"text-align: right;\">\n",
       "      <th></th>\n",
       "      <th>BTC</th>\n",
       "    </tr>\n",
       "    <tr>\n",
       "      <th>Date</th>\n",
       "      <th></th>\n",
       "    </tr>\n",
       "  </thead>\n",
       "  <tbody>\n",
       "    <tr>\n",
       "      <th>2018-01-01</th>\n",
       "      <td>13444.9</td>\n",
       "    </tr>\n",
       "    <tr>\n",
       "      <th>2018-01-02</th>\n",
       "      <td>14754.1</td>\n",
       "    </tr>\n",
       "    <tr>\n",
       "      <th>2018-01-03</th>\n",
       "      <td>15156.6</td>\n",
       "    </tr>\n",
       "    <tr>\n",
       "      <th>2018-01-04</th>\n",
       "      <td>15180.1</td>\n",
       "    </tr>\n",
       "    <tr>\n",
       "      <th>2018-01-05</th>\n",
       "      <td>16954.8</td>\n",
       "    </tr>\n",
       "  </tbody>\n",
       "</table>\n",
       "</div>"
      ],
      "text/plain": [
       "                BTC\n",
       "Date               \n",
       "2018-01-01  13444.9\n",
       "2018-01-02  14754.1\n",
       "2018-01-03  15156.6\n",
       "2018-01-04  15180.1\n",
       "2018-01-05  16954.8"
      ]
     },
     "execution_count": 263,
     "metadata": {},
     "output_type": "execute_result"
    }
   ],
   "source": [
    "btc_df = reader(file1 = \"Resources\\Bitcoin.csv\", ticker1 = \"BTC\")\n",
    "btc_df.head()"
   ]
  },
  {
   "cell_type": "code",
   "execution_count": 264,
   "metadata": {},
   "outputs": [
    {
     "data": {
      "text/html": [
       "<div>\n",
       "<style scoped>\n",
       "    .dataframe tbody tr th:only-of-type {\n",
       "        vertical-align: middle;\n",
       "    }\n",
       "\n",
       "    .dataframe tbody tr th {\n",
       "        vertical-align: top;\n",
       "    }\n",
       "\n",
       "    .dataframe thead th {\n",
       "        text-align: right;\n",
       "    }\n",
       "</style>\n",
       "<table border=\"1\" class=\"dataframe\">\n",
       "  <thead>\n",
       "    <tr style=\"text-align: right;\">\n",
       "      <th></th>\n",
       "      <th>ADA</th>\n",
       "    </tr>\n",
       "    <tr>\n",
       "      <th>Date</th>\n",
       "      <th></th>\n",
       "    </tr>\n",
       "  </thead>\n",
       "  <tbody>\n",
       "    <tr>\n",
       "      <th>2018-01-01</th>\n",
       "      <td>0.702200</td>\n",
       "    </tr>\n",
       "    <tr>\n",
       "      <th>2018-01-02</th>\n",
       "      <td>0.762000</td>\n",
       "    </tr>\n",
       "    <tr>\n",
       "      <th>2018-01-03</th>\n",
       "      <td>1.080000</td>\n",
       "    </tr>\n",
       "    <tr>\n",
       "      <th>2018-01-04</th>\n",
       "      <td>1.104300</td>\n",
       "    </tr>\n",
       "    <tr>\n",
       "      <th>2018-01-05</th>\n",
       "      <td>0.994903</td>\n",
       "    </tr>\n",
       "  </tbody>\n",
       "</table>\n",
       "</div>"
      ],
      "text/plain": [
       "                 ADA\n",
       "Date                \n",
       "2018-01-01  0.702200\n",
       "2018-01-02  0.762000\n",
       "2018-01-03  1.080000\n",
       "2018-01-04  1.104300\n",
       "2018-01-05  0.994903"
      ]
     },
     "execution_count": 264,
     "metadata": {},
     "output_type": "execute_result"
    }
   ],
   "source": [
    "ada_df = reader(file1 = \"Resources\\Cardano.csv\", ticker1 = \"ADA\")\n",
    "ada_df.head()"
   ]
  },
  {
   "cell_type": "code",
   "execution_count": 265,
   "metadata": {},
   "outputs": [
    {
     "data": {
      "text/html": [
       "<div>\n",
       "<style scoped>\n",
       "    .dataframe tbody tr th:only-of-type {\n",
       "        vertical-align: middle;\n",
       "    }\n",
       "\n",
       "    .dataframe tbody tr th {\n",
       "        vertical-align: top;\n",
       "    }\n",
       "\n",
       "    .dataframe thead th {\n",
       "        text-align: right;\n",
       "    }\n",
       "</style>\n",
       "<table border=\"1\" class=\"dataframe\">\n",
       "  <thead>\n",
       "    <tr style=\"text-align: right;\">\n",
       "      <th></th>\n",
       "      <th>ETH</th>\n",
       "      <th>VET</th>\n",
       "      <th>BTC</th>\n",
       "      <th>ADA</th>\n",
       "    </tr>\n",
       "    <tr>\n",
       "      <th>Date</th>\n",
       "      <th></th>\n",
       "      <th></th>\n",
       "      <th></th>\n",
       "      <th></th>\n",
       "    </tr>\n",
       "  </thead>\n",
       "  <tbody>\n",
       "    <tr>\n",
       "      <th>2020-03-26</th>\n",
       "      <td>138.35</td>\n",
       "      <td>0.003082</td>\n",
       "      <td>6725.1</td>\n",
       "      <td>0.030843</td>\n",
       "    </tr>\n",
       "    <tr>\n",
       "      <th>2020-03-27</th>\n",
       "      <td>131.30</td>\n",
       "      <td>0.003000</td>\n",
       "      <td>6373.4</td>\n",
       "      <td>0.028815</td>\n",
       "    </tr>\n",
       "    <tr>\n",
       "      <th>2020-03-28</th>\n",
       "      <td>130.89</td>\n",
       "      <td>0.002969</td>\n",
       "      <td>6233.7</td>\n",
       "      <td>0.029747</td>\n",
       "    </tr>\n",
       "    <tr>\n",
       "      <th>2020-03-29</th>\n",
       "      <td>124.43</td>\n",
       "      <td>0.002729</td>\n",
       "      <td>5890.4</td>\n",
       "      <td>0.028065</td>\n",
       "    </tr>\n",
       "    <tr>\n",
       "      <th>2020-03-30</th>\n",
       "      <td>132.01</td>\n",
       "      <td>0.002934</td>\n",
       "      <td>6391.0</td>\n",
       "      <td>0.029661</td>\n",
       "    </tr>\n",
       "  </tbody>\n",
       "</table>\n",
       "</div>"
      ],
      "text/plain": [
       "               ETH       VET     BTC       ADA\n",
       "Date                                          \n",
       "2020-03-26  138.35  0.003082  6725.1  0.030843\n",
       "2020-03-27  131.30  0.003000  6373.4  0.028815\n",
       "2020-03-28  130.89  0.002969  6233.7  0.029747\n",
       "2020-03-29  124.43  0.002729  5890.4  0.028065\n",
       "2020-03-30  132.01  0.002934  6391.0  0.029661"
      ]
     },
     "execution_count": 265,
     "metadata": {},
     "output_type": "execute_result"
    }
   ],
   "source": [
    "#Calculating daily returns over 12 months\n",
    "daily_returns = pd.concat([eth_df, vet_df, btc_df, ada_df], axis=\"columns\", join=\"inner\")\n",
    "daily_returns = daily_returns.tail(365)\n",
    "daily_returns.head()"
   ]
  },
  {
   "cell_type": "code",
   "execution_count": 266,
   "metadata": {},
   "outputs": [
    {
     "data": {
      "text/html": [
       "<div>\n",
       "<style scoped>\n",
       "    .dataframe tbody tr th:only-of-type {\n",
       "        vertical-align: middle;\n",
       "    }\n",
       "\n",
       "    .dataframe tbody tr th {\n",
       "        vertical-align: top;\n",
       "    }\n",
       "\n",
       "    .dataframe thead th {\n",
       "        text-align: right;\n",
       "    }\n",
       "</style>\n",
       "<table border=\"1\" class=\"dataframe\">\n",
       "  <thead>\n",
       "    <tr style=\"text-align: right;\">\n",
       "      <th></th>\n",
       "      <th>ETH</th>\n",
       "      <th>VET</th>\n",
       "      <th>BTC</th>\n",
       "      <th>ADA</th>\n",
       "    </tr>\n",
       "    <tr>\n",
       "      <th>Date</th>\n",
       "      <th></th>\n",
       "      <th></th>\n",
       "      <th></th>\n",
       "      <th></th>\n",
       "    </tr>\n",
       "  </thead>\n",
       "  <tbody>\n",
       "    <tr>\n",
       "      <th>2020-12-27</th>\n",
       "      <td>684.66</td>\n",
       "      <td>0.016549</td>\n",
       "      <td>26261.3</td>\n",
       "      <td>0.154639</td>\n",
       "    </tr>\n",
       "    <tr>\n",
       "      <th>2020-12-28</th>\n",
       "      <td>730.41</td>\n",
       "      <td>0.020129</td>\n",
       "      <td>27057.8</td>\n",
       "      <td>0.176428</td>\n",
       "    </tr>\n",
       "    <tr>\n",
       "      <th>2020-12-29</th>\n",
       "      <td>731.72</td>\n",
       "      <td>0.021127</td>\n",
       "      <td>27376.0</td>\n",
       "      <td>0.190995</td>\n",
       "    </tr>\n",
       "    <tr>\n",
       "      <th>2020-12-30</th>\n",
       "      <td>752.03</td>\n",
       "      <td>0.020254</td>\n",
       "      <td>28868.7</td>\n",
       "      <td>0.184033</td>\n",
       "    </tr>\n",
       "    <tr>\n",
       "      <th>2020-12-31</th>\n",
       "      <td>735.81</td>\n",
       "      <td>0.018750</td>\n",
       "      <td>28949.4</td>\n",
       "      <td>0.181381</td>\n",
       "    </tr>\n",
       "  </tbody>\n",
       "</table>\n",
       "</div>"
      ],
      "text/plain": [
       "               ETH       VET      BTC       ADA\n",
       "Date                                           \n",
       "2020-12-27  684.66  0.016549  26261.3  0.154639\n",
       "2020-12-28  730.41  0.020129  27057.8  0.176428\n",
       "2020-12-29  731.72  0.021127  27376.0  0.190995\n",
       "2020-12-30  752.03  0.020254  28868.7  0.184033\n",
       "2020-12-31  735.81  0.018750  28949.4  0.181381"
      ]
     },
     "execution_count": 266,
     "metadata": {},
     "output_type": "execute_result"
    }
   ],
   "source": [
    "#Calculating daily returns over 6 months\n",
    "daily_returns6 = daily_returns.tail(183)\n",
    "\n",
    "#Calculating daily returns over 3 months\n",
    "daily_returns3 = daily_returns.tail(91)\n",
    "daily_returns3.head()"
   ]
  },
  {
   "cell_type": "code",
   "execution_count": 267,
   "metadata": {},
   "outputs": [
    {
     "name": "stdout",
     "output_type": "stream",
     "text": [
      "12 months\n",
      "1955.16\n",
      "0.093639\n",
      "61195.3\n",
      "1.377406\n",
      "------------\n",
      "6 months\n",
      "1955.16\n",
      "0.093639\n",
      "61195.3\n",
      "1.377406\n",
      "------------\n",
      "3 months\n",
      "1955.16\n",
      "0.093639\n",
      "61195.3\n",
      "1.377406\n"
     ]
    }
   ],
   "source": [
    "#Calculating max price over 12 months\n",
    "eth_max = max(daily_returns['ETH'])\n",
    "vet_max = max(daily_returns['VET'])\n",
    "btc_max = max(daily_returns['BTC'])\n",
    "ada_max = max(daily_returns['ADA'])\n",
    "print(\"12 months\")\n",
    "print(eth_max)\n",
    "print(vet_max)\n",
    "print(btc_max)\n",
    "print(ada_max)\n",
    "\n",
    "#Calculating max price over 6 months\n",
    "eth_max6 = max(daily_returns6['ETH'])\n",
    "vet_max6 = max(daily_returns6['VET'])\n",
    "btc_max6 = max(daily_returns6['BTC'])\n",
    "ada_max6 = max(daily_returns6['ADA'])\n",
    "print (\"------------\")\n",
    "print (\"6 months\")\n",
    "print(eth_max6)\n",
    "print(vet_max6)\n",
    "print(btc_max6)\n",
    "print(ada_max6)\n",
    "\n",
    "#Calculating max price over 3 months\n",
    "eth_max3 = max(daily_returns3['ETH'])\n",
    "vet_max3 = max(daily_returns3['VET'])\n",
    "btc_max3 = max(daily_returns3['BTC'])\n",
    "ada_max3 = max(daily_returns3['ADA'])\n",
    "print (\"------------\")\n",
    "print (\"3 months\")\n",
    "print(eth_max3)\n",
    "print(vet_max3)\n",
    "print(btc_max3)\n",
    "print(ada_max3)"
   ]
  },
  {
   "cell_type": "code",
   "execution_count": 268,
   "metadata": {},
   "outputs": [],
   "source": [
    "#Calculating the crypto:BTC ratio over 12 months, 6 months, and 3 months\n",
    "eth_btc_ratio = btc_max / eth_max\n",
    "vet_btc_ratio = btc_max / vet_max\n",
    "ada_btc_ratio = btc_max / ada_max\n",
    "btc_btc_ratio = btc_max\n",
    "\n",
    "eth_btc_ratio6 = btc_max6 / eth_max6\n",
    "vet_btc_ratio6 = btc_max6 / vet_max6\n",
    "ada_btc_ratio6 = btc_max6 / ada_max6\n",
    "btc_btc_ratio6 = btc_max6\n",
    "\n",
    "eth_btc_ratio3 = btc_max3 / eth_max3\n",
    "vet_btc_ratio3 = btc_max3 / vet_max3\n",
    "ada_btc_ratio3 = btc_max3 / ada_max3\n",
    "btc_btc_ratio3 = btc_max3"
   ]
  },
  {
   "cell_type": "code",
   "execution_count": 269,
   "metadata": {},
   "outputs": [],
   "source": [
    "#Calculating the normalised returns over 12 months, 6 months, and 3 months\n",
    "eth_normalised_returns = daily_returns['ETH'] * eth_btc_ratio\n",
    "vet_normalised_returns = daily_returns['VET'] * vet_btc_ratio\n",
    "ada_normalised_returns = daily_returns['ADA'] * ada_btc_ratio\n",
    "\n",
    "eth_normalised_returns6 = daily_returns6['ETH'] * eth_btc_ratio6\n",
    "vet_normalised_returns6 = daily_returns6['VET'] * vet_btc_ratio6\n",
    "ada_normalised_returns6 = daily_returns6['ADA'] * ada_btc_ratio6\n",
    "\n",
    "eth_normalised_returns3 = daily_returns3['ETH'] * eth_btc_ratio3\n",
    "vet_normalised_returns3 = daily_returns3['VET'] * vet_btc_ratio3\n",
    "ada_normalised_returns3 = daily_returns3['ADA'] * ada_btc_ratio3"
   ]
  },
  {
   "cell_type": "code",
   "execution_count": 270,
   "metadata": {},
   "outputs": [
    {
     "data": {
      "text/html": [
       "<div>\n",
       "<style scoped>\n",
       "    .dataframe tbody tr th:only-of-type {\n",
       "        vertical-align: middle;\n",
       "    }\n",
       "\n",
       "    .dataframe tbody tr th {\n",
       "        vertical-align: top;\n",
       "    }\n",
       "\n",
       "    .dataframe thead th {\n",
       "        text-align: right;\n",
       "    }\n",
       "</style>\n",
       "<table border=\"1\" class=\"dataframe\">\n",
       "  <thead>\n",
       "    <tr style=\"text-align: right;\">\n",
       "      <th></th>\n",
       "      <th>ETH</th>\n",
       "      <th>VET</th>\n",
       "      <th>BTC</th>\n",
       "      <th>ADA</th>\n",
       "    </tr>\n",
       "    <tr>\n",
       "      <th>Date</th>\n",
       "      <th></th>\n",
       "      <th></th>\n",
       "      <th></th>\n",
       "      <th></th>\n",
       "    </tr>\n",
       "  </thead>\n",
       "  <tbody>\n",
       "    <tr>\n",
       "      <th>2020-12-27</th>\n",
       "      <td>0.350181</td>\n",
       "      <td>0.176732</td>\n",
       "      <td>0.429139</td>\n",
       "      <td>0.112268</td>\n",
       "    </tr>\n",
       "    <tr>\n",
       "      <th>2020-12-28</th>\n",
       "      <td>0.373581</td>\n",
       "      <td>0.214964</td>\n",
       "      <td>0.442155</td>\n",
       "      <td>0.128087</td>\n",
       "    </tr>\n",
       "    <tr>\n",
       "      <th>2020-12-29</th>\n",
       "      <td>0.374251</td>\n",
       "      <td>0.225622</td>\n",
       "      <td>0.447355</td>\n",
       "      <td>0.138663</td>\n",
       "    </tr>\n",
       "    <tr>\n",
       "      <th>2020-12-30</th>\n",
       "      <td>0.384639</td>\n",
       "      <td>0.216299</td>\n",
       "      <td>0.471747</td>\n",
       "      <td>0.133608</td>\n",
       "    </tr>\n",
       "    <tr>\n",
       "      <th>2020-12-31</th>\n",
       "      <td>0.376343</td>\n",
       "      <td>0.200237</td>\n",
       "      <td>0.473066</td>\n",
       "      <td>0.131683</td>\n",
       "    </tr>\n",
       "  </tbody>\n",
       "</table>\n",
       "</div>"
      ],
      "text/plain": [
       "                 ETH       VET       BTC       ADA\n",
       "Date                                              \n",
       "2020-12-27  0.350181  0.176732  0.429139  0.112268\n",
       "2020-12-28  0.373581  0.214964  0.442155  0.128087\n",
       "2020-12-29  0.374251  0.225622  0.447355  0.138663\n",
       "2020-12-30  0.384639  0.216299  0.471747  0.133608\n",
       "2020-12-31  0.376343  0.200237  0.473066  0.131683"
      ]
     },
     "execution_count": 270,
     "metadata": {},
     "output_type": "execute_result"
    }
   ],
   "source": [
    "#Combining the normalised returns over 12 months, 6 months, and 3 months\n",
    "normalised_returns = pd.concat([eth_normalised_returns, vet_normalised_returns, daily_returns['BTC'], ada_normalised_returns], axis=\"columns\", join=\"inner\")\n",
    "normalised_returns = normalised_returns / btc_max\n",
    "normalised_returns.head()\n",
    "\n",
    "normalised_returns6 = pd.concat([eth_normalised_returns6, vet_normalised_returns6, daily_returns6['BTC'], ada_normalised_returns6], axis=\"columns\", join=\"inner\")\n",
    "normalised_returns6 = normalised_returns6 / btc_max6\n",
    "normalised_returns6.head()\n",
    "\n",
    "normalised_returns3 = pd.concat([eth_normalised_returns3, vet_normalised_returns3, daily_returns3['BTC'], ada_normalised_returns3], axis=\"columns\", join=\"inner\")\n",
    "normalised_returns3 = normalised_returns3 / btc_max3\n",
    "normalised_returns3.head()"
   ]
  },
  {
   "cell_type": "code",
   "execution_count": 271,
   "metadata": {},
   "outputs": [
    {
     "data": {},
     "metadata": {},
     "output_type": "display_data"
    },
    {
     "data": {
      "application/vnd.holoviews_exec.v0+json": "",
      "text/html": [
       "<div id='23625'>\n",
       "\n",
       "\n",
       "\n",
       "\n",
       "\n",
       "  <div class=\"bk-root\" id=\"a94b253c-518c-45f8-a603-c31ea1d2c026\" data-root-id=\"23625\"></div>\n",
       "</div>\n",
       "<script type=\"application/javascript\">(function(root) {\n",
       "  function embed_document(root) {\n",
       "    var docs_json = {\"19ef7265-0e32-480f-9ca1-d1c220c0ecbe\":{\"roots\":{\"references\":[{\"attributes\":{\"bottom_units\":\"screen\",\"fill_alpha\":0.5,\"fill_color\":\"lightgrey\",\"left_units\":\"screen\",\"level\":\"overlay\",\"line_alpha\":1.0,\"line_color\":\"black\",\"line_dash\":[4,4],\"line_width\":2,\"right_units\":\"screen\",\"top_units\":\"screen\"},\"id\":\"23655\",\"type\":\"BoxAnnotation\"},{\"attributes\":{\"active_drag\":\"auto\",\"active_inspect\":\"auto\",\"active_multi\":null,\"active_scroll\":\"auto\",\"active_tap\":\"auto\",\"tools\":[{\"id\":\"23629\"},{\"id\":\"23650\"},{\"id\":\"23651\"},{\"id\":\"23652\"},{\"id\":\"23653\"},{\"id\":\"23654\"}]},\"id\":\"23656\",\"type\":\"Toolbar\"},{\"attributes\":{\"data\":{\"Date\":{\"__ndarray__\":\"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\",\"dtype\":\"float64\",\"order\":\"little\",\"shape\":[365]},\"Variable\":[\"ETH\",\"ETH\",\"ETH\",\"ETH\",\"ETH\",\"ETH\",\"ETH\",\"ETH\",\"ETH\",\"ETH\",\"ETH\",\"ETH\",\"ETH\",\"ETH\",\"ETH\",\"ETH\",\"ETH\",\"ETH\",\"ETH\",\"ETH\",\"ETH\",\"ETH\",\"ETH\",\"ETH\",\"ETH\",\"ETH\",\"ETH\",\"ETH\",\"ETH\",\"ETH\",\"ETH\",\"ETH\",\"ETH\",\"ETH\",\"ETH\",\"ETH\",\"ETH\",\"ETH\",\"ETH\",\"ETH\",\"ETH\",\"ETH\",\"ETH\",\"ETH\",\"ETH\",\"ETH\",\"ETH\",\"ETH\",\"ETH\",\"ETH\",\"ETH\",\"ETH\",\"ETH\",\"ETH\",\"ETH\",\"ETH\",\"ETH\",\"ETH\",\"ETH\",\"ETH\",\"ETH\",\"ETH\",\"ETH\",\"ETH\",\"ETH\",\"ETH\",\"ETH\",\"ETH\",\"ETH\",\"ETH\",\"ETH\",\"ETH\",\"ETH\",\"ETH\",\"ETH\",\"ETH\",\"ETH\",\"ETH\",\"ETH\",\"ETH\",\"ETH\",\"ETH\",\"ETH\",\"ETH\",\"ETH\",\"ETH\",\"ETH\",\"ETH\",\"ETH\",\"ETH\",\"ETH\",\"ETH\",\"ETH\",\"ETH\",\"ETH\",\"ETH\",\"ETH\",\"ETH\",\"ETH\",\"ETH\",\"ETH\",\"ETH\",\"ETH\",\"ETH\",\"ETH\",\"ETH\",\"ETH\",\"ETH\",\"ETH\",\"ETH\",\"ETH\",\"ETH\",\"ETH\",\"ETH\",\"ETH\",\"ETH\",\"ETH\",\"ETH\",\"ETH\",\"ETH\",\"ETH\",\"ETH\",\"ETH\",\"ETH\",\"ETH\",\"ETH\",\"ETH\",\"ETH\",\"ETH\",\"ETH\",\"ETH\",\"ETH\",\"ETH\",\"ETH\",\"ETH\",\"ETH\",\"ETH\",\"ETH\",\"ETH\",\"ETH\",\"ETH\",\"ETH\",\"ETH\",\"ETH\",\"ETH\",\"ETH\",\"ETH\",\"ETH\",\"ETH\",\"ETH\",\"ETH\",\"ETH\",\"ETH\",\"ETH\",\"ETH\",\"ETH\",\"ETH\",\"ETH\",\"ETH\",\"ETH\",\"ETH\",\"ETH\",\"ETH\",\"ETH\",\"ETH\",\"ETH\",\"ETH\",\"ETH\",\"ETH\",\"ETH\",\"ETH\",\"ETH\",\"ETH\",\"ETH\",\"ETH\",\"ETH\",\"ETH\",\"ETH\",\"ETH\",\"ETH\",\"ETH\",\"ETH\",\"ETH\",\"ETH\",\"ETH\",\"ETH\",\"ETH\",\"ETH\",\"ETH\",\"ETH\",\"ETH\",\"ETH\",\"ETH\",\"ETH\",\"ETH\",\"ETH\",\"ETH\",\"ETH\",\"ETH\",\"ETH\",\"ETH\",\"ETH\",\"ETH\",\"ETH\",\"ETH\",\"ETH\",\"ETH\",\"ETH\",\"ETH\",\"ETH\",\"ETH\",\"ETH\",\"ETH\",\"ETH\",\"ETH\",\"ETH\",\"ETH\",\"ETH\",\"ETH\",\"ETH\",\"ETH\",\"ETH\",\"ETH\",\"ETH\",\"ETH\",\"ETH\",\"ETH\",\"ETH\",\"ETH\",\"ETH\",\"ETH\",\"ETH\",\"ETH\",\"ETH\",\"ETH\",\"ETH\",\"ETH\",\"ETH\",\"ETH\",\"ETH\",\"ETH\",\"ETH\",\"ETH\",\"ETH\",\"ETH\",\"ETH\",\"ETH\",\"ETH\",\"ETH\",\"ETH\",\"ETH\",\"ETH\",\"ETH\",\"ETH\",\"ETH\",\"ETH\",\"ETH\",\"ETH\",\"ETH\",\"ETH\",\"ETH\",\"ETH\",\"ETH\",\"ETH\",\"ETH\",\"ETH\",\"ETH\",\"ETH\",\"ETH\",\"ETH\",\"ETH\",\"ETH\",\"ETH\",\"ETH\",\"ETH\",\"ETH\",\"ETH\",\"ETH\",\"ETH\",\"ETH\",\"ETH\",\"ETH\",\"ETH\",\"ETH\",\"ETH\",\"ETH\",\"ETH\",\"ETH\",\"ETH\",\"ETH\",\"ETH\",\"ETH\",\"ETH\",\"ETH\",\"ETH\",\"ETH\",\"ETH\",\"ETH\",\"ETH\",\"ETH\",\"ETH\",\"ETH\",\"ETH\",\"ETH\",\"ETH\",\"ETH\",\"ETH\",\"ETH\",\"ETH\",\"ETH\",\"ETH\",\"ETH\",\"ETH\",\"ETH\",\"ETH\",\"ETH\",\"ETH\",\"ETH\",\"ETH\",\"ETH\",\"ETH\",\"ETH\",\"ETH\",\"ETH\",\"ETH\",\"ETH\",\"ETH\",\"ETH\",\"ETH\",\"ETH\",\"ETH\",\"ETH\",\"ETH\",\"ETH\",\"ETH\",\"ETH\",\"ETH\",\"ETH\",\"ETH\",\"ETH\",\"ETH\",\"ETH\",\"ETH\",\"ETH\",\"ETH\",\"ETH\",\"ETH\",\"ETH\",\"ETH\",\"ETH\",\"ETH\",\"ETH\",\"ETH\",\"ETH\",\"ETH\",\"ETH\",\"ETH\",\"ETH\",\"ETH\",\"ETH\",\"ETH\",\"ETH\",\"ETH\",\"ETH\",\"ETH\"],\"value\":{\"__ndarray__\":\"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\",\"dtype\":\"float64\",\"order\":\"little\",\"shape\":[365]}},\"selected\":{\"id\":\"23668\"},\"selection_policy\":{\"id\":\"23694\"}},\"id\":\"23667\",\"type\":\"ColumnDataSource\"},{\"attributes\":{\"base\":60,\"mantissas\":[1,2,5,10,15,20,30],\"max_interval\":1800000.0,\"min_interval\":1000.0,\"num_minor_ticks\":0},\"id\":\"23682\",\"type\":\"AdaptiveTicker\"},{\"attributes\":{\"end\":1617062400000.0,\"reset_end\":1617062400000.0,\"reset_start\":1585180800000.0,\"start\":1585180800000.0,\"tags\":[[[\"Date\",\"Date\",null]]]},\"id\":\"23627\",\"type\":\"Range1d\"},{\"attributes\":{\"line_alpha\":0.2,\"line_color\":\"#30a2da\",\"line_width\":2,\"x\":{\"field\":\"Date\"},\"y\":{\"field\":\"value\"}},\"id\":\"23672\",\"type\":\"Line\"},{\"attributes\":{\"months\":[0,6]},\"id\":\"23691\",\"type\":\"MonthsTicker\"},{\"attributes\":{},\"id\":\"23692\",\"type\":\"YearsTicker\"},{\"attributes\":{},\"id\":\"23694\",\"type\":\"UnionRenderers\"},{\"attributes\":{},\"id\":\"23729\",\"type\":\"Selection\"},{\"attributes\":{},\"id\":\"23759\",\"type\":\"UnionRenderers\"},{\"attributes\":{\"end\":1.097962474390267,\"reset_end\":1.097962474390267,\"reset_start\":-0.07758721829293615,\"start\":-0.07758721829293615,\"tags\":[[[\"value\",\"value\",null]]]},\"id\":\"23628\",\"type\":\"Range1d\"},{\"attributes\":{},\"id\":\"23794\",\"type\":\"UnionRenderers\"},{\"attributes\":{\"days\":[1,8,15,22]},\"id\":\"23686\",\"type\":\"DaysTicker\"},{\"attributes\":{\"click_policy\":\"mute\",\"items\":[{\"id\":\"23696\"},{\"id\":\"23727\"},{\"id\":\"23760\"},{\"id\":\"23795\"}],\"location\":[0,0],\"title\":\"Variable\"},\"id\":\"23695\",\"type\":\"Legend\"},{\"attributes\":{\"callback\":null,\"formatters\":{\"@{Date}\":\"datetime\"},\"renderers\":[{\"id\":\"23673\"},{\"id\":\"23703\"},{\"id\":\"23734\"},{\"id\":\"23767\"}],\"tags\":[\"hv_created\"],\"tooltips\":[[\"Variable\",\"@{Variable}\"],[\"Date\",\"@{Date}{%F %T}\"],[\"value\",\"@{value}\"]]},\"id\":\"23629\",\"type\":\"HoverTool\"},{\"attributes\":{\"months\":[0,1,2,3,4,5,6,7,8,9,10,11]},\"id\":\"23688\",\"type\":\"MonthsTicker\"},{\"attributes\":{\"line_alpha\":0.1,\"line_color\":\"#6d904f\",\"line_width\":2,\"x\":{\"field\":\"Date\"},\"y\":{\"field\":\"value\"}},\"id\":\"23765\",\"type\":\"Line\"},{\"attributes\":{\"months\":[0,2,4,6,8,10]},\"id\":\"23689\",\"type\":\"MonthsTicker\"},{\"attributes\":{\"data_source\":{\"id\":\"23667\"},\"glyph\":{\"id\":\"23670\"},\"hover_glyph\":null,\"muted_glyph\":{\"id\":\"23672\"},\"nonselection_glyph\":{\"id\":\"23671\"},\"selection_glyph\":null,\"view\":{\"id\":\"23674\"}},\"id\":\"23673\",\"type\":\"GlyphRenderer\"},{\"attributes\":{\"overlay\":{\"id\":\"23655\"}},\"id\":\"23653\",\"type\":\"BoxZoomTool\"},{\"attributes\":{\"label\":{\"value\":\"ETH\"},\"renderers\":[{\"id\":\"23673\"}]},\"id\":\"23696\",\"type\":\"LegendItem\"},{\"attributes\":{},\"id\":\"23652\",\"type\":\"WheelZoomTool\"},{\"attributes\":{\"line_color\":\"#30a2da\",\"line_width\":2,\"x\":{\"field\":\"Date\"},\"y\":{\"field\":\"value\"}},\"id\":\"23670\",\"type\":\"Line\"},{\"attributes\":{\"source\":{\"id\":\"23667\"}},\"id\":\"23674\",\"type\":\"CDSView\"},{\"attributes\":{},\"id\":\"23647\",\"type\":\"BasicTicker\"},{\"attributes\":{\"source\":{\"id\":\"23697\"}},\"id\":\"23704\",\"type\":\"CDSView\"},{\"attributes\":{\"axis\":{\"id\":\"23646\"},\"dimension\":1,\"grid_line_color\":null,\"ticker\":null},\"id\":\"23649\",\"type\":\"Grid\"},{\"attributes\":{\"days\":[1,15]},\"id\":\"23687\",\"type\":\"DaysTicker\"},{\"attributes\":{\"line_alpha\":0.1,\"line_color\":\"#fc4f30\",\"line_width\":2,\"x\":{\"field\":\"Date\"},\"y\":{\"field\":\"value\"}},\"id\":\"23701\",\"type\":\"Line\"},{\"attributes\":{\"source\":{\"id\":\"23761\"}},\"id\":\"23768\",\"type\":\"CDSView\"},{\"attributes\":{\"axis_label\":\"\",\"bounds\":\"auto\",\"formatter\":{\"id\":\"23665\"},\"major_label_orientation\":\"horizontal\",\"ticker\":{\"id\":\"23647\"}},\"id\":\"23646\",\"type\":\"LinearAxis\"},{\"attributes\":{\"line_color\":\"#6d904f\",\"line_width\":2,\"x\":{\"field\":\"Date\"},\"y\":{\"field\":\"value\"}},\"id\":\"23764\",\"type\":\"Line\"},{\"attributes\":{},\"id\":\"23638\",\"type\":\"LinearScale\"},{\"attributes\":{\"line_alpha\":0.1,\"line_color\":\"#e5ae38\",\"line_width\":2,\"x\":{\"field\":\"Date\"},\"y\":{\"field\":\"value\"}},\"id\":\"23732\",\"type\":\"Line\"},{\"attributes\":{\"data\":{\"Date\":{\"__ndarray__\":\"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\",\"dtype\":\"float64\",\"order\":\"little\",\"shape\":[365]},\"Variable\":[\"ADA\",\"ADA\",\"ADA\",\"ADA\",\"ADA\",\"ADA\",\"ADA\",\"ADA\",\"ADA\",\"ADA\",\"ADA\",\"ADA\",\"ADA\",\"ADA\",\"ADA\",\"ADA\",\"ADA\",\"ADA\",\"ADA\",\"ADA\",\"ADA\",\"ADA\",\"ADA\",\"ADA\",\"ADA\",\"ADA\",\"ADA\",\"ADA\",\"ADA\",\"ADA\",\"ADA\",\"ADA\",\"ADA\",\"ADA\",\"ADA\",\"ADA\",\"ADA\",\"ADA\",\"ADA\",\"ADA\",\"ADA\",\"ADA\",\"ADA\",\"ADA\",\"ADA\",\"ADA\",\"ADA\",\"ADA\",\"ADA\",\"ADA\",\"ADA\",\"ADA\",\"ADA\",\"ADA\",\"ADA\",\"ADA\",\"ADA\",\"ADA\",\"ADA\",\"ADA\",\"ADA\",\"ADA\",\"ADA\",\"ADA\",\"ADA\",\"ADA\",\"ADA\",\"ADA\",\"ADA\",\"ADA\",\"ADA\",\"ADA\",\"ADA\",\"ADA\",\"ADA\",\"ADA\",\"ADA\",\"ADA\",\"ADA\",\"ADA\",\"ADA\",\"ADA\",\"ADA\",\"ADA\",\"ADA\",\"ADA\",\"ADA\",\"ADA\",\"ADA\",\"ADA\",\"ADA\",\"ADA\",\"ADA\",\"ADA\",\"ADA\",\"ADA\",\"ADA\",\"ADA\",\"ADA\",\"ADA\",\"ADA\",\"ADA\",\"ADA\",\"ADA\",\"ADA\",\"ADA\",\"ADA\",\"ADA\",\"ADA\",\"ADA\",\"ADA\",\"ADA\",\"ADA\",\"ADA\",\"ADA\",\"ADA\",\"ADA\",\"ADA\",\"ADA\",\"ADA\",\"ADA\",\"ADA\",\"ADA\",\"ADA\",\"ADA\",\"ADA\",\"ADA\",\"ADA\",\"ADA\",\"ADA\",\"ADA\",\"ADA\",\"ADA\",\"ADA\",\"ADA\",\"ADA\",\"ADA\",\"ADA\",\"ADA\",\"ADA\",\"ADA\",\"ADA\",\"ADA\",\"ADA\",\"ADA\",\"ADA\",\"ADA\",\"ADA\",\"ADA\",\"ADA\",\"ADA\",\"ADA\",\"ADA\",\"ADA\",\"ADA\",\"ADA\",\"ADA\",\"ADA\",\"ADA\",\"ADA\",\"ADA\",\"ADA\",\"ADA\",\"ADA\",\"ADA\",\"ADA\",\"ADA\",\"ADA\",\"ADA\",\"ADA\",\"ADA\",\"ADA\",\"ADA\",\"ADA\",\"ADA\",\"ADA\",\"ADA\",\"ADA\",\"ADA\",\"ADA\",\"ADA\",\"ADA\",\"ADA\",\"ADA\",\"ADA\",\"ADA\",\"ADA\",\"ADA\",\"ADA\",\"ADA\",\"ADA\",\"ADA\",\"ADA\",\"ADA\",\"ADA\",\"ADA\",\"ADA\",\"ADA\",\"ADA\",\"ADA\",\"ADA\",\"ADA\",\"ADA\",\"ADA\",\"ADA\",\"ADA\",\"ADA\",\"ADA\",\"ADA\",\"ADA\",\"ADA\",\"ADA\",\"ADA\",\"ADA\",\"ADA\",\"ADA\",\"ADA\",\"ADA\",\"ADA\",\"ADA\",\"ADA\",\"ADA\",\"ADA\",\"ADA\",\"ADA\",\"ADA\",\"ADA\",\"ADA\",\"ADA\",\"ADA\",\"ADA\",\"ADA\",\"ADA\",\"ADA\",\"ADA\",\"ADA\",\"ADA\",\"ADA\",\"ADA\",\"ADA\",\"ADA\",\"ADA\",\"ADA\",\"ADA\",\"ADA\",\"ADA\",\"ADA\",\"ADA\",\"ADA\",\"ADA\",\"ADA\",\"ADA\",\"ADA\",\"ADA\",\"ADA\",\"ADA\",\"ADA\",\"ADA\",\"ADA\",\"ADA\",\"ADA\",\"ADA\",\"ADA\",\"ADA\",\"ADA\",\"ADA\",\"ADA\",\"ADA\",\"ADA\",\"ADA\",\"ADA\",\"ADA\",\"ADA\",\"ADA\",\"ADA\",\"ADA\",\"ADA\",\"ADA\",\"ADA\",\"ADA\",\"ADA\",\"ADA\",\"ADA\",\"ADA\",\"ADA\",\"ADA\",\"ADA\",\"ADA\",\"ADA\",\"ADA\",\"ADA\",\"ADA\",\"ADA\",\"ADA\",\"ADA\",\"ADA\",\"ADA\",\"ADA\",\"ADA\",\"ADA\",\"ADA\",\"ADA\",\"ADA\",\"ADA\",\"ADA\",\"ADA\",\"ADA\",\"ADA\",\"ADA\",\"ADA\",\"ADA\",\"ADA\",\"ADA\",\"ADA\",\"ADA\",\"ADA\",\"ADA\",\"ADA\",\"ADA\",\"ADA\",\"ADA\",\"ADA\",\"ADA\",\"ADA\",\"ADA\",\"ADA\",\"ADA\",\"ADA\",\"ADA\",\"ADA\",\"ADA\",\"ADA\",\"ADA\",\"ADA\",\"ADA\",\"ADA\",\"ADA\",\"ADA\",\"ADA\",\"ADA\",\"ADA\",\"ADA\",\"ADA\",\"ADA\",\"ADA\",\"ADA\",\"ADA\",\"ADA\",\"ADA\",\"ADA\",\"ADA\",\"ADA\",\"ADA\",\"ADA\",\"ADA\",\"ADA\",\"ADA\",\"ADA\",\"ADA\",\"ADA\",\"ADA\",\"ADA\",\"ADA\",\"ADA\",\"ADA\"],\"value\":{\"__ndarray__\":\"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\",\"dtype\":\"float64\",\"order\":\"little\",\"shape\":[365]}},\"selected\":{\"id\":\"23762\"},\"selection_policy\":{\"id\":\"23794\"}},\"id\":\"23761\",\"type\":\"ColumnDataSource\"},{\"attributes\":{\"data_source\":{\"id\":\"23728\"},\"glyph\":{\"id\":\"23731\"},\"hover_glyph\":null,\"muted_glyph\":{\"id\":\"23733\"},\"nonselection_glyph\":{\"id\":\"23732\"},\"selection_glyph\":null,\"view\":{\"id\":\"23735\"}},\"id\":\"23734\",\"type\":\"GlyphRenderer\"},{\"attributes\":{\"mantissas\":[1,2,5],\"max_interval\":500.0,\"num_minor_ticks\":0},\"id\":\"23681\",\"type\":\"AdaptiveTicker\"},{\"attributes\":{\"children\":[{\"id\":\"23626\"},{\"id\":\"23633\"},{\"id\":\"24030\"}],\"margin\":[0,0,0,0],\"name\":\"Row33208\",\"tags\":[\"embedded\"]},\"id\":\"23625\",\"type\":\"Row\"},{\"attributes\":{\"line_alpha\":0.2,\"line_color\":\"#e5ae38\",\"line_width\":2,\"x\":{\"field\":\"Date\"},\"y\":{\"field\":\"value\"}},\"id\":\"23733\",\"type\":\"Line\"},{\"attributes\":{},\"id\":\"23654\",\"type\":\"ResetTool\"},{\"attributes\":{},\"id\":\"23663\",\"type\":\"DatetimeTickFormatter\"},{\"attributes\":{\"data\":{\"Date\":{\"__ndarray__\":\"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\",\"dtype\":\"float64\",\"order\":\"little\",\"shape\":[365]},\"Variable\":[\"VET\",\"VET\",\"VET\",\"VET\",\"VET\",\"VET\",\"VET\",\"VET\",\"VET\",\"VET\",\"VET\",\"VET\",\"VET\",\"VET\",\"VET\",\"VET\",\"VET\",\"VET\",\"VET\",\"VET\",\"VET\",\"VET\",\"VET\",\"VET\",\"VET\",\"VET\",\"VET\",\"VET\",\"VET\",\"VET\",\"VET\",\"VET\",\"VET\",\"VET\",\"VET\",\"VET\",\"VET\",\"VET\",\"VET\",\"VET\",\"VET\",\"VET\",\"VET\",\"VET\",\"VET\",\"VET\",\"VET\",\"VET\",\"VET\",\"VET\",\"VET\",\"VET\",\"VET\",\"VET\",\"VET\",\"VET\",\"VET\",\"VET\",\"VET\",\"VET\",\"VET\",\"VET\",\"VET\",\"VET\",\"VET\",\"VET\",\"VET\",\"VET\",\"VET\",\"VET\",\"VET\",\"VET\",\"VET\",\"VET\",\"VET\",\"VET\",\"VET\",\"VET\",\"VET\",\"VET\",\"VET\",\"VET\",\"VET\",\"VET\",\"VET\",\"VET\",\"VET\",\"VET\",\"VET\",\"VET\",\"VET\",\"VET\",\"VET\",\"VET\",\"VET\",\"VET\",\"VET\",\"VET\",\"VET\",\"VET\",\"VET\",\"VET\",\"VET\",\"VET\",\"VET\",\"VET\",\"VET\",\"VET\",\"VET\",\"VET\",\"VET\",\"VET\",\"VET\",\"VET\",\"VET\",\"VET\",\"VET\",\"VET\",\"VET\",\"VET\",\"VET\",\"VET\",\"VET\",\"VET\",\"VET\",\"VET\",\"VET\",\"VET\",\"VET\",\"VET\",\"VET\",\"VET\",\"VET\",\"VET\",\"VET\",\"VET\",\"VET\",\"VET\",\"VET\",\"VET\",\"VET\",\"VET\",\"VET\",\"VET\",\"VET\",\"VET\",\"VET\",\"VET\",\"VET\",\"VET\",\"VET\",\"VET\",\"VET\",\"VET\",\"VET\",\"VET\",\"VET\",\"VET\",\"VET\",\"VET\",\"VET\",\"VET\",\"VET\",\"VET\",\"VET\",\"VET\",\"VET\",\"VET\",\"VET\",\"VET\",\"VET\",\"VET\",\"VET\",\"VET\",\"VET\",\"VET\",\"VET\",\"VET\",\"VET\",\"VET\",\"VET\",\"VET\",\"VET\",\"VET\",\"VET\",\"VET\",\"VET\",\"VET\",\"VET\",\"VET\",\"VET\",\"VET\",\"VET\",\"VET\",\"VET\",\"VET\",\"VET\",\"VET\",\"VET\",\"VET\",\"VET\",\"VET\",\"VET\",\"VET\",\"VET\",\"VET\",\"VET\",\"VET\",\"VET\",\"VET\",\"VET\",\"VET\",\"VET\",\"VET\",\"VET\",\"VET\",\"VET\",\"VET\",\"VET\",\"VET\",\"VET\",\"VET\",\"VET\",\"VET\",\"VET\",\"VET\",\"VET\",\"VET\",\"VET\",\"VET\",\"VET\",\"VET\",\"VET\",\"VET\",\"VET\",\"VET\",\"VET\",\"VET\",\"VET\",\"VET\",\"VET\",\"VET\",\"VET\",\"VET\",\"VET\",\"VET\",\"VET\",\"VET\",\"VET\",\"VET\",\"VET\",\"VET\",\"VET\",\"VET\",\"VET\",\"VET\",\"VET\",\"VET\",\"VET\",\"VET\",\"VET\",\"VET\",\"VET\",\"VET\",\"VET\",\"VET\",\"VET\",\"VET\",\"VET\",\"VET\",\"VET\",\"VET\",\"VET\",\"VET\",\"VET\",\"VET\",\"VET\",\"VET\",\"VET\",\"VET\",\"VET\",\"VET\",\"VET\",\"VET\",\"VET\",\"VET\",\"VET\",\"VET\",\"VET\",\"VET\",\"VET\",\"VET\",\"VET\",\"VET\",\"VET\",\"VET\",\"VET\",\"VET\",\"VET\",\"VET\",\"VET\",\"VET\",\"VET\",\"VET\",\"VET\",\"VET\",\"VET\",\"VET\",\"VET\",\"VET\",\"VET\",\"VET\",\"VET\",\"VET\",\"VET\",\"VET\",\"VET\",\"VET\",\"VET\",\"VET\",\"VET\",\"VET\",\"VET\",\"VET\",\"VET\",\"VET\",\"VET\",\"VET\",\"VET\",\"VET\",\"VET\",\"VET\",\"VET\",\"VET\",\"VET\",\"VET\",\"VET\",\"VET\",\"VET\",\"VET\",\"VET\",\"VET\",\"VET\",\"VET\",\"VET\",\"VET\",\"VET\",\"VET\",\"VET\",\"VET\",\"VET\",\"VET\",\"VET\",\"VET\",\"VET\",\"VET\",\"VET\",\"VET\",\"VET\",\"VET\",\"VET\",\"VET\",\"VET\",\"VET\",\"VET\"],\"value\":{\"__ndarray__\":\"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\",\"dtype\":\"float64\",\"order\":\"little\",\"shape\":[365]}},\"selected\":{\"id\":\"23698\"},\"selection_policy\":{\"id\":\"23726\"}},\"id\":\"23697\",\"type\":\"ColumnDataSource\"},{\"attributes\":{},\"id\":\"23668\",\"type\":\"Selection\"},{\"attributes\":{},\"id\":\"23665\",\"type\":\"BasicTickFormatter\"},{\"attributes\":{\"text\":\"Daily returns for all portfolios over 12 months\",\"text_color\":{\"value\":\"black\"},\"text_font_size\":{\"value\":\"12pt\"}},\"id\":\"23634\",\"type\":\"Title\"},{\"attributes\":{\"margin\":[5,5,5,5],\"name\":\"HSpacer33213\",\"sizing_mode\":\"stretch_width\"},\"id\":\"24030\",\"type\":\"Spacer\"},{\"attributes\":{\"num_minor_ticks\":5,\"tickers\":[{\"id\":\"23681\"},{\"id\":\"23682\"},{\"id\":\"23683\"},{\"id\":\"23684\"},{\"id\":\"23685\"},{\"id\":\"23686\"},{\"id\":\"23687\"},{\"id\":\"23688\"},{\"id\":\"23689\"},{\"id\":\"23690\"},{\"id\":\"23691\"},{\"id\":\"23692\"}]},\"id\":\"23643\",\"type\":\"DatetimeTicker\"},{\"attributes\":{\"line_alpha\":0.2,\"line_color\":\"#fc4f30\",\"line_width\":2,\"x\":{\"field\":\"Date\"},\"y\":{\"field\":\"value\"}},\"id\":\"23702\",\"type\":\"Line\"},{\"attributes\":{\"data_source\":{\"id\":\"23761\"},\"glyph\":{\"id\":\"23764\"},\"hover_glyph\":null,\"muted_glyph\":{\"id\":\"23766\"},\"nonselection_glyph\":{\"id\":\"23765\"},\"selection_glyph\":null,\"view\":{\"id\":\"23768\"}},\"id\":\"23767\",\"type\":\"GlyphRenderer\"},{\"attributes\":{\"source\":{\"id\":\"23728\"}},\"id\":\"23735\",\"type\":\"CDSView\"},{\"attributes\":{},\"id\":\"23762\",\"type\":\"Selection\"},{\"attributes\":{\"margin\":[5,5,5,5],\"name\":\"HSpacer33212\",\"sizing_mode\":\"stretch_width\"},\"id\":\"23626\",\"type\":\"Spacer\"},{\"attributes\":{\"label\":{\"value\":\"BTC\"},\"renderers\":[{\"id\":\"23734\"}]},\"id\":\"23760\",\"type\":\"LegendItem\"},{\"attributes\":{\"label\":{\"value\":\"VET\"},\"renderers\":[{\"id\":\"23703\"}]},\"id\":\"23727\",\"type\":\"LegendItem\"},{\"attributes\":{\"line_color\":\"#fc4f30\",\"line_width\":2,\"x\":{\"field\":\"Date\"},\"y\":{\"field\":\"value\"}},\"id\":\"23700\",\"type\":\"Line\"},{\"attributes\":{},\"id\":\"23726\",\"type\":\"UnionRenderers\"},{\"attributes\":{\"below\":[{\"id\":\"23642\"}],\"center\":[{\"id\":\"23645\"},{\"id\":\"23649\"}],\"left\":[{\"id\":\"23646\"}],\"margin\":[5,5,5,5],\"min_border_bottom\":10,\"min_border_left\":10,\"min_border_right\":10,\"min_border_top\":10,\"plot_height\":300,\"plot_width\":700,\"renderers\":[{\"id\":\"23673\"},{\"id\":\"23703\"},{\"id\":\"23734\"},{\"id\":\"23767\"}],\"right\":[{\"id\":\"23695\"}],\"sizing_mode\":\"fixed\",\"title\":{\"id\":\"23634\"},\"toolbar\":{\"id\":\"23656\"},\"x_range\":{\"id\":\"23627\"},\"x_scale\":{\"id\":\"23638\"},\"y_range\":{\"id\":\"23628\"},\"y_scale\":{\"id\":\"23640\"}},\"id\":\"23633\",\"subtype\":\"Figure\",\"type\":\"Plot\"},{\"attributes\":{},\"id\":\"23650\",\"type\":\"SaveTool\"},{\"attributes\":{\"line_color\":\"#e5ae38\",\"line_width\":2,\"x\":{\"field\":\"Date\"},\"y\":{\"field\":\"value\"}},\"id\":\"23731\",\"type\":\"Line\"},{\"attributes\":{\"data\":{\"Date\":{\"__ndarray__\":\"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\",\"dtype\":\"float64\",\"order\":\"little\",\"shape\":[365]},\"Variable\":[\"BTC\",\"BTC\",\"BTC\",\"BTC\",\"BTC\",\"BTC\",\"BTC\",\"BTC\",\"BTC\",\"BTC\",\"BTC\",\"BTC\",\"BTC\",\"BTC\",\"BTC\",\"BTC\",\"BTC\",\"BTC\",\"BTC\",\"BTC\",\"BTC\",\"BTC\",\"BTC\",\"BTC\",\"BTC\",\"BTC\",\"BTC\",\"BTC\",\"BTC\",\"BTC\",\"BTC\",\"BTC\",\"BTC\",\"BTC\",\"BTC\",\"BTC\",\"BTC\",\"BTC\",\"BTC\",\"BTC\",\"BTC\",\"BTC\",\"BTC\",\"BTC\",\"BTC\",\"BTC\",\"BTC\",\"BTC\",\"BTC\",\"BTC\",\"BTC\",\"BTC\",\"BTC\",\"BTC\",\"BTC\",\"BTC\",\"BTC\",\"BTC\",\"BTC\",\"BTC\",\"BTC\",\"BTC\",\"BTC\",\"BTC\",\"BTC\",\"BTC\",\"BTC\",\"BTC\",\"BTC\",\"BTC\",\"BTC\",\"BTC\",\"BTC\",\"BTC\",\"BTC\",\"BTC\",\"BTC\",\"BTC\",\"BTC\",\"BTC\",\"BTC\",\"BTC\",\"BTC\",\"BTC\",\"BTC\",\"BTC\",\"BTC\",\"BTC\",\"BTC\",\"BTC\",\"BTC\",\"BTC\",\"BTC\",\"BTC\",\"BTC\",\"BTC\",\"BTC\",\"BTC\",\"BTC\",\"BTC\",\"BTC\",\"BTC\",\"BTC\",\"BTC\",\"BTC\",\"BTC\",\"BTC\",\"BTC\",\"BTC\",\"BTC\",\"BTC\",\"BTC\",\"BTC\",\"BTC\",\"BTC\",\"BTC\",\"BTC\",\"BTC\",\"BTC\",\"BTC\",\"BTC\",\"BTC\",\"BTC\",\"BTC\",\"BTC\",\"BTC\",\"BTC\",\"BTC\",\"BTC\",\"BTC\",\"BTC\",\"BTC\",\"BTC\",\"BTC\",\"BTC\",\"BTC\",\"BTC\",\"BTC\",\"BTC\",\"BTC\",\"BTC\",\"BTC\",\"BTC\",\"BTC\",\"BTC\",\"BTC\",\"BTC\",\"BTC\",\"BTC\",\"BTC\",\"BTC\",\"BTC\",\"BTC\",\"BTC\",\"BTC\",\"BTC\",\"BTC\",\"BTC\",\"BTC\",\"BTC\",\"BTC\",\"BTC\",\"BTC\",\"BTC\",\"BTC\",\"BTC\",\"BTC\",\"BTC\",\"BTC\",\"BTC\",\"BTC\",\"BTC\",\"BTC\",\"BTC\",\"BTC\",\"BTC\",\"BTC\",\"BTC\",\"BTC\",\"BTC\",\"BTC\",\"BTC\",\"BTC\",\"BTC\",\"BTC\",\"BTC\",\"BTC\",\"BTC\",\"BTC\",\"BTC\",\"BTC\",\"BTC\",\"BTC\",\"BTC\",\"BTC\",\"BTC\",\"BTC\",\"BTC\",\"BTC\",\"BTC\",\"BTC\",\"BTC\",\"BTC\",\"BTC\",\"BTC\",\"BTC\",\"BTC\",\"BTC\",\"BTC\",\"BTC\",\"BTC\",\"BTC\",\"BTC\",\"BTC\",\"BTC\",\"BTC\",\"BTC\",\"BTC\",\"BTC\",\"BTC\",\"BTC\",\"BTC\",\"BTC\",\"BTC\",\"BTC\",\"BTC\",\"BTC\",\"BTC\",\"BTC\",\"BTC\",\"BTC\",\"BTC\",\"BTC\",\"BTC\",\"BTC\",\"BTC\",\"BTC\",\"BTC\",\"BTC\",\"BTC\",\"BTC\",\"BTC\",\"BTC\",\"BTC\",\"BTC\",\"BTC\",\"BTC\",\"BTC\",\"BTC\",\"BTC\",\"BTC\",\"BTC\",\"BTC\",\"BTC\",\"BTC\",\"BTC\",\"BTC\",\"BTC\",\"BTC\",\"BTC\",\"BTC\",\"BTC\",\"BTC\",\"BTC\",\"BTC\",\"BTC\",\"BTC\",\"BTC\",\"BTC\",\"BTC\",\"BTC\",\"BTC\",\"BTC\",\"BTC\",\"BTC\",\"BTC\",\"BTC\",\"BTC\",\"BTC\",\"BTC\",\"BTC\",\"BTC\",\"BTC\",\"BTC\",\"BTC\",\"BTC\",\"BTC\",\"BTC\",\"BTC\",\"BTC\",\"BTC\",\"BTC\",\"BTC\",\"BTC\",\"BTC\",\"BTC\",\"BTC\",\"BTC\",\"BTC\",\"BTC\",\"BTC\",\"BTC\",\"BTC\",\"BTC\",\"BTC\",\"BTC\",\"BTC\",\"BTC\",\"BTC\",\"BTC\",\"BTC\",\"BTC\",\"BTC\",\"BTC\",\"BTC\",\"BTC\",\"BTC\",\"BTC\",\"BTC\",\"BTC\",\"BTC\",\"BTC\",\"BTC\",\"BTC\",\"BTC\",\"BTC\",\"BTC\",\"BTC\",\"BTC\",\"BTC\",\"BTC\",\"BTC\",\"BTC\",\"BTC\",\"BTC\",\"BTC\",\"BTC\",\"BTC\",\"BTC\",\"BTC\",\"BTC\",\"BTC\",\"BTC\",\"BTC\",\"BTC\",\"BTC\",\"BTC\",\"BTC\",\"BTC\",\"BTC\",\"BTC\",\"BTC\",\"BTC\",\"BTC\",\"BTC\",\"BTC\",\"BTC\",\"BTC\",\"BTC\",\"BTC\",\"BTC\",\"BTC\",\"BTC\",\"BTC\",\"BTC\"],\"value\":{\"__ndarray__\":\"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\",\"dtype\":\"float64\",\"order\":\"little\",\"shape\":[365]}},\"selected\":{\"id\":\"23729\"},\"selection_policy\":{\"id\":\"23759\"}},\"id\":\"23728\",\"type\":\"ColumnDataSource\"},{\"attributes\":{},\"id\":\"23698\",\"type\":\"Selection\"},{\"attributes\":{\"axis\":{\"id\":\"23642\"},\"grid_line_color\":null,\"ticker\":null},\"id\":\"23645\",\"type\":\"Grid\"},{\"attributes\":{\"line_alpha\":0.2,\"line_color\":\"#6d904f\",\"line_width\":2,\"x\":{\"field\":\"Date\"},\"y\":{\"field\":\"value\"}},\"id\":\"23766\",\"type\":\"Line\"},{\"attributes\":{\"data_source\":{\"id\":\"23697\"},\"glyph\":{\"id\":\"23700\"},\"hover_glyph\":null,\"muted_glyph\":{\"id\":\"23702\"},\"nonselection_glyph\":{\"id\":\"23701\"},\"selection_glyph\":null,\"view\":{\"id\":\"23704\"}},\"id\":\"23703\",\"type\":\"GlyphRenderer\"},{\"attributes\":{\"line_alpha\":0.1,\"line_color\":\"#30a2da\",\"line_width\":2,\"x\":{\"field\":\"Date\"},\"y\":{\"field\":\"value\"}},\"id\":\"23671\",\"type\":\"Line\"},{\"attributes\":{},\"id\":\"23651\",\"type\":\"PanTool\"},{\"attributes\":{},\"id\":\"23640\",\"type\":\"LinearScale\"},{\"attributes\":{\"label\":{\"value\":\"ADA\"},\"renderers\":[{\"id\":\"23767\"}]},\"id\":\"23795\",\"type\":\"LegendItem\"},{\"attributes\":{\"months\":[0,4,8]},\"id\":\"23690\",\"type\":\"MonthsTicker\"},{\"attributes\":{\"days\":[1,2,3,4,5,6,7,8,9,10,11,12,13,14,15,16,17,18,19,20,21,22,23,24,25,26,27,28,29,30,31]},\"id\":\"23684\",\"type\":\"DaysTicker\"},{\"attributes\":{\"base\":24,\"mantissas\":[1,2,4,6,8,12],\"max_interval\":43200000.0,\"min_interval\":3600000.0,\"num_minor_ticks\":0},\"id\":\"23683\",\"type\":\"AdaptiveTicker\"},{\"attributes\":{\"axis_label\":\"Date\",\"bounds\":\"auto\",\"formatter\":{\"id\":\"23663\"},\"major_label_orientation\":\"horizontal\",\"ticker\":{\"id\":\"23643\"}},\"id\":\"23642\",\"type\":\"DatetimeAxis\"},{\"attributes\":{\"days\":[1,4,7,10,13,16,19,22,25,28]},\"id\":\"23685\",\"type\":\"DaysTicker\"}],\"root_ids\":[\"23625\"]},\"title\":\"Bokeh Application\",\"version\":\"2.2.3\"}};\n",
       "    var render_items = [{\"docid\":\"19ef7265-0e32-480f-9ca1-d1c220c0ecbe\",\"root_ids\":[\"23625\"],\"roots\":{\"23625\":\"a94b253c-518c-45f8-a603-c31ea1d2c026\"}}];\n",
       "    root.Bokeh.embed.embed_items_notebook(docs_json, render_items);\n",
       "  }\n",
       "  if (root.Bokeh !== undefined && root.Bokeh.Panel !== undefined) {\n",
       "    embed_document(root);\n",
       "  } else {\n",
       "    var attempts = 0;\n",
       "    var timer = setInterval(function(root) {\n",
       "      if (root.Bokeh !== undefined && root.Bokeh.Panel !== undefined) {\n",
       "        clearInterval(timer);\n",
       "        embed_document(root);\n",
       "      } else if (document.readyState == \"complete\") {\n",
       "        attempts++;\n",
       "        if (attempts > 100) {\n",
       "          clearInterval(timer);\n",
       "          console.log(\"Bokeh: ERROR: Unable to run BokehJS code because BokehJS library is missing\");\n",
       "        }\n",
       "      }\n",
       "    }, 10, root)\n",
       "  }\n",
       "})(window);</script>"
      ],
      "text/plain": [
       ":NdOverlay   [Variable]\n",
       "   :Curve   [Date]   (value)"
      ]
     },
     "execution_count": 271,
     "metadata": {
      "application/vnd.holoviews_exec.v0+json": {
       "id": "23625"
      }
     },
     "output_type": "execute_result"
    }
   ],
   "source": [
    "# Plot daily returns of all portfolios\n",
    "normalised_returns.hvplot(figsize = (20,10), title = 'Daily returns for all portfolios over 12 months')"
   ]
  },
  {
   "cell_type": "code",
   "execution_count": 272,
   "metadata": {},
   "outputs": [
    {
     "data": {},
     "metadata": {},
     "output_type": "display_data"
    },
    {
     "data": {
      "application/vnd.holoviews_exec.v0+json": "",
      "text/html": [
       "<div id='24162'>\n",
       "\n",
       "\n",
       "\n",
       "\n",
       "\n",
       "  <div class=\"bk-root\" id=\"ace46b14-e617-45b7-a687-fdf1d5a166bf\" data-root-id=\"24162\"></div>\n",
       "</div>\n",
       "<script type=\"application/javascript\">(function(root) {\n",
       "  function embed_document(root) {\n",
       "    var docs_json = {\"cce152c4-27a7-43e8-bcaf-d1d5597b4d62\":{\"roots\":{\"references\":[{\"attributes\":{},\"id\":\"24177\",\"type\":\"LinearScale\"},{\"attributes\":{\"source\":{\"id\":\"24234\"}},\"id\":\"24241\",\"type\":\"CDSView\"},{\"attributes\":{\"base\":24,\"mantissas\":[1,2,4,6,8,12],\"max_interval\":43200000.0,\"min_interval\":3600000.0,\"num_minor_ticks\":0},\"id\":\"24220\",\"type\":\"AdaptiveTicker\"},{\"attributes\":{\"axis_label\":\"Date\",\"bounds\":\"auto\",\"formatter\":{\"id\":\"24200\"},\"major_label_orientation\":\"horizontal\",\"ticker\":{\"id\":\"24180\"}},\"id\":\"24179\",\"type\":\"DatetimeAxis\"},{\"attributes\":{\"num_minor_ticks\":5,\"tickers\":[{\"id\":\"24218\"},{\"id\":\"24219\"},{\"id\":\"24220\"},{\"id\":\"24221\"},{\"id\":\"24222\"},{\"id\":\"24223\"},{\"id\":\"24224\"},{\"id\":\"24225\"},{\"id\":\"24226\"},{\"id\":\"24227\"},{\"id\":\"24228\"},{\"id\":\"24229\"}]},\"id\":\"24180\",\"type\":\"DatetimeTicker\"},{\"attributes\":{\"base\":60,\"mantissas\":[1,2,5,10,15,20,30],\"max_interval\":1800000.0,\"min_interval\":1000.0,\"num_minor_ticks\":0},\"id\":\"24219\",\"type\":\"AdaptiveTicker\"},{\"attributes\":{\"axis\":{\"id\":\"24183\"},\"dimension\":1,\"grid_line_color\":null,\"ticker\":null},\"id\":\"24186\",\"type\":\"Grid\"},{\"attributes\":{\"line_alpha\":0.2,\"line_color\":\"#e5ae38\",\"line_width\":2,\"x\":{\"field\":\"Date\"},\"y\":{\"field\":\"value\"}},\"id\":\"24270\",\"type\":\"Line\"},{\"attributes\":{\"axis\":{\"id\":\"24179\"},\"grid_line_color\":null,\"ticker\":null},\"id\":\"24182\",\"type\":\"Grid\"},{\"attributes\":{\"end\":1.0940073587598718,\"reset_end\":1.0940073587598718,\"reset_start\":-0.034080946358589985,\"start\":-0.034080946358589985,\"tags\":[[[\"value\",\"value\",null]]]},\"id\":\"24165\",\"type\":\"Range1d\"},{\"attributes\":{\"line_alpha\":0.2,\"line_color\":\"#30a2da\",\"line_width\":2,\"x\":{\"field\":\"Date\"},\"y\":{\"field\":\"value\"}},\"id\":\"24209\",\"type\":\"Line\"},{\"attributes\":{\"label\":{\"value\":\"ADA\"},\"renderers\":[{\"id\":\"24304\"}]},\"id\":\"24332\",\"type\":\"LegendItem\"},{\"attributes\":{\"line_alpha\":0.1,\"line_color\":\"#30a2da\",\"line_width\":2,\"x\":{\"field\":\"Date\"},\"y\":{\"field\":\"value\"}},\"id\":\"24208\",\"type\":\"Line\"},{\"attributes\":{\"line_alpha\":0.1,\"line_color\":\"#fc4f30\",\"line_width\":2,\"x\":{\"field\":\"Date\"},\"y\":{\"field\":\"value\"}},\"id\":\"24238\",\"type\":\"Line\"},{\"attributes\":{\"days\":[1,8,15,22]},\"id\":\"24223\",\"type\":\"DaysTicker\"},{\"attributes\":{},\"id\":\"24184\",\"type\":\"BasicTicker\"},{\"attributes\":{\"axis_label\":\"\",\"bounds\":\"auto\",\"formatter\":{\"id\":\"24202\"},\"major_label_orientation\":\"horizontal\",\"ticker\":{\"id\":\"24184\"}},\"id\":\"24183\",\"type\":\"LinearAxis\"},{\"attributes\":{},\"id\":\"24331\",\"type\":\"UnionRenderers\"},{\"attributes\":{},\"id\":\"24266\",\"type\":\"Selection\"},{\"attributes\":{\"data_source\":{\"id\":\"24265\"},\"glyph\":{\"id\":\"24268\"},\"hover_glyph\":null,\"muted_glyph\":{\"id\":\"24270\"},\"nonselection_glyph\":{\"id\":\"24269\"},\"selection_glyph\":null,\"view\":{\"id\":\"24272\"}},\"id\":\"24271\",\"type\":\"GlyphRenderer\"},{\"attributes\":{\"line_alpha\":0.2,\"line_color\":\"#fc4f30\",\"line_width\":2,\"x\":{\"field\":\"Date\"},\"y\":{\"field\":\"value\"}},\"id\":\"24239\",\"type\":\"Line\"},{\"attributes\":{\"source\":{\"id\":\"24265\"}},\"id\":\"24272\",\"type\":\"CDSView\"},{\"attributes\":{\"months\":[0,4,8]},\"id\":\"24227\",\"type\":\"MonthsTicker\"},{\"attributes\":{\"line_color\":\"#6d904f\",\"line_width\":2,\"x\":{\"field\":\"Date\"},\"y\":{\"field\":\"value\"}},\"id\":\"24301\",\"type\":\"Line\"},{\"attributes\":{\"months\":[0,1,2,3,4,5,6,7,8,9,10,11]},\"id\":\"24225\",\"type\":\"MonthsTicker\"},{\"attributes\":{\"data_source\":{\"id\":\"24204\"},\"glyph\":{\"id\":\"24207\"},\"hover_glyph\":null,\"muted_glyph\":{\"id\":\"24209\"},\"nonselection_glyph\":{\"id\":\"24208\"},\"selection_glyph\":null,\"view\":{\"id\":\"24211\"}},\"id\":\"24210\",\"type\":\"GlyphRenderer\"},{\"attributes\":{\"days\":[1,4,7,10,13,16,19,22,25,28]},\"id\":\"24222\",\"type\":\"DaysTicker\"},{\"attributes\":{\"line_alpha\":0.1,\"line_color\":\"#e5ae38\",\"line_width\":2,\"x\":{\"field\":\"Date\"},\"y\":{\"field\":\"value\"}},\"id\":\"24269\",\"type\":\"Line\"},{\"attributes\":{\"months\":[0,2,4,6,8,10]},\"id\":\"24226\",\"type\":\"MonthsTicker\"},{\"attributes\":{\"line_color\":\"#fc4f30\",\"line_width\":2,\"x\":{\"field\":\"Date\"},\"y\":{\"field\":\"value\"}},\"id\":\"24237\",\"type\":\"Line\"},{\"attributes\":{\"children\":[{\"id\":\"24163\"},{\"id\":\"24170\"},{\"id\":\"24567\"}],\"margin\":[0,0,0,0],\"name\":\"Row33967\",\"tags\":[\"embedded\"]},\"id\":\"24162\",\"type\":\"Row\"},{\"attributes\":{},\"id\":\"24235\",\"type\":\"Selection\"},{\"attributes\":{},\"id\":\"24187\",\"type\":\"SaveTool\"},{\"attributes\":{},\"id\":\"24188\",\"type\":\"PanTool\"},{\"attributes\":{\"data\":{\"Date\":{\"__ndarray__\":\"AADAjdZLd0IAAIDzKEx3QgAAQFl7THdCAAAAv81Md0IAAMAkIE13QgAAgIpyTXdCAABA8MRNd0IAAABWF053QgAAwLtpTndCAACAIbxOd0IAAECHDk93QgAAAO1gT3dCAADAUrNPd0IAAIC4BVB3QgAAQB5YUHdCAAAAhKpQd0IAAMDp/FB3QgAAgE9PUXdCAABAtaFRd0IAAAAb9FF3QgAAwIBGUndCAACA5phSd0IAAEBM61J3QgAAALI9U3dCAADAF5BTd0IAAIB94lN3QgAAQOM0VHdCAAAASYdUd0IAAMCu2VR3QgAAgBQsVXdCAABAen5Vd0IAAADg0FV3QgAAwEUjVndCAACAq3VWd0IAAEARyFZ3QgAAAHcaV3dCAADA3GxXd0IAAIBCv1d3QgAAQKgRWHdCAAAADmRYd0IAAMBztlh3QgAAgNkIWXdCAABAP1tZd0IAAAClrVl3QgAAwAoAWndCAACAcFJad0IAAEDWpFp3QgAAADz3WndCAADAoUlbd0IAAIAHnFt3QgAAwDiTXHdCAACAnuVcd0IAAEAEOF13QgAAAGqKXXdCAADAz9xdd0IAAIA1L153QgAAQJuBXndCAAAAAdRed0IAAMBmJl93QgAAgMx4X3dCAABAMstfd0IAAACYHWB3QgAAwP1vYHdCAACAY8Jgd0IAAEDJFGF3QgAAAC9nYXdCAADAlLlhd0IAAID6C2J3QgAAQGBeYndCAAAAxrBid0IAAMArA2N3QgAAgJFVY3dCAABA96djd0IAAABd+mN3QgAAwMJMZHdCAACAKJ9kd0IAAECO8WR3QgAAAPRDZXdCAADAWZZld0IAAIC/6GV3QgAAQCU7ZndCAAAAi41md0IAAMDw32Z3QgAAgFYyZ3dCAABAvIRnd0IAAAAi12d3QgAAwIcpaHdCAACA7Xtod0IAAEBTzmh3QgAAALkgaXdCAADAHnNpd0IAAICExWl3QgAAQOoXandCAAAAUGpqd0IAAMC1vGp3QgAAgBsPa3dCAABAgWFrd0IAAADns2t3QgAAwEwGbHdCAACAslhsd0IAAEAYq2x3QgAAAH79bHdCAADA409td0IAAMB6mW53QgAAgODrbndCAABARj5vd0IAAACskG93QgAAwBHjb3dCAACAdzVwd0IAAEDdh3B3QgAAAEPacHdCAADAqCxxd0IAAIAOf3F3QgAAQHTRcXdCAAAA2iNyd0IAAMA/dnJ3QgAAgKXIcndCAABACxtzd0IAAABxbXN3QgAAwNa/c3dCAACAPBJ0d0IAAECiZHR3QgAAAAi3dHdCAADAbQl1d0IAAIDTW3V3QgAAQDmudXdCAAAAnwB2d0IAAMAEU3Z3QgAAgGqldndCAABA0Pd2d0IAAAA2Snd3QgAAwJucd3dCAACAAe93d0IAAEBnQXh3QgAAAM2TeHdCAADAMuZ4d0IAAICYOHl3QgAAQP6KeXdCAAAAZN15d0IAAMDJL3p3QgAAgC+CendCAABAldR6d0IAAAD7Jnt3QgAAwGB5e3dCAACAxst7d0IAAEAsHnx3QgAAAJJwfHdCAADA98J8d0IAAIBdFX13QgAAQMNnfXdCAAAAKbp9d0IAAMCODH53QgAAgPRefndCAABAWrF+d0IAAADAA393QgAAwCVWf3dCAACAi6h/d0IAAEDx+n93QgAAAFdNgHdCAADAvJ+Ad0IAAIAi8oB3QgAAQIhEgXdCAAAA7paBd0IAAMBT6YF3QgAAgLk7gndCAABAH46Cd0IAAACF4IJ3QgAAwOoyg3dCAACAUIWDd0IAAEC214N3QgAAABwqhHdCAADAgXyEd0IAAIDnzoR3QgAAQE0hhXdCAAAAs3OFd0IAAMAYxoV3QgAAgH4YhndCAABA5GqGd0IAAABKvYZ3QgAAwK8Ph3dCAACAFWKHd0IAAEB7tId3QgAAAOEGiHdC\",\"dtype\":\"float64\",\"order\":\"little\",\"shape\":[183]},\"Variable\":[\"BTC\",\"BTC\",\"BTC\",\"BTC\",\"BTC\",\"BTC\",\"BTC\",\"BTC\",\"BTC\",\"BTC\",\"BTC\",\"BTC\",\"BTC\",\"BTC\",\"BTC\",\"BTC\",\"BTC\",\"BTC\",\"BTC\",\"BTC\",\"BTC\",\"BTC\",\"BTC\",\"BTC\",\"BTC\",\"BTC\",\"BTC\",\"BTC\",\"BTC\",\"BTC\",\"BTC\",\"BTC\",\"BTC\",\"BTC\",\"BTC\",\"BTC\",\"BTC\",\"BTC\",\"BTC\",\"BTC\",\"BTC\",\"BTC\",\"BTC\",\"BTC\",\"BTC\",\"BTC\",\"BTC\",\"BTC\",\"BTC\",\"BTC\",\"BTC\",\"BTC\",\"BTC\",\"BTC\",\"BTC\",\"BTC\",\"BTC\",\"BTC\",\"BTC\",\"BTC\",\"BTC\",\"BTC\",\"BTC\",\"BTC\",\"BTC\",\"BTC\",\"BTC\",\"BTC\",\"BTC\",\"BTC\",\"BTC\",\"BTC\",\"BTC\",\"BTC\",\"BTC\",\"BTC\",\"BTC\",\"BTC\",\"BTC\",\"BTC\",\"BTC\",\"BTC\",\"BTC\",\"BTC\",\"BTC\",\"BTC\",\"BTC\",\"BTC\",\"BTC\",\"BTC\",\"BTC\",\"BTC\",\"BTC\",\"BTC\",\"BTC\",\"BTC\",\"BTC\",\"BTC\",\"BTC\",\"BTC\",\"BTC\",\"BTC\",\"BTC\",\"BTC\",\"BTC\",\"BTC\",\"BTC\",\"BTC\",\"BTC\",\"BTC\",\"BTC\",\"BTC\",\"BTC\",\"BTC\",\"BTC\",\"BTC\",\"BTC\",\"BTC\",\"BTC\",\"BTC\",\"BTC\",\"BTC\",\"BTC\",\"BTC\",\"BTC\",\"BTC\",\"BTC\",\"BTC\",\"BTC\",\"BTC\",\"BTC\",\"BTC\",\"BTC\",\"BTC\",\"BTC\",\"BTC\",\"BTC\",\"BTC\",\"BTC\",\"BTC\",\"BTC\",\"BTC\",\"BTC\",\"BTC\",\"BTC\",\"BTC\",\"BTC\",\"BTC\",\"BTC\",\"BTC\",\"BTC\",\"BTC\",\"BTC\",\"BTC\",\"BTC\",\"BTC\",\"BTC\",\"BTC\",\"BTC\",\"BTC\",\"BTC\",\"BTC\",\"BTC\",\"BTC\",\"BTC\",\"BTC\",\"BTC\",\"BTC\",\"BTC\",\"BTC\",\"BTC\",\"BTC\",\"BTC\",\"BTC\",\"BTC\",\"BTC\",\"BTC\",\"BTC\",\"BTC\",\"BTC\",\"BTC\",\"BTC\",\"BTC\"],\"value\":{\"__ndarray__\":\"gUdZR5V2xj/Ktx0RfVvGP9im7t1scMY/B7Dhy0mKxj93KDk32F3GP4fRgNPurMY/1OGmFjyKxj8zlzmN6jbGPzZcgVQbHcY/1wb1Zg8Oxj91ppeB+VLGPzzQbvNokcY/7Gkb1VQtxj+Eiv9Y51HGP3z1ntJ72cY/3tt41iUfxz8YyWuZ6KHHPyqMMI7IyMc/LqNixQIgyD821HlXDuXHP4NxqkU848c/SsBnBXcPyD+a36Gri67HP6DcvowExMc/+SldoY0RyD+8nZisi5XIPz0nXBFG68g/W5u2cZ/Kyj9J3MzldCPLP3mmxC/FDcs/TXFdZ9Bvyz/LzRyqTELLP7ubpcsKUss/oL4rd0mRzD/z3c0fZsbLP1H/X1zfJcw/szNJZ91czD+HW50G/NvMP9gWjriwx8w/qEi7BatdzD8yTvLfLVPNP+jDsL18ls0/S7f4Qy5N0D86qmezt0rQP3VtJHoaBM8/aUs2RH8x0D81BvfPmAfQP/T620ZHAdA/ZXtRhkhq0D+CbK7qoArRP9JMueskr9A/bFDV9V570T8HJG67x3jSP65n6bvYltI/KMuah5We0j8QYUqJ94fTP+O0EgMui9M/nQWHlr1B0z/N6cc30zjTP3QBm1zIB9Q/KeIwu8OU0z8TSlBZ1fLRP6+8ulB96dE/bZv91xeL0j+NN1ms2wTTP/LjorzUmdQ/Kfx5Eomh0z+unKOvgRnUPwh3gHDvUtQ/NoMmgmOD0z9xcBlFJgbUP2toK2yjRNQ/Subk7aAM1D+Ud+idoirTP8IN5jZgZdM/WLO2kWAV0z8GM+Yag9nSP83TWUnDq9M/THdmBUMO1D/gHM9dOyjUP5zoVhpdU9Q/xGzxKLBU1j9XbPrCHN/XP2et6QAaMNg//Z3iPdPv2D9PJXVCAY3YP90tL0Urxdc/ftn+nUHq2D9+OTko6FLYPxGv6joL09g/LBcYXTjS2T8Scgsgt6rbP83Gwh4Ed9s/nIIT8kNM3D8k/opCdaHcP+6FeWIaMd4/coapiLVG3j/ruaMOnbTeP91R9qOa1eA/C/efnRc84T9EFy/IwL7gP8RAHqJSxuE/jWBOZGA94z/Idjbfp/jjP8UJ2c8wluI/cZsz3KXR4T+6aQ1ROYzjP9Bhwj1QfOQ/d0sD/GpE4z/h673UzdXiP8AqrrC4veI/3+vv0kcl4z+0frXzlNPiP0UczHYWjeI/LnwBQrkg4D+Ku4M9qUHhP24YAt+gx+A/g/mGlwfc4D/uH1iPgN3gP/8hTCnx/uA/sZ1VTCfM3z9x8DZvxHPhPySWEI/c7+E/bG6Ttlvt4T+MZk6sEFDhP1spYQ2hhuE/Jogod0eO4j8WOYEcpa/jPx1BCfapVuM/tbM96cMG5D8ryXerJIfkP8lgYvEZUeQ/0uIAWtRC6D/xuRZq8VHoP+u0D7YJcuc/naV3t1gY6T+oM36ye8XoP6ZuauxOqug/rXMLobhv6T/RGjpwEBHpP3a7CNYstuk/W+2g4ag76z+BJbfHIPnqP/fxGDIFPO0/4+CqNU8+7T9cLiARdgjuP77bZLjBS+w/nLRVFpKT6T99iKJy1PzpP1DB+U8niug/pID7bh886D85WsR3KCDoP4MubDbynec/PSQP7Szv6T+vDyqvYFLpPytAPxM3Wuo/jrbY6OJS6T+hL2tCroPpPze/Z68gjOk/dql1UNKo6j+OsD6gsFrrP7W5+YZ1suw/hUzvorI07T8GEmOKajnuP776fr/g8e0/AAAAAAAA8D96ZpjwV+nuP6pFouKVLO0/zA5q25+/7T/ZRCAfi87uP9OcOtI0Ju4/qIFQYglg7j9RYepwwmDuP7p/aZPEAe4/Jv5YRPtR7D8XaMxyXXnsP6evgxyeXOs/90y2DVbW6j+bkfFQfcfsP/BywJorNu0/TTdlcRcp7T83eN/h4CDuP8vt9vOBu+4/\",\"dtype\":\"float64\",\"order\":\"little\",\"shape\":[183]}},\"selected\":{\"id\":\"24266\"},\"selection_policy\":{\"id\":\"24296\"}},\"id\":\"24265\",\"type\":\"ColumnDataSource\"},{\"attributes\":{},\"id\":\"24191\",\"type\":\"ResetTool\"},{\"attributes\":{},\"id\":\"24200\",\"type\":\"DatetimeTickFormatter\"},{\"attributes\":{},\"id\":\"24189\",\"type\":\"WheelZoomTool\"},{\"attributes\":{\"margin\":[5,5,5,5],\"name\":\"HSpacer33971\",\"sizing_mode\":\"stretch_width\"},\"id\":\"24163\",\"type\":\"Spacer\"},{\"attributes\":{\"data_source\":{\"id\":\"24234\"},\"glyph\":{\"id\":\"24237\"},\"hover_glyph\":null,\"muted_glyph\":{\"id\":\"24239\"},\"nonselection_glyph\":{\"id\":\"24238\"},\"selection_glyph\":null,\"view\":{\"id\":\"24241\"}},\"id\":\"24240\",\"type\":\"GlyphRenderer\"},{\"attributes\":{\"overlay\":{\"id\":\"24192\"}},\"id\":\"24190\",\"type\":\"BoxZoomTool\"},{\"attributes\":{},\"id\":\"24263\",\"type\":\"UnionRenderers\"},{\"attributes\":{\"callback\":null,\"formatters\":{\"@{Date}\":\"datetime\"},\"renderers\":[{\"id\":\"24210\"},{\"id\":\"24240\"},{\"id\":\"24271\"},{\"id\":\"24304\"}],\"tags\":[\"hv_created\"],\"tooltips\":[[\"Variable\",\"@{Variable}\"],[\"Date\",\"@{Date}{%F %T}\"],[\"value\",\"@{value}\"]]},\"id\":\"24166\",\"type\":\"HoverTool\"},{\"attributes\":{\"label\":{\"value\":\"BTC\"},\"renderers\":[{\"id\":\"24271\"}]},\"id\":\"24297\",\"type\":\"LegendItem\"},{\"attributes\":{\"end\":1617062400000.0,\"reset_end\":1617062400000.0,\"reset_start\":1600905600000.0,\"start\":1600905600000.0,\"tags\":[[[\"Date\",\"Date\",null]]]},\"id\":\"24164\",\"type\":\"Range1d\"},{\"attributes\":{\"days\":[1,15]},\"id\":\"24224\",\"type\":\"DaysTicker\"},{\"attributes\":{\"days\":[1,2,3,4,5,6,7,8,9,10,11,12,13,14,15,16,17,18,19,20,21,22,23,24,25,26,27,28,29,30,31]},\"id\":\"24221\",\"type\":\"DaysTicker\"},{\"attributes\":{},\"id\":\"24299\",\"type\":\"Selection\"},{\"attributes\":{},\"id\":\"24202\",\"type\":\"BasicTickFormatter\"},{\"attributes\":{\"data\":{\"Date\":{\"__ndarray__\":\"AADAjdZLd0IAAIDzKEx3QgAAQFl7THdCAAAAv81Md0IAAMAkIE13QgAAgIpyTXdCAABA8MRNd0IAAABWF053QgAAwLtpTndCAACAIbxOd0IAAECHDk93QgAAAO1gT3dCAADAUrNPd0IAAIC4BVB3QgAAQB5YUHdCAAAAhKpQd0IAAMDp/FB3QgAAgE9PUXdCAABAtaFRd0IAAAAb9FF3QgAAwIBGUndCAACA5phSd0IAAEBM61J3QgAAALI9U3dCAADAF5BTd0IAAIB94lN3QgAAQOM0VHdCAAAASYdUd0IAAMCu2VR3QgAAgBQsVXdCAABAen5Vd0IAAADg0FV3QgAAwEUjVndCAACAq3VWd0IAAEARyFZ3QgAAAHcaV3dCAADA3GxXd0IAAIBCv1d3QgAAQKgRWHdCAAAADmRYd0IAAMBztlh3QgAAgNkIWXdCAABAP1tZd0IAAAClrVl3QgAAwAoAWndCAACAcFJad0IAAEDWpFp3QgAAADz3WndCAADAoUlbd0IAAIAHnFt3QgAAwDiTXHdCAACAnuVcd0IAAEAEOF13QgAAAGqKXXdCAADAz9xdd0IAAIA1L153QgAAQJuBXndCAAAAAdRed0IAAMBmJl93QgAAgMx4X3dCAABAMstfd0IAAACYHWB3QgAAwP1vYHdCAACAY8Jgd0IAAEDJFGF3QgAAAC9nYXdCAADAlLlhd0IAAID6C2J3QgAAQGBeYndCAAAAxrBid0IAAMArA2N3QgAAgJFVY3dCAABA96djd0IAAABd+mN3QgAAwMJMZHdCAACAKJ9kd0IAAECO8WR3QgAAAPRDZXdCAADAWZZld0IAAIC/6GV3QgAAQCU7ZndCAAAAi41md0IAAMDw32Z3QgAAgFYyZ3dCAABAvIRnd0IAAAAi12d3QgAAwIcpaHdCAACA7Xtod0IAAEBTzmh3QgAAALkgaXdCAADAHnNpd0IAAICExWl3QgAAQOoXandCAAAAUGpqd0IAAMC1vGp3QgAAgBsPa3dCAABAgWFrd0IAAADns2t3QgAAwEwGbHdCAACAslhsd0IAAEAYq2x3QgAAAH79bHdCAADA409td0IAAMB6mW53QgAAgODrbndCAABARj5vd0IAAACskG93QgAAwBHjb3dCAACAdzVwd0IAAEDdh3B3QgAAAEPacHdCAADAqCxxd0IAAIAOf3F3QgAAQHTRcXdCAAAA2iNyd0IAAMA/dnJ3QgAAgKXIcndCAABACxtzd0IAAABxbXN3QgAAwNa/c3dCAACAPBJ0d0IAAECiZHR3QgAAAAi3dHdCAADAbQl1d0IAAIDTW3V3QgAAQDmudXdCAAAAnwB2d0IAAMAEU3Z3QgAAgGqldndCAABA0Pd2d0IAAAA2Snd3QgAAwJucd3dCAACAAe93d0IAAEBnQXh3QgAAAM2TeHdCAADAMuZ4d0IAAICYOHl3QgAAQP6KeXdCAAAAZN15d0IAAMDJL3p3QgAAgC+CendCAABAldR6d0IAAAD7Jnt3QgAAwGB5e3dCAACAxst7d0IAAEAsHnx3QgAAAJJwfHdCAADA98J8d0IAAIBdFX13QgAAQMNnfXdCAAAAKbp9d0IAAMCODH53QgAAgPRefndCAABAWrF+d0IAAADAA393QgAAwCVWf3dCAACAi6h/d0IAAEDx+n93QgAAAFdNgHdCAADAvJ+Ad0IAAIAi8oB3QgAAQIhEgXdCAAAA7paBd0IAAMBT6YF3QgAAgLk7gndCAABAH46Cd0IAAACF4IJ3QgAAwOoyg3dCAACAUIWDd0IAAEC214N3QgAAABwqhHdCAADAgXyEd0IAAIDnzoR3QgAAQE0hhXdCAAAAs3OFd0IAAMAYxoV3QgAAgH4YhndCAABA5GqGd0IAAABKvYZ3QgAAwK8Ph3dCAACAFWKHd0IAAEB7tId3QgAAAOEGiHdC\",\"dtype\":\"float64\",\"order\":\"little\",\"shape\":[183]},\"Variable\":[\"ADA\",\"ADA\",\"ADA\",\"ADA\",\"ADA\",\"ADA\",\"ADA\",\"ADA\",\"ADA\",\"ADA\",\"ADA\",\"ADA\",\"ADA\",\"ADA\",\"ADA\",\"ADA\",\"ADA\",\"ADA\",\"ADA\",\"ADA\",\"ADA\",\"ADA\",\"ADA\",\"ADA\",\"ADA\",\"ADA\",\"ADA\",\"ADA\",\"ADA\",\"ADA\",\"ADA\",\"ADA\",\"ADA\",\"ADA\",\"ADA\",\"ADA\",\"ADA\",\"ADA\",\"ADA\",\"ADA\",\"ADA\",\"ADA\",\"ADA\",\"ADA\",\"ADA\",\"ADA\",\"ADA\",\"ADA\",\"ADA\",\"ADA\",\"ADA\",\"ADA\",\"ADA\",\"ADA\",\"ADA\",\"ADA\",\"ADA\",\"ADA\",\"ADA\",\"ADA\",\"ADA\",\"ADA\",\"ADA\",\"ADA\",\"ADA\",\"ADA\",\"ADA\",\"ADA\",\"ADA\",\"ADA\",\"ADA\",\"ADA\",\"ADA\",\"ADA\",\"ADA\",\"ADA\",\"ADA\",\"ADA\",\"ADA\",\"ADA\",\"ADA\",\"ADA\",\"ADA\",\"ADA\",\"ADA\",\"ADA\",\"ADA\",\"ADA\",\"ADA\",\"ADA\",\"ADA\",\"ADA\",\"ADA\",\"ADA\",\"ADA\",\"ADA\",\"ADA\",\"ADA\",\"ADA\",\"ADA\",\"ADA\",\"ADA\",\"ADA\",\"ADA\",\"ADA\",\"ADA\",\"ADA\",\"ADA\",\"ADA\",\"ADA\",\"ADA\",\"ADA\",\"ADA\",\"ADA\",\"ADA\",\"ADA\",\"ADA\",\"ADA\",\"ADA\",\"ADA\",\"ADA\",\"ADA\",\"ADA\",\"ADA\",\"ADA\",\"ADA\",\"ADA\",\"ADA\",\"ADA\",\"ADA\",\"ADA\",\"ADA\",\"ADA\",\"ADA\",\"ADA\",\"ADA\",\"ADA\",\"ADA\",\"ADA\",\"ADA\",\"ADA\",\"ADA\",\"ADA\",\"ADA\",\"ADA\",\"ADA\",\"ADA\",\"ADA\",\"ADA\",\"ADA\",\"ADA\",\"ADA\",\"ADA\",\"ADA\",\"ADA\",\"ADA\",\"ADA\",\"ADA\",\"ADA\",\"ADA\",\"ADA\",\"ADA\",\"ADA\",\"ADA\",\"ADA\",\"ADA\",\"ADA\",\"ADA\",\"ADA\",\"ADA\",\"ADA\",\"ADA\",\"ADA\",\"ADA\",\"ADA\",\"ADA\",\"ADA\",\"ADA\",\"ADA\",\"ADA\",\"ADA\",\"ADA\",\"ADA\"],\"value\":{\"__ndarray__\":\"8Tfcuqyurj+QScdEhwKyP74lIhnfvbE/g51Ax2bTsj9xnk0uV6qyP84Tkhh1ybI/91XasQTWsj+nAlpmVzeyP9Rvrp6MPrE/4OPtrw1WsT/cmFTDb/6xPyfWgGo4HbI/2VAS+nJEsT+eL2QVzGuxP6KjkLsU4LE/uW1Rd6PUsj+Uc0unEIKzP/fH4nENyrM/6AgKdO5atD9oT2x1OVK0P9NUnVxE5rM/fZn4+ubSsz+9g6UbiFSzP+U7K9ZnsrM//Z4NJODysz8uWqht3jO0P27ddiBpAbM/VOR0ZO20sz8gEzF3T5a0PwWlJNfkFbQ/XyzKmCIStD/y3lboGsSzP/rbZy9tJ7M/XRByrHESsz/1GMI6+luyP2bVkIbfu7E/LASPLcRXsT9qedxqu0exP1679BV7O7I/kCM2r8IlsT+YRtiL2WWxP4hVEWmivLE/tvYirXQgsj+/JJrcwkK0P4GVGJla07I/uKhFCG7Osz+jJscV3JOzP98js0tDsrM/AKQzLgazsz9G2Eb+426zP5f/MWwAsbI/tZLxY4lOsz/SuHmmdFq0P2l4VC6fzLM/IEt44+6tsz8vIS7E3f61P5tl8Qm90bg/zVAU/hASuz+VUcJN57i8P5TvX+uACb8/MscH/YrZvD8wbuyYir25P3k2uVypSro/sW7vJGWnvj9sExiCYfG+Pzb5Xo5l+78/zbnBUqzovD9FAxMNpXy9P++f7WUkgL4/kCpAD0R5uz+37ZocW7m9P1lTo9oefb0/id2CPGahvD/dDOvXSUG6P8bLZL5OgLs/IYAnmjlUuj8W9IJpzN+5P2K1GKi9z7o/jvX6xoqhvD+AcDgckGy9P6CTEzpQlrw/bpF90b1Cvz9ICgj+T1++P2cnitSIq74/hKkbMlOJvj+nnvv3vxu+P4G64F9PYbw/7JL0LK0dvT/sTV6GDF+5P9SkccLebrw/9Gkf339GvT+MoCgx2Wy9P2NqPSedvbw/aoI31ihlwD8PWicKtL/BP4110msUGsE/sfp4WP3awD/E8GWFWkTAPyCyIZq8esA/HLrAE5Qcwz/DdATUy/zEPxF/mc8eCcg/oxIVM9Dszj/wtdidRhjMP75xA7K0o8k/mkHaW8K5yj+KeHO11A/NP47JEOo+58w/tKaLkL8czD8WzTCX1FHQP6Po8apst9E/kW+t2QY90T/yJEAUjxbRP8us1PSfctE/BBSV4ZiYzD9FCmaRdkHQP3lxdO1cDtA/D/uRFOto0D/bVC6jFeLPP6AaCaxi7M8/aonL7K39zD+Kl3jGsPHPP6NZ+JuOJtA/dbahJzvl0D9hQIDE/AfQPwNuy8wk+dI/rKW36FPI0z+pqB8y/YfUP9dBoyIAbNQ/OvzV+XgP2T+8J0tKvHPdP36eVwUkyd4/36LJs5l53z+J+coE3mXgP54O2UG72OU/SMNtueGW5T/Ef+G4n3zlP7XPAUn3KuU/aeoXEyae4z+PmOuT9vvjP/5z6MyVOOQ/zsYsjFG35D9h/6x+dTrlP895giSsguU/kWuVeTLu6T/Ykm18Fo3pP9IEa2ODe+k/yV8S1yRl5j/zhKZqxFnoP54uVmt6+ug/9+drdjfY7D+8IreINpbuP55TNuhEYe4/4HY01ggd7j+fqMOidHPsPxBP0JIVNuw/0RzQgm/Y6T+j9I/Mc+jqP7y7Vva4Ouo/q/DbjcRL6j/vep8x+vvpP4hZGaU90Os/6KsC0/ZS6j/CuZLozx3qP3mSfZwG+uc/YGSDBfCV6T8XxygGOoPoP1tJEemB8+c/0+t1dd4F7T8AAAAAAADwP11qxJahmuw/mGr3y3Ab7j/S5ZJ3U+PrP+3V06Kekus/lNHiFsGi6T/DLeDYWe/pP3+eSyq53Og/YU8gCup46T8y1CkS4DbsP6KFzgvTVus/s2v9JLii6z9HS8sfnvHrPwTLbEhZgew/\",\"dtype\":\"float64\",\"order\":\"little\",\"shape\":[183]}},\"selected\":{\"id\":\"24299\"},\"selection_policy\":{\"id\":\"24331\"}},\"id\":\"24298\",\"type\":\"ColumnDataSource\"},{\"attributes\":{\"below\":[{\"id\":\"24179\"}],\"center\":[{\"id\":\"24182\"},{\"id\":\"24186\"}],\"left\":[{\"id\":\"24183\"}],\"margin\":[5,5,5,5],\"min_border_bottom\":10,\"min_border_left\":10,\"min_border_right\":10,\"min_border_top\":10,\"plot_height\":300,\"plot_width\":700,\"renderers\":[{\"id\":\"24210\"},{\"id\":\"24240\"},{\"id\":\"24271\"},{\"id\":\"24304\"}],\"right\":[{\"id\":\"24232\"}],\"sizing_mode\":\"fixed\",\"title\":{\"id\":\"24171\"},\"toolbar\":{\"id\":\"24193\"},\"x_range\":{\"id\":\"24164\"},\"x_scale\":{\"id\":\"24175\"},\"y_range\":{\"id\":\"24165\"},\"y_scale\":{\"id\":\"24177\"}},\"id\":\"24170\",\"subtype\":\"Figure\",\"type\":\"Plot\"},{\"attributes\":{\"text\":\"Daily returns for all portfolios over 6 months\",\"text_color\":{\"value\":\"black\"},\"text_font_size\":{\"value\":\"12pt\"}},\"id\":\"24171\",\"type\":\"Title\"},{\"attributes\":{\"active_drag\":\"auto\",\"active_inspect\":\"auto\",\"active_multi\":null,\"active_scroll\":\"auto\",\"active_tap\":\"auto\",\"tools\":[{\"id\":\"24166\"},{\"id\":\"24187\"},{\"id\":\"24188\"},{\"id\":\"24189\"},{\"id\":\"24190\"},{\"id\":\"24191\"}]},\"id\":\"24193\",\"type\":\"Toolbar\"},{\"attributes\":{\"data_source\":{\"id\":\"24298\"},\"glyph\":{\"id\":\"24301\"},\"hover_glyph\":null,\"muted_glyph\":{\"id\":\"24303\"},\"nonselection_glyph\":{\"id\":\"24302\"},\"selection_glyph\":null,\"view\":{\"id\":\"24305\"}},\"id\":\"24304\",\"type\":\"GlyphRenderer\"},{\"attributes\":{\"data\":{\"Date\":{\"__ndarray__\":\"AADAjdZLd0IAAIDzKEx3QgAAQFl7THdCAAAAv81Md0IAAMAkIE13QgAAgIpyTXdCAABA8MRNd0IAAABWF053QgAAwLtpTndCAACAIbxOd0IAAECHDk93QgAAAO1gT3dCAADAUrNPd0IAAIC4BVB3QgAAQB5YUHdCAAAAhKpQd0IAAMDp/FB3QgAAgE9PUXdCAABAtaFRd0IAAAAb9FF3QgAAwIBGUndCAACA5phSd0IAAEBM61J3QgAAALI9U3dCAADAF5BTd0IAAIB94lN3QgAAQOM0VHdCAAAASYdUd0IAAMCu2VR3QgAAgBQsVXdCAABAen5Vd0IAAADg0FV3QgAAwEUjVndCAACAq3VWd0IAAEARyFZ3QgAAAHcaV3dCAADA3GxXd0IAAIBCv1d3QgAAQKgRWHdCAAAADmRYd0IAAMBztlh3QgAAgNkIWXdCAABAP1tZd0IAAAClrVl3QgAAwAoAWndCAACAcFJad0IAAEDWpFp3QgAAADz3WndCAADAoUlbd0IAAIAHnFt3QgAAwDiTXHdCAACAnuVcd0IAAEAEOF13QgAAAGqKXXdCAADAz9xdd0IAAIA1L153QgAAQJuBXndCAAAAAdRed0IAAMBmJl93QgAAgMx4X3dCAABAMstfd0IAAACYHWB3QgAAwP1vYHdCAACAY8Jgd0IAAEDJFGF3QgAAAC9nYXdCAADAlLlhd0IAAID6C2J3QgAAQGBeYndCAAAAxrBid0IAAMArA2N3QgAAgJFVY3dCAABA96djd0IAAABd+mN3QgAAwMJMZHdCAACAKJ9kd0IAAECO8WR3QgAAAPRDZXdCAADAWZZld0IAAIC/6GV3QgAAQCU7ZndCAAAAi41md0IAAMDw32Z3QgAAgFYyZ3dCAABAvIRnd0IAAAAi12d3QgAAwIcpaHdCAACA7Xtod0IAAEBTzmh3QgAAALkgaXdCAADAHnNpd0IAAICExWl3QgAAQOoXandCAAAAUGpqd0IAAMC1vGp3QgAAgBsPa3dCAABAgWFrd0IAAADns2t3QgAAwEwGbHdCAACAslhsd0IAAEAYq2x3QgAAAH79bHdCAADA409td0IAAMB6mW53QgAAgODrbndCAABARj5vd0IAAACskG93QgAAwBHjb3dCAACAdzVwd0IAAEDdh3B3QgAAAEPacHdCAADAqCxxd0IAAIAOf3F3QgAAQHTRcXdCAAAA2iNyd0IAAMA/dnJ3QgAAgKXIcndCAABACxtzd0IAAABxbXN3QgAAwNa/c3dCAACAPBJ0d0IAAECiZHR3QgAAAAi3dHdCAADAbQl1d0IAAIDTW3V3QgAAQDmudXdCAAAAnwB2d0IAAMAEU3Z3QgAAgGqldndCAABA0Pd2d0IAAAA2Snd3QgAAwJucd3dCAACAAe93d0IAAEBnQXh3QgAAAM2TeHdCAADAMuZ4d0IAAICYOHl3QgAAQP6KeXdCAAAAZN15d0IAAMDJL3p3QgAAgC+CendCAABAldR6d0IAAAD7Jnt3QgAAwGB5e3dCAACAxst7d0IAAEAsHnx3QgAAAJJwfHdCAADA98J8d0IAAIBdFX13QgAAQMNnfXdCAAAAKbp9d0IAAMCODH53QgAAgPRefndCAABAWrF+d0IAAADAA393QgAAwCVWf3dCAACAi6h/d0IAAEDx+n93QgAAAFdNgHdCAADAvJ+Ad0IAAIAi8oB3QgAAQIhEgXdCAAAA7paBd0IAAMBT6YF3QgAAgLk7gndCAABAH46Cd0IAAACF4IJ3QgAAwOoyg3dCAACAUIWDd0IAAEC214N3QgAAABwqhHdCAADAgXyEd0IAAIDnzoR3QgAAQE0hhXdCAAAAs3OFd0IAAMAYxoV3QgAAgH4YhndCAABA5GqGd0IAAABKvYZ3QgAAwK8Ph3dCAACAFWKHd0IAAEB7tId3QgAAAOEGiHdC\",\"dtype\":\"float64\",\"order\":\"little\",\"shape\":[183]},\"Variable\":[\"ETH\",\"ETH\",\"ETH\",\"ETH\",\"ETH\",\"ETH\",\"ETH\",\"ETH\",\"ETH\",\"ETH\",\"ETH\",\"ETH\",\"ETH\",\"ETH\",\"ETH\",\"ETH\",\"ETH\",\"ETH\",\"ETH\",\"ETH\",\"ETH\",\"ETH\",\"ETH\",\"ETH\",\"ETH\",\"ETH\",\"ETH\",\"ETH\",\"ETH\",\"ETH\",\"ETH\",\"ETH\",\"ETH\",\"ETH\",\"ETH\",\"ETH\",\"ETH\",\"ETH\",\"ETH\",\"ETH\",\"ETH\",\"ETH\",\"ETH\",\"ETH\",\"ETH\",\"ETH\",\"ETH\",\"ETH\",\"ETH\",\"ETH\",\"ETH\",\"ETH\",\"ETH\",\"ETH\",\"ETH\",\"ETH\",\"ETH\",\"ETH\",\"ETH\",\"ETH\",\"ETH\",\"ETH\",\"ETH\",\"ETH\",\"ETH\",\"ETH\",\"ETH\",\"ETH\",\"ETH\",\"ETH\",\"ETH\",\"ETH\",\"ETH\",\"ETH\",\"ETH\",\"ETH\",\"ETH\",\"ETH\",\"ETH\",\"ETH\",\"ETH\",\"ETH\",\"ETH\",\"ETH\",\"ETH\",\"ETH\",\"ETH\",\"ETH\",\"ETH\",\"ETH\",\"ETH\",\"ETH\",\"ETH\",\"ETH\",\"ETH\",\"ETH\",\"ETH\",\"ETH\",\"ETH\",\"ETH\",\"ETH\",\"ETH\",\"ETH\",\"ETH\",\"ETH\",\"ETH\",\"ETH\",\"ETH\",\"ETH\",\"ETH\",\"ETH\",\"ETH\",\"ETH\",\"ETH\",\"ETH\",\"ETH\",\"ETH\",\"ETH\",\"ETH\",\"ETH\",\"ETH\",\"ETH\",\"ETH\",\"ETH\",\"ETH\",\"ETH\",\"ETH\",\"ETH\",\"ETH\",\"ETH\",\"ETH\",\"ETH\",\"ETH\",\"ETH\",\"ETH\",\"ETH\",\"ETH\",\"ETH\",\"ETH\",\"ETH\",\"ETH\",\"ETH\",\"ETH\",\"ETH\",\"ETH\",\"ETH\",\"ETH\",\"ETH\",\"ETH\",\"ETH\",\"ETH\",\"ETH\",\"ETH\",\"ETH\",\"ETH\",\"ETH\",\"ETH\",\"ETH\",\"ETH\",\"ETH\",\"ETH\",\"ETH\",\"ETH\",\"ETH\",\"ETH\",\"ETH\",\"ETH\",\"ETH\",\"ETH\",\"ETH\",\"ETH\",\"ETH\",\"ETH\",\"ETH\",\"ETH\",\"ETH\",\"ETH\",\"ETH\",\"ETH\",\"ETH\",\"ETH\",\"ETH\",\"ETH\"],\"value\":{\"__ndarray__\":\"i42BoFbcxj9nuPlAFgnHPxWVIUxILMc/jiu82EZnxz+6DW32GyvHP0/YBZx+jsc/9opV/dKNxz91tfbxBx3HPwpJ2u7Vn8Y/z7Nc5DKlxj88f5WAdxHHPzkgeedkIsc/Pf6vE79Txj9tTACpTF3GP7q2uVNS98Y/q2w90FDmxz/S3/9ngUTIP/Io6lXUfsg/lf0Ci85MyT88o88NffXIP75zFDHrysg/FazY+qe5yD90EcR8LuzHP8l7IwcjIMg/21Bfp4W/yD/w+2h9+dTIP3jcf435IMg//thnNLaVyT/Noc5NiBnLP0XUMlkXyso/PEPVH977yj/ou8apoJTKP/WmJpSPtsk/v2Wz/bhpyj/gpGkbUm3JP3xavMu0WMk/RmbIB+4IyT/whLfg+k3JP4EN49iT9ck/gxAy538VyT8FMMG2bmPJP6u6qSdFVMo/r0BPXElHyz+jInZcltXNP0sVwrFUe8w/SMDZ6PvCzT87vsJPrRPNPzpsKZVAe80/ZKI+R/NSzj88JxO5eTnOP98upQM4V80/zi5ZRFojzj8vxQEyjJDPP/P96GaxUM8/RRQ+fdnWzj/IoQoO6bLQP5eXH5CeE9I/OAgCRClX0j/HS0TwA/DTP8N48ljnzNM/dseEiLKo0j+dmkEOggDRP9ZU1/q26dA/Pt6i6TGa0T+qIits3dXSP45Hfj+rKdQ/8+ZA6Kkp0z9SkGTxapPTP+I9qMuVKdQ/FfHfphaV0j8Rj3T/F4bTPzNU/eG9r9M/6DhhUzBb0z8MW2iFgCvSP7IS0s4xxtI/Qfiopn1H0j+USAJ0Js7RP8nFRJvultI/NGT8XlhZ0z8YTYChNDHTP9Oq2dj8RdM/YNGZKZfe1D+o/GHFxw/VP1UTuxeDZtU/uRvOKU6M1T+Hcd2ZoubUP04p32EP6dM/qIgsx73b1D/z5kDoqSnTPwKXkTaDDdQ/S/T0kuuD1D8yoMvvSdXUP6i8ZdFdadY/DIV8777o1z+ZdwM2ufPXP+ErGjXrndg/7On4Rv8V2D/ZwiPsL97XP9k49zOiWtk/WWoy+usA4D9PEIppRxPhP4vUJpYtAOI//TbTCEWt4z/W5nvZ5Y7kP9DZNLug0eE/sMVhLHov4T+AVXVTT4rgP9OjPwfoLuQ/SRu67j0h4z8c13CZYRvkP69WN+Z0MOQ/fVt8wJCW5D+f8dZQm2fmP/wuW+Kji+Y/vvXIwtcs4j+6W8oduDLkP/671qgdL+Q/iJli6tDB5j/w+qiIHZflP6+PithxWeY/JhY1GC5R5D/+7w+zvbzlP5aeyJELkeY/skEPUSWF5j/vQI6JGH3lP3XRqSgUeeY/8ntSNXW76D/XJnjNTzXrP+lP+qHfG+o/+6KfEAYm7D+G2jwzx3LrP2ut2Ot3Yeo/qG/Inp2f7D/SPVwMuPXsP7CEh+ODfuw/P66WQgo37T9L6t4i4hnuPyOY6akas+0/BE//u8d47T/TtdzN6iDtP40XgcjbLO0/96mE0tM87j8NLslM9bTvPwAAAAAAAPA/0I8TJ9Va7z+aoDlLa6bvP0bDVYfwFe0/WZYCDkPT6T+yux4saJLqP19ScGb3Neg/HwaBi0yn5z+CkvWoxN3nP3EYi95LNuc/sEplzFKx6T8gAwXtV1ToPw0QaZwoquk/VVsvMo4u6T/MCV/CeAHpPxxNUxEs/uo/QffKUfE87D8c3ijLJv/tP2Ka1VCql+4/hKOl6uJe7T/dliZI0NjtP4ur4VAj5+w/U5LzCnt17z+Zx/6mvUPuPxH1SMrvWO0/lrFDrZqN7T+jBfQAVtXtP3/9AbypGO0/b+znWv2W7T9i65/m4ovtP8iLMbQVMO0/2DP7q/WL6z8FMy4lC1DrP1XYydsd9ek/+2lMHgn96T92MNXxfs7rP6qHMBKBBOw/LyKPsY6d6z/wk/ZoubntP+AGEYOxFe4/\",\"dtype\":\"float64\",\"order\":\"little\",\"shape\":[183]}},\"selected\":{\"id\":\"24205\"},\"selection_policy\":{\"id\":\"24231\"}},\"id\":\"24204\",\"type\":\"ColumnDataSource\"},{\"attributes\":{\"data\":{\"Date\":{\"__ndarray__\":\"AADAjdZLd0IAAIDzKEx3QgAAQFl7THdCAAAAv81Md0IAAMAkIE13QgAAgIpyTXdCAABA8MRNd0IAAABWF053QgAAwLtpTndCAACAIbxOd0IAAECHDk93QgAAAO1gT3dCAADAUrNPd0IAAIC4BVB3QgAAQB5YUHdCAAAAhKpQd0IAAMDp/FB3QgAAgE9PUXdCAABAtaFRd0IAAAAb9FF3QgAAwIBGUndCAACA5phSd0IAAEBM61J3QgAAALI9U3dCAADAF5BTd0IAAIB94lN3QgAAQOM0VHdCAAAASYdUd0IAAMCu2VR3QgAAgBQsVXdCAABAen5Vd0IAAADg0FV3QgAAwEUjVndCAACAq3VWd0IAAEARyFZ3QgAAAHcaV3dCAADA3GxXd0IAAIBCv1d3QgAAQKgRWHdCAAAADmRYd0IAAMBztlh3QgAAgNkIWXdCAABAP1tZd0IAAAClrVl3QgAAwAoAWndCAACAcFJad0IAAEDWpFp3QgAAADz3WndCAADAoUlbd0IAAIAHnFt3QgAAwDiTXHdCAACAnuVcd0IAAEAEOF13QgAAAGqKXXdCAADAz9xdd0IAAIA1L153QgAAQJuBXndCAAAAAdRed0IAAMBmJl93QgAAgMx4X3dCAABAMstfd0IAAACYHWB3QgAAwP1vYHdCAACAY8Jgd0IAAEDJFGF3QgAAAC9nYXdCAADAlLlhd0IAAID6C2J3QgAAQGBeYndCAAAAxrBid0IAAMArA2N3QgAAgJFVY3dCAABA96djd0IAAABd+mN3QgAAwMJMZHdCAACAKJ9kd0IAAECO8WR3QgAAAPRDZXdCAADAWZZld0IAAIC/6GV3QgAAQCU7ZndCAAAAi41md0IAAMDw32Z3QgAAgFYyZ3dCAABAvIRnd0IAAAAi12d3QgAAwIcpaHdCAACA7Xtod0IAAEBTzmh3QgAAALkgaXdCAADAHnNpd0IAAICExWl3QgAAQOoXandCAAAAUGpqd0IAAMC1vGp3QgAAgBsPa3dCAABAgWFrd0IAAADns2t3QgAAwEwGbHdCAACAslhsd0IAAEAYq2x3QgAAAH79bHdCAADA409td0IAAMB6mW53QgAAgODrbndCAABARj5vd0IAAACskG93QgAAwBHjb3dCAACAdzVwd0IAAEDdh3B3QgAAAEPacHdCAADAqCxxd0IAAIAOf3F3QgAAQHTRcXdCAAAA2iNyd0IAAMA/dnJ3QgAAgKXIcndCAABACxtzd0IAAABxbXN3QgAAwNa/c3dCAACAPBJ0d0IAAECiZHR3QgAAAAi3dHdCAADAbQl1d0IAAIDTW3V3QgAAQDmudXdCAAAAnwB2d0IAAMAEU3Z3QgAAgGqldndCAABA0Pd2d0IAAAA2Snd3QgAAwJucd3dCAACAAe93d0IAAEBnQXh3QgAAAM2TeHdCAADAMuZ4d0IAAICYOHl3QgAAQP6KeXdCAAAAZN15d0IAAMDJL3p3QgAAgC+CendCAABAldR6d0IAAAD7Jnt3QgAAwGB5e3dCAACAxst7d0IAAEAsHnx3QgAAAJJwfHdCAADA98J8d0IAAIBdFX13QgAAQMNnfXdCAAAAKbp9d0IAAMCODH53QgAAgPRefndCAABAWrF+d0IAAADAA393QgAAwCVWf3dCAACAi6h/d0IAAEDx+n93QgAAAFdNgHdCAADAvJ+Ad0IAAIAi8oB3QgAAQIhEgXdCAAAA7paBd0IAAMBT6YF3QgAAgLk7gndCAABAH46Cd0IAAACF4IJ3QgAAwOoyg3dCAACAUIWDd0IAAEC214N3QgAAABwqhHdCAADAgXyEd0IAAIDnzoR3QgAAQE0hhXdCAAAAs3OFd0IAAMAYxoV3QgAAgH4YhndCAABA5GqGd0IAAABKvYZ3QgAAwK8Ph3dCAACAFWKHd0IAAEB7tId3QgAAAOEGiHdC\",\"dtype\":\"float64\",\"order\":\"little\",\"shape\":[183]},\"Variable\":[\"VET\",\"VET\",\"VET\",\"VET\",\"VET\",\"VET\",\"VET\",\"VET\",\"VET\",\"VET\",\"VET\",\"VET\",\"VET\",\"VET\",\"VET\",\"VET\",\"VET\",\"VET\",\"VET\",\"VET\",\"VET\",\"VET\",\"VET\",\"VET\",\"VET\",\"VET\",\"VET\",\"VET\",\"VET\",\"VET\",\"VET\",\"VET\",\"VET\",\"VET\",\"VET\",\"VET\",\"VET\",\"VET\",\"VET\",\"VET\",\"VET\",\"VET\",\"VET\",\"VET\",\"VET\",\"VET\",\"VET\",\"VET\",\"VET\",\"VET\",\"VET\",\"VET\",\"VET\",\"VET\",\"VET\",\"VET\",\"VET\",\"VET\",\"VET\",\"VET\",\"VET\",\"VET\",\"VET\",\"VET\",\"VET\",\"VET\",\"VET\",\"VET\",\"VET\",\"VET\",\"VET\",\"VET\",\"VET\",\"VET\",\"VET\",\"VET\",\"VET\",\"VET\",\"VET\",\"VET\",\"VET\",\"VET\",\"VET\",\"VET\",\"VET\",\"VET\",\"VET\",\"VET\",\"VET\",\"VET\",\"VET\",\"VET\",\"VET\",\"VET\",\"VET\",\"VET\",\"VET\",\"VET\",\"VET\",\"VET\",\"VET\",\"VET\",\"VET\",\"VET\",\"VET\",\"VET\",\"VET\",\"VET\",\"VET\",\"VET\",\"VET\",\"VET\",\"VET\",\"VET\",\"VET\",\"VET\",\"VET\",\"VET\",\"VET\",\"VET\",\"VET\",\"VET\",\"VET\",\"VET\",\"VET\",\"VET\",\"VET\",\"VET\",\"VET\",\"VET\",\"VET\",\"VET\",\"VET\",\"VET\",\"VET\",\"VET\",\"VET\",\"VET\",\"VET\",\"VET\",\"VET\",\"VET\",\"VET\",\"VET\",\"VET\",\"VET\",\"VET\",\"VET\",\"VET\",\"VET\",\"VET\",\"VET\",\"VET\",\"VET\",\"VET\",\"VET\",\"VET\",\"VET\",\"VET\",\"VET\",\"VET\",\"VET\",\"VET\",\"VET\",\"VET\",\"VET\",\"VET\",\"VET\",\"VET\",\"VET\",\"VET\",\"VET\",\"VET\",\"VET\",\"VET\",\"VET\",\"VET\",\"VET\",\"VET\",\"VET\",\"VET\",\"VET\",\"VET\"],\"value\":{\"__ndarray__\":\"AvTEsQDuwD+ZSxsAX6XBP1gmIwGgjsE/wc+hy5RqwT8k85/aYHvBP5Xg+/taAMI/woC4lwh/wj+L7bEKiGnBPwNRyc1INsA/VJ0j+30JwD9RZ5f0SuG/P82il/G5Hr8/XOZEAi6luz+XsoxI8cC+P8RQn7L4GL4/EuPwp51bvz+JpovRnyq/P8xEvrweQ78/O2d3c9Mgvz/B9G+vA2S/P+lcwKrBb74/nTc468b4vT/sxTV9H+68P8/xgCVGCr4/5VEkDf/Mvz+wHczNbCa/P6MAMSRmeb0/Y40kCm4Kvz8iNUM/hJ3AP5PD8BKQs8A/ap1DfPXJwD/nKdfelhnAP7y+rUC6F78/9hnY7YYavz9hHrGiHRi9P8ad3rTe3bs/tnWnbRWOuz/2SDfuTv+6PxdKvEhVs7w/U1KpXkl9uz/7vvKPFUe5P1GFXMJdr7k/8HBOtKCOuj+so7zIWZG+PzeLOtbYYrw/cqZrUChqvj+6r70/qye+PyILKO9mq78/Fk4QrKEAvz/Y1AX9th29P//8XMX3Lb4/2fLl/tT9vj/bK/FPAeDAP3/eMUk9GcA/wEUDFTZ2vz9U/NFIbHjAP49qQFqUuMM/yyJvI6kDwz85ZbINIujFP98m4wdtEcY/EOIAWz+2xj9C6LN+UfnDP3oofXT51cM/Q0g35ZL7xD/Uxs/g767EP3VvSVW82MU/2j41tFwdxD8NJXnYtWvGP9Q37Xnmx8c/tOT/oFpuxT/PYNlYi+rHP6LAHL3da8c//A6x3PTFyD/I19lSaWXGP0gw5Tij78Y/SS47B/3IxT/euRnSwkXFP40e1nABh8Y/4IWRVVuAxj9TIYX4z1/GP9bkr+INj8Y/DXi2b46kxz/eyrMEeFzHP7wrXEJZ0cc/xcw9tabCxz+ZHZEY6lPGP+da+0QQN8U/FPu34L21xT8xsLcdJibCPyH4yFYAXMQ/msipT2v0wz/cDFdpm37GP2lxY8Ymn8Y//+rtee+Dyz/931HcLOHMP3i8o4utr8s/Kb2IYF6hyT/mzpcoAArKPxXcHfpXVMs/ak5aSGne0T+n3VRSu9bQP/LqQoWoEdM/JqhS6j4N1T/OVxSZgYzSP0Gf9YvKn9A/SCO6nUU4zz8Flwh21tXRPyOVxqXFn9E/YkD3f49R0T8Ds/ZlMF/SPzIPZmsUldI/sfH9j6UH1T+r4sWueOfTP1DFVfXaqtc/aoZ+CDsh0z+meVDcGmnVPzj3E78kidQ/N3Hb4xnu1D8SjRmSwFbUPxkTmk3pIdQ/8oq/HmcP0j//R9dhLLrSPyboSx28CNM/3s8JLSpb0j/t2jWLKF7RP9zSiHcjFdQ/GASqTNox0z+tx6zXcfHTP2EN/Dtd79I/A4PCTBXn1T/e4KNf33HUP37ySsbr6dM/Z6XrQo5k1T/Kvz/GWynYP9OJVfhrbdg/X4pd31Yg3T+P1GZVNrLiP9pk6igmtuI/6fYje4Ln4T9LauDWLXfhP9+kKzzB4eA/OaEz7UN+4T9uapAY4ZfiP0tDVkkRS+I/RsobXVFJ4j9rDLfjRbziP3vFesO+GeE/Q3Cxvw3N3D/j/PRjYj3dP9SoChPd4No/ZPL9mGEL2z/hjlYVZd7bP/IFd5C6Gds/0r34qN5E3z/orH73oO7dPxzn5kMtFeI/Gg5N4Top4T8We842x8ThP63ELY14N+I/MZdIeMVW4z+zDgl5cFTmP84Mo7hQBuY/y8c4KRb65D9n0O0jBvbmP5wdtQj5a+Y/eQVrOjgP5z81CIoBy4fmPw06i17G5+o/d1pSA7du6T91GIuuhDTqP3Nc2EROfeo/NTmuZ0Sl6z8Lx5bnForuPwAAAAAAAPA/9EA+i5Qu7j+sd+XOjmzsP87HU10hDO0/pJHhrCSf6z+qReOTvrXuPw6DSVFNQe4/JYNp0sQB7z8L8Z+/LHDvP7cBAs4hte4/\",\"dtype\":\"float64\",\"order\":\"little\",\"shape\":[183]}},\"selected\":{\"id\":\"24235\"},\"selection_policy\":{\"id\":\"24263\"}},\"id\":\"24234\",\"type\":\"ColumnDataSource\"},{\"attributes\":{\"bottom_units\":\"screen\",\"fill_alpha\":0.5,\"fill_color\":\"lightgrey\",\"left_units\":\"screen\",\"level\":\"overlay\",\"line_alpha\":1.0,\"line_color\":\"black\",\"line_dash\":[4,4],\"line_width\":2,\"right_units\":\"screen\",\"top_units\":\"screen\"},\"id\":\"24192\",\"type\":\"BoxAnnotation\"},{\"attributes\":{\"line_color\":\"#e5ae38\",\"line_width\":2,\"x\":{\"field\":\"Date\"},\"y\":{\"field\":\"value\"}},\"id\":\"24268\",\"type\":\"Line\"},{\"attributes\":{\"line_color\":\"#30a2da\",\"line_width\":2,\"x\":{\"field\":\"Date\"},\"y\":{\"field\":\"value\"}},\"id\":\"24207\",\"type\":\"Line\"},{\"attributes\":{\"months\":[0,6]},\"id\":\"24228\",\"type\":\"MonthsTicker\"},{\"attributes\":{},\"id\":\"24229\",\"type\":\"YearsTicker\"},{\"attributes\":{\"source\":{\"id\":\"24204\"}},\"id\":\"24211\",\"type\":\"CDSView\"},{\"attributes\":{},\"id\":\"24231\",\"type\":\"UnionRenderers\"},{\"attributes\":{\"source\":{\"id\":\"24298\"}},\"id\":\"24305\",\"type\":\"CDSView\"},{\"attributes\":{},\"id\":\"24175\",\"type\":\"LinearScale\"},{\"attributes\":{\"margin\":[5,5,5,5],\"name\":\"HSpacer33972\",\"sizing_mode\":\"stretch_width\"},\"id\":\"24567\",\"type\":\"Spacer\"},{\"attributes\":{\"click_policy\":\"mute\",\"items\":[{\"id\":\"24233\"},{\"id\":\"24264\"},{\"id\":\"24297\"},{\"id\":\"24332\"}],\"location\":[0,0],\"title\":\"Variable\"},\"id\":\"24232\",\"type\":\"Legend\"},{\"attributes\":{\"line_alpha\":0.2,\"line_color\":\"#6d904f\",\"line_width\":2,\"x\":{\"field\":\"Date\"},\"y\":{\"field\":\"value\"}},\"id\":\"24303\",\"type\":\"Line\"},{\"attributes\":{\"mantissas\":[1,2,5],\"max_interval\":500.0,\"num_minor_ticks\":0},\"id\":\"24218\",\"type\":\"AdaptiveTicker\"},{\"attributes\":{},\"id\":\"24296\",\"type\":\"UnionRenderers\"},{\"attributes\":{\"label\":{\"value\":\"ETH\"},\"renderers\":[{\"id\":\"24210\"}]},\"id\":\"24233\",\"type\":\"LegendItem\"},{\"attributes\":{\"line_alpha\":0.1,\"line_color\":\"#6d904f\",\"line_width\":2,\"x\":{\"field\":\"Date\"},\"y\":{\"field\":\"value\"}},\"id\":\"24302\",\"type\":\"Line\"},{\"attributes\":{},\"id\":\"24205\",\"type\":\"Selection\"},{\"attributes\":{\"label\":{\"value\":\"VET\"},\"renderers\":[{\"id\":\"24240\"}]},\"id\":\"24264\",\"type\":\"LegendItem\"}],\"root_ids\":[\"24162\"]},\"title\":\"Bokeh Application\",\"version\":\"2.2.3\"}};\n",
       "    var render_items = [{\"docid\":\"cce152c4-27a7-43e8-bcaf-d1d5597b4d62\",\"root_ids\":[\"24162\"],\"roots\":{\"24162\":\"ace46b14-e617-45b7-a687-fdf1d5a166bf\"}}];\n",
       "    root.Bokeh.embed.embed_items_notebook(docs_json, render_items);\n",
       "  }\n",
       "  if (root.Bokeh !== undefined && root.Bokeh.Panel !== undefined) {\n",
       "    embed_document(root);\n",
       "  } else {\n",
       "    var attempts = 0;\n",
       "    var timer = setInterval(function(root) {\n",
       "      if (root.Bokeh !== undefined && root.Bokeh.Panel !== undefined) {\n",
       "        clearInterval(timer);\n",
       "        embed_document(root);\n",
       "      } else if (document.readyState == \"complete\") {\n",
       "        attempts++;\n",
       "        if (attempts > 100) {\n",
       "          clearInterval(timer);\n",
       "          console.log(\"Bokeh: ERROR: Unable to run BokehJS code because BokehJS library is missing\");\n",
       "        }\n",
       "      }\n",
       "    }, 10, root)\n",
       "  }\n",
       "})(window);</script>"
      ],
      "text/plain": [
       ":NdOverlay   [Variable]\n",
       "   :Curve   [Date]   (value)"
      ]
     },
     "execution_count": 272,
     "metadata": {
      "application/vnd.holoviews_exec.v0+json": {
       "id": "24162"
      }
     },
     "output_type": "execute_result"
    }
   ],
   "source": [
    "normalised_returns6.hvplot(figsize = (20,10), title = 'Daily returns for all portfolios over 6 months')"
   ]
  },
  {
   "cell_type": "code",
   "execution_count": 273,
   "metadata": {},
   "outputs": [
    {
     "data": {},
     "metadata": {},
     "output_type": "display_data"
    },
    {
     "data": {
      "application/vnd.holoviews_exec.v0+json": "",
      "text/html": [
       "<div id='24699'>\n",
       "\n",
       "\n",
       "\n",
       "\n",
       "\n",
       "  <div class=\"bk-root\" id=\"1ac564c6-4ed6-4ee3-b4bf-01c701d49ce9\" data-root-id=\"24699\"></div>\n",
       "</div>\n",
       "<script type=\"application/javascript\">(function(root) {\n",
       "  function embed_document(root) {\n",
       "    var docs_json = {\"b6cad36e-da95-466c-befd-dbcaaf543dfd\":{\"roots\":{\"references\":[{\"attributes\":{},\"id\":\"24725\",\"type\":\"PanTool\"},{\"attributes\":{\"source\":{\"id\":\"24771\"}},\"id\":\"24778\",\"type\":\"CDSView\"},{\"attributes\":{},\"id\":\"24728\",\"type\":\"ResetTool\"},{\"attributes\":{},\"id\":\"24726\",\"type\":\"WheelZoomTool\"},{\"attributes\":{\"data\":{\"Date\":{\"__ndarray__\":\"AABA6hdqd0IAAABQamp3QgAAwLW8andCAACAGw9rd0IAAECBYWt3QgAAAOeza3dCAADATAZsd0IAAICyWGx3QgAAQBirbHdCAAAAfv1sd0IAAMDjT213QgAAwHqZbndCAACA4Otud0IAAEBGPm93QgAAAKyQb3dCAADAEeNvd0IAAIB3NXB3QgAAQN2HcHdCAAAAQ9pwd0IAAMCoLHF3QgAAgA5/cXdCAABAdNFxd0IAAADaI3J3QgAAwD92cndCAACApchyd0IAAEALG3N3QgAAAHFtc3dCAADA1r9zd0IAAIA8EnR3QgAAQKJkdHdCAAAACLd0d0IAAMBtCXV3QgAAgNNbdXdCAABAOa51d0IAAACfAHZ3QgAAwARTdndCAACAaqV2d0IAAEDQ93Z3QgAAADZKd3dCAADAm5x3d0IAAIAB73d3QgAAQGdBeHdCAAAAzZN4d0IAAMAy5nh3QgAAgJg4eXdCAABA/op5d0IAAABk3Xl3QgAAwMkvendCAACAL4J6d0IAAECV1Hp3QgAAAPsme3dCAADAYHl7d0IAAIDGy3t3QgAAQCwefHdCAAAAknB8d0IAAMD3wnx3QgAAgF0VfXdCAABAw2d9d0IAAAApun13QgAAwI4MfndCAACA9F5+d0IAAEBasX53QgAAAMADf3dCAADAJVZ/d0IAAICLqH93QgAAQPH6f3dCAAAAV02Ad0IAAMC8n4B3QgAAgCLygHdCAABAiESBd0IAAADuloF3QgAAwFPpgXdCAACAuTuCd0IAAEAfjoJ3QgAAAIXggndCAADA6jKDd0IAAIBQhYN3QgAAQLbXg3dCAAAAHCqEd0IAAMCBfIR3QgAAgOfOhHdCAABATSGFd0IAAACzc4V3QgAAwBjGhXdCAACAfhiGd0IAAEDkaoZ3QgAAAEq9hndCAADArw+Hd0IAAIAVYod3QgAAQHu0h3dCAAAA4QaId0I=\",\"dtype\":\"float64\",\"order\":\"little\",\"shape\":[91]},\"Variable\":[\"ETH\",\"ETH\",\"ETH\",\"ETH\",\"ETH\",\"ETH\",\"ETH\",\"ETH\",\"ETH\",\"ETH\",\"ETH\",\"ETH\",\"ETH\",\"ETH\",\"ETH\",\"ETH\",\"ETH\",\"ETH\",\"ETH\",\"ETH\",\"ETH\",\"ETH\",\"ETH\",\"ETH\",\"ETH\",\"ETH\",\"ETH\",\"ETH\",\"ETH\",\"ETH\",\"ETH\",\"ETH\",\"ETH\",\"ETH\",\"ETH\",\"ETH\",\"ETH\",\"ETH\",\"ETH\",\"ETH\",\"ETH\",\"ETH\",\"ETH\",\"ETH\",\"ETH\",\"ETH\",\"ETH\",\"ETH\",\"ETH\",\"ETH\",\"ETH\",\"ETH\",\"ETH\",\"ETH\",\"ETH\",\"ETH\",\"ETH\",\"ETH\",\"ETH\",\"ETH\",\"ETH\",\"ETH\",\"ETH\",\"ETH\",\"ETH\",\"ETH\",\"ETH\",\"ETH\",\"ETH\",\"ETH\",\"ETH\",\"ETH\",\"ETH\",\"ETH\",\"ETH\",\"ETH\",\"ETH\",\"ETH\",\"ETH\",\"ETH\",\"ETH\",\"ETH\",\"ETH\",\"ETH\",\"ETH\",\"ETH\",\"ETH\",\"ETH\",\"ETH\",\"ETH\",\"ETH\"],\"value\":{\"__ndarray__\":\"qLxl0V1p1j8MhXzvvujXP5l3Aza589c/4SsaNeud2D/s6fhG/xXYP9nCI+wv3tc/2Tj3M6Ja2T9ZajL66wDgP08QimlHE+E/i9Qmli0A4j/9NtMIRa3jP9bme9nljuQ/0Nk0u6DR4T+wxWEsei/hP4BVdVNPiuA/06M/B+gu5D9JG7ruPSHjPxzXcJlhG+Q/r1Y35nQw5D99W3zAkJbkP5/x1lCbZ+Y//C5b4qOL5j++9cjC1yziP7pbyh24MuQ//rvWqB0v5D+ImWLq0MHmP/D6qIgdl+U/r4+K2HFZ5j8mFjUYLlHkP/7vD7O9vOU/lp7IkQuR5j+yQQ9RJYXmP+9AjokYfeU/ddGpKBR55j/ye1I1dbvoP9cmeM1PNes/6U/6od8b6j/7op8QBibsP4baPDPHcus/a63Y63dh6j+ob8ienZ/sP9I9XAy49ew/sISH44N+7D8/rpZCCjftP0vq3iLiGe4/I5jpqRqz7T8ET/+7x3jtP9O13M3qIO0/jReByNss7T/3qYTS0zzuPw0uyUz1tO8/AAAAAAAA8D/QjxMn1VrvP5qgOUtrpu8/RsNVh/AV7T9ZlgIOQ9PpP7K7Hixokuo/X1JwZvc16D8fBoGLTKfnP4KS9ajE3ec/cRiL3ks25z+wSmXMUrHpPyADBe1XVOg/DRBpnCiq6T9VWy8yji7pP8wJX8J4Aek/HE1TESz+6j9B98pR8TzsPxzeKMsm/+0/YprVUKqX7j+Eo6Xq4l7tP92WJkjQ2O0/i6vhUCPn7D9TkvMKe3XvP5nH/qa9Q+4/EfVIyu9Y7T+WsUOtmo3tP6MF9ABW1e0/f/0BvKkY7T9v7Oda/ZbtP2Lrn+bii+0/yIsxtBUw7T/YM/ur9YvrPwUzLiULUOs/VdjJ2x316T/7aUweCf3pP3Yw1fF+zus/qocwEoEE7D8vIo+xjp3rP/CT9mi5ue0/4AYRg7EV7j8=\",\"dtype\":\"float64\",\"order\":\"little\",\"shape\":[91]}},\"selected\":{\"id\":\"24742\"},\"selection_policy\":{\"id\":\"24768\"}},\"id\":\"24741\",\"type\":\"ColumnDataSource\"},{\"attributes\":{\"base\":60,\"mantissas\":[1,2,5,10,15,20,30],\"max_interval\":1800000.0,\"min_interval\":1000.0,\"num_minor_ticks\":0},\"id\":\"24756\",\"type\":\"AdaptiveTicker\"},{\"attributes\":{\"data_source\":{\"id\":\"24835\"},\"glyph\":{\"id\":\"24838\"},\"hover_glyph\":null,\"muted_glyph\":{\"id\":\"24840\"},\"nonselection_glyph\":{\"id\":\"24839\"},\"selection_glyph\":null,\"view\":{\"id\":\"24842\"}},\"id\":\"24841\",\"type\":\"GlyphRenderer\"},{\"attributes\":{\"margin\":[5,5,5,5],\"name\":\"HSpacer34730\",\"sizing_mode\":\"stretch_width\"},\"id\":\"24700\",\"type\":\"Spacer\"},{\"attributes\":{\"overlay\":{\"id\":\"24729\"}},\"id\":\"24727\",\"type\":\"BoxZoomTool\"},{\"attributes\":{\"months\":[0,6]},\"id\":\"24765\",\"type\":\"MonthsTicker\"},{\"attributes\":{},\"id\":\"24833\",\"type\":\"UnionRenderers\"},{\"attributes\":{\"margin\":[5,5,5,5],\"name\":\"HSpacer34731\",\"sizing_mode\":\"stretch_width\"},\"id\":\"25104\",\"type\":\"Spacer\"},{\"attributes\":{\"line_color\":\"#e5ae38\",\"line_width\":2,\"x\":{\"field\":\"Date\"},\"y\":{\"field\":\"value\"}},\"id\":\"24805\",\"type\":\"Line\"},{\"attributes\":{\"days\":[1,8,15,22]},\"id\":\"24760\",\"type\":\"DaysTicker\"},{\"attributes\":{\"label\":{\"value\":\"ADA\"},\"renderers\":[{\"id\":\"24841\"}]},\"id\":\"24869\",\"type\":\"LegendItem\"},{\"attributes\":{\"line_color\":\"#6d904f\",\"line_width\":2,\"x\":{\"field\":\"Date\"},\"y\":{\"field\":\"value\"}},\"id\":\"24838\",\"type\":\"Line\"},{\"attributes\":{\"months\":[0,2,4,6,8,10]},\"id\":\"24763\",\"type\":\"MonthsTicker\"},{\"attributes\":{},\"id\":\"24772\",\"type\":\"Selection\"},{\"attributes\":{\"data\":{\"Date\":{\"__ndarray__\":\"AABA6hdqd0IAAABQamp3QgAAwLW8andCAACAGw9rd0IAAECBYWt3QgAAAOeza3dCAADATAZsd0IAAICyWGx3QgAAQBirbHdCAAAAfv1sd0IAAMDjT213QgAAwHqZbndCAACA4Otud0IAAEBGPm93QgAAAKyQb3dCAADAEeNvd0IAAIB3NXB3QgAAQN2HcHdCAAAAQ9pwd0IAAMCoLHF3QgAAgA5/cXdCAABAdNFxd0IAAADaI3J3QgAAwD92cndCAACApchyd0IAAEALG3N3QgAAAHFtc3dCAADA1r9zd0IAAIA8EnR3QgAAQKJkdHdCAAAACLd0d0IAAMBtCXV3QgAAgNNbdXdCAABAOa51d0IAAACfAHZ3QgAAwARTdndCAACAaqV2d0IAAEDQ93Z3QgAAADZKd3dCAADAm5x3d0IAAIAB73d3QgAAQGdBeHdCAAAAzZN4d0IAAMAy5nh3QgAAgJg4eXdCAABA/op5d0IAAABk3Xl3QgAAwMkvendCAACAL4J6d0IAAECV1Hp3QgAAAPsme3dCAADAYHl7d0IAAIDGy3t3QgAAQCwefHdCAAAAknB8d0IAAMD3wnx3QgAAgF0VfXdCAABAw2d9d0IAAAApun13QgAAwI4MfndCAACA9F5+d0IAAEBasX53QgAAAMADf3dCAADAJVZ/d0IAAICLqH93QgAAQPH6f3dCAAAAV02Ad0IAAMC8n4B3QgAAgCLygHdCAABAiESBd0IAAADuloF3QgAAwFPpgXdCAACAuTuCd0IAAEAfjoJ3QgAAAIXggndCAADA6jKDd0IAAIBQhYN3QgAAQLbXg3dCAAAAHCqEd0IAAMCBfIR3QgAAgOfOhHdCAABATSGFd0IAAACzc4V3QgAAwBjGhXdCAACAfhiGd0IAAEDkaoZ3QgAAAEq9hndCAADArw+Hd0IAAIAVYod3QgAAQHu0h3dCAAAA4QaId0I=\",\"dtype\":\"float64\",\"order\":\"little\",\"shape\":[91]},\"Variable\":[\"BTC\",\"BTC\",\"BTC\",\"BTC\",\"BTC\",\"BTC\",\"BTC\",\"BTC\",\"BTC\",\"BTC\",\"BTC\",\"BTC\",\"BTC\",\"BTC\",\"BTC\",\"BTC\",\"BTC\",\"BTC\",\"BTC\",\"BTC\",\"BTC\",\"BTC\",\"BTC\",\"BTC\",\"BTC\",\"BTC\",\"BTC\",\"BTC\",\"BTC\",\"BTC\",\"BTC\",\"BTC\",\"BTC\",\"BTC\",\"BTC\",\"BTC\",\"BTC\",\"BTC\",\"BTC\",\"BTC\",\"BTC\",\"BTC\",\"BTC\",\"BTC\",\"BTC\",\"BTC\",\"BTC\",\"BTC\",\"BTC\",\"BTC\",\"BTC\",\"BTC\",\"BTC\",\"BTC\",\"BTC\",\"BTC\",\"BTC\",\"BTC\",\"BTC\",\"BTC\",\"BTC\",\"BTC\",\"BTC\",\"BTC\",\"BTC\",\"BTC\",\"BTC\",\"BTC\",\"BTC\",\"BTC\",\"BTC\",\"BTC\",\"BTC\",\"BTC\",\"BTC\",\"BTC\",\"BTC\",\"BTC\",\"BTC\",\"BTC\",\"BTC\",\"BTC\",\"BTC\",\"BTC\",\"BTC\",\"BTC\",\"BTC\",\"BTC\",\"BTC\",\"BTC\",\"BTC\"],\"value\":{\"__ndarray__\":\"zcbCHgR32z+cghPyQ0zcPyT+ikJ1odw/7oV5Yhox3j9yhqmItUbeP+u5ow6dtN4/3VH2o5rV4D8L95+dFzzhP0QXL8jAvuA/xEAeolLG4T+NYE5kYD3jP8h2Nt+n+OM/xQnZzzCW4j9xmzPcpdHhP7ppDVE5jOM/0GHCPVB85D93SwP8akTjP+HrvdTN1eI/wCqusLi94j/f6+/SRyXjP7R+tfOU0+I/RRzMdhaN4j8ufAFCuSDgP4q7gz2pQeE/bhgC36DH4D+D+YaXB9zgP+4fWI+A3eA//yFMKfH+4D+xnVVMJ8zfP3HwNm/Ec+E/JJYQj9zv4T9sbpO2W+3hP4xmTqwQUOE/WylhDaGG4T8miCh3R47iPxY5gRylr+M/HUEJ9qlW4z+1sz3pwwbkPyvJd6skh+Q/yWBi8RlR5D/S4gBa1ELoP/G5FmrxUeg/67QPtgly5z+dpXe3WBjpP6gzfrJ7xeg/pm5q7E6q6D+tcwuhuG/pP9EaOnAQEek/drsI1iy26T9b7aDhqDvrP4Elt8cg+eo/9/EYMgU87T/j4Ko1Tz7tP1wuIBF2CO4/vttkuMFL7D+ctFUWkpPpP32IonLU/Ok/UMH5TyeK6D+kgPtuHzzoPzlaxHcoIOg/gy5sNvKd5z89JA/tLO/pP68PKq9gUuk/K0A/Ezda6j+Ottjo4lLpP6Eva0Kug+k/N79nryCM6T92qXVQ0qjqP46wPqCwWus/tbn5hnWy7D+FTO+isjTtPwYSY4pqOe4/vvp+v+Dx7T8AAAAAAADwP3pmmPBX6e4/qkWi4pUs7T/MDmrbn7/tP9lEIB+Lzu4/05w60jQm7j+ogVBiCWDuP1Fh6nDCYO4/un9pk8QB7j8m/lhE+1HsPxdozHJdeew/p6+DHJ5c6z/3TLYNVtbqP5uR8VB9x+w/8HLAmis27T9NN2VxFyntPzd43+HgIO4/y+3284G77j8=\",\"dtype\":\"float64\",\"order\":\"little\",\"shape\":[91]}},\"selected\":{\"id\":\"24803\"},\"selection_policy\":{\"id\":\"24833\"}},\"id\":\"24802\",\"type\":\"ColumnDataSource\"},{\"attributes\":{\"days\":[1,2,3,4,5,6,7,8,9,10,11,12,13,14,15,16,17,18,19,20,21,22,23,24,25,26,27,28,29,30,31]},\"id\":\"24758\",\"type\":\"DaysTicker\"},{\"attributes\":{\"months\":[0,4,8]},\"id\":\"24764\",\"type\":\"MonthsTicker\"},{\"attributes\":{\"line_alpha\":0.2,\"line_color\":\"#30a2da\",\"line_width\":2,\"x\":{\"field\":\"Date\"},\"y\":{\"field\":\"value\"}},\"id\":\"24746\",\"type\":\"Line\"},{\"attributes\":{\"data\":{\"Date\":{\"__ndarray__\":\"AABA6hdqd0IAAABQamp3QgAAwLW8andCAACAGw9rd0IAAECBYWt3QgAAAOeza3dCAADATAZsd0IAAICyWGx3QgAAQBirbHdCAAAAfv1sd0IAAMDjT213QgAAwHqZbndCAACA4Otud0IAAEBGPm93QgAAAKyQb3dCAADAEeNvd0IAAIB3NXB3QgAAQN2HcHdCAAAAQ9pwd0IAAMCoLHF3QgAAgA5/cXdCAABAdNFxd0IAAADaI3J3QgAAwD92cndCAACApchyd0IAAEALG3N3QgAAAHFtc3dCAADA1r9zd0IAAIA8EnR3QgAAQKJkdHdCAAAACLd0d0IAAMBtCXV3QgAAgNNbdXdCAABAOa51d0IAAACfAHZ3QgAAwARTdndCAACAaqV2d0IAAEDQ93Z3QgAAADZKd3dCAADAm5x3d0IAAIAB73d3QgAAQGdBeHdCAAAAzZN4d0IAAMAy5nh3QgAAgJg4eXdCAABA/op5d0IAAABk3Xl3QgAAwMkvendCAACAL4J6d0IAAECV1Hp3QgAAAPsme3dCAADAYHl7d0IAAIDGy3t3QgAAQCwefHdCAAAAknB8d0IAAMD3wnx3QgAAgF0VfXdCAABAw2d9d0IAAAApun13QgAAwI4MfndCAACA9F5+d0IAAEBasX53QgAAAMADf3dCAADAJVZ/d0IAAICLqH93QgAAQPH6f3dCAAAAV02Ad0IAAMC8n4B3QgAAgCLygHdCAABAiESBd0IAAADuloF3QgAAwFPpgXdCAACAuTuCd0IAAEAfjoJ3QgAAAIXggndCAADA6jKDd0IAAIBQhYN3QgAAQLbXg3dCAAAAHCqEd0IAAMCBfIR3QgAAgOfOhHdCAABATSGFd0IAAACzc4V3QgAAwBjGhXdCAACAfhiGd0IAAEDkaoZ3QgAAAEq9hndCAADArw+Hd0IAAIAVYod3QgAAQHu0h3dCAAAA4QaId0I=\",\"dtype\":\"float64\",\"order\":\"little\",\"shape\":[91]},\"Variable\":[\"ADA\",\"ADA\",\"ADA\",\"ADA\",\"ADA\",\"ADA\",\"ADA\",\"ADA\",\"ADA\",\"ADA\",\"ADA\",\"ADA\",\"ADA\",\"ADA\",\"ADA\",\"ADA\",\"ADA\",\"ADA\",\"ADA\",\"ADA\",\"ADA\",\"ADA\",\"ADA\",\"ADA\",\"ADA\",\"ADA\",\"ADA\",\"ADA\",\"ADA\",\"ADA\",\"ADA\",\"ADA\",\"ADA\",\"ADA\",\"ADA\",\"ADA\",\"ADA\",\"ADA\",\"ADA\",\"ADA\",\"ADA\",\"ADA\",\"ADA\",\"ADA\",\"ADA\",\"ADA\",\"ADA\",\"ADA\",\"ADA\",\"ADA\",\"ADA\",\"ADA\",\"ADA\",\"ADA\",\"ADA\",\"ADA\",\"ADA\",\"ADA\",\"ADA\",\"ADA\",\"ADA\",\"ADA\",\"ADA\",\"ADA\",\"ADA\",\"ADA\",\"ADA\",\"ADA\",\"ADA\",\"ADA\",\"ADA\",\"ADA\",\"ADA\",\"ADA\",\"ADA\",\"ADA\",\"ADA\",\"ADA\",\"ADA\",\"ADA\",\"ADA\",\"ADA\",\"ADA\",\"ADA\",\"ADA\",\"ADA\",\"ADA\",\"ADA\",\"ADA\",\"ADA\",\"ADA\"],\"value\":{\"__ndarray__\":\"Y2o9J529vD9qgjfWKGXAPw9aJwq0v8E/jXXSaxQawT+x+nhY/drAP8TwZYVaRMA/ILIhmrx6wD8cusATlBzDP8N0BNTL/MQ/EX+Zzx4JyD+jEhUz0OzOP/C12J1GGMw/vnEDsrSjyT+aQdpbwrnKP4p4c7XUD80/jskQ6j7nzD+0pouQvxzMPxbNMJfUUdA/o+jxqmy30T+Rb63ZBj3RP/IkQBSPFtE/y6zU9J9y0T8EFJXhmJjMP0UKZpF2QdA/eXF07VwO0D8P+5EU62jQP9tULqMV4s8/oBoJrGLszz9qicvsrf3MP4qXeMaw8c8/o1n4m44m0D91tqEnO+XQP2FAgMT8B9A/A27LzCT50j+spbfoU8jTP6moHzL9h9Q/10GjIgBs1D86/NX5eA/ZP7wnS0q8c90/fp5XBSTJ3j/fosmzmXnfP4n5ygTeZeA/ng7ZQbvY5T9Iw2254ZblP8R/4biffOU/tc8BSfcq5T9p6hcTJp7jP4+Y65P2++M//nPozJU45D/OxiyMUbfkP2H/rH51OuU/z3mCJKyC5T+Ra5V5Mu7pP9iSbXwWjek/0gRrY4N76T/JXxLXJGXmP/OEpmrEWeg/ni5Wa3r66D/352t2N9jsP7wit4g2lu4/nlM26ERh7j/gdjTWCB3uP5+ow6J0c+w/EE/QkhU27D/RHNCCb9jpP6P0j8xz6Oo/vLtW9rg66j+r8NuNxEvqP+96nzH6++k/iFkZpT3Q6z/oqwLT9lLqP8K5kujPHeo/eZJ9nAb65z9gZIMF8JXpPxfHKAY6g+g/W0kR6YHz5z/T63V13gXtPwAAAAAAAPA/XWrElqGa7D+YavfLcBvuP9LlkndT4+s/7dXTop6S6z+U0eIWwaLpP8Mt4NhZ7+k/f55LKrnc6D9hTyAK6njpPzLUKRLgNuw/ooXOC9NW6z+za/0kuKLrP0dLyx+e8es/BMtsSFmB7D8=\",\"dtype\":\"float64\",\"order\":\"little\",\"shape\":[91]}},\"selected\":{\"id\":\"24836\"},\"selection_policy\":{\"id\":\"24868\"}},\"id\":\"24835\",\"type\":\"ColumnDataSource\"},{\"attributes\":{\"active_drag\":\"auto\",\"active_inspect\":\"auto\",\"active_multi\":null,\"active_scroll\":\"auto\",\"active_tap\":\"auto\",\"tools\":[{\"id\":\"24703\"},{\"id\":\"24724\"},{\"id\":\"24725\"},{\"id\":\"24726\"},{\"id\":\"24727\"},{\"id\":\"24728\"}]},\"id\":\"24730\",\"type\":\"Toolbar\"},{\"attributes\":{\"line_color\":\"#30a2da\",\"line_width\":2,\"x\":{\"field\":\"Date\"},\"y\":{\"field\":\"value\"}},\"id\":\"24744\",\"type\":\"Line\"},{\"attributes\":{\"months\":[0,1,2,3,4,5,6,7,8,9,10,11]},\"id\":\"24762\",\"type\":\"MonthsTicker\"},{\"attributes\":{\"bottom_units\":\"screen\",\"fill_alpha\":0.5,\"fill_color\":\"lightgrey\",\"left_units\":\"screen\",\"level\":\"overlay\",\"line_alpha\":1.0,\"line_color\":\"black\",\"line_dash\":[4,4],\"line_width\":2,\"right_units\":\"screen\",\"top_units\":\"screen\"},\"id\":\"24729\",\"type\":\"BoxAnnotation\"},{\"attributes\":{},\"id\":\"24742\",\"type\":\"Selection\"},{\"attributes\":{},\"id\":\"24766\",\"type\":\"YearsTicker\"},{\"attributes\":{\"source\":{\"id\":\"24835\"}},\"id\":\"24842\",\"type\":\"CDSView\"},{\"attributes\":{},\"id\":\"24768\",\"type\":\"UnionRenderers\"},{\"attributes\":{\"line_alpha\":0.1,\"line_color\":\"#30a2da\",\"line_width\":2,\"x\":{\"field\":\"Date\"},\"y\":{\"field\":\"value\"}},\"id\":\"24745\",\"type\":\"Line\"},{\"attributes\":{},\"id\":\"24800\",\"type\":\"UnionRenderers\"},{\"attributes\":{\"click_policy\":\"mute\",\"items\":[{\"id\":\"24770\"},{\"id\":\"24801\"},{\"id\":\"24834\"},{\"id\":\"24869\"}],\"location\":[0,0],\"title\":\"Variable\"},\"id\":\"24769\",\"type\":\"Legend\"},{\"attributes\":{\"base\":24,\"mantissas\":[1,2,4,6,8,12],\"max_interval\":43200000.0,\"min_interval\":3600000.0,\"num_minor_ticks\":0},\"id\":\"24757\",\"type\":\"AdaptiveTicker\"},{\"attributes\":{\"end\":1.0887731721801706,\"reset_end\":1.0887731721801706,\"reset_start\":0.02349510601812392,\"start\":0.02349510601812392,\"tags\":[[[\"value\",\"value\",null]]]},\"id\":\"24702\",\"type\":\"Range1d\"},{\"attributes\":{\"label\":{\"value\":\"ETH\"},\"renderers\":[{\"id\":\"24747\"}]},\"id\":\"24770\",\"type\":\"LegendItem\"},{\"attributes\":{\"text\":\"Daily returns for all portfolios over 3 months\",\"text_color\":{\"value\":\"black\"},\"text_font_size\":{\"value\":\"12pt\"}},\"id\":\"24708\",\"type\":\"Title\"},{\"attributes\":{},\"id\":\"24739\",\"type\":\"BasicTickFormatter\"},{\"attributes\":{\"data\":{\"Date\":{\"__ndarray__\":\"AABA6hdqd0IAAABQamp3QgAAwLW8andCAACAGw9rd0IAAECBYWt3QgAAAOeza3dCAADATAZsd0IAAICyWGx3QgAAQBirbHdCAAAAfv1sd0IAAMDjT213QgAAwHqZbndCAACA4Otud0IAAEBGPm93QgAAAKyQb3dCAADAEeNvd0IAAIB3NXB3QgAAQN2HcHdCAAAAQ9pwd0IAAMCoLHF3QgAAgA5/cXdCAABAdNFxd0IAAADaI3J3QgAAwD92cndCAACApchyd0IAAEALG3N3QgAAAHFtc3dCAADA1r9zd0IAAIA8EnR3QgAAQKJkdHdCAAAACLd0d0IAAMBtCXV3QgAAgNNbdXdCAABAOa51d0IAAACfAHZ3QgAAwARTdndCAACAaqV2d0IAAEDQ93Z3QgAAADZKd3dCAADAm5x3d0IAAIAB73d3QgAAQGdBeHdCAAAAzZN4d0IAAMAy5nh3QgAAgJg4eXdCAABA/op5d0IAAABk3Xl3QgAAwMkvendCAACAL4J6d0IAAECV1Hp3QgAAAPsme3dCAADAYHl7d0IAAIDGy3t3QgAAQCwefHdCAAAAknB8d0IAAMD3wnx3QgAAgF0VfXdCAABAw2d9d0IAAAApun13QgAAwI4MfndCAACA9F5+d0IAAEBasX53QgAAAMADf3dCAADAJVZ/d0IAAICLqH93QgAAQPH6f3dCAAAAV02Ad0IAAMC8n4B3QgAAgCLygHdCAABAiESBd0IAAADuloF3QgAAwFPpgXdCAACAuTuCd0IAAEAfjoJ3QgAAAIXggndCAADA6jKDd0IAAIBQhYN3QgAAQLbXg3dCAAAAHCqEd0IAAMCBfIR3QgAAgOfOhHdCAABATSGFd0IAAACzc4V3QgAAwBjGhXdCAACAfhiGd0IAAEDkaoZ3QgAAAEq9hndCAADArw+Hd0IAAIAVYod3QgAAQHu0h3dCAAAA4QaId0I=\",\"dtype\":\"float64\",\"order\":\"little\",\"shape\":[91]},\"Variable\":[\"VET\",\"VET\",\"VET\",\"VET\",\"VET\",\"VET\",\"VET\",\"VET\",\"VET\",\"VET\",\"VET\",\"VET\",\"VET\",\"VET\",\"VET\",\"VET\",\"VET\",\"VET\",\"VET\",\"VET\",\"VET\",\"VET\",\"VET\",\"VET\",\"VET\",\"VET\",\"VET\",\"VET\",\"VET\",\"VET\",\"VET\",\"VET\",\"VET\",\"VET\",\"VET\",\"VET\",\"VET\",\"VET\",\"VET\",\"VET\",\"VET\",\"VET\",\"VET\",\"VET\",\"VET\",\"VET\",\"VET\",\"VET\",\"VET\",\"VET\",\"VET\",\"VET\",\"VET\",\"VET\",\"VET\",\"VET\",\"VET\",\"VET\",\"VET\",\"VET\",\"VET\",\"VET\",\"VET\",\"VET\",\"VET\",\"VET\",\"VET\",\"VET\",\"VET\",\"VET\",\"VET\",\"VET\",\"VET\",\"VET\",\"VET\",\"VET\",\"VET\",\"VET\",\"VET\",\"VET\",\"VET\",\"VET\",\"VET\",\"VET\",\"VET\",\"VET\",\"VET\",\"VET\",\"VET\",\"VET\",\"VET\"],\"value\":{\"__ndarray__\":\"aXFjxiafxj//6u1574PLP/3fUdws4cw/eLyji62vyz8pvYhgXqHJP+bOlygACso/Fdwd+ldUyz9qTlpIad7RP6fdVFK71tA/8upChagR0z8mqFLqPg3VP85XFJmBjNI/QZ/1i8qf0D9II7qdRTjPPwWXCHbW1dE/I5XGpcWf0T9iQPd/j1HRPwOz9mUwX9I/Mg9maxSV0j+x8f2PpQfVP6vixa5459M/UMVV9dqq1z9qhn4IOyHTP6Z5UNwaadU/OPcTvySJ1D83cdvjGe7UPxKNGZLAVtQ/GROaTekh1D/yir8eZw/SP/9H12EsutI/JuhLHbwI0z/ezwktKlvSP+3aNYsoXtE/3NKIdyMV1D8YBKpM2jHTP63HrNdx8dM/YQ38O13v0j8Dg8JMFefVP97go1/fcdQ/fvJKxuvp0z9npetCjmTVP8q/P8ZbKdg/04lV+Gtt2D9fil3fViDdP4/UZlU2suI/2mTqKCa24j/p9iN7gufhP0tq4NYtd+E/36QrPMHh4D85oTPtQ37hP25qkBjhl+I/S0NWSRFL4j9GyhtdUUniP2sMt+NFvOI/e8V6w74Z4T9DcLG/Dc3cP+P89GNiPd0/1KgKE93g2j9k8v2YYQvbP+GOVhVl3ts/8gV3kLoZ2z/Svfio3kTfP+isfveg7t0/HOfmQy0V4j8aDk3hOinhPxZ7zjbHxOE/rcQtjXg34j8xl0h4xVbjP7MOCXlwVOY/zgyjuFAG5j/LxzgpFvrkP2fQ7SMG9uY/nB21CPlr5j95BWs6OA/nPzUIigHLh+Y/DTqLXsbn6j93WlIDt27pP3UYi66ENOo/c1zYRE596j81Oa5nRKXrPwvHlucWiu4/AAAAAAAA8D/0QD6LlC7uP6x35c6ObOw/zsdTXSEM7T+kkeGsJJ/rP6pF45O+te4/DoNJUU1B7j8lg2nSxAHvPwvxn78scO8/twECziG17j8=\",\"dtype\":\"float64\",\"order\":\"little\",\"shape\":[91]}},\"selected\":{\"id\":\"24772\"},\"selection_policy\":{\"id\":\"24800\"}},\"id\":\"24771\",\"type\":\"ColumnDataSource\"},{\"attributes\":{\"axis_label\":\"Date\",\"bounds\":\"auto\",\"formatter\":{\"id\":\"24737\"},\"major_label_orientation\":\"horizontal\",\"ticker\":{\"id\":\"24717\"}},\"id\":\"24716\",\"type\":\"DatetimeAxis\"},{\"attributes\":{\"mantissas\":[1,2,5],\"max_interval\":500.0,\"num_minor_ticks\":0},\"id\":\"24755\",\"type\":\"AdaptiveTicker\"},{\"attributes\":{},\"id\":\"24714\",\"type\":\"LinearScale\"},{\"attributes\":{\"line_alpha\":0.1,\"line_color\":\"#6d904f\",\"line_width\":2,\"x\":{\"field\":\"Date\"},\"y\":{\"field\":\"value\"}},\"id\":\"24839\",\"type\":\"Line\"},{\"attributes\":{},\"id\":\"24803\",\"type\":\"Selection\"},{\"attributes\":{},\"id\":\"24712\",\"type\":\"LinearScale\"},{\"attributes\":{\"source\":{\"id\":\"24741\"}},\"id\":\"24748\",\"type\":\"CDSView\"},{\"attributes\":{},\"id\":\"24868\",\"type\":\"UnionRenderers\"},{\"attributes\":{\"line_color\":\"#fc4f30\",\"line_width\":2,\"x\":{\"field\":\"Date\"},\"y\":{\"field\":\"value\"}},\"id\":\"24774\",\"type\":\"Line\"},{\"attributes\":{\"num_minor_ticks\":5,\"tickers\":[{\"id\":\"24755\"},{\"id\":\"24756\"},{\"id\":\"24757\"},{\"id\":\"24758\"},{\"id\":\"24759\"},{\"id\":\"24760\"},{\"id\":\"24761\"},{\"id\":\"24762\"},{\"id\":\"24763\"},{\"id\":\"24764\"},{\"id\":\"24765\"},{\"id\":\"24766\"}]},\"id\":\"24717\",\"type\":\"DatetimeTicker\"},{\"attributes\":{},\"id\":\"24836\",\"type\":\"Selection\"},{\"attributes\":{\"axis\":{\"id\":\"24720\"},\"dimension\":1,\"grid_line_color\":null,\"ticker\":null},\"id\":\"24723\",\"type\":\"Grid\"},{\"attributes\":{\"days\":[1,4,7,10,13,16,19,22,25,28]},\"id\":\"24759\",\"type\":\"DaysTicker\"},{\"attributes\":{\"axis\":{\"id\":\"24716\"},\"grid_line_color\":null,\"ticker\":null},\"id\":\"24719\",\"type\":\"Grid\"},{\"attributes\":{},\"id\":\"24737\",\"type\":\"DatetimeTickFormatter\"},{\"attributes\":{\"line_alpha\":0.1,\"line_color\":\"#fc4f30\",\"line_width\":2,\"x\":{\"field\":\"Date\"},\"y\":{\"field\":\"value\"}},\"id\":\"24775\",\"type\":\"Line\"},{\"attributes\":{\"line_alpha\":0.2,\"line_color\":\"#6d904f\",\"line_width\":2,\"x\":{\"field\":\"Date\"},\"y\":{\"field\":\"value\"}},\"id\":\"24840\",\"type\":\"Line\"},{\"attributes\":{\"data_source\":{\"id\":\"24802\"},\"glyph\":{\"id\":\"24805\"},\"hover_glyph\":null,\"muted_glyph\":{\"id\":\"24807\"},\"nonselection_glyph\":{\"id\":\"24806\"},\"selection_glyph\":null,\"view\":{\"id\":\"24809\"}},\"id\":\"24808\",\"type\":\"GlyphRenderer\"},{\"attributes\":{},\"id\":\"24721\",\"type\":\"BasicTicker\"},{\"attributes\":{\"axis_label\":\"\",\"bounds\":\"auto\",\"formatter\":{\"id\":\"24739\"},\"major_label_orientation\":\"horizontal\",\"ticker\":{\"id\":\"24721\"}},\"id\":\"24720\",\"type\":\"LinearAxis\"},{\"attributes\":{\"callback\":null,\"formatters\":{\"@{Date}\":\"datetime\"},\"renderers\":[{\"id\":\"24747\"},{\"id\":\"24777\"},{\"id\":\"24808\"},{\"id\":\"24841\"}],\"tags\":[\"hv_created\"],\"tooltips\":[[\"Variable\",\"@{Variable}\"],[\"Date\",\"@{Date}{%F %T}\"],[\"value\",\"@{value}\"]]},\"id\":\"24703\",\"type\":\"HoverTool\"},{\"attributes\":{\"days\":[1,15]},\"id\":\"24761\",\"type\":\"DaysTicker\"},{\"attributes\":{\"line_alpha\":0.1,\"line_color\":\"#e5ae38\",\"line_width\":2,\"x\":{\"field\":\"Date\"},\"y\":{\"field\":\"value\"}},\"id\":\"24806\",\"type\":\"Line\"},{\"attributes\":{\"line_alpha\":0.2,\"line_color\":\"#e5ae38\",\"line_width\":2,\"x\":{\"field\":\"Date\"},\"y\":{\"field\":\"value\"}},\"id\":\"24807\",\"type\":\"Line\"},{\"attributes\":{\"below\":[{\"id\":\"24716\"}],\"center\":[{\"id\":\"24719\"},{\"id\":\"24723\"}],\"left\":[{\"id\":\"24720\"}],\"margin\":[5,5,5,5],\"min_border_bottom\":10,\"min_border_left\":10,\"min_border_right\":10,\"min_border_top\":10,\"plot_height\":300,\"plot_width\":700,\"renderers\":[{\"id\":\"24747\"},{\"id\":\"24777\"},{\"id\":\"24808\"},{\"id\":\"24841\"}],\"right\":[{\"id\":\"24769\"}],\"sizing_mode\":\"fixed\",\"title\":{\"id\":\"24708\"},\"toolbar\":{\"id\":\"24730\"},\"x_range\":{\"id\":\"24701\"},\"x_scale\":{\"id\":\"24712\"},\"y_range\":{\"id\":\"24702\"},\"y_scale\":{\"id\":\"24714\"}},\"id\":\"24707\",\"subtype\":\"Figure\",\"type\":\"Plot\"},{\"attributes\":{\"end\":1617062400000.0,\"reset_end\":1617062400000.0,\"reset_start\":1609027200000.0,\"start\":1609027200000.0,\"tags\":[[[\"Date\",\"Date\",null]]]},\"id\":\"24701\",\"type\":\"Range1d\"},{\"attributes\":{\"data_source\":{\"id\":\"24741\"},\"glyph\":{\"id\":\"24744\"},\"hover_glyph\":null,\"muted_glyph\":{\"id\":\"24746\"},\"nonselection_glyph\":{\"id\":\"24745\"},\"selection_glyph\":null,\"view\":{\"id\":\"24748\"}},\"id\":\"24747\",\"type\":\"GlyphRenderer\"},{\"attributes\":{\"label\":{\"value\":\"VET\"},\"renderers\":[{\"id\":\"24777\"}]},\"id\":\"24801\",\"type\":\"LegendItem\"},{\"attributes\":{\"source\":{\"id\":\"24802\"}},\"id\":\"24809\",\"type\":\"CDSView\"},{\"attributes\":{\"data_source\":{\"id\":\"24771\"},\"glyph\":{\"id\":\"24774\"},\"hover_glyph\":null,\"muted_glyph\":{\"id\":\"24776\"},\"nonselection_glyph\":{\"id\":\"24775\"},\"selection_glyph\":null,\"view\":{\"id\":\"24778\"}},\"id\":\"24777\",\"type\":\"GlyphRenderer\"},{\"attributes\":{\"children\":[{\"id\":\"24700\"},{\"id\":\"24707\"},{\"id\":\"25104\"}],\"margin\":[0,0,0,0],\"name\":\"Row34726\",\"tags\":[\"embedded\"]},\"id\":\"24699\",\"type\":\"Row\"},{\"attributes\":{\"line_alpha\":0.2,\"line_color\":\"#fc4f30\",\"line_width\":2,\"x\":{\"field\":\"Date\"},\"y\":{\"field\":\"value\"}},\"id\":\"24776\",\"type\":\"Line\"},{\"attributes\":{\"label\":{\"value\":\"BTC\"},\"renderers\":[{\"id\":\"24808\"}]},\"id\":\"24834\",\"type\":\"LegendItem\"},{\"attributes\":{},\"id\":\"24724\",\"type\":\"SaveTool\"}],\"root_ids\":[\"24699\"]},\"title\":\"Bokeh Application\",\"version\":\"2.2.3\"}};\n",
       "    var render_items = [{\"docid\":\"b6cad36e-da95-466c-befd-dbcaaf543dfd\",\"root_ids\":[\"24699\"],\"roots\":{\"24699\":\"1ac564c6-4ed6-4ee3-b4bf-01c701d49ce9\"}}];\n",
       "    root.Bokeh.embed.embed_items_notebook(docs_json, render_items);\n",
       "  }\n",
       "  if (root.Bokeh !== undefined && root.Bokeh.Panel !== undefined) {\n",
       "    embed_document(root);\n",
       "  } else {\n",
       "    var attempts = 0;\n",
       "    var timer = setInterval(function(root) {\n",
       "      if (root.Bokeh !== undefined && root.Bokeh.Panel !== undefined) {\n",
       "        clearInterval(timer);\n",
       "        embed_document(root);\n",
       "      } else if (document.readyState == \"complete\") {\n",
       "        attempts++;\n",
       "        if (attempts > 100) {\n",
       "          clearInterval(timer);\n",
       "          console.log(\"Bokeh: ERROR: Unable to run BokehJS code because BokehJS library is missing\");\n",
       "        }\n",
       "      }\n",
       "    }, 10, root)\n",
       "  }\n",
       "})(window);</script>"
      ],
      "text/plain": [
       ":NdOverlay   [Variable]\n",
       "   :Curve   [Date]   (value)"
      ]
     },
     "execution_count": 273,
     "metadata": {
      "application/vnd.holoviews_exec.v0+json": {
       "id": "24699"
      }
     },
     "output_type": "execute_result"
    }
   ],
   "source": [
    "normalised_returns3.hvplot(figsize = (20,10), title = 'Daily returns for all portfolios over 3 months')"
   ]
  },
  {
   "cell_type": "code",
   "execution_count": 274,
   "metadata": {},
   "outputs": [
    {
     "data": {
      "text/html": [
       "<div>\n",
       "<style scoped>\n",
       "    .dataframe tbody tr th:only-of-type {\n",
       "        vertical-align: middle;\n",
       "    }\n",
       "\n",
       "    .dataframe tbody tr th {\n",
       "        vertical-align: top;\n",
       "    }\n",
       "\n",
       "    .dataframe thead th {\n",
       "        text-align: right;\n",
       "    }\n",
       "</style>\n",
       "<table border=\"1\" class=\"dataframe\">\n",
       "  <thead>\n",
       "    <tr style=\"text-align: right;\">\n",
       "      <th></th>\n",
       "      <th>ETH</th>\n",
       "      <th>VET</th>\n",
       "      <th>BTC</th>\n",
       "      <th>ADA</th>\n",
       "    </tr>\n",
       "    <tr>\n",
       "      <th>Date</th>\n",
       "      <th></th>\n",
       "      <th></th>\n",
       "      <th></th>\n",
       "      <th></th>\n",
       "    </tr>\n",
       "  </thead>\n",
       "  <tbody>\n",
       "    <tr>\n",
       "      <th>2020-03-26</th>\n",
       "      <td>NaN</td>\n",
       "      <td>NaN</td>\n",
       "      <td>NaN</td>\n",
       "      <td>NaN</td>\n",
       "    </tr>\n",
       "    <tr>\n",
       "      <th>2020-03-27</th>\n",
       "      <td>-0.050958</td>\n",
       "      <td>-0.026606</td>\n",
       "      <td>-0.052297</td>\n",
       "      <td>-0.065752</td>\n",
       "    </tr>\n",
       "    <tr>\n",
       "      <th>2020-03-28</th>\n",
       "      <td>-0.003123</td>\n",
       "      <td>-0.010333</td>\n",
       "      <td>-0.021919</td>\n",
       "      <td>0.032344</td>\n",
       "    </tr>\n",
       "    <tr>\n",
       "      <th>2020-03-29</th>\n",
       "      <td>-0.049354</td>\n",
       "      <td>-0.080835</td>\n",
       "      <td>-0.055072</td>\n",
       "      <td>-0.056544</td>\n",
       "    </tr>\n",
       "    <tr>\n",
       "      <th>2020-03-30</th>\n",
       "      <td>0.060918</td>\n",
       "      <td>0.075119</td>\n",
       "      <td>0.084986</td>\n",
       "      <td>0.056868</td>\n",
       "    </tr>\n",
       "  </tbody>\n",
       "</table>\n",
       "</div>"
      ],
      "text/plain": [
       "                 ETH       VET       BTC       ADA\n",
       "Date                                              \n",
       "2020-03-26       NaN       NaN       NaN       NaN\n",
       "2020-03-27 -0.050958 -0.026606 -0.052297 -0.065752\n",
       "2020-03-28 -0.003123 -0.010333 -0.021919  0.032344\n",
       "2020-03-29 -0.049354 -0.080835 -0.055072 -0.056544\n",
       "2020-03-30  0.060918  0.075119  0.084986  0.056868"
      ]
     },
     "execution_count": 274,
     "metadata": {},
     "output_type": "execute_result"
    }
   ],
   "source": [
    "#Calculating percentage change for 12, 6, 3 months\n",
    "pct_returns = daily_returns.pct_change()\n",
    "pct_returns6 = daily_returns6.pct_change()\n",
    "pct_returns3 = daily_returns3.pct_change()\n",
    "pct_returns.head()"
   ]
  },
  {
   "cell_type": "code",
   "execution_count": 275,
   "metadata": {},
   "outputs": [
    {
     "data": {
      "text/html": [
       "<div>\n",
       "<style scoped>\n",
       "    .dataframe tbody tr th:only-of-type {\n",
       "        vertical-align: middle;\n",
       "    }\n",
       "\n",
       "    .dataframe tbody tr th {\n",
       "        vertical-align: top;\n",
       "    }\n",
       "\n",
       "    .dataframe thead th {\n",
       "        text-align: right;\n",
       "    }\n",
       "</style>\n",
       "<table border=\"1\" class=\"dataframe\">\n",
       "  <thead>\n",
       "    <tr style=\"text-align: right;\">\n",
       "      <th></th>\n",
       "      <th>ETH</th>\n",
       "      <th>VET</th>\n",
       "      <th>BTC</th>\n",
       "      <th>ADA</th>\n",
       "    </tr>\n",
       "    <tr>\n",
       "      <th>Date</th>\n",
       "      <th></th>\n",
       "      <th></th>\n",
       "      <th></th>\n",
       "      <th></th>\n",
       "    </tr>\n",
       "  </thead>\n",
       "  <tbody>\n",
       "    <tr>\n",
       "      <th>2020-12-28</th>\n",
       "      <td>0.066821</td>\n",
       "      <td>0.216327</td>\n",
       "      <td>0.030330</td>\n",
       "      <td>0.140902</td>\n",
       "    </tr>\n",
       "    <tr>\n",
       "      <th>2020-12-29</th>\n",
       "      <td>0.001794</td>\n",
       "      <td>0.049580</td>\n",
       "      <td>0.011760</td>\n",
       "      <td>0.082566</td>\n",
       "    </tr>\n",
       "    <tr>\n",
       "      <th>2020-12-30</th>\n",
       "      <td>0.027757</td>\n",
       "      <td>-0.041322</td>\n",
       "      <td>0.054526</td>\n",
       "      <td>-0.036451</td>\n",
       "    </tr>\n",
       "    <tr>\n",
       "      <th>2020-12-31</th>\n",
       "      <td>-0.021568</td>\n",
       "      <td>-0.074257</td>\n",
       "      <td>0.002795</td>\n",
       "      <td>-0.014410</td>\n",
       "    </tr>\n",
       "    <tr>\n",
       "      <th>2021-01-01</th>\n",
       "      <td>-0.009051</td>\n",
       "      <td>0.015947</td>\n",
       "      <td>0.014180</td>\n",
       "      <td>-0.034910</td>\n",
       "    </tr>\n",
       "  </tbody>\n",
       "</table>\n",
       "</div>"
      ],
      "text/plain": [
       "                 ETH       VET       BTC       ADA\n",
       "Date                                              \n",
       "2020-12-28  0.066821  0.216327  0.030330  0.140902\n",
       "2020-12-29  0.001794  0.049580  0.011760  0.082566\n",
       "2020-12-30  0.027757 -0.041322  0.054526 -0.036451\n",
       "2020-12-31 -0.021568 -0.074257  0.002795 -0.014410\n",
       "2021-01-01 -0.009051  0.015947  0.014180 -0.034910"
      ]
     },
     "execution_count": 275,
     "metadata": {},
     "output_type": "execute_result"
    }
   ],
   "source": [
    "# Drop nulls for 12, 6, 3 month percentage change\n",
    "pct_returns.dropna(inplace=True)\n",
    "pct_returns.isnull()\n",
    "pct_returns.isnull().sum()\n",
    "pct_returns.head()\n",
    "\n",
    "pct_returns6.dropna(inplace=True)\n",
    "pct_returns6.isnull()\n",
    "pct_returns6.isnull().sum()\n",
    "pct_returns6.head()\n",
    "\n",
    "pct_returns3.dropna(inplace=True)\n",
    "pct_returns3.isnull()\n",
    "pct_returns3.isnull().sum()\n",
    "pct_returns3.head()"
   ]
  },
  {
   "cell_type": "code",
   "execution_count": 276,
   "metadata": {},
   "outputs": [
    {
     "data": {
      "text/html": [
       "<div>\n",
       "<style scoped>\n",
       "    .dataframe tbody tr th:only-of-type {\n",
       "        vertical-align: middle;\n",
       "    }\n",
       "\n",
       "    .dataframe tbody tr th {\n",
       "        vertical-align: top;\n",
       "    }\n",
       "\n",
       "    .dataframe thead th {\n",
       "        text-align: right;\n",
       "    }\n",
       "</style>\n",
       "<table border=\"1\" class=\"dataframe\">\n",
       "  <thead>\n",
       "    <tr style=\"text-align: right;\">\n",
       "      <th></th>\n",
       "      <th>ETH</th>\n",
       "      <th>VET</th>\n",
       "      <th>BTC</th>\n",
       "      <th>ADA</th>\n",
       "    </tr>\n",
       "    <tr>\n",
       "      <th>Date</th>\n",
       "      <th></th>\n",
       "      <th></th>\n",
       "      <th></th>\n",
       "      <th></th>\n",
       "    </tr>\n",
       "  </thead>\n",
       "  <tbody>\n",
       "    <tr>\n",
       "      <th>2020-12-28</th>\n",
       "      <td>0.066821</td>\n",
       "      <td>0.216327</td>\n",
       "      <td>0.030330</td>\n",
       "      <td>0.140902</td>\n",
       "    </tr>\n",
       "    <tr>\n",
       "      <th>2020-12-29</th>\n",
       "      <td>0.068735</td>\n",
       "      <td>0.276633</td>\n",
       "      <td>0.042446</td>\n",
       "      <td>0.235102</td>\n",
       "    </tr>\n",
       "    <tr>\n",
       "      <th>2020-12-30</th>\n",
       "      <td>0.098399</td>\n",
       "      <td>0.223881</td>\n",
       "      <td>0.099287</td>\n",
       "      <td>0.190081</td>\n",
       "    </tr>\n",
       "    <tr>\n",
       "      <th>2020-12-31</th>\n",
       "      <td>0.074709</td>\n",
       "      <td>0.132999</td>\n",
       "      <td>0.102360</td>\n",
       "      <td>0.172932</td>\n",
       "    </tr>\n",
       "    <tr>\n",
       "      <th>2021-01-01</th>\n",
       "      <td>0.064981</td>\n",
       "      <td>0.151067</td>\n",
       "      <td>0.117991</td>\n",
       "      <td>0.131985</td>\n",
       "    </tr>\n",
       "  </tbody>\n",
       "</table>\n",
       "</div>"
      ],
      "text/plain": [
       "                 ETH       VET       BTC       ADA\n",
       "Date                                              \n",
       "2020-12-28  0.066821  0.216327  0.030330  0.140902\n",
       "2020-12-29  0.068735  0.276633  0.042446  0.235102\n",
       "2020-12-30  0.098399  0.223881  0.099287  0.190081\n",
       "2020-12-31  0.074709  0.132999  0.102360  0.172932\n",
       "2021-01-01  0.064981  0.151067  0.117991  0.131985"
      ]
     },
     "execution_count": 276,
     "metadata": {},
     "output_type": "execute_result"
    }
   ],
   "source": [
    "# Calculate cumulative returns of all portfolios over 12, 6 & 3 months\n",
    "cumulative_returns = (1 + pct_returns).cumprod() - 1\n",
    "cumulative_returns.head()\n",
    "\n",
    "cumulative_returns6 = (1 + pct_returns6).cumprod() - 1\n",
    "cumulative_returns6.head()\n",
    "\n",
    "cumulative_returns3 = (1 + pct_returns3).cumprod() - 1\n",
    "cumulative_returns3.head()"
   ]
  },
  {
   "cell_type": "code",
   "execution_count": 277,
   "metadata": {},
   "outputs": [
    {
     "data": {},
     "metadata": {},
     "output_type": "display_data"
    },
    {
     "data": {
      "application/vnd.holoviews_exec.v0+json": "",
      "text/html": [
       "<div id='25236'>\n",
       "\n",
       "\n",
       "\n",
       "\n",
       "\n",
       "  <div class=\"bk-root\" id=\"0b92190d-b5ac-4753-a1a4-445939ce0c00\" data-root-id=\"25236\"></div>\n",
       "</div>\n",
       "<script type=\"application/javascript\">(function(root) {\n",
       "  function embed_document(root) {\n",
       "    var docs_json = {\"e85258f0-b459-40fa-8066-06b35469b3b0\":{\"roots\":{\"references\":[{\"attributes\":{\"data_source\":{\"id\":\"25372\"},\"glyph\":{\"id\":\"25375\"},\"hover_glyph\":null,\"muted_glyph\":{\"id\":\"25377\"},\"nonselection_glyph\":{\"id\":\"25376\"},\"selection_glyph\":null,\"view\":{\"id\":\"25379\"}},\"id\":\"25378\",\"type\":\"GlyphRenderer\"},{\"attributes\":{\"months\":[0,2,4,6,8,10]},\"id\":\"25300\",\"type\":\"MonthsTicker\"},{\"attributes\":{\"months\":[0,6]},\"id\":\"25302\",\"type\":\"MonthsTicker\"},{\"attributes\":{},\"id\":\"25303\",\"type\":\"YearsTicker\"},{\"attributes\":{},\"id\":\"25305\",\"type\":\"UnionRenderers\"},{\"attributes\":{\"base\":60,\"mantissas\":[1,2,5,10,15,20,30],\"max_interval\":1800000.0,\"min_interval\":1000.0,\"num_minor_ticks\":0},\"id\":\"25293\",\"type\":\"AdaptiveTicker\"},{\"attributes\":{\"months\":[0,1,2,3,4,5,6,7,8,9,10,11]},\"id\":\"25299\",\"type\":\"MonthsTicker\"},{\"attributes\":{\"data\":{\"Date\":{\"__ndarray__\":\"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\",\"dtype\":\"float64\",\"order\":\"little\",\"shape\":[364]},\"Variable\":[\"VET\",\"VET\",\"VET\",\"VET\",\"VET\",\"VET\",\"VET\",\"VET\",\"VET\",\"VET\",\"VET\",\"VET\",\"VET\",\"VET\",\"VET\",\"VET\",\"VET\",\"VET\",\"VET\",\"VET\",\"VET\",\"VET\",\"VET\",\"VET\",\"VET\",\"VET\",\"VET\",\"VET\",\"VET\",\"VET\",\"VET\",\"VET\",\"VET\",\"VET\",\"VET\",\"VET\",\"VET\",\"VET\",\"VET\",\"VET\",\"VET\",\"VET\",\"VET\",\"VET\",\"VET\",\"VET\",\"VET\",\"VET\",\"VET\",\"VET\",\"VET\",\"VET\",\"VET\",\"VET\",\"VET\",\"VET\",\"VET\",\"VET\",\"VET\",\"VET\",\"VET\",\"VET\",\"VET\",\"VET\",\"VET\",\"VET\",\"VET\",\"VET\",\"VET\",\"VET\",\"VET\",\"VET\",\"VET\",\"VET\",\"VET\",\"VET\",\"VET\",\"VET\",\"VET\",\"VET\",\"VET\",\"VET\",\"VET\",\"VET\",\"VET\",\"VET\",\"VET\",\"VET\",\"VET\",\"VET\",\"VET\",\"VET\",\"VET\",\"VET\",\"VET\",\"VET\",\"VET\",\"VET\",\"VET\",\"VET\",\"VET\",\"VET\",\"VET\",\"VET\",\"VET\",\"VET\",\"VET\",\"VET\",\"VET\",\"VET\",\"VET\",\"VET\",\"VET\",\"VET\",\"VET\",\"VET\",\"VET\",\"VET\",\"VET\",\"VET\",\"VET\",\"VET\",\"VET\",\"VET\",\"VET\",\"VET\",\"VET\",\"VET\",\"VET\",\"VET\",\"VET\",\"VET\",\"VET\",\"VET\",\"VET\",\"VET\",\"VET\",\"VET\",\"VET\",\"VET\",\"VET\",\"VET\",\"VET\",\"VET\",\"VET\",\"VET\",\"VET\",\"VET\",\"VET\",\"VET\",\"VET\",\"VET\",\"VET\",\"VET\",\"VET\",\"VET\",\"VET\",\"VET\",\"VET\",\"VET\",\"VET\",\"VET\",\"VET\",\"VET\",\"VET\",\"VET\",\"VET\",\"VET\",\"VET\",\"VET\",\"VET\",\"VET\",\"VET\",\"VET\",\"VET\",\"VET\",\"VET\",\"VET\",\"VET\",\"VET\",\"VET\",\"VET\",\"VET\",\"VET\",\"VET\",\"VET\",\"VET\",\"VET\",\"VET\",\"VET\",\"VET\",\"VET\",\"VET\",\"VET\",\"VET\",\"VET\",\"VET\",\"VET\",\"VET\",\"VET\",\"VET\",\"VET\",\"VET\",\"VET\",\"VET\",\"VET\",\"VET\",\"VET\",\"VET\",\"VET\",\"VET\",\"VET\",\"VET\",\"VET\",\"VET\",\"VET\",\"VET\",\"VET\",\"VET\",\"VET\",\"VET\",\"VET\",\"VET\",\"VET\",\"VET\",\"VET\",\"VET\",\"VET\",\"VET\",\"VET\",\"VET\",\"VET\",\"VET\",\"VET\",\"VET\",\"VET\",\"VET\",\"VET\",\"VET\",\"VET\",\"VET\",\"VET\",\"VET\",\"VET\",\"VET\",\"VET\",\"VET\",\"VET\",\"VET\",\"VET\",\"VET\",\"VET\",\"VET\",\"VET\",\"VET\",\"VET\",\"VET\",\"VET\",\"VET\",\"VET\",\"VET\",\"VET\",\"VET\",\"VET\",\"VET\",\"VET\",\"VET\",\"VET\",\"VET\",\"VET\",\"VET\",\"VET\",\"VET\",\"VET\",\"VET\",\"VET\",\"VET\",\"VET\",\"VET\",\"VET\",\"VET\",\"VET\",\"VET\",\"VET\",\"VET\",\"VET\",\"VET\",\"VET\",\"VET\",\"VET\",\"VET\",\"VET\",\"VET\",\"VET\",\"VET\",\"VET\",\"VET\",\"VET\",\"VET\",\"VET\",\"VET\",\"VET\",\"VET\",\"VET\",\"VET\",\"VET\",\"VET\",\"VET\",\"VET\",\"VET\",\"VET\",\"VET\",\"VET\",\"VET\",\"VET\",\"VET\",\"VET\",\"VET\",\"VET\",\"VET\",\"VET\",\"VET\",\"VET\",\"VET\",\"VET\",\"VET\",\"VET\",\"VET\",\"VET\",\"VET\",\"VET\",\"VET\",\"VET\",\"VET\",\"VET\",\"VET\",\"VET\",\"VET\",\"VET\",\"VET\",\"VET\",\"VET\",\"VET\",\"VET\",\"VET\",\"VET\",\"VET\",\"VET\",\"VET\",\"VET\",\"VET\",\"VET\",\"VET\",\"VET\",\"VET\",\"VET\",\"VET\",\"VET\",\"VET\",\"VET\",\"VET\",\"VET\",\"VET\",\"VET\"],\"value\":{\"__ndarray__\":\"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\",\"dtype\":\"float64\",\"order\":\"little\",\"shape\":[364]}},\"selected\":{\"id\":\"25309\"},\"selection_policy\":{\"id\":\"25337\"}},\"id\":\"25308\",\"type\":\"ColumnDataSource\"},{\"attributes\":{\"click_policy\":\"mute\",\"items\":[{\"id\":\"25307\"},{\"id\":\"25338\"},{\"id\":\"25371\"},{\"id\":\"25406\"}],\"location\":[0,0],\"title\":\"Variable\"},\"id\":\"25306\",\"type\":\"Legend\"},{\"attributes\":{\"label\":{\"value\":\"ETH\"},\"renderers\":[{\"id\":\"25284\"}]},\"id\":\"25307\",\"type\":\"LegendItem\"},{\"attributes\":{\"line_color\":\"#6d904f\",\"line_width\":2,\"x\":{\"field\":\"Date\"},\"y\":{\"field\":\"value\"}},\"id\":\"25375\",\"type\":\"Line\"},{\"attributes\":{\"text\":\"Cumulative returns for all crypto over 12 months\",\"text_color\":{\"value\":\"black\"},\"text_font_size\":{\"value\":\"12pt\"}},\"id\":\"25245\",\"type\":\"Title\"},{\"attributes\":{},\"id\":\"25309\",\"type\":\"Selection\"},{\"attributes\":{\"axis_label\":\"Date\",\"bounds\":\"auto\",\"formatter\":{\"id\":\"25274\"},\"major_label_orientation\":\"horizontal\",\"ticker\":{\"id\":\"25254\"}},\"id\":\"25253\",\"type\":\"DatetimeAxis\"},{\"attributes\":{\"data_source\":{\"id\":\"25339\"},\"glyph\":{\"id\":\"25342\"},\"hover_glyph\":null,\"muted_glyph\":{\"id\":\"25344\"},\"nonselection_glyph\":{\"id\":\"25343\"},\"selection_glyph\":null,\"view\":{\"id\":\"25346\"}},\"id\":\"25345\",\"type\":\"GlyphRenderer\"},{\"attributes\":{\"months\":[0,4,8]},\"id\":\"25301\",\"type\":\"MonthsTicker\"},{\"attributes\":{\"source\":{\"id\":\"25308\"}},\"id\":\"25315\",\"type\":\"CDSView\"},{\"attributes\":{},\"id\":\"25251\",\"type\":\"LinearScale\"},{\"attributes\":{},\"id\":\"25249\",\"type\":\"LinearScale\"},{\"attributes\":{\"days\":[1,15]},\"id\":\"25298\",\"type\":\"DaysTicker\"},{\"attributes\":{\"line_alpha\":0.1,\"line_color\":\"#fc4f30\",\"line_width\":2,\"x\":{\"field\":\"Date\"},\"y\":{\"field\":\"value\"}},\"id\":\"25312\",\"type\":\"Line\"},{\"attributes\":{\"num_minor_ticks\":5,\"tickers\":[{\"id\":\"25292\"},{\"id\":\"25293\"},{\"id\":\"25294\"},{\"id\":\"25295\"},{\"id\":\"25296\"},{\"id\":\"25297\"},{\"id\":\"25298\"},{\"id\":\"25299\"},{\"id\":\"25300\"},{\"id\":\"25301\"},{\"id\":\"25302\"},{\"id\":\"25303\"}]},\"id\":\"25254\",\"type\":\"DatetimeTicker\"},{\"attributes\":{\"axis\":{\"id\":\"25257\"},\"dimension\":1,\"grid_line_color\":null,\"ticker\":null},\"id\":\"25260\",\"type\":\"Grid\"},{\"attributes\":{\"axis\":{\"id\":\"25253\"},\"grid_line_color\":null,\"ticker\":null},\"id\":\"25256\",\"type\":\"Grid\"},{\"attributes\":{\"data\":{\"Date\":{\"__ndarray__\":\"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\",\"dtype\":\"float64\",\"order\":\"little\",\"shape\":[364]},\"Variable\":[\"ETH\",\"ETH\",\"ETH\",\"ETH\",\"ETH\",\"ETH\",\"ETH\",\"ETH\",\"ETH\",\"ETH\",\"ETH\",\"ETH\",\"ETH\",\"ETH\",\"ETH\",\"ETH\",\"ETH\",\"ETH\",\"ETH\",\"ETH\",\"ETH\",\"ETH\",\"ETH\",\"ETH\",\"ETH\",\"ETH\",\"ETH\",\"ETH\",\"ETH\",\"ETH\",\"ETH\",\"ETH\",\"ETH\",\"ETH\",\"ETH\",\"ETH\",\"ETH\",\"ETH\",\"ETH\",\"ETH\",\"ETH\",\"ETH\",\"ETH\",\"ETH\",\"ETH\",\"ETH\",\"ETH\",\"ETH\",\"ETH\",\"ETH\",\"ETH\",\"ETH\",\"ETH\",\"ETH\",\"ETH\",\"ETH\",\"ETH\",\"ETH\",\"ETH\",\"ETH\",\"ETH\",\"ETH\",\"ETH\",\"ETH\",\"ETH\",\"ETH\",\"ETH\",\"ETH\",\"ETH\",\"ETH\",\"ETH\",\"ETH\",\"ETH\",\"ETH\",\"ETH\",\"ETH\",\"ETH\",\"ETH\",\"ETH\",\"ETH\",\"ETH\",\"ETH\",\"ETH\",\"ETH\",\"ETH\",\"ETH\",\"ETH\",\"ETH\",\"ETH\",\"ETH\",\"ETH\",\"ETH\",\"ETH\",\"ETH\",\"ETH\",\"ETH\",\"ETH\",\"ETH\",\"ETH\",\"ETH\",\"ETH\",\"ETH\",\"ETH\",\"ETH\",\"ETH\",\"ETH\",\"ETH\",\"ETH\",\"ETH\",\"ETH\",\"ETH\",\"ETH\",\"ETH\",\"ETH\",\"ETH\",\"ETH\",\"ETH\",\"ETH\",\"ETH\",\"ETH\",\"ETH\",\"ETH\",\"ETH\",\"ETH\",\"ETH\",\"ETH\",\"ETH\",\"ETH\",\"ETH\",\"ETH\",\"ETH\",\"ETH\",\"ETH\",\"ETH\",\"ETH\",\"ETH\",\"ETH\",\"ETH\",\"ETH\",\"ETH\",\"ETH\",\"ETH\",\"ETH\",\"ETH\",\"ETH\",\"ETH\",\"ETH\",\"ETH\",\"ETH\",\"ETH\",\"ETH\",\"ETH\",\"ETH\",\"ETH\",\"ETH\",\"ETH\",\"ETH\",\"ETH\",\"ETH\",\"ETH\",\"ETH\",\"ETH\",\"ETH\",\"ETH\",\"ETH\",\"ETH\",\"ETH\",\"ETH\",\"ETH\",\"ETH\",\"ETH\",\"ETH\",\"ETH\",\"ETH\",\"ETH\",\"ETH\",\"ETH\",\"ETH\",\"ETH\",\"ETH\",\"ETH\",\"ETH\",\"ETH\",\"ETH\",\"ETH\",\"ETH\",\"ETH\",\"ETH\",\"ETH\",\"ETH\",\"ETH\",\"ETH\",\"ETH\",\"ETH\",\"ETH\",\"ETH\",\"ETH\",\"ETH\",\"ETH\",\"ETH\",\"ETH\",\"ETH\",\"ETH\",\"ETH\",\"ETH\",\"ETH\",\"ETH\",\"ETH\",\"ETH\",\"ETH\",\"ETH\",\"ETH\",\"ETH\",\"ETH\",\"ETH\",\"ETH\",\"ETH\",\"ETH\",\"ETH\",\"ETH\",\"ETH\",\"ETH\",\"ETH\",\"ETH\",\"ETH\",\"ETH\",\"ETH\",\"ETH\",\"ETH\",\"ETH\",\"ETH\",\"ETH\",\"ETH\",\"ETH\",\"ETH\",\"ETH\",\"ETH\",\"ETH\",\"ETH\",\"ETH\",\"ETH\",\"ETH\",\"ETH\",\"ETH\",\"ETH\",\"ETH\",\"ETH\",\"ETH\",\"ETH\",\"ETH\",\"ETH\",\"ETH\",\"ETH\",\"ETH\",\"ETH\",\"ETH\",\"ETH\",\"ETH\",\"ETH\",\"ETH\",\"ETH\",\"ETH\",\"ETH\",\"ETH\",\"ETH\",\"ETH\",\"ETH\",\"ETH\",\"ETH\",\"ETH\",\"ETH\",\"ETH\",\"ETH\",\"ETH\",\"ETH\",\"ETH\",\"ETH\",\"ETH\",\"ETH\",\"ETH\",\"ETH\",\"ETH\",\"ETH\",\"ETH\",\"ETH\",\"ETH\",\"ETH\",\"ETH\",\"ETH\",\"ETH\",\"ETH\",\"ETH\",\"ETH\",\"ETH\",\"ETH\",\"ETH\",\"ETH\",\"ETH\",\"ETH\",\"ETH\",\"ETH\",\"ETH\",\"ETH\",\"ETH\",\"ETH\",\"ETH\",\"ETH\",\"ETH\",\"ETH\",\"ETH\",\"ETH\",\"ETH\",\"ETH\",\"ETH\",\"ETH\",\"ETH\",\"ETH\",\"ETH\",\"ETH\",\"ETH\",\"ETH\",\"ETH\",\"ETH\",\"ETH\",\"ETH\",\"ETH\",\"ETH\",\"ETH\",\"ETH\",\"ETH\",\"ETH\",\"ETH\",\"ETH\",\"ETH\",\"ETH\",\"ETH\",\"ETH\",\"ETH\",\"ETH\",\"ETH\",\"ETH\",\"ETH\",\"ETH\",\"ETH\",\"ETH\",\"ETH\",\"ETH\",\"ETH\",\"ETH\",\"ETH\",\"ETH\",\"ETH\",\"ETH\",\"ETH\",\"ETH\",\"ETH\",\"ETH\",\"ETH\",\"ETH\",\"ETH\",\"ETH\",\"ETH\",\"ETH\",\"ETH\"],\"value\":{\"__ndarray__\":\"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\",\"dtype\":\"float64\",\"order\":\"little\",\"shape\":[364]}},\"selected\":{\"id\":\"25279\"},\"selection_policy\":{\"id\":\"25305\"}},\"id\":\"25278\",\"type\":\"ColumnDataSource\"},{\"attributes\":{},\"id\":\"25405\",\"type\":\"UnionRenderers\"},{\"attributes\":{\"line_color\":\"#e5ae38\",\"line_width\":2,\"x\":{\"field\":\"Date\"},\"y\":{\"field\":\"value\"}},\"id\":\"25342\",\"type\":\"Line\"},{\"attributes\":{},\"id\":\"25258\",\"type\":\"BasicTicker\"},{\"attributes\":{\"axis_label\":\"\",\"bounds\":\"auto\",\"formatter\":{\"id\":\"25276\"},\"major_label_orientation\":\"horizontal\",\"ticker\":{\"id\":\"25258\"}},\"id\":\"25257\",\"type\":\"LinearAxis\"},{\"attributes\":{},\"id\":\"25370\",\"type\":\"UnionRenderers\"},{\"attributes\":{},\"id\":\"25340\",\"type\":\"Selection\"},{\"attributes\":{\"line_alpha\":0.2,\"line_color\":\"#fc4f30\",\"line_width\":2,\"x\":{\"field\":\"Date\"},\"y\":{\"field\":\"value\"}},\"id\":\"25313\",\"type\":\"Line\"},{\"attributes\":{\"children\":[{\"id\":\"25237\"},{\"id\":\"25244\"},{\"id\":\"25641\"}],\"margin\":[0,0,0,0],\"name\":\"Row35485\",\"tags\":[\"embedded\"]},\"id\":\"25236\",\"type\":\"Row\"},{\"attributes\":{},\"id\":\"25276\",\"type\":\"BasicTickFormatter\"},{\"attributes\":{},\"id\":\"25274\",\"type\":\"DatetimeTickFormatter\"},{\"attributes\":{\"line_color\":\"#fc4f30\",\"line_width\":2,\"x\":{\"field\":\"Date\"},\"y\":{\"field\":\"value\"}},\"id\":\"25311\",\"type\":\"Line\"},{\"attributes\":{\"end\":48.0369002500785,\"reset_end\":48.0369002500785,\"reset_start\":-4.50239141928005,\"start\":-4.50239141928005,\"tags\":[[[\"value\",\"value\",null]]]},\"id\":\"25239\",\"type\":\"Range1d\"},{\"attributes\":{\"source\":{\"id\":\"25339\"}},\"id\":\"25346\",\"type\":\"CDSView\"},{\"attributes\":{\"line_alpha\":0.2,\"line_color\":\"#e5ae38\",\"line_width\":2,\"x\":{\"field\":\"Date\"},\"y\":{\"field\":\"value\"}},\"id\":\"25344\",\"type\":\"Line\"},{\"attributes\":{\"line_alpha\":0.2,\"line_color\":\"#6d904f\",\"line_width\":2,\"x\":{\"field\":\"Date\"},\"y\":{\"field\":\"value\"}},\"id\":\"25377\",\"type\":\"Line\"},{\"attributes\":{},\"id\":\"25261\",\"type\":\"SaveTool\"},{\"attributes\":{\"line_alpha\":0.2,\"line_color\":\"#30a2da\",\"line_width\":2,\"x\":{\"field\":\"Date\"},\"y\":{\"field\":\"value\"}},\"id\":\"25283\",\"type\":\"Line\"},{\"attributes\":{\"base\":24,\"mantissas\":[1,2,4,6,8,12],\"max_interval\":43200000.0,\"min_interval\":3600000.0,\"num_minor_ticks\":0},\"id\":\"25294\",\"type\":\"AdaptiveTicker\"},{\"attributes\":{\"callback\":null,\"formatters\":{\"@{Date}\":\"datetime\"},\"renderers\":[{\"id\":\"25284\"},{\"id\":\"25314\"},{\"id\":\"25345\"},{\"id\":\"25378\"}],\"tags\":[\"hv_created\"],\"tooltips\":[[\"Variable\",\"@{Variable}\"],[\"Date\",\"@{Date}{%F %T}\"],[\"value\",\"@{value}\"]]},\"id\":\"25240\",\"type\":\"HoverTool\"},{\"attributes\":{},\"id\":\"25262\",\"type\":\"PanTool\"},{\"attributes\":{\"label\":{\"value\":\"BTC\"},\"renderers\":[{\"id\":\"25345\"}]},\"id\":\"25371\",\"type\":\"LegendItem\"},{\"attributes\":{},\"id\":\"25265\",\"type\":\"ResetTool\"},{\"attributes\":{\"label\":{\"value\":\"ADA\"},\"renderers\":[{\"id\":\"25378\"}]},\"id\":\"25406\",\"type\":\"LegendItem\"},{\"attributes\":{\"line_alpha\":0.1,\"line_color\":\"#6d904f\",\"line_width\":2,\"x\":{\"field\":\"Date\"},\"y\":{\"field\":\"value\"}},\"id\":\"25376\",\"type\":\"Line\"},{\"attributes\":{\"margin\":[5,5,5,5],\"name\":\"HSpacer35489\",\"sizing_mode\":\"stretch_width\"},\"id\":\"25237\",\"type\":\"Spacer\"},{\"attributes\":{},\"id\":\"25263\",\"type\":\"WheelZoomTool\"},{\"attributes\":{\"line_color\":\"#30a2da\",\"line_width\":2,\"x\":{\"field\":\"Date\"},\"y\":{\"field\":\"value\"}},\"id\":\"25281\",\"type\":\"Line\"},{\"attributes\":{\"data_source\":{\"id\":\"25308\"},\"glyph\":{\"id\":\"25311\"},\"hover_glyph\":null,\"muted_glyph\":{\"id\":\"25313\"},\"nonselection_glyph\":{\"id\":\"25312\"},\"selection_glyph\":null,\"view\":{\"id\":\"25315\"}},\"id\":\"25314\",\"type\":\"GlyphRenderer\"},{\"attributes\":{\"overlay\":{\"id\":\"25266\"}},\"id\":\"25264\",\"type\":\"BoxZoomTool\"},{\"attributes\":{\"source\":{\"id\":\"25278\"}},\"id\":\"25285\",\"type\":\"CDSView\"},{\"attributes\":{\"margin\":[5,5,5,5],\"name\":\"HSpacer35490\",\"sizing_mode\":\"stretch_width\"},\"id\":\"25641\",\"type\":\"Spacer\"},{\"attributes\":{\"days\":[1,4,7,10,13,16,19,22,25,28]},\"id\":\"25296\",\"type\":\"DaysTicker\"},{\"attributes\":{\"days\":[1,8,15,22]},\"id\":\"25297\",\"type\":\"DaysTicker\"},{\"attributes\":{\"end\":1617062400000.0,\"reset_end\":1617062400000.0,\"reset_start\":1585267200000.0,\"start\":1585267200000.0,\"tags\":[[[\"Date\",\"Date\",null]]]},\"id\":\"25238\",\"type\":\"Range1d\"},{\"attributes\":{\"days\":[1,2,3,4,5,6,7,8,9,10,11,12,13,14,15,16,17,18,19,20,21,22,23,24,25,26,27,28,29,30,31]},\"id\":\"25295\",\"type\":\"DaysTicker\"},{\"attributes\":{\"line_alpha\":0.1,\"line_color\":\"#30a2da\",\"line_width\":2,\"x\":{\"field\":\"Date\"},\"y\":{\"field\":\"value\"}},\"id\":\"25282\",\"type\":\"Line\"},{\"attributes\":{\"data\":{\"Date\":{\"__ndarray__\":\"AAAAnZQRd0IAAMAC5xF3QgAAgGg5EndCAABAzosSd0IAAAA03hJ3QgAAwJkwE3dCAACA/4ITd0IAAEBl1RN3QgAAAMsnFHdCAADAMHoUd0IAAICWzBR3QgAAQPweFXdCAAAAYnEVd0IAAMDHwxV3QgAAgC0WFndCAABAk2gWd0IAAAD5uhZ3QgAAwF4NF3dCAACAxF8Xd0IAAEAqshd3QgAAAJAEGHdCAADA9VYYd0IAAIBbqRh3QgAAQMH7GHdCAAAAJ04Zd0IAAMCMoBl3QgAAgPLyGXdCAABAWEUad0IAAAC+lxp3QgAAwCPqGndCAACAiTwbd0IAAEDvjht3QgAAAFXhG3dCAADAujMcd0IAAIAghhx3QgAAQIbYHHdCAAAA7Codd0IAAMBRfR13QgAAgLfPHXdCAABAHSIed0IAAACDdB53QgAAwOjGHndCAACAThkfd0IAAEC0ax93QgAAABq+H3dCAADAfxAgd0IAAIDlYiB3QgAAQEu1IHdCAAAAsQchd0IAAMAWWiF3QgAAgHysIXdCAABA4v4hd0IAAABIUSJ3QgAAwK2jIndCAACAE/Yid0IAAEB5SCN3QgAAAN+aI3dCAADARO0jd0IAAICqPyR3QgAAQBCSJHdCAAAAduQkd0IAAMDbNiV3QgAAgEGJJXdCAABAp9sld0IAAAANLiZ3QgAAwHKAJndCAACA2NImd0IAAEA+JSd3QgAAAKR3J3dCAADACcond0IAAIBvHCh3QgAAQNVuKHdCAAAAO8Eod0IAAMCgEyl3QgAAgAZmKXdCAABAbLgpd0IAAADSCip3QgAAwDddKndCAACAna8qd0IAAEADAit3QgAAAGlUK3dCAADAzqYrd0IAAIA0+St3QgAAQJpLLHdCAAAAAJ4sd0IAAMBl8Cx3QgAAgMtCLXdCAABAMZUtd0IAAACX5y13QgAAwPw5LndCAACAYowud0IAAEDI3i53QgAAAC4xL3dCAADAk4Mvd0IAAID51S93QgAAQF8oMHdCAAAAxXowd0IAAMAqzTB3QgAAgJAfMXdCAABA9nExd0IAAABcxDF3QgAAwMEWMndCAACAJ2kyd0IAAECNuzJ3QgAAAPMNM3dCAADAWGAzd0IAAIC+sjN3QgAAQCQFNHdCAAAAilc0d0IAAMDvqTR3QgAAgFX8NHdCAABAu041d0IAAAAhoTV3QgAAwIbzNXdCAACA7EU2d0IAAEBSmDZ3QgAAALjqNndCAADAHT03d0IAAICDjzd3QgAAQOnhN3dCAAAATzQ4d0IAAMC0hjh3QgAAgBrZOHdCAABAgCs5d0IAAADmfTl3QgAAwEvQOXdCAACAsSI6d0IAAEAXdTp3QgAAAH3HOndCAADA4hk7d0IAAIBIbDt3QgAAQK6+O3dCAAAAFBE8d0IAAMB5Yzx3QgAAgN+1PHdCAABARQg9d0IAAACrWj13QgAAwBCtPXdCAACAdv89d0IAAEDcUT53QgAAAEKkPndCAADAp/Y+d0IAAIANST93QgAAQHObP3dCAAAA2e0/d0IAAMA+QEB3QgAAgKSSQHdCAABACuVAd0IAAABwN0F3QgAAwNWJQXdCAACAO9xBd0IAAEChLkJ3QgAAAAeBQndCAADAbNNCd0IAAIDSJUN3QgAAQDh4Q3dCAAAAnspDd0IAAMADHUR3QgAAgGlvRHdCAABAz8FEd0IAAAA1FEV3QgAAwJpmRXdCAACAALlFd0IAAEBmC0Z3QgAAAMxdRndCAADAMbBGd0IAAICXAkd3QgAAQP1UR3dCAAAAY6dHd0IAAMDI+Ud3QgAAgC5MSHdCAABAlJ5Id0IAAAD68Eh3QgAAwF9DSXdCAACAxZVJd0IAAEAr6El3QgAAAJE6SndCAADA9oxKd0IAAIBc30p3QgAAQMIxS3dCAAAAKIRLd0IAAMCN1kt3QgAAgPMoTHdCAABAWXtMd0IAAAC/zUx3QgAAwCQgTXdCAACAinJNd0IAAEDwxE13QgAAAFYXTndCAADAu2lOd0IAAIAhvE53QgAAQIcOT3dCAAAA7WBPd0IAAMBSs093QgAAgLgFUHdCAABAHlhQd0IAAACEqlB3QgAAwOn8UHdCAACAT09Rd0IAAEC1oVF3QgAAABv0UXdCAADAgEZSd0IAAIDmmFJ3QgAAQEzrUndCAAAAsj1Td0IAAMAXkFN3QgAAgH3iU3dCAABA4zRUd0IAAABJh1R3QgAAwK7ZVHdCAACAFCxVd0IAAEB6flV3QgAAAODQVXdCAADARSNWd0IAAICrdVZ3QgAAQBHIVndCAAAAdxpXd0IAAMDcbFd3QgAAgEK/V3dCAABAqBFYd0IAAAAOZFh3QgAAwHO2WHdCAACA2QhZd0IAAEA/W1l3QgAAAKWtWXdCAADACgBad0IAAIBwUlp3QgAAQNakWndCAAAAPPdad0IAAMChSVt3QgAAgAecW3dCAADAOJNcd0IAAICe5Vx3QgAAQAQ4XXdCAAAAaopdd0IAAMDP3F13QgAAgDUvXndCAABAm4Fed0IAAAAB1F53QgAAwGYmX3dCAACAzHhfd0IAAEAyy193QgAAAJgdYHdCAADA/W9gd0IAAIBjwmB3QgAAQMkUYXdCAAAAL2dhd0IAAMCUuWF3QgAAgPoLYndCAABAYF5id0IAAADGsGJ3QgAAwCsDY3dCAACAkVVjd0IAAED3p2N3QgAAAF36Y3dCAADAwkxkd0IAAIAon2R3QgAAQI7xZHdCAAAA9ENld0IAAMBZlmV3QgAAgL/oZXdCAABAJTtmd0IAAACLjWZ3QgAAwPDfZndCAACAVjJnd0IAAEC8hGd3QgAAACLXZ3dCAADAhylod0IAAIDte2h3QgAAQFPOaHdCAAAAuSBpd0IAAMAec2l3QgAAgITFaXdCAABA6hdqd0IAAABQamp3QgAAwLW8andCAACAGw9rd0IAAECBYWt3QgAAAOeza3dCAADATAZsd0IAAICyWGx3QgAAQBirbHdCAAAAfv1sd0IAAMDjT213QgAAwHqZbndCAACA4Otud0IAAEBGPm93QgAAAKyQb3dCAADAEeNvd0IAAIB3NXB3QgAAQN2HcHdCAAAAQ9pwd0IAAMCoLHF3QgAAgA5/cXdCAABAdNFxd0IAAADaI3J3QgAAwD92cndCAACApchyd0IAAEALG3N3QgAAAHFtc3dCAADA1r9zd0IAAIA8EnR3QgAAQKJkdHdCAAAACLd0d0IAAMBtCXV3QgAAgNNbdXdCAABAOa51d0IAAACfAHZ3QgAAwARTdndCAACAaqV2d0IAAEDQ93Z3QgAAADZKd3dCAADAm5x3d0IAAIAB73d3QgAAQGdBeHdCAAAAzZN4d0IAAMAy5nh3QgAAgJg4eXdCAABA/op5d0IAAABk3Xl3QgAAwMkvendCAACAL4J6d0IAAECV1Hp3QgAAAPsme3dCAADAYHl7d0IAAIDGy3t3QgAAQCwefHdCAAAAknB8d0IAAMD3wnx3QgAAgF0VfXdCAABAw2d9d0IAAAApun13QgAAwI4MfndCAACA9F5+d0IAAEBasX53QgAAAMADf3dCAADAJVZ/d0IAAICLqH93QgAAQPH6f3dCAAAAV02Ad0IAAMC8n4B3QgAAgCLygHdCAABAiESBd0IAAADuloF3QgAAwFPpgXdCAACAuTuCd0IAAEAfjoJ3QgAAAIXggndCAADA6jKDd0IAAIBQhYN3QgAAQLbXg3dCAAAAHCqEd0IAAMCBfIR3QgAAgOfOhHdCAABATSGFd0IAAACzc4V3QgAAwBjGhXdCAACAfhiGd0IAAEDkaoZ3QgAAAEq9hndCAADArw+Hd0IAAIAVYod3QgAAQHu0h3dCAAAA4QaId0I=\",\"dtype\":\"float64\",\"order\":\"little\",\"shape\":[364]},\"Variable\":[\"BTC\",\"BTC\",\"BTC\",\"BTC\",\"BTC\",\"BTC\",\"BTC\",\"BTC\",\"BTC\",\"BTC\",\"BTC\",\"BTC\",\"BTC\",\"BTC\",\"BTC\",\"BTC\",\"BTC\",\"BTC\",\"BTC\",\"BTC\",\"BTC\",\"BTC\",\"BTC\",\"BTC\",\"BTC\",\"BTC\",\"BTC\",\"BTC\",\"BTC\",\"BTC\",\"BTC\",\"BTC\",\"BTC\",\"BTC\",\"BTC\",\"BTC\",\"BTC\",\"BTC\",\"BTC\",\"BTC\",\"BTC\",\"BTC\",\"BTC\",\"BTC\",\"BTC\",\"BTC\",\"BTC\",\"BTC\",\"BTC\",\"BTC\",\"BTC\",\"BTC\",\"BTC\",\"BTC\",\"BTC\",\"BTC\",\"BTC\",\"BTC\",\"BTC\",\"BTC\",\"BTC\",\"BTC\",\"BTC\",\"BTC\",\"BTC\",\"BTC\",\"BTC\",\"BTC\",\"BTC\",\"BTC\",\"BTC\",\"BTC\",\"BTC\",\"BTC\",\"BTC\",\"BTC\",\"BTC\",\"BTC\",\"BTC\",\"BTC\",\"BTC\",\"BTC\",\"BTC\",\"BTC\",\"BTC\",\"BTC\",\"BTC\",\"BTC\",\"BTC\",\"BTC\",\"BTC\",\"BTC\",\"BTC\",\"BTC\",\"BTC\",\"BTC\",\"BTC\",\"BTC\",\"BTC\",\"BTC\",\"BTC\",\"BTC\",\"BTC\",\"BTC\",\"BTC\",\"BTC\",\"BTC\",\"BTC\",\"BTC\",\"BTC\",\"BTC\",\"BTC\",\"BTC\",\"BTC\",\"BTC\",\"BTC\",\"BTC\",\"BTC\",\"BTC\",\"BTC\",\"BTC\",\"BTC\",\"BTC\",\"BTC\",\"BTC\",\"BTC\",\"BTC\",\"BTC\",\"BTC\",\"BTC\",\"BTC\",\"BTC\",\"BTC\",\"BTC\",\"BTC\",\"BTC\",\"BTC\",\"BTC\",\"BTC\",\"BTC\",\"BTC\",\"BTC\",\"BTC\",\"BTC\",\"BTC\",\"BTC\",\"BTC\",\"BTC\",\"BTC\",\"BTC\",\"BTC\",\"BTC\",\"BTC\",\"BTC\",\"BTC\",\"BTC\",\"BTC\",\"BTC\",\"BTC\",\"BTC\",\"BTC\",\"BTC\",\"BTC\",\"BTC\",\"BTC\",\"BTC\",\"BTC\",\"BTC\",\"BTC\",\"BTC\",\"BTC\",\"BTC\",\"BTC\",\"BTC\",\"BTC\",\"BTC\",\"BTC\",\"BTC\",\"BTC\",\"BTC\",\"BTC\",\"BTC\",\"BTC\",\"BTC\",\"BTC\",\"BTC\",\"BTC\",\"BTC\",\"BTC\",\"BTC\",\"BTC\",\"BTC\",\"BTC\",\"BTC\",\"BTC\",\"BTC\",\"BTC\",\"BTC\",\"BTC\",\"BTC\",\"BTC\",\"BTC\",\"BTC\",\"BTC\",\"BTC\",\"BTC\",\"BTC\",\"BTC\",\"BTC\",\"BTC\",\"BTC\",\"BTC\",\"BTC\",\"BTC\",\"BTC\",\"BTC\",\"BTC\",\"BTC\",\"BTC\",\"BTC\",\"BTC\",\"BTC\",\"BTC\",\"BTC\",\"BTC\",\"BTC\",\"BTC\",\"BTC\",\"BTC\",\"BTC\",\"BTC\",\"BTC\",\"BTC\",\"BTC\",\"BTC\",\"BTC\",\"BTC\",\"BTC\",\"BTC\",\"BTC\",\"BTC\",\"BTC\",\"BTC\",\"BTC\",\"BTC\",\"BTC\",\"BTC\",\"BTC\",\"BTC\",\"BTC\",\"BTC\",\"BTC\",\"BTC\",\"BTC\",\"BTC\",\"BTC\",\"BTC\",\"BTC\",\"BTC\",\"BTC\",\"BTC\",\"BTC\",\"BTC\",\"BTC\",\"BTC\",\"BTC\",\"BTC\",\"BTC\",\"BTC\",\"BTC\",\"BTC\",\"BTC\",\"BTC\",\"BTC\",\"BTC\",\"BTC\",\"BTC\",\"BTC\",\"BTC\",\"BTC\",\"BTC\",\"BTC\",\"BTC\",\"BTC\",\"BTC\",\"BTC\",\"BTC\",\"BTC\",\"BTC\",\"BTC\",\"BTC\",\"BTC\",\"BTC\",\"BTC\",\"BTC\",\"BTC\",\"BTC\",\"BTC\",\"BTC\",\"BTC\",\"BTC\",\"BTC\",\"BTC\",\"BTC\",\"BTC\",\"BTC\",\"BTC\",\"BTC\",\"BTC\",\"BTC\",\"BTC\",\"BTC\",\"BTC\",\"BTC\",\"BTC\",\"BTC\",\"BTC\",\"BTC\",\"BTC\",\"BTC\",\"BTC\",\"BTC\",\"BTC\",\"BTC\",\"BTC\",\"BTC\",\"BTC\",\"BTC\",\"BTC\",\"BTC\",\"BTC\",\"BTC\",\"BTC\",\"BTC\",\"BTC\",\"BTC\",\"BTC\",\"BTC\",\"BTC\",\"BTC\",\"BTC\",\"BTC\",\"BTC\",\"BTC\",\"BTC\",\"BTC\",\"BTC\",\"BTC\",\"BTC\",\"BTC\",\"BTC\",\"BTC\",\"BTC\",\"BTC\",\"BTC\",\"BTC\",\"BTC\",\"BTC\",\"BTC\",\"BTC\",\"BTC\",\"BTC\",\"BTC\",\"BTC\"],\"value\":{\"__ndarray__\":\"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\",\"dtype\":\"float64\",\"order\":\"little\",\"shape\":[364]}},\"selected\":{\"id\":\"25340\"},\"selection_policy\":{\"id\":\"25370\"}},\"id\":\"25339\",\"type\":\"ColumnDataSource\"},{\"attributes\":{\"line_alpha\":0.1,\"line_color\":\"#e5ae38\",\"line_width\":2,\"x\":{\"field\":\"Date\"},\"y\":{\"field\":\"value\"}},\"id\":\"25343\",\"type\":\"Line\"},{\"attributes\":{\"mantissas\":[1,2,5],\"max_interval\":500.0,\"num_minor_ticks\":0},\"id\":\"25292\",\"type\":\"AdaptiveTicker\"},{\"attributes\":{},\"id\":\"25373\",\"type\":\"Selection\"},{\"attributes\":{\"label\":{\"value\":\"VET\"},\"renderers\":[{\"id\":\"25314\"}]},\"id\":\"25338\",\"type\":\"LegendItem\"},{\"attributes\":{\"below\":[{\"id\":\"25253\"}],\"center\":[{\"id\":\"25256\"},{\"id\":\"25260\"}],\"left\":[{\"id\":\"25257\"}],\"margin\":[5,5,5,5],\"min_border_bottom\":10,\"min_border_left\":10,\"min_border_right\":10,\"min_border_top\":10,\"plot_height\":300,\"plot_width\":700,\"renderers\":[{\"id\":\"25284\"},{\"id\":\"25314\"},{\"id\":\"25345\"},{\"id\":\"25378\"}],\"right\":[{\"id\":\"25306\"}],\"sizing_mode\":\"fixed\",\"title\":{\"id\":\"25245\"},\"toolbar\":{\"id\":\"25267\"},\"x_range\":{\"id\":\"25238\"},\"x_scale\":{\"id\":\"25249\"},\"y_range\":{\"id\":\"25239\"},\"y_scale\":{\"id\":\"25251\"}},\"id\":\"25244\",\"subtype\":\"Figure\",\"type\":\"Plot\"},{\"attributes\":{},\"id\":\"25337\",\"type\":\"UnionRenderers\"},{\"attributes\":{\"source\":{\"id\":\"25372\"}},\"id\":\"25379\",\"type\":\"CDSView\"},{\"attributes\":{\"active_drag\":\"auto\",\"active_inspect\":\"auto\",\"active_multi\":null,\"active_scroll\":\"auto\",\"active_tap\":\"auto\",\"tools\":[{\"id\":\"25240\"},{\"id\":\"25261\"},{\"id\":\"25262\"},{\"id\":\"25263\"},{\"id\":\"25264\"},{\"id\":\"25265\"}]},\"id\":\"25267\",\"type\":\"Toolbar\"},{\"attributes\":{\"data\":{\"Date\":{\"__ndarray__\":\"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\",\"dtype\":\"float64\",\"order\":\"little\",\"shape\":[364]},\"Variable\":[\"ADA\",\"ADA\",\"ADA\",\"ADA\",\"ADA\",\"ADA\",\"ADA\",\"ADA\",\"ADA\",\"ADA\",\"ADA\",\"ADA\",\"ADA\",\"ADA\",\"ADA\",\"ADA\",\"ADA\",\"ADA\",\"ADA\",\"ADA\",\"ADA\",\"ADA\",\"ADA\",\"ADA\",\"ADA\",\"ADA\",\"ADA\",\"ADA\",\"ADA\",\"ADA\",\"ADA\",\"ADA\",\"ADA\",\"ADA\",\"ADA\",\"ADA\",\"ADA\",\"ADA\",\"ADA\",\"ADA\",\"ADA\",\"ADA\",\"ADA\",\"ADA\",\"ADA\",\"ADA\",\"ADA\",\"ADA\",\"ADA\",\"ADA\",\"ADA\",\"ADA\",\"ADA\",\"ADA\",\"ADA\",\"ADA\",\"ADA\",\"ADA\",\"ADA\",\"ADA\",\"ADA\",\"ADA\",\"ADA\",\"ADA\",\"ADA\",\"ADA\",\"ADA\",\"ADA\",\"ADA\",\"ADA\",\"ADA\",\"ADA\",\"ADA\",\"ADA\",\"ADA\",\"ADA\",\"ADA\",\"ADA\",\"ADA\",\"ADA\",\"ADA\",\"ADA\",\"ADA\",\"ADA\",\"ADA\",\"ADA\",\"ADA\",\"ADA\",\"ADA\",\"ADA\",\"ADA\",\"ADA\",\"ADA\",\"ADA\",\"ADA\",\"ADA\",\"ADA\",\"ADA\",\"ADA\",\"ADA\",\"ADA\",\"ADA\",\"ADA\",\"ADA\",\"ADA\",\"ADA\",\"ADA\",\"ADA\",\"ADA\",\"ADA\",\"ADA\",\"ADA\",\"ADA\",\"ADA\",\"ADA\",\"ADA\",\"ADA\",\"ADA\",\"ADA\",\"ADA\",\"ADA\",\"ADA\",\"ADA\",\"ADA\",\"ADA\",\"ADA\",\"ADA\",\"ADA\",\"ADA\",\"ADA\",\"ADA\",\"ADA\",\"ADA\",\"ADA\",\"ADA\",\"ADA\",\"ADA\",\"ADA\",\"ADA\",\"ADA\",\"ADA\",\"ADA\",\"ADA\",\"ADA\",\"ADA\",\"ADA\",\"ADA\",\"ADA\",\"ADA\",\"ADA\",\"ADA\",\"ADA\",\"ADA\",\"ADA\",\"ADA\",\"ADA\",\"ADA\",\"ADA\",\"ADA\",\"ADA\",\"ADA\",\"ADA\",\"ADA\",\"ADA\",\"ADA\",\"ADA\",\"ADA\",\"ADA\",\"ADA\",\"ADA\",\"ADA\",\"ADA\",\"ADA\",\"ADA\",\"ADA\",\"ADA\",\"ADA\",\"ADA\",\"ADA\",\"ADA\",\"ADA\",\"ADA\",\"ADA\",\"ADA\",\"ADA\",\"ADA\",\"ADA\",\"ADA\",\"ADA\",\"ADA\",\"ADA\",\"ADA\",\"ADA\",\"ADA\",\"ADA\",\"ADA\",\"ADA\",\"ADA\",\"ADA\",\"ADA\",\"ADA\",\"ADA\",\"ADA\",\"ADA\",\"ADA\",\"ADA\",\"ADA\",\"ADA\",\"ADA\",\"ADA\",\"ADA\",\"ADA\",\"ADA\",\"ADA\",\"ADA\",\"ADA\",\"ADA\",\"ADA\",\"ADA\",\"ADA\",\"ADA\",\"ADA\",\"ADA\",\"ADA\",\"ADA\",\"ADA\",\"ADA\",\"ADA\",\"ADA\",\"ADA\",\"ADA\",\"ADA\",\"ADA\",\"ADA\",\"ADA\",\"ADA\",\"ADA\",\"ADA\",\"ADA\",\"ADA\",\"ADA\",\"ADA\",\"ADA\",\"ADA\",\"ADA\",\"ADA\",\"ADA\",\"ADA\",\"ADA\",\"ADA\",\"ADA\",\"ADA\",\"ADA\",\"ADA\",\"ADA\",\"ADA\",\"ADA\",\"ADA\",\"ADA\",\"ADA\",\"ADA\",\"ADA\",\"ADA\",\"ADA\",\"ADA\",\"ADA\",\"ADA\",\"ADA\",\"ADA\",\"ADA\",\"ADA\",\"ADA\",\"ADA\",\"ADA\",\"ADA\",\"ADA\",\"ADA\",\"ADA\",\"ADA\",\"ADA\",\"ADA\",\"ADA\",\"ADA\",\"ADA\",\"ADA\",\"ADA\",\"ADA\",\"ADA\",\"ADA\",\"ADA\",\"ADA\",\"ADA\",\"ADA\",\"ADA\",\"ADA\",\"ADA\",\"ADA\",\"ADA\",\"ADA\",\"ADA\",\"ADA\",\"ADA\",\"ADA\",\"ADA\",\"ADA\",\"ADA\",\"ADA\",\"ADA\",\"ADA\",\"ADA\",\"ADA\",\"ADA\",\"ADA\",\"ADA\",\"ADA\",\"ADA\",\"ADA\",\"ADA\",\"ADA\",\"ADA\",\"ADA\",\"ADA\",\"ADA\",\"ADA\",\"ADA\",\"ADA\",\"ADA\",\"ADA\",\"ADA\",\"ADA\",\"ADA\",\"ADA\",\"ADA\",\"ADA\",\"ADA\",\"ADA\",\"ADA\",\"ADA\",\"ADA\",\"ADA\",\"ADA\",\"ADA\",\"ADA\",\"ADA\",\"ADA\",\"ADA\",\"ADA\",\"ADA\",\"ADA\",\"ADA\",\"ADA\",\"ADA\",\"ADA\",\"ADA\",\"ADA\",\"ADA\",\"ADA\",\"ADA\",\"ADA\",\"ADA\",\"ADA\",\"ADA\",\"ADA\",\"ADA\"],\"value\":{\"__ndarray__\":\"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\",\"dtype\":\"float64\",\"order\":\"little\",\"shape\":[364]}},\"selected\":{\"id\":\"25373\"},\"selection_policy\":{\"id\":\"25405\"}},\"id\":\"25372\",\"type\":\"ColumnDataSource\"},{\"attributes\":{\"bottom_units\":\"screen\",\"fill_alpha\":0.5,\"fill_color\":\"lightgrey\",\"left_units\":\"screen\",\"level\":\"overlay\",\"line_alpha\":1.0,\"line_color\":\"black\",\"line_dash\":[4,4],\"line_width\":2,\"right_units\":\"screen\",\"top_units\":\"screen\"},\"id\":\"25266\",\"type\":\"BoxAnnotation\"},{\"attributes\":{\"data_source\":{\"id\":\"25278\"},\"glyph\":{\"id\":\"25281\"},\"hover_glyph\":null,\"muted_glyph\":{\"id\":\"25283\"},\"nonselection_glyph\":{\"id\":\"25282\"},\"selection_glyph\":null,\"view\":{\"id\":\"25285\"}},\"id\":\"25284\",\"type\":\"GlyphRenderer\"},{\"attributes\":{},\"id\":\"25279\",\"type\":\"Selection\"}],\"root_ids\":[\"25236\"]},\"title\":\"Bokeh Application\",\"version\":\"2.2.3\"}};\n",
       "    var render_items = [{\"docid\":\"e85258f0-b459-40fa-8066-06b35469b3b0\",\"root_ids\":[\"25236\"],\"roots\":{\"25236\":\"0b92190d-b5ac-4753-a1a4-445939ce0c00\"}}];\n",
       "    root.Bokeh.embed.embed_items_notebook(docs_json, render_items);\n",
       "  }\n",
       "  if (root.Bokeh !== undefined && root.Bokeh.Panel !== undefined) {\n",
       "    embed_document(root);\n",
       "  } else {\n",
       "    var attempts = 0;\n",
       "    var timer = setInterval(function(root) {\n",
       "      if (root.Bokeh !== undefined && root.Bokeh.Panel !== undefined) {\n",
       "        clearInterval(timer);\n",
       "        embed_document(root);\n",
       "      } else if (document.readyState == \"complete\") {\n",
       "        attempts++;\n",
       "        if (attempts > 100) {\n",
       "          clearInterval(timer);\n",
       "          console.log(\"Bokeh: ERROR: Unable to run BokehJS code because BokehJS library is missing\");\n",
       "        }\n",
       "      }\n",
       "    }, 10, root)\n",
       "  }\n",
       "})(window);</script>"
      ],
      "text/plain": [
       ":NdOverlay   [Variable]\n",
       "   :Curve   [Date]   (value)"
      ]
     },
     "execution_count": 277,
     "metadata": {
      "application/vnd.holoviews_exec.v0+json": {
       "id": "25236"
      }
     },
     "output_type": "execute_result"
    }
   ],
   "source": [
    "#Cumulative returns over 12 months\n",
    "cumulative_returns.hvplot(figsize = (20,10), title = 'Cumulative returns for all crypto over 12 months')"
   ]
  },
  {
   "cell_type": "code",
   "execution_count": 278,
   "metadata": {},
   "outputs": [
    {
     "data": {},
     "metadata": {},
     "output_type": "display_data"
    },
    {
     "data": {
      "application/vnd.holoviews_exec.v0+json": "",
      "text/html": [
       "<div id='25773'>\n",
       "\n",
       "\n",
       "\n",
       "\n",
       "\n",
       "  <div class=\"bk-root\" id=\"b7a64de2-31ce-488b-9b55-1244d50057e8\" data-root-id=\"25773\"></div>\n",
       "</div>\n",
       "<script type=\"application/javascript\">(function(root) {\n",
       "  function embed_document(root) {\n",
       "    var docs_json = {\"cb2767e4-227a-4154-8d41-6cb4e3892609\":{\"roots\":{\"references\":[{\"attributes\":{\"children\":[{\"id\":\"25774\"},{\"id\":\"25781\"},{\"id\":\"26178\"}],\"margin\":[0,0,0,0],\"name\":\"Row36244\",\"tags\":[\"embedded\"]},\"id\":\"25773\",\"type\":\"Row\"},{\"attributes\":{\"bottom_units\":\"screen\",\"fill_alpha\":0.5,\"fill_color\":\"lightgrey\",\"left_units\":\"screen\",\"level\":\"overlay\",\"line_alpha\":1.0,\"line_color\":\"black\",\"line_dash\":[4,4],\"line_width\":2,\"right_units\":\"screen\",\"top_units\":\"screen\"},\"id\":\"25803\",\"type\":\"BoxAnnotation\"},{\"attributes\":{\"line_alpha\":0.2,\"line_color\":\"#6d904f\",\"line_width\":2,\"x\":{\"field\":\"Date\"},\"y\":{\"field\":\"value\"}},\"id\":\"25914\",\"type\":\"Line\"},{\"attributes\":{\"active_drag\":\"auto\",\"active_inspect\":\"auto\",\"active_multi\":null,\"active_scroll\":\"auto\",\"active_tap\":\"auto\",\"tools\":[{\"id\":\"25777\"},{\"id\":\"25798\"},{\"id\":\"25799\"},{\"id\":\"25800\"},{\"id\":\"25801\"},{\"id\":\"25802\"}]},\"id\":\"25804\",\"type\":\"Toolbar\"},{\"attributes\":{\"months\":[0,6]},\"id\":\"25839\",\"type\":\"MonthsTicker\"},{\"attributes\":{},\"id\":\"25840\",\"type\":\"YearsTicker\"},{\"attributes\":{},\"id\":\"25842\",\"type\":\"UnionRenderers\"},{\"attributes\":{\"data\":{\"Date\":{\"__ndarray__\":\"AACA8yhMd0IAAEBZe0x3QgAAAL/NTHdCAADAJCBNd0IAAICKck13QgAAQPDETXdCAAAAVhdOd0IAAMC7aU53QgAAgCG8TndCAABAhw5Pd0IAAADtYE93QgAAwFKzT3dCAACAuAVQd0IAAEAeWFB3QgAAAISqUHdCAADA6fxQd0IAAIBPT1F3QgAAQLWhUXdCAAAAG/RRd0IAAMCARlJ3QgAAgOaYUndCAABATOtSd0IAAACyPVN3QgAAwBeQU3dCAACAfeJTd0IAAEDjNFR3QgAAAEmHVHdCAADArtlUd0IAAIAULFV3QgAAQHp+VXdCAAAA4NBVd0IAAMBFI1Z3QgAAgKt1VndCAABAEchWd0IAAAB3Gld3QgAAwNxsV3dCAACAQr9Xd0IAAECoEVh3QgAAAA5kWHdCAADAc7ZYd0IAAIDZCFl3QgAAQD9bWXdCAAAApa1Zd0IAAMAKAFp3QgAAgHBSWndCAABA1qRad0IAAAA891p3QgAAwKFJW3dCAACAB5xbd0IAAMA4k1x3QgAAgJ7lXHdCAABABDhdd0IAAABqil13QgAAwM/cXXdCAACANS9ed0IAAECbgV53QgAAAAHUXndCAADAZiZfd0IAAIDMeF93QgAAQDLLX3dCAAAAmB1gd0IAAMD9b2B3QgAAgGPCYHdCAABAyRRhd0IAAAAvZ2F3QgAAwJS5YXdCAACA+gtid0IAAEBgXmJ3QgAAAMawYndCAADAKwNjd0IAAICRVWN3QgAAQPenY3dCAAAAXfpjd0IAAMDCTGR3QgAAgCifZHdCAABAjvFkd0IAAAD0Q2V3QgAAwFmWZXdCAACAv+hld0IAAEAlO2Z3QgAAAIuNZndCAADA8N9md0IAAIBWMmd3QgAAQLyEZ3dCAAAAItdnd0IAAMCHKWh3QgAAgO17aHdCAABAU85od0IAAAC5IGl3QgAAwB5zaXdCAACAhMVpd0IAAEDqF2p3QgAAAFBqandCAADAtbxqd0IAAIAbD2t3QgAAQIFha3dCAAAA57Nrd0IAAMBMBmx3QgAAgLJYbHdCAABAGKtsd0IAAAB+/Wx3QgAAwONPbXdCAADAeplud0IAAIDg6253QgAAQEY+b3dCAAAArJBvd0IAAMAR4293QgAAgHc1cHdCAABA3Ydwd0IAAABD2nB3QgAAwKgscXdCAACADn9xd0IAAEB00XF3QgAAANojcndCAADAP3Zyd0IAAIClyHJ3QgAAQAsbc3dCAAAAcW1zd0IAAMDWv3N3QgAAgDwSdHdCAABAomR0d0IAAAAIt3R3QgAAwG0JdXdCAACA01t1d0IAAEA5rnV3QgAAAJ8AdndCAADABFN2d0IAAIBqpXZ3QgAAQND3dndCAAAANkp3d0IAAMCbnHd3QgAAgAHvd3dCAABAZ0F4d0IAAADNk3h3QgAAwDLmeHdCAACAmDh5d0IAAED+inl3QgAAAGTdeXdCAADAyS96d0IAAIAvgnp3QgAAQJXUendCAAAA+yZ7d0IAAMBgeXt3QgAAgMbLe3dCAABALB58d0IAAACScHx3QgAAwPfCfHdCAACAXRV9d0IAAEDDZ313QgAAACm6fXdCAADAjgx+d0IAAID0Xn53QgAAQFqxfndCAAAAwAN/d0IAAMAlVn93QgAAgIuof3dCAABA8fp/d0IAAABXTYB3QgAAwLyfgHdCAACAIvKAd0IAAECIRIF3QgAAAO6WgXdCAADAU+mBd0IAAIC5O4J3QgAAQB+OgndCAAAAheCCd0IAAMDqMoN3QgAAgFCFg3dCAABAtteDd0IAAAAcKoR3QgAAwIF8hHdCAACA586Ed0IAAEBNIYV3QgAAALNzhXdCAADAGMaFd0IAAIB+GIZ3QgAAQORqhndCAAAASr2Gd0IAAMCvD4d3QgAAgBVih3dCAABAe7SHd0IAAADhBoh3Qg==\",\"dtype\":\"float64\",\"order\":\"little\",\"shape\":[182]},\"Variable\":[\"BTC\",\"BTC\",\"BTC\",\"BTC\",\"BTC\",\"BTC\",\"BTC\",\"BTC\",\"BTC\",\"BTC\",\"BTC\",\"BTC\",\"BTC\",\"BTC\",\"BTC\",\"BTC\",\"BTC\",\"BTC\",\"BTC\",\"BTC\",\"BTC\",\"BTC\",\"BTC\",\"BTC\",\"BTC\",\"BTC\",\"BTC\",\"BTC\",\"BTC\",\"BTC\",\"BTC\",\"BTC\",\"BTC\",\"BTC\",\"BTC\",\"BTC\",\"BTC\",\"BTC\",\"BTC\",\"BTC\",\"BTC\",\"BTC\",\"BTC\",\"BTC\",\"BTC\",\"BTC\",\"BTC\",\"BTC\",\"BTC\",\"BTC\",\"BTC\",\"BTC\",\"BTC\",\"BTC\",\"BTC\",\"BTC\",\"BTC\",\"BTC\",\"BTC\",\"BTC\",\"BTC\",\"BTC\",\"BTC\",\"BTC\",\"BTC\",\"BTC\",\"BTC\",\"BTC\",\"BTC\",\"BTC\",\"BTC\",\"BTC\",\"BTC\",\"BTC\",\"BTC\",\"BTC\",\"BTC\",\"BTC\",\"BTC\",\"BTC\",\"BTC\",\"BTC\",\"BTC\",\"BTC\",\"BTC\",\"BTC\",\"BTC\",\"BTC\",\"BTC\",\"BTC\",\"BTC\",\"BTC\",\"BTC\",\"BTC\",\"BTC\",\"BTC\",\"BTC\",\"BTC\",\"BTC\",\"BTC\",\"BTC\",\"BTC\",\"BTC\",\"BTC\",\"BTC\",\"BTC\",\"BTC\",\"BTC\",\"BTC\",\"BTC\",\"BTC\",\"BTC\",\"BTC\",\"BTC\",\"BTC\",\"BTC\",\"BTC\",\"BTC\",\"BTC\",\"BTC\",\"BTC\",\"BTC\",\"BTC\",\"BTC\",\"BTC\",\"BTC\",\"BTC\",\"BTC\",\"BTC\",\"BTC\",\"BTC\",\"BTC\",\"BTC\",\"BTC\",\"BTC\",\"BTC\",\"BTC\",\"BTC\",\"BTC\",\"BTC\",\"BTC\",\"BTC\",\"BTC\",\"BTC\",\"BTC\",\"BTC\",\"BTC\",\"BTC\",\"BTC\",\"BTC\",\"BTC\",\"BTC\",\"BTC\",\"BTC\",\"BTC\",\"BTC\",\"BTC\",\"BTC\",\"BTC\",\"BTC\",\"BTC\",\"BTC\",\"BTC\",\"BTC\",\"BTC\",\"BTC\",\"BTC\",\"BTC\",\"BTC\",\"BTC\",\"BTC\",\"BTC\",\"BTC\",\"BTC\",\"BTC\",\"BTC\",\"BTC\",\"BTC\",\"BTC\",\"BTC\",\"BTC\",\"BTC\"],\"value\":{\"__ndarray__\":\"gBQ/kX5Mc78AQtzJW4tRvwA0LXYsEmw/AOao3eKecb8AkBjgI1uDPwCQYGKl/ms/AJpevZeshr8ARjKPrN2Pv+BGDd++nJK/gFJMN/Fceb8AeL/frBtzPwByZHN0Foq/AMVK/Tcger9AUS/7cZyRP4CkD+8gBJ4/QLNppXimqj/Acs/HiRyuP5Bp0StZ8LI/IFyYqnlQsD/Q7I4lujuwPzBQodTIM7I/YDV0CYHGqz8gHa1p6q+tP2C5wnSVS7I/cMDuodIruD9AYIW40Py7P0BZs03Wqcg/qB7wwgekyj9wGqX5dCjKP1jbF3QhV8w/yOshdcdTyz/IARb4e63LP9z2QqJNZNE/eFRWRIJEzj/QzPe3RDLQP8jA04DyztA/PEULxB850j+kVGvPTf/RPxy8JVU80dA/6Cpe2LiM0z9g181YfUzUP5xWjmCj49w/AEBTSprV3D/AWfrgKl7YP6AxnTTkRdw/GBiJrCJX2z/YxwegITPbP+w3snp4id0/XKyLT5ON4D+oS4qw2hHfP67qOjrKzuE/oCtEZceg5D984x7xcPbkP8bpeG58DOU/lDio62ql5z/uJfA8kq7nP9ppyudV3eY/NDcJM+/D5j/QheLmkxHpP7RUoCLhyec/0M5TlSYj4z/Y0VVvhwjjP4r0Kk701OQ/GJjqCeAv5j8ENsg1r7HqPzCkhNJD7uc/jLgVNBNE6T8qa/sAsufpP2CGbrFfmOc/hMIqt+wM6T/4iq499r7pP4I24mdiH+k/mokLjIGb5j/QZ7sz3ULnP9DRopjwXuY/hmCzx2C05T9sAhBiZwvoP9T5mZcJJOk/EmOfaAdu6T+ANThy6ujpPwj4FQBun+8//k+9o5cB8j/s5Dc093TyP9ieo/AVhvM/Rtdnq0/58j+ygcR+otzxP857mBAnfvM/5n99LIym8j9gcpHUFV3zPx50o9OYyPQ/5ksZxrBp9z+O++zUCiD3P5gQcK7TT/g/HuZ8KjDJ+D/wqjnAgAL7Pwi57idIIfs/CPospti9+z/K+d7OgPb/P5+Gd1FAjQBApDFc9mW1/z+bqJ/vKlIBQGiOF3NzaANA1O4XZD1zBEDg5txBSXoCQPA6ewhNYgFAjSl66MXYA0CwsIH9yi4FQCwtw1V7cgNAoZS+GejUAkC6zbWKmbICQFjUSQIgRgNA4ecItL3RAkBKAbeOUW0CQAJHWggo8/0/qKmCMS+VAEBSsX9gr87/Pz9qt7hnBABA+OVXu4AGAECCniS/IzYAQAy1b7kQTP0/0/EhMJDcAECjCd+BV40BQIBqAZfGiQFADLNQIbSpAEDfRyDNbvcAQJ+KLwwEbwJA73UjcjsLBEDN0V1heYwDQKkS+exWhwRACx7mdDg+BUCAlBcuPPEEQFi7hP+kjwpARhwZrSylCkD28jHTNWYJQJrPanzPvwtAHkA7dMRJC0D+DnssDiMLQGh43rhHPAxA9BfmuW+1C0CEheE4paAMQAZbsW98yw5AIpwYVrVsDkBY7J1br9IQQJ8i5cJQ1BBA2fZCok1kEUA7/JkVjScQQPQpJntZbwxACtJu80sFDUDwhYnSP/UKQKDbFCkXhgpA/p/w2EBeCkCKc51+wqQJQK75tWbY8QxAMGd8knoSDEAy9lAqVIoNQFB/uBU0EwxArrHyprZYDEBeDGYjv2QMQHJ42r9O+g1AlBoDtbD3DkBkmsUYtHAQQMgjtCd4zRBAAsN9NSyHEUBuxNO9N1QRQBg8CS/2yhJA5TbLP3sEEkD0VZjvsMcQQPbmyGRsMBFAl2qwdGTxEUDkPv5vfXkRQPfqwV2uohFAUZCHLTKjEUCTgO0niV8RQDXT+CD8KxBAQA2qawlIEEDK4cuzb/oOQFj0lz8lOw5AebWV1q5/EECmYQSphM4QQG5hstgzxRBA0znl77F1EUAFE7Fq1eMRQA==\",\"dtype\":\"float64\",\"order\":\"little\",\"shape\":[182]}},\"selected\":{\"id\":\"25877\"},\"selection_policy\":{\"id\":\"25907\"}},\"id\":\"25876\",\"type\":\"ColumnDataSource\"},{\"attributes\":{\"margin\":[5,5,5,5],\"name\":\"HSpacer36248\",\"sizing_mode\":\"stretch_width\"},\"id\":\"25774\",\"type\":\"Spacer\"},{\"attributes\":{\"data\":{\"Date\":{\"__ndarray__\":\"AACA8yhMd0IAAEBZe0x3QgAAAL/NTHdCAADAJCBNd0IAAICKck13QgAAQPDETXdCAAAAVhdOd0IAAMC7aU53QgAAgCG8TndCAABAhw5Pd0IAAADtYE93QgAAwFKzT3dCAACAuAVQd0IAAEAeWFB3QgAAAISqUHdCAADA6fxQd0IAAIBPT1F3QgAAQLWhUXdCAAAAG/RRd0IAAMCARlJ3QgAAgOaYUndCAABATOtSd0IAAACyPVN3QgAAwBeQU3dCAACAfeJTd0IAAEDjNFR3QgAAAEmHVHdCAADArtlUd0IAAIAULFV3QgAAQHp+VXdCAAAA4NBVd0IAAMBFI1Z3QgAAgKt1VndCAABAEchWd0IAAAB3Gld3QgAAwNxsV3dCAACAQr9Xd0IAAECoEVh3QgAAAA5kWHdCAADAc7ZYd0IAAIDZCFl3QgAAQD9bWXdCAAAApa1Zd0IAAMAKAFp3QgAAgHBSWndCAABA1qRad0IAAAA891p3QgAAwKFJW3dCAACAB5xbd0IAAMA4k1x3QgAAgJ7lXHdCAABABDhdd0IAAABqil13QgAAwM/cXXdCAACANS9ed0IAAECbgV53QgAAAAHUXndCAADAZiZfd0IAAIDMeF93QgAAQDLLX3dCAAAAmB1gd0IAAMD9b2B3QgAAgGPCYHdCAABAyRRhd0IAAAAvZ2F3QgAAwJS5YXdCAACA+gtid0IAAEBgXmJ3QgAAAMawYndCAADAKwNjd0IAAICRVWN3QgAAQPenY3dCAAAAXfpjd0IAAMDCTGR3QgAAgCifZHdCAABAjvFkd0IAAAD0Q2V3QgAAwFmWZXdCAACAv+hld0IAAEAlO2Z3QgAAAIuNZndCAADA8N9md0IAAIBWMmd3QgAAQLyEZ3dCAAAAItdnd0IAAMCHKWh3QgAAgO17aHdCAABAU85od0IAAAC5IGl3QgAAwB5zaXdCAACAhMVpd0IAAEDqF2p3QgAAAFBqandCAADAtbxqd0IAAIAbD2t3QgAAQIFha3dCAAAA57Nrd0IAAMBMBmx3QgAAgLJYbHdCAABAGKtsd0IAAAB+/Wx3QgAAwONPbXdCAADAeplud0IAAIDg6253QgAAQEY+b3dCAAAArJBvd0IAAMAR4293QgAAgHc1cHdCAABA3Ydwd0IAAABD2nB3QgAAwKgscXdCAACADn9xd0IAAEB00XF3QgAAANojcndCAADAP3Zyd0IAAIClyHJ3QgAAQAsbc3dCAAAAcW1zd0IAAMDWv3N3QgAAgDwSdHdCAABAomR0d0IAAAAIt3R3QgAAwG0JdXdCAACA01t1d0IAAEA5rnV3QgAAAJ8AdndCAADABFN2d0IAAIBqpXZ3QgAAQND3dndCAAAANkp3d0IAAMCbnHd3QgAAgAHvd3dCAABAZ0F4d0IAAADNk3h3QgAAwDLmeHdCAACAmDh5d0IAAED+inl3QgAAAGTdeXdCAADAyS96d0IAAIAvgnp3QgAAQJXUendCAAAA+yZ7d0IAAMBgeXt3QgAAgMbLe3dCAABALB58d0IAAACScHx3QgAAwPfCfHdCAACAXRV9d0IAAEDDZ313QgAAACm6fXdCAADAjgx+d0IAAID0Xn53QgAAQFqxfndCAAAAwAN/d0IAAMAlVn93QgAAgIuof3dCAABA8fp/d0IAAABXTYB3QgAAwLyfgHdCAACAIvKAd0IAAECIRIF3QgAAAO6WgXdCAADAU+mBd0IAAIC5O4J3QgAAQB+OgndCAAAAheCCd0IAAMDqMoN3QgAAgFCFg3dCAABAtteDd0IAAAAcKoR3QgAAwIF8hHdCAACA586Ed0IAAEBNIYV3QgAAALNzhXdCAADAGMaFd0IAAIB+GIZ3QgAAQORqhndCAAAASr2Gd0IAAMCvD4d3QgAAgBVih3dCAABAe7SHd0IAAADhBoh3Qg==\",\"dtype\":\"float64\",\"order\":\"little\",\"shape\":[182]},\"Variable\":[\"ADA\",\"ADA\",\"ADA\",\"ADA\",\"ADA\",\"ADA\",\"ADA\",\"ADA\",\"ADA\",\"ADA\",\"ADA\",\"ADA\",\"ADA\",\"ADA\",\"ADA\",\"ADA\",\"ADA\",\"ADA\",\"ADA\",\"ADA\",\"ADA\",\"ADA\",\"ADA\",\"ADA\",\"ADA\",\"ADA\",\"ADA\",\"ADA\",\"ADA\",\"ADA\",\"ADA\",\"ADA\",\"ADA\",\"ADA\",\"ADA\",\"ADA\",\"ADA\",\"ADA\",\"ADA\",\"ADA\",\"ADA\",\"ADA\",\"ADA\",\"ADA\",\"ADA\",\"ADA\",\"ADA\",\"ADA\",\"ADA\",\"ADA\",\"ADA\",\"ADA\",\"ADA\",\"ADA\",\"ADA\",\"ADA\",\"ADA\",\"ADA\",\"ADA\",\"ADA\",\"ADA\",\"ADA\",\"ADA\",\"ADA\",\"ADA\",\"ADA\",\"ADA\",\"ADA\",\"ADA\",\"ADA\",\"ADA\",\"ADA\",\"ADA\",\"ADA\",\"ADA\",\"ADA\",\"ADA\",\"ADA\",\"ADA\",\"ADA\",\"ADA\",\"ADA\",\"ADA\",\"ADA\",\"ADA\",\"ADA\",\"ADA\",\"ADA\",\"ADA\",\"ADA\",\"ADA\",\"ADA\",\"ADA\",\"ADA\",\"ADA\",\"ADA\",\"ADA\",\"ADA\",\"ADA\",\"ADA\",\"ADA\",\"ADA\",\"ADA\",\"ADA\",\"ADA\",\"ADA\",\"ADA\",\"ADA\",\"ADA\",\"ADA\",\"ADA\",\"ADA\",\"ADA\",\"ADA\",\"ADA\",\"ADA\",\"ADA\",\"ADA\",\"ADA\",\"ADA\",\"ADA\",\"ADA\",\"ADA\",\"ADA\",\"ADA\",\"ADA\",\"ADA\",\"ADA\",\"ADA\",\"ADA\",\"ADA\",\"ADA\",\"ADA\",\"ADA\",\"ADA\",\"ADA\",\"ADA\",\"ADA\",\"ADA\",\"ADA\",\"ADA\",\"ADA\",\"ADA\",\"ADA\",\"ADA\",\"ADA\",\"ADA\",\"ADA\",\"ADA\",\"ADA\",\"ADA\",\"ADA\",\"ADA\",\"ADA\",\"ADA\",\"ADA\",\"ADA\",\"ADA\",\"ADA\",\"ADA\",\"ADA\",\"ADA\",\"ADA\",\"ADA\",\"ADA\",\"ADA\",\"ADA\",\"ADA\",\"ADA\",\"ADA\",\"ADA\",\"ADA\",\"ADA\",\"ADA\",\"ADA\",\"ADA\",\"ADA\",\"ADA\",\"ADA\",\"ADA\",\"ADA\",\"ADA\"],\"value\":{\"__ndarray__\":\"KLYk7T9Exj9oayn7ZwfEP7BmUAT/Es0/gA5Azma8yz9AiHnyBsDMP8iTRYLUKM0/6KC+Ceb8xz/ASSqTK8K/PwBKqJYxpcA/sOhM/hsixj+wTra+9CLHP2imH41PEsA/iCuUL51awT9wd8ri1STFP2jUeVJRHc0/mIXtGShi0T94jfsFeY7SP0RKRFPg6tQ/5JFtcY3G1D80Ynt3LQTTP6Buo1hks9I/qLBLhTOk0D8c0qCu0ivSPzwgpw/HONM/SFmsY+pH1D/gdQZz4JLOPyD4D81XNtI/JJQmp5fi1T/I4hjY3crTP+gFlZIvu9M/dJTwU6l10j9ArDqGENDPPzDTBfb+IM8/ABgn7ZIuyT9A9Uiku/bDPxAdRCp8s8A/8Pq00rMtwD/43iGZbx/IPxBDmhuEJL4/kDl+y/0owT+4/f+sFf3DP7AywGPzPcc/CKTqCAuG1D8w9sRjmRLNP9TFCd+7oNI/dLjIX2Ss0T9cqc89OivSP5gtK0JnLtI/GHMsPCoS0T+YmIGa+vPLP2T/+gIxi9A/pBeLMOTo1D/Ia7D0MJnSP1ApBzUqGdI/BBf31sDC2z9C31WoNcXjP/y7xwFed+g/aJbvE1zp6z8qxPnFul7wPxB5WSFxLew/NH4zqxGx5T8m7hUvbtfmP9hvKsPQ8O8/rMh0J5JF8D8anB/QAlvxPxzrpnwATew/FC4llKeB7T/UBtMq8J7vP6TWIlGhTuk/tGbmoUoA7j9ox4GlpYLtPybNqiBVuOs/IohCDOHD5j82GkqFUV3pP77EdPJg6+Y/Xp0+jYb45T/MC/XzBO3nP4xhE1mhuOs/cIkeFhxg7T9ecvBYNaHrP6794fNsmvA/rrPdfHVa7z9gPwMnc/nvP1z8Gq0Xsu8/BKiA24fN7j8ohz4xpjLrP1TWWKSPu+w/xr/DzPfr5D/OmA0g707rP7ifLqm2EO0/OrLvhrRg7T+Gt2pZL/PrP3hxOtzRMvI//HUIKKwF9T/6LQUmM6zzP772dMGZKPM/XIxW4mPu8T9mZ/vV01/yP/icgmJj3fc/xH7jCBLH+z8LkhX7XhEBQFqC66DOQAhAKkwcZCdNBUA+SaHklr0CQGPjhYKV3wNA9E1cIldPBkCYj0gkAyUGQGC2goLRUQVAzJzoWoAKCkAC11ZgZ/QMQAzFCW4Y9QtANIzxC9ukC0Dqb28r5WQMQF7cvG/80gVAWM8QbFzoCUBqSdGJxX0JQO5f/P6oOgpA/ODmm5xACUBIdqTkWksJQMHHYspoPAZApuY7UuNQCUCcig/jPLAJQDSOxJD2PQtAtA+SB3lwCUCUtRiveZMPQIMNB8LRoRBALjtLMbZpEUDOED5shUwRQGRKgnr9IhZAMtVSFIm3GkBSaN9CmhscQOK3Yvaj0xxA9vtAyUs0HkDUqytx6sgkQGKg8PI8hCRAq3ndQ9poJEDDVAMSsBMkQPBnqzPUdSJAuObqHKzXIkCp1CrS5RYjQGirBeQSmyNABvWunNgjJEDPQQUvKW8kQHELuqNHCylAlIbDBACmKEDsVh20q5MoQI+embxbWyVAClR9OntlJ0C8U3cbGA0oQHbgRnVWFSxAVdR+3nzmLUBOqLsrRa8tQM3vlusaaC1ACJwW2j+sK0COKMQQPmwrQPgFFm2V9ChAezPXTEgQKkD37rt0F1spQCM2IHLebClAUzHy26YZKUAfXAd1BgIrQKF9bNVfdClAERDdjvA8KUCW63vUoAEnQOF+bdk6ryhA4VhRpbiQJ0CKBCh31PomQN3omlzzRCxABPW13c9fL0Cx/aWBG9UrQJgIT1txZi1AY/LWGu4VK0DOZln6wcEqQO6vRNOYvChAjrhgsnsMKUAsE2O5D+4nQJQ65cf1kChAae5lQhFtK0BEUcj9ZIMqQGpC43yM0ipAfHfK4tUkK0BXJ/g9vborQA==\",\"dtype\":\"float64\",\"order\":\"little\",\"shape\":[182]}},\"selected\":{\"id\":\"25910\"},\"selection_policy\":{\"id\":\"25942\"}},\"id\":\"25909\",\"type\":\"ColumnDataSource\"},{\"attributes\":{\"days\":[1,8,15,22]},\"id\":\"25834\",\"type\":\"DaysTicker\"},{\"attributes\":{},\"id\":\"25907\",\"type\":\"UnionRenderers\"},{\"attributes\":{\"click_policy\":\"mute\",\"items\":[{\"id\":\"25844\"},{\"id\":\"25875\"},{\"id\":\"25908\"},{\"id\":\"25943\"}],\"location\":[0,0],\"title\":\"Variable\"},\"id\":\"25843\",\"type\":\"Legend\"},{\"attributes\":{\"data_source\":{\"id\":\"25909\"},\"glyph\":{\"id\":\"25912\"},\"hover_glyph\":null,\"muted_glyph\":{\"id\":\"25914\"},\"nonselection_glyph\":{\"id\":\"25913\"},\"selection_glyph\":null,\"view\":{\"id\":\"25916\"}},\"id\":\"25915\",\"type\":\"GlyphRenderer\"},{\"attributes\":{},\"id\":\"25811\",\"type\":\"DatetimeTickFormatter\"},{\"attributes\":{\"days\":[1,15]},\"id\":\"25835\",\"type\":\"DaysTicker\"},{\"attributes\":{\"label\":{\"value\":\"ETH\"},\"renderers\":[{\"id\":\"25821\"}]},\"id\":\"25844\",\"type\":\"LegendItem\"},{\"attributes\":{\"line_alpha\":0.1,\"line_color\":\"#30a2da\",\"line_width\":2,\"x\":{\"field\":\"Date\"},\"y\":{\"field\":\"value\"}},\"id\":\"25819\",\"type\":\"Line\"},{\"attributes\":{\"text\":\"Cumulative returns for all crypto over 6 month\",\"text_color\":{\"value\":\"black\"},\"text_font_size\":{\"value\":\"12pt\"}},\"id\":\"25782\",\"type\":\"Title\"},{\"attributes\":{\"line_color\":\"#e5ae38\",\"line_width\":2,\"x\":{\"field\":\"Date\"},\"y\":{\"field\":\"value\"}},\"id\":\"25879\",\"type\":\"Line\"},{\"attributes\":{\"label\":{\"value\":\"BTC\"},\"renderers\":[{\"id\":\"25882\"}]},\"id\":\"25908\",\"type\":\"LegendItem\"},{\"attributes\":{\"axis_label\":\"Date\",\"bounds\":\"auto\",\"formatter\":{\"id\":\"25811\"},\"major_label_orientation\":\"horizontal\",\"ticker\":{\"id\":\"25791\"}},\"id\":\"25790\",\"type\":\"DatetimeAxis\"},{\"attributes\":{\"source\":{\"id\":\"25845\"}},\"id\":\"25852\",\"type\":\"CDSView\"},{\"attributes\":{\"below\":[{\"id\":\"25790\"}],\"center\":[{\"id\":\"25793\"},{\"id\":\"25797\"}],\"left\":[{\"id\":\"25794\"}],\"margin\":[5,5,5,5],\"min_border_bottom\":10,\"min_border_left\":10,\"min_border_right\":10,\"min_border_top\":10,\"plot_height\":300,\"plot_width\":700,\"renderers\":[{\"id\":\"25821\"},{\"id\":\"25851\"},{\"id\":\"25882\"},{\"id\":\"25915\"}],\"right\":[{\"id\":\"25843\"}],\"sizing_mode\":\"fixed\",\"title\":{\"id\":\"25782\"},\"toolbar\":{\"id\":\"25804\"},\"x_range\":{\"id\":\"25775\"},\"x_scale\":{\"id\":\"25786\"},\"y_range\":{\"id\":\"25776\"},\"y_scale\":{\"id\":\"25788\"}},\"id\":\"25781\",\"subtype\":\"Figure\",\"type\":\"Plot\"},{\"attributes\":{\"data_source\":{\"id\":\"25876\"},\"glyph\":{\"id\":\"25879\"},\"hover_glyph\":null,\"muted_glyph\":{\"id\":\"25881\"},\"nonselection_glyph\":{\"id\":\"25880\"},\"selection_glyph\":null,\"view\":{\"id\":\"25883\"}},\"id\":\"25882\",\"type\":\"GlyphRenderer\"},{\"attributes\":{},\"id\":\"25813\",\"type\":\"BasicTickFormatter\"},{\"attributes\":{},\"id\":\"25874\",\"type\":\"UnionRenderers\"},{\"attributes\":{\"mantissas\":[1,2,5],\"max_interval\":500.0,\"num_minor_ticks\":0},\"id\":\"25829\",\"type\":\"AdaptiveTicker\"},{\"attributes\":{},\"id\":\"25788\",\"type\":\"LinearScale\"},{\"attributes\":{\"end\":17.281191219495856,\"reset_end\":17.281191219495856,\"reset_start\":-1.847510208488686,\"start\":-1.847510208488686,\"tags\":[[[\"value\",\"value\",null]]]},\"id\":\"25776\",\"type\":\"Range1d\"},{\"attributes\":{\"data\":{\"Date\":{\"__ndarray__\":\"AACA8yhMd0IAAEBZe0x3QgAAAL/NTHdCAADAJCBNd0IAAICKck13QgAAQPDETXdCAAAAVhdOd0IAAMC7aU53QgAAgCG8TndCAABAhw5Pd0IAAADtYE93QgAAwFKzT3dCAACAuAVQd0IAAEAeWFB3QgAAAISqUHdCAADA6fxQd0IAAIBPT1F3QgAAQLWhUXdCAAAAG/RRd0IAAMCARlJ3QgAAgOaYUndCAABATOtSd0IAAACyPVN3QgAAwBeQU3dCAACAfeJTd0IAAEDjNFR3QgAAAEmHVHdCAADArtlUd0IAAIAULFV3QgAAQHp+VXdCAAAA4NBVd0IAAMBFI1Z3QgAAgKt1VndCAABAEchWd0IAAAB3Gld3QgAAwNxsV3dCAACAQr9Xd0IAAECoEVh3QgAAAA5kWHdCAADAc7ZYd0IAAIDZCFl3QgAAQD9bWXdCAAAApa1Zd0IAAMAKAFp3QgAAgHBSWndCAABA1qRad0IAAAA891p3QgAAwKFJW3dCAACAB5xbd0IAAMA4k1x3QgAAgJ7lXHdCAABABDhdd0IAAABqil13QgAAwM/cXXdCAACANS9ed0IAAECbgV53QgAAAAHUXndCAADAZiZfd0IAAIDMeF93QgAAQDLLX3dCAAAAmB1gd0IAAMD9b2B3QgAAgGPCYHdCAABAyRRhd0IAAAAvZ2F3QgAAwJS5YXdCAACA+gtid0IAAEBgXmJ3QgAAAMawYndCAADAKwNjd0IAAICRVWN3QgAAQPenY3dCAAAAXfpjd0IAAMDCTGR3QgAAgCifZHdCAABAjvFkd0IAAAD0Q2V3QgAAwFmWZXdCAACAv+hld0IAAEAlO2Z3QgAAAIuNZndCAADA8N9md0IAAIBWMmd3QgAAQLyEZ3dCAAAAItdnd0IAAMCHKWh3QgAAgO17aHdCAABAU85od0IAAAC5IGl3QgAAwB5zaXdCAACAhMVpd0IAAEDqF2p3QgAAAFBqandCAADAtbxqd0IAAIAbD2t3QgAAQIFha3dCAAAA57Nrd0IAAMBMBmx3QgAAgLJYbHdCAABAGKtsd0IAAAB+/Wx3QgAAwONPbXdCAADAeplud0IAAIDg6253QgAAQEY+b3dCAAAArJBvd0IAAMAR4293QgAAgHc1cHdCAABA3Ydwd0IAAABD2nB3QgAAwKgscXdCAACADn9xd0IAAEB00XF3QgAAANojcndCAADAP3Zyd0IAAIClyHJ3QgAAQAsbc3dCAAAAcW1zd0IAAMDWv3N3QgAAgDwSdHdCAABAomR0d0IAAAAIt3R3QgAAwG0JdXdCAACA01t1d0IAAEA5rnV3QgAAAJ8AdndCAADABFN2d0IAAIBqpXZ3QgAAQND3dndCAAAANkp3d0IAAMCbnHd3QgAAgAHvd3dCAABAZ0F4d0IAAADNk3h3QgAAwDLmeHdCAACAmDh5d0IAAED+inl3QgAAAGTdeXdCAADAyS96d0IAAIAvgnp3QgAAQJXUendCAAAA+yZ7d0IAAMBgeXt3QgAAgMbLe3dCAABALB58d0IAAACScHx3QgAAwPfCfHdCAACAXRV9d0IAAEDDZ313QgAAACm6fXdCAADAjgx+d0IAAID0Xn53QgAAQFqxfndCAAAAwAN/d0IAAMAlVn93QgAAgIuof3dCAABA8fp/d0IAAABXTYB3QgAAwLyfgHdCAACAIvKAd0IAAECIRIF3QgAAAO6WgXdCAADAU+mBd0IAAIC5O4J3QgAAQB+OgndCAAAAheCCd0IAAMDqMoN3QgAAgFCFg3dCAABAtteDd0IAAAAcKoR3QgAAwIF8hHdCAACA586Ed0IAAEBNIYV3QgAAALNzhXdCAADAGMaFd0IAAIB+GIZ3QgAAQORqhndCAAAASr2Gd0IAAMCvD4d3QgAAgBVih3dCAABAe7SHd0IAAADhBoh3Qg==\",\"dtype\":\"float64\",\"order\":\"little\",\"shape\":[182]},\"Variable\":[\"ETH\",\"ETH\",\"ETH\",\"ETH\",\"ETH\",\"ETH\",\"ETH\",\"ETH\",\"ETH\",\"ETH\",\"ETH\",\"ETH\",\"ETH\",\"ETH\",\"ETH\",\"ETH\",\"ETH\",\"ETH\",\"ETH\",\"ETH\",\"ETH\",\"ETH\",\"ETH\",\"ETH\",\"ETH\",\"ETH\",\"ETH\",\"ETH\",\"ETH\",\"ETH\",\"ETH\",\"ETH\",\"ETH\",\"ETH\",\"ETH\",\"ETH\",\"ETH\",\"ETH\",\"ETH\",\"ETH\",\"ETH\",\"ETH\",\"ETH\",\"ETH\",\"ETH\",\"ETH\",\"ETH\",\"ETH\",\"ETH\",\"ETH\",\"ETH\",\"ETH\",\"ETH\",\"ETH\",\"ETH\",\"ETH\",\"ETH\",\"ETH\",\"ETH\",\"ETH\",\"ETH\",\"ETH\",\"ETH\",\"ETH\",\"ETH\",\"ETH\",\"ETH\",\"ETH\",\"ETH\",\"ETH\",\"ETH\",\"ETH\",\"ETH\",\"ETH\",\"ETH\",\"ETH\",\"ETH\",\"ETH\",\"ETH\",\"ETH\",\"ETH\",\"ETH\",\"ETH\",\"ETH\",\"ETH\",\"ETH\",\"ETH\",\"ETH\",\"ETH\",\"ETH\",\"ETH\",\"ETH\",\"ETH\",\"ETH\",\"ETH\",\"ETH\",\"ETH\",\"ETH\",\"ETH\",\"ETH\",\"ETH\",\"ETH\",\"ETH\",\"ETH\",\"ETH\",\"ETH\",\"ETH\",\"ETH\",\"ETH\",\"ETH\",\"ETH\",\"ETH\",\"ETH\",\"ETH\",\"ETH\",\"ETH\",\"ETH\",\"ETH\",\"ETH\",\"ETH\",\"ETH\",\"ETH\",\"ETH\",\"ETH\",\"ETH\",\"ETH\",\"ETH\",\"ETH\",\"ETH\",\"ETH\",\"ETH\",\"ETH\",\"ETH\",\"ETH\",\"ETH\",\"ETH\",\"ETH\",\"ETH\",\"ETH\",\"ETH\",\"ETH\",\"ETH\",\"ETH\",\"ETH\",\"ETH\",\"ETH\",\"ETH\",\"ETH\",\"ETH\",\"ETH\",\"ETH\",\"ETH\",\"ETH\",\"ETH\",\"ETH\",\"ETH\",\"ETH\",\"ETH\",\"ETH\",\"ETH\",\"ETH\",\"ETH\",\"ETH\",\"ETH\",\"ETH\",\"ETH\",\"ETH\",\"ETH\",\"ETH\",\"ETH\",\"ETH\",\"ETH\",\"ETH\",\"ETH\",\"ETH\",\"ETH\",\"ETH\",\"ETH\",\"ETH\",\"ETH\",\"ETH\",\"ETH\"],\"value\":{\"__ndarray__\":\"AMNkMLFRfz8Ay6T+3vmLP4CZuYR4T5g/AMhtLsWQiz+AHVH4JyyfP4BlQZggDp8/AJ7Za4+jhj8AIhU7MyyFv0CkGTq9S4O/AFe7+ZCXgj+AG9VsBYSIP0CVgrRe5pe/QJmim3U6lr8Ao+Jpo+JyP4AZLhD3RKc/oE1+LH2Crz/QBZX/Xk6yP5BgTIL1ULs/oI1MWiV/tz/QBlNFcKK1P0DX7cog4bQ/4N1yVFfIpz9g8tMe9VOsP2A5EO3QIrU/QPiN7QsTtj9Axd26uWasP0C39wVegb4/CHtsVSS8xz+Yp4MWV//FPxCKFYoLFsc/uPbmkP3TxD+AQ7heOPG/P9g3aZDC48M/0PUK7w69vD9gIJI8Nta7P4CCvtLaWLg/8EBTvBheuz8g0hTYclnBP3AwCGWd5bg/8P/QvFNOvD94WCoQpWvDP6iT8kBTvMg/UBk4hOuF0z8gZHneGnnPP2zWnLnWUdM/dPGbLw5n0T/cuDNnBYnSPyzO77bh5NQ/hHnKMpCd1D80636gJCTSP0wOqvygX9Q/KDZBFwRe2D+co2MvQKvXPxAXMWgkVtY/DOLwwcZ/3T/iTL3lUZviP6BGoFZoWOM/4Gg3dgXR5z8E9cNRuW7nP0DC12asPOQ/SE7Ud0Ey3z/cgJEforLeP4JdS2hiR+E/dvJZdR+75D8c5YsabXLoP96+1BO5peU/oLfvysnN5j+uxcsLMXLoPyAGO+vGBeQ/QDGcoXyo5j8iOZlEFR3nP85RXSFfMOY/QEygUS7e4j/a+wKvQI/kPwBQSZCJLOM/FoCXIdbY4T+2ub0v8ArkPy6e2tw1K+Y/IsxfQ9a65T9cQH6NBPXlP0oE1YDtbOo/dBldU6P26j8kMhz2cunrP/aTk/JAU+w/Ls7gCHOD6j+aN+2tjL3nP3LXUIvzZOo/1r7UE7ml5T9yomK+mSPoPxgm0CgXb+k/2mKHG+NS6j82hVfyIL7uP2Sp5Ea2d/E/fLQMDRSH8T8oaCmQUHXyPzrRhdUNt/E/6Oycpe5o8T+OrTNxeX3zPxKe8/6Yzfw/4KgFpK3N/z/NZ9BDcjIBQN/MusgUiwNAIx6QWunGBEBYTN5CSfEAQJ59x4NPDgBAEvJcdjlO/j/xyDlai0AEQMEztKQSxwJAmHrLozYlBEC566ritkIEQFy8Zf2k0QRAinhK3plcB0Bd36RBCo8HQJwh0Z73cAFAHZTMqeFFBEA78Kls1kAEQC+RvOHf2gdApLWxMMI4BkAnGOD/xkgHQK3lsiKFcARAG0ctIG1tBkAu1Vgdm5YHQDIdEAbzhQdAIqWuPlYUBkDGRQfgDnUHQNIM77epngpAVHk/ousVDkC8Q4Hg94sMQN7Xn2PdZg9AooL8w/VrDkC0QaTNYu0MQH53jJiICBBAuQKU5ctEEEBMruDPu+IPQOTwE6CDchBAfAt3nkcREUBLZJlzWMkQQFwGBG2GoBBAF9aL0gdjEEADNghgY2sQQLrYM6C8KRFATqQVyPwwEkAiIlkugmUSQNefDMro8RFAv1BIyM8mEkCJ0HfvWFsQQOYP3OlTJgxAIB3IoOMxDUC4PS3TzeMJQHq11MYZHAlATp68gFhoCUB46VHt630IQAYy4z7S9gtAkH+zRFMOCkAe8k3IyuwLQMRh00nGPwtAXlnyyaoAC0C8EletvMgNQMiiwETyhg9AbEAdBpL+EED+H5U9UGkRQOSJivlmjhBA4jQH77zjEEA8q+5jlzoQQAhjtl6PBBJAGWFuUJMuEUDkW7jzPIoQQFenY4EZrxBAu+791U3hEED2z1DnQF0QQI8XZx6rtRBAOgbLteWtEECUZAFupW0QQPD1Pmw1jw5AbA/z0lY7DkAO3nSNt1UMQGyrakbNYAxAMrYvTFjsDkCUSIfd8TcPQMTaC3nXpw5AKNHrlvrNEECFghXmWA4RQA==\",\"dtype\":\"float64\",\"order\":\"little\",\"shape\":[182]}},\"selected\":{\"id\":\"25816\"},\"selection_policy\":{\"id\":\"25842\"}},\"id\":\"25815\",\"type\":\"ColumnDataSource\"},{\"attributes\":{\"source\":{\"id\":\"25876\"}},\"id\":\"25883\",\"type\":\"CDSView\"},{\"attributes\":{},\"id\":\"25786\",\"type\":\"LinearScale\"},{\"attributes\":{\"margin\":[5,5,5,5],\"name\":\"HSpacer36249\",\"sizing_mode\":\"stretch_width\"},\"id\":\"26178\",\"type\":\"Spacer\"},{\"attributes\":{\"source\":{\"id\":\"25815\"}},\"id\":\"25822\",\"type\":\"CDSView\"},{\"attributes\":{\"line_alpha\":0.1,\"line_color\":\"#fc4f30\",\"line_width\":2,\"x\":{\"field\":\"Date\"},\"y\":{\"field\":\"value\"}},\"id\":\"25849\",\"type\":\"Line\"},{\"attributes\":{\"line_color\":\"#6d904f\",\"line_width\":2,\"x\":{\"field\":\"Date\"},\"y\":{\"field\":\"value\"}},\"id\":\"25912\",\"type\":\"Line\"},{\"attributes\":{\"num_minor_ticks\":5,\"tickers\":[{\"id\":\"25829\"},{\"id\":\"25830\"},{\"id\":\"25831\"},{\"id\":\"25832\"},{\"id\":\"25833\"},{\"id\":\"25834\"},{\"id\":\"25835\"},{\"id\":\"25836\"},{\"id\":\"25837\"},{\"id\":\"25838\"},{\"id\":\"25839\"},{\"id\":\"25840\"}]},\"id\":\"25791\",\"type\":\"DatetimeTicker\"},{\"attributes\":{\"line_alpha\":0.2,\"line_color\":\"#e5ae38\",\"line_width\":2,\"x\":{\"field\":\"Date\"},\"y\":{\"field\":\"value\"}},\"id\":\"25881\",\"type\":\"Line\"},{\"attributes\":{\"source\":{\"id\":\"25909\"}},\"id\":\"25916\",\"type\":\"CDSView\"},{\"attributes\":{\"axis\":{\"id\":\"25794\"},\"dimension\":1,\"grid_line_color\":null,\"ticker\":null},\"id\":\"25797\",\"type\":\"Grid\"},{\"attributes\":{\"months\":[0,1,2,3,4,5,6,7,8,9,10,11]},\"id\":\"25836\",\"type\":\"MonthsTicker\"},{\"attributes\":{\"axis\":{\"id\":\"25790\"},\"grid_line_color\":null,\"ticker\":null},\"id\":\"25793\",\"type\":\"Grid\"},{\"attributes\":{\"line_color\":\"#30a2da\",\"line_width\":2,\"x\":{\"field\":\"Date\"},\"y\":{\"field\":\"value\"}},\"id\":\"25818\",\"type\":\"Line\"},{\"attributes\":{},\"id\":\"25795\",\"type\":\"BasicTicker\"},{\"attributes\":{\"days\":[1,2,3,4,5,6,7,8,9,10,11,12,13,14,15,16,17,18,19,20,21,22,23,24,25,26,27,28,29,30,31]},\"id\":\"25832\",\"type\":\"DaysTicker\"},{\"attributes\":{\"axis_label\":\"\",\"bounds\":\"auto\",\"formatter\":{\"id\":\"25813\"},\"major_label_orientation\":\"horizontal\",\"ticker\":{\"id\":\"25795\"}},\"id\":\"25794\",\"type\":\"LinearAxis\"},{\"attributes\":{\"callback\":null,\"formatters\":{\"@{Date}\":\"datetime\"},\"renderers\":[{\"id\":\"25821\"},{\"id\":\"25851\"},{\"id\":\"25882\"},{\"id\":\"25915\"}],\"tags\":[\"hv_created\"],\"tooltips\":[[\"Variable\",\"@{Variable}\"],[\"Date\",\"@{Date}{%F %T}\"],[\"value\",\"@{value}\"]]},\"id\":\"25777\",\"type\":\"HoverTool\"},{\"attributes\":{},\"id\":\"25877\",\"type\":\"Selection\"},{\"attributes\":{\"line_alpha\":0.2,\"line_color\":\"#fc4f30\",\"line_width\":2,\"x\":{\"field\":\"Date\"},\"y\":{\"field\":\"value\"}},\"id\":\"25850\",\"type\":\"Line\"},{\"attributes\":{\"label\":{\"value\":\"ADA\"},\"renderers\":[{\"id\":\"25915\"}]},\"id\":\"25943\",\"type\":\"LegendItem\"},{\"attributes\":{\"line_alpha\":0.1,\"line_color\":\"#e5ae38\",\"line_width\":2,\"x\":{\"field\":\"Date\"},\"y\":{\"field\":\"value\"}},\"id\":\"25880\",\"type\":\"Line\"},{\"attributes\":{\"line_alpha\":0.1,\"line_color\":\"#6d904f\",\"line_width\":2,\"x\":{\"field\":\"Date\"},\"y\":{\"field\":\"value\"}},\"id\":\"25913\",\"type\":\"Line\"},{\"attributes\":{},\"id\":\"25942\",\"type\":\"UnionRenderers\"},{\"attributes\":{},\"id\":\"25910\",\"type\":\"Selection\"},{\"attributes\":{\"base\":60,\"mantissas\":[1,2,5,10,15,20,30],\"max_interval\":1800000.0,\"min_interval\":1000.0,\"num_minor_ticks\":0},\"id\":\"25830\",\"type\":\"AdaptiveTicker\"},{\"attributes\":{\"line_color\":\"#fc4f30\",\"line_width\":2,\"x\":{\"field\":\"Date\"},\"y\":{\"field\":\"value\"}},\"id\":\"25848\",\"type\":\"Line\"},{\"attributes\":{\"line_alpha\":0.2,\"line_color\":\"#30a2da\",\"line_width\":2,\"x\":{\"field\":\"Date\"},\"y\":{\"field\":\"value\"}},\"id\":\"25820\",\"type\":\"Line\"},{\"attributes\":{},\"id\":\"25798\",\"type\":\"SaveTool\"},{\"attributes\":{\"days\":[1,4,7,10,13,16,19,22,25,28]},\"id\":\"25833\",\"type\":\"DaysTicker\"},{\"attributes\":{\"months\":[0,4,8]},\"id\":\"25838\",\"type\":\"MonthsTicker\"},{\"attributes\":{},\"id\":\"25799\",\"type\":\"PanTool\"},{\"attributes\":{\"data\":{\"Date\":{\"__ndarray__\":\"AACA8yhMd0IAAEBZe0x3QgAAAL/NTHdCAADAJCBNd0IAAICKck13QgAAQPDETXdCAAAAVhdOd0IAAMC7aU53QgAAgCG8TndCAABAhw5Pd0IAAADtYE93QgAAwFKzT3dCAACAuAVQd0IAAEAeWFB3QgAAAISqUHdCAADA6fxQd0IAAIBPT1F3QgAAQLWhUXdCAAAAG/RRd0IAAMCARlJ3QgAAgOaYUndCAABATOtSd0IAAACyPVN3QgAAwBeQU3dCAACAfeJTd0IAAEDjNFR3QgAAAEmHVHdCAADArtlUd0IAAIAULFV3QgAAQHp+VXdCAAAA4NBVd0IAAMBFI1Z3QgAAgKt1VndCAABAEchWd0IAAAB3Gld3QgAAwNxsV3dCAACAQr9Xd0IAAECoEVh3QgAAAA5kWHdCAADAc7ZYd0IAAIDZCFl3QgAAQD9bWXdCAAAApa1Zd0IAAMAKAFp3QgAAgHBSWndCAABA1qRad0IAAAA891p3QgAAwKFJW3dCAACAB5xbd0IAAMA4k1x3QgAAgJ7lXHdCAABABDhdd0IAAABqil13QgAAwM/cXXdCAACANS9ed0IAAECbgV53QgAAAAHUXndCAADAZiZfd0IAAIDMeF93QgAAQDLLX3dCAAAAmB1gd0IAAMD9b2B3QgAAgGPCYHdCAABAyRRhd0IAAAAvZ2F3QgAAwJS5YXdCAACA+gtid0IAAEBgXmJ3QgAAAMawYndCAADAKwNjd0IAAICRVWN3QgAAQPenY3dCAAAAXfpjd0IAAMDCTGR3QgAAgCifZHdCAABAjvFkd0IAAAD0Q2V3QgAAwFmWZXdCAACAv+hld0IAAEAlO2Z3QgAAAIuNZndCAADA8N9md0IAAIBWMmd3QgAAQLyEZ3dCAAAAItdnd0IAAMCHKWh3QgAAgO17aHdCAABAU85od0IAAAC5IGl3QgAAwB5zaXdCAACAhMVpd0IAAEDqF2p3QgAAAFBqandCAADAtbxqd0IAAIAbD2t3QgAAQIFha3dCAAAA57Nrd0IAAMBMBmx3QgAAgLJYbHdCAABAGKtsd0IAAAB+/Wx3QgAAwONPbXdCAADAeplud0IAAIDg6253QgAAQEY+b3dCAAAArJBvd0IAAMAR4293QgAAgHc1cHdCAABA3Ydwd0IAAABD2nB3QgAAwKgscXdCAACADn9xd0IAAEB00XF3QgAAANojcndCAADAP3Zyd0IAAIClyHJ3QgAAQAsbc3dCAAAAcW1zd0IAAMDWv3N3QgAAgDwSdHdCAABAomR0d0IAAAAIt3R3QgAAwG0JdXdCAACA01t1d0IAAEA5rnV3QgAAAJ8AdndCAADABFN2d0IAAIBqpXZ3QgAAQND3dndCAAAANkp3d0IAAMCbnHd3QgAAgAHvd3dCAABAZ0F4d0IAAADNk3h3QgAAwDLmeHdCAACAmDh5d0IAAED+inl3QgAAAGTdeXdCAADAyS96d0IAAIAvgnp3QgAAQJXUendCAAAA+yZ7d0IAAMBgeXt3QgAAgMbLe3dCAABALB58d0IAAACScHx3QgAAwPfCfHdCAACAXRV9d0IAAEDDZ313QgAAACm6fXdCAADAjgx+d0IAAID0Xn53QgAAQFqxfndCAAAAwAN/d0IAAMAlVn93QgAAgIuof3dCAABA8fp/d0IAAABXTYB3QgAAwLyfgHdCAACAIvKAd0IAAECIRIF3QgAAAO6WgXdCAADAU+mBd0IAAIC5O4J3QgAAQB+OgndCAAAAheCCd0IAAMDqMoN3QgAAgFCFg3dCAABAtteDd0IAAAAcKoR3QgAAwIF8hHdCAACA586Ed0IAAEBNIYV3QgAAALNzhXdCAADAGMaFd0IAAIB+GIZ3QgAAQORqhndCAAAASr2Gd0IAAMCvD4d3QgAAgBVih3dCAABAe7SHd0IAAADhBoh3Qg==\",\"dtype\":\"float64\",\"order\":\"little\",\"shape\":[182]},\"Variable\":[\"VET\",\"VET\",\"VET\",\"VET\",\"VET\",\"VET\",\"VET\",\"VET\",\"VET\",\"VET\",\"VET\",\"VET\",\"VET\",\"VET\",\"VET\",\"VET\",\"VET\",\"VET\",\"VET\",\"VET\",\"VET\",\"VET\",\"VET\",\"VET\",\"VET\",\"VET\",\"VET\",\"VET\",\"VET\",\"VET\",\"VET\",\"VET\",\"VET\",\"VET\",\"VET\",\"VET\",\"VET\",\"VET\",\"VET\",\"VET\",\"VET\",\"VET\",\"VET\",\"VET\",\"VET\",\"VET\",\"VET\",\"VET\",\"VET\",\"VET\",\"VET\",\"VET\",\"VET\",\"VET\",\"VET\",\"VET\",\"VET\",\"VET\",\"VET\",\"VET\",\"VET\",\"VET\",\"VET\",\"VET\",\"VET\",\"VET\",\"VET\",\"VET\",\"VET\",\"VET\",\"VET\",\"VET\",\"VET\",\"VET\",\"VET\",\"VET\",\"VET\",\"VET\",\"VET\",\"VET\",\"VET\",\"VET\",\"VET\",\"VET\",\"VET\",\"VET\",\"VET\",\"VET\",\"VET\",\"VET\",\"VET\",\"VET\",\"VET\",\"VET\",\"VET\",\"VET\",\"VET\",\"VET\",\"VET\",\"VET\",\"VET\",\"VET\",\"VET\",\"VET\",\"VET\",\"VET\",\"VET\",\"VET\",\"VET\",\"VET\",\"VET\",\"VET\",\"VET\",\"VET\",\"VET\",\"VET\",\"VET\",\"VET\",\"VET\",\"VET\",\"VET\",\"VET\",\"VET\",\"VET\",\"VET\",\"VET\",\"VET\",\"VET\",\"VET\",\"VET\",\"VET\",\"VET\",\"VET\",\"VET\",\"VET\",\"VET\",\"VET\",\"VET\",\"VET\",\"VET\",\"VET\",\"VET\",\"VET\",\"VET\",\"VET\",\"VET\",\"VET\",\"VET\",\"VET\",\"VET\",\"VET\",\"VET\",\"VET\",\"VET\",\"VET\",\"VET\",\"VET\",\"VET\",\"VET\",\"VET\",\"VET\",\"VET\",\"VET\",\"VET\",\"VET\",\"VET\",\"VET\",\"VET\",\"VET\",\"VET\",\"VET\",\"VET\",\"VET\",\"VET\",\"VET\",\"VET\",\"VET\",\"VET\",\"VET\",\"VET\",\"VET\",\"VET\"],\"value\":{\"__ndarray__\":\"gLKnr46ppT+AqId9p/miP8DiYlAvb50/QBYKGJWzoD8Q7RO8lTSwPxAwKmchsLc/QM5noq8vnT9Ai1H3I7Slv5DtPczH/qq/EAxZrC7urb/QOGU/Jba0v2xqw1Lcfce/OPTYADd7t79okHaYMHG8v1jjCJLH6bK/QIZBXjBctL/QNCX4+6Kzv6Bz5lNFprS/wM4N5Eeqsr/AEFQ9CeG5vxgKuQiaZL2/MGxO7leiwr9w9O0IUOC8vzCalsoXIa+/gBA/NfB7tL/wiwxB1ZPAv9j/g86ZT7W/IIExxTwEk7+AoDH/hp2Lv4DcWFU/CIG/IPq46/QXqb+QdLalD+u0vxDDYhbl1bS/pLhau5gDwr/YBJRnjafGv7ym/OEr1ce/6NXSKOnwyb9END3PloDDv1i794+rFMi/WJ7zto040L8QcnDA4ubOv9AqR63hmsu/SL5nhQrjuL9gTJCb2rDEv9Bz+1teC7q/SCz/JxECvL+Inzedio6wvzjtKMSumbW/HAcHLG7uwb/Y3IJlcdK7v8iefFPZrrW/AOqdKDN1ar/g0mIziiKpv8DMbUCzILK/AATZHdzHm78YxDJorxrFP6AlZPOhhb8/jIDVB6XQ0j/gvd7ovmzTPxh4DsTT29U/mC2imicExz84jCFJ7vjFP0jnisC9pM4/OMv3rFBhzD9QWK/9b5bSP2C794+rFMg/pEwEMA3C1D8o/SjhU+bZPyAreVpHBNE/rNf+N0tp2j/oRjlNaIrYP9yUngi/pt0/6CTGTj2q1D/UUygByLTWPwD1k0roWtI/AGRay9Jq0D8gTryqPCnVP0zriCAaENU/YHNyvxKV1D9YncTYqUfVP3isaDi3YNk/sB4TQzNQ2D/EOAazCwraP7SGyvp70tk/HJrgThho1D/0sR4TQzPQP7hC5P0lEtI/kKbn2RJwsj/AX+jWQ+7JP+i2zx8d38Y/3MO+03wJ1T/IO9U0hITVP7rTHX07AuQ/pAQg01qW5j86wfy86VTkPwopn2wZcuA/5ivVF9834T82IfqbRqjjP3zLDLVpxvE/ICZMHAeo7z+gIpVxKQv0P/7NUpqWyvc/mvdVYXsP8z8G6OZ9VdjuP8qeHce/Aus/irdQHzW28T9golCjA1DxP2QWRGIuvPA/IEVPJdO58j+ECxL3rx/zPzb1qFIBwPc/cCg7Ek6f9T8UatOMQ7z8P36F5aCYKPQ/VloNujd4+D+ce4OH5ND2PzgIsju4j/c/ttyKAqVx9j/27jcuxA32PzL0GugDI/I/nkfX8cxl8z8mcV6HS/rzP1Yxzdk3svI/JD6CQ/7T8D92eLyin/X1PwjBpc0DSPQ/krLh+Sey9T/q0qQaV8rzP6DneoZWZvk/ro6pFeik9j9Kd5Vh76P1Pzpa02+eb/g/tOP4V2Cr/T/KliEHByz+PwYNynHfhgNAaMfxr8BWC0DSM1WmMV4LQLrLgEmc1wlA0j7BW0kDCUDTdTxz2egHQCw1dEquEAlA7vfmmvokC0Ak4sSrypMKQGjOXwV8kApA7Pi27MRpC0CE7d4/rlIIQNLQyiwpOANAR5eqo1KiA0AxhfXa/2YBQDxoDqcujwFA9fR2pZtWAkD4BeDqvZwBQEnjLdRHjQVAUPL2ddVJBEDCGwLa7S0KQAapEBrzbwhAHDf3SPaVCUB0a/IwwG4KQF6uLR7MjQxAtBwUE4UaEUBpKh2dr9AQQEacGclfpg9AmfIoIzuzEUBBDq/LwjARQFMaZwQLyxFAygS5qQ1LEUD7WDD9h20VQP9JJXQtCRRAAXkDWB7EFED/edOp6AgVQBx53hWeIBZArOXa4sHcGECyL75vIj4aQEfuOv1FhhhA6DZBzfbcFkDbh3UKxnMXQJKWrXLUGhZAvQg72AMGGUCw5AqR95cYQGQiwlDdTRlAl7dQHzW2GUDjvk+ubwUZQA==\",\"dtype\":\"float64\",\"order\":\"little\",\"shape\":[182]}},\"selected\":{\"id\":\"25846\"},\"selection_policy\":{\"id\":\"25874\"}},\"id\":\"25845\",\"type\":\"ColumnDataSource\"},{\"attributes\":{\"months\":[0,2,4,6,8,10]},\"id\":\"25837\",\"type\":\"MonthsTicker\"},{\"attributes\":{},\"id\":\"25802\",\"type\":\"ResetTool\"},{\"attributes\":{},\"id\":\"25800\",\"type\":\"WheelZoomTool\"},{\"attributes\":{\"base\":24,\"mantissas\":[1,2,4,6,8,12],\"max_interval\":43200000.0,\"min_interval\":3600000.0,\"num_minor_ticks\":0},\"id\":\"25831\",\"type\":\"AdaptiveTicker\"},{\"attributes\":{\"data_source\":{\"id\":\"25845\"},\"glyph\":{\"id\":\"25848\"},\"hover_glyph\":null,\"muted_glyph\":{\"id\":\"25850\"},\"nonselection_glyph\":{\"id\":\"25849\"},\"selection_glyph\":null,\"view\":{\"id\":\"25852\"}},\"id\":\"25851\",\"type\":\"GlyphRenderer\"},{\"attributes\":{\"overlay\":{\"id\":\"25803\"}},\"id\":\"25801\",\"type\":\"BoxZoomTool\"},{\"attributes\":{\"data_source\":{\"id\":\"25815\"},\"glyph\":{\"id\":\"25818\"},\"hover_glyph\":null,\"muted_glyph\":{\"id\":\"25820\"},\"nonselection_glyph\":{\"id\":\"25819\"},\"selection_glyph\":null,\"view\":{\"id\":\"25822\"}},\"id\":\"25821\",\"type\":\"GlyphRenderer\"},{\"attributes\":{\"label\":{\"value\":\"VET\"},\"renderers\":[{\"id\":\"25851\"}]},\"id\":\"25875\",\"type\":\"LegendItem\"},{\"attributes\":{\"end\":1617062400000.0,\"reset_end\":1617062400000.0,\"reset_start\":1600992000000.0,\"start\":1600992000000.0,\"tags\":[[[\"Date\",\"Date\",null]]]},\"id\":\"25775\",\"type\":\"Range1d\"},{\"attributes\":{},\"id\":\"25816\",\"type\":\"Selection\"},{\"attributes\":{},\"id\":\"25846\",\"type\":\"Selection\"}],\"root_ids\":[\"25773\"]},\"title\":\"Bokeh Application\",\"version\":\"2.2.3\"}};\n",
       "    var render_items = [{\"docid\":\"cb2767e4-227a-4154-8d41-6cb4e3892609\",\"root_ids\":[\"25773\"],\"roots\":{\"25773\":\"b7a64de2-31ce-488b-9b55-1244d50057e8\"}}];\n",
       "    root.Bokeh.embed.embed_items_notebook(docs_json, render_items);\n",
       "  }\n",
       "  if (root.Bokeh !== undefined && root.Bokeh.Panel !== undefined) {\n",
       "    embed_document(root);\n",
       "  } else {\n",
       "    var attempts = 0;\n",
       "    var timer = setInterval(function(root) {\n",
       "      if (root.Bokeh !== undefined && root.Bokeh.Panel !== undefined) {\n",
       "        clearInterval(timer);\n",
       "        embed_document(root);\n",
       "      } else if (document.readyState == \"complete\") {\n",
       "        attempts++;\n",
       "        if (attempts > 100) {\n",
       "          clearInterval(timer);\n",
       "          console.log(\"Bokeh: ERROR: Unable to run BokehJS code because BokehJS library is missing\");\n",
       "        }\n",
       "      }\n",
       "    }, 10, root)\n",
       "  }\n",
       "})(window);</script>"
      ],
      "text/plain": [
       ":NdOverlay   [Variable]\n",
       "   :Curve   [Date]   (value)"
      ]
     },
     "execution_count": 278,
     "metadata": {
      "application/vnd.holoviews_exec.v0+json": {
       "id": "25773"
      }
     },
     "output_type": "execute_result"
    }
   ],
   "source": [
    "#Cumulative returns over 6 months\n",
    "cumulative_returns6.hvplot(figsize = (20,10), title = 'Cumulative returns for all crypto over 6 month')"
   ]
  },
  {
   "cell_type": "code",
   "execution_count": 279,
   "metadata": {},
   "outputs": [
    {
     "data": {},
     "metadata": {},
     "output_type": "display_data"
    },
    {
     "data": {
      "application/vnd.holoviews_exec.v0+json": "",
      "text/html": [
       "<div id='26310'>\n",
       "\n",
       "\n",
       "\n",
       "\n",
       "\n",
       "  <div class=\"bk-root\" id=\"e88e74ee-f1da-4019-bc84-a01b8fbbc2bb\" data-root-id=\"26310\"></div>\n",
       "</div>\n",
       "<script type=\"application/javascript\">(function(root) {\n",
       "  function embed_document(root) {\n",
       "    var docs_json = {\"2a2d67ba-48e5-4d7b-801e-20d02c339112\":{\"roots\":{\"references\":[{\"attributes\":{\"margin\":[5,5,5,5],\"name\":\"HSpacer37007\",\"sizing_mode\":\"stretch_width\"},\"id\":\"26311\",\"type\":\"Spacer\"},{\"attributes\":{\"active_drag\":\"auto\",\"active_inspect\":\"auto\",\"active_multi\":null,\"active_scroll\":\"auto\",\"active_tap\":\"auto\",\"tools\":[{\"id\":\"26314\"},{\"id\":\"26335\"},{\"id\":\"26336\"},{\"id\":\"26337\"},{\"id\":\"26338\"},{\"id\":\"26339\"}]},\"id\":\"26341\",\"type\":\"Toolbar\"},{\"attributes\":{\"line_alpha\":0.2,\"line_color\":\"#6d904f\",\"line_width\":2,\"x\":{\"field\":\"Date\"},\"y\":{\"field\":\"value\"}},\"id\":\"26451\",\"type\":\"Line\"},{\"attributes\":{\"bottom_units\":\"screen\",\"fill_alpha\":0.5,\"fill_color\":\"lightgrey\",\"left_units\":\"screen\",\"level\":\"overlay\",\"line_alpha\":1.0,\"line_color\":\"black\",\"line_dash\":[4,4],\"line_width\":2,\"right_units\":\"screen\",\"top_units\":\"screen\"},\"id\":\"26340\",\"type\":\"BoxAnnotation\"},{\"attributes\":{\"data\":{\"Date\":{\"__ndarray__\":\"AAAAUGpqd0IAAMC1vGp3QgAAgBsPa3dCAABAgWFrd0IAAADns2t3QgAAwEwGbHdCAACAslhsd0IAAEAYq2x3QgAAAH79bHdCAADA409td0IAAMB6mW53QgAAgODrbndCAABARj5vd0IAAACskG93QgAAwBHjb3dCAACAdzVwd0IAAEDdh3B3QgAAAEPacHdCAADAqCxxd0IAAIAOf3F3QgAAQHTRcXdCAAAA2iNyd0IAAMA/dnJ3QgAAgKXIcndCAABACxtzd0IAAABxbXN3QgAAwNa/c3dCAACAPBJ0d0IAAECiZHR3QgAAAAi3dHdCAADAbQl1d0IAAIDTW3V3QgAAQDmudXdCAAAAnwB2d0IAAMAEU3Z3QgAAgGqldndCAABA0Pd2d0IAAAA2Snd3QgAAwJucd3dCAACAAe93d0IAAEBnQXh3QgAAAM2TeHdCAADAMuZ4d0IAAICYOHl3QgAAQP6KeXdCAAAAZN15d0IAAMDJL3p3QgAAgC+CendCAABAldR6d0IAAAD7Jnt3QgAAwGB5e3dCAACAxst7d0IAAEAsHnx3QgAAAJJwfHdCAADA98J8d0IAAIBdFX13QgAAQMNnfXdCAAAAKbp9d0IAAMCODH53QgAAgPRefndCAABAWrF+d0IAAADAA393QgAAwCVWf3dCAACAi6h/d0IAAEDx+n93QgAAAFdNgHdCAADAvJ+Ad0IAAIAi8oB3QgAAQIhEgXdCAAAA7paBd0IAAMBT6YF3QgAAgLk7gndCAABAH46Cd0IAAACF4IJ3QgAAwOoyg3dCAACAUIWDd0IAAEC214N3QgAAABwqhHdCAADAgXyEd0IAAIDnzoR3QgAAQE0hhXdCAAAAs3OFd0IAAMAYxoV3QgAAgH4YhndCAABA5GqGd0IAAABKvYZ3QgAAwK8Ph3dCAACAFWKHd0IAAEB7tId3QgAAAOEGiHdC\",\"dtype\":\"float64\",\"order\":\"little\",\"shape\":[90]},\"Variable\":[\"ETH\",\"ETH\",\"ETH\",\"ETH\",\"ETH\",\"ETH\",\"ETH\",\"ETH\",\"ETH\",\"ETH\",\"ETH\",\"ETH\",\"ETH\",\"ETH\",\"ETH\",\"ETH\",\"ETH\",\"ETH\",\"ETH\",\"ETH\",\"ETH\",\"ETH\",\"ETH\",\"ETH\",\"ETH\",\"ETH\",\"ETH\",\"ETH\",\"ETH\",\"ETH\",\"ETH\",\"ETH\",\"ETH\",\"ETH\",\"ETH\",\"ETH\",\"ETH\",\"ETH\",\"ETH\",\"ETH\",\"ETH\",\"ETH\",\"ETH\",\"ETH\",\"ETH\",\"ETH\",\"ETH\",\"ETH\",\"ETH\",\"ETH\",\"ETH\",\"ETH\",\"ETH\",\"ETH\",\"ETH\",\"ETH\",\"ETH\",\"ETH\",\"ETH\",\"ETH\",\"ETH\",\"ETH\",\"ETH\",\"ETH\",\"ETH\",\"ETH\",\"ETH\",\"ETH\",\"ETH\",\"ETH\",\"ETH\",\"ETH\",\"ETH\",\"ETH\",\"ETH\",\"ETH\",\"ETH\",\"ETH\",\"ETH\",\"ETH\",\"ETH\",\"ETH\",\"ETH\",\"ETH\",\"ETH\",\"ETH\",\"ETH\",\"ETH\",\"ETH\",\"ETH\"],\"value\":{\"__ndarray__\":\"gOvKiTYbsT/wnchdm5ixP1C9VrmwMLk/QA38jxogsz/QdL/umqKwP7Bf9XQozsA/9KoTiuBm2z/chiIv6cLgPwa4e2BqZ+M/6L4j9MEw6D+qUoaGE7XqPz5OzdJ74uI/vEpBjW8T4T8462jCi3feP4gL7uj0ouk/VmdInuKg5j9SooERM2vpPwjpmj1ip+k/0LwN6/jK6j8a2zSE+frvP/BtRubvMPA/zp4Zjvbm4z9ChntK2K3pP/xSDBCOo+k/jh2rjkp+8D9CtRjYl6ftPx7KAmOI0u8/Xud6tdQE6j84CIoWChPuP2bUGZKnOPA/hhrxB6on8D86pQFESl3tP0R37zpvFvA/qIQBXUNQ8z9aUontTNn2P2p1MDB0R/U/TKj8Nv8w+D/wqclxEDH3P9wDid7SqvU/cAy2KJze+D+sZoQPjVn5Py4AXhZZr/g/+LVBldG2+T/YmxeDtvr6P3KM+iD2Z/o/tkwdQq8U+j8AYGkdO5f5PzhUSPhHqPk/RK/BdJss+z8Un9W6qEX9P1TOt2XOsP0/wmOxj/nE/D96idRT5jD9P66p6YKOh/k/Jn6Xzsbf9D9iNvMds/D1P6JmH+GokfI/JF9ZWfTF8T8qp7k2uhPyP6SzjAmbJPE/+uICblGv9D98ojJ1CL3yPwzqSYQWpfQ/XJVlcJr08z+IWngyO7TzP8pkxQSSivY/ylJbrLhR+D/uM/Jci9T6P2rK//tOrvs/sHM0arbv+T+Wqp/hzZ36P7gWzVe7RPk/7lZqFAbr/D8cSjV6ejb7P8AWIKU35/k/+JHk82oy+j/+v4q21pj6PxZ6LgFyi/k/LJ9Xk9E/+j/WObUG9y/6P7rgFz/jrPk/CqOY7QRV9z82uq4TeP/2P5qkv40dEPU/vLdIJGwb9T9UjvqXBbT3P5JUhv0iAfg/zFuQWCVu9z/gjnLxaXH6P1rR6Pu69Po/\",\"dtype\":\"float64\",\"order\":\"little\",\"shape\":[90]}},\"selected\":{\"id\":\"26353\"},\"selection_policy\":{\"id\":\"26379\"}},\"id\":\"26352\",\"type\":\"ColumnDataSource\"},{\"attributes\":{\"months\":[0,6]},\"id\":\"26376\",\"type\":\"MonthsTicker\"},{\"attributes\":{},\"id\":\"26377\",\"type\":\"YearsTicker\"},{\"attributes\":{},\"id\":\"26379\",\"type\":\"UnionRenderers\"},{\"attributes\":{\"click_policy\":\"mute\",\"items\":[{\"id\":\"26381\"},{\"id\":\"26412\"},{\"id\":\"26445\"},{\"id\":\"26480\"}],\"location\":[0,0],\"title\":\"Variable\"},\"id\":\"26380\",\"type\":\"Legend\"},{\"attributes\":{\"label\":{\"value\":\"ADA\"},\"renderers\":[{\"id\":\"26452\"}]},\"id\":\"26480\",\"type\":\"LegendItem\"},{\"attributes\":{\"label\":{\"value\":\"ETH\"},\"renderers\":[{\"id\":\"26358\"}]},\"id\":\"26381\",\"type\":\"LegendItem\"},{\"attributes\":{\"line_alpha\":0.1,\"line_color\":\"#30a2da\",\"line_width\":2,\"x\":{\"field\":\"Date\"},\"y\":{\"field\":\"value\"}},\"id\":\"26356\",\"type\":\"Line\"},{\"attributes\":{\"text\":\"Cumulative returns for all crypto over 3 month\",\"text_color\":{\"value\":\"black\"},\"text_font_size\":{\"value\":\"12pt\"}},\"id\":\"26319\",\"type\":\"Title\"},{\"attributes\":{\"source\":{\"id\":\"26413\"}},\"id\":\"26420\",\"type\":\"CDSView\"},{\"attributes\":{},\"id\":\"26414\",\"type\":\"Selection\"},{\"attributes\":{},\"id\":\"26444\",\"type\":\"UnionRenderers\"},{\"attributes\":{\"label\":{\"value\":\"VET\"},\"renderers\":[{\"id\":\"26388\"}]},\"id\":\"26412\",\"type\":\"LegendItem\"},{\"attributes\":{\"axis_label\":\"Date\",\"bounds\":\"auto\",\"formatter\":{\"id\":\"26348\"},\"major_label_orientation\":\"horizontal\",\"ticker\":{\"id\":\"26328\"}},\"id\":\"26327\",\"type\":\"DatetimeAxis\"},{\"attributes\":{\"below\":[{\"id\":\"26327\"}],\"center\":[{\"id\":\"26330\"},{\"id\":\"26334\"}],\"left\":[{\"id\":\"26331\"}],\"margin\":[5,5,5,5],\"min_border_bottom\":10,\"min_border_left\":10,\"min_border_right\":10,\"min_border_top\":10,\"plot_height\":300,\"plot_width\":700,\"renderers\":[{\"id\":\"26358\"},{\"id\":\"26388\"},{\"id\":\"26419\"},{\"id\":\"26452\"}],\"right\":[{\"id\":\"26380\"}],\"sizing_mode\":\"fixed\",\"title\":{\"id\":\"26319\"},\"toolbar\":{\"id\":\"26341\"},\"x_range\":{\"id\":\"26312\"},\"x_scale\":{\"id\":\"26323\"},\"y_range\":{\"id\":\"26313\"},\"y_scale\":{\"id\":\"26325\"}},\"id\":\"26318\",\"subtype\":\"Figure\",\"type\":\"Plot\"},{\"attributes\":{\"source\":{\"id\":\"26382\"}},\"id\":\"26389\",\"type\":\"CDSView\"},{\"attributes\":{\"days\":[1,15]},\"id\":\"26372\",\"type\":\"DaysTicker\"},{\"attributes\":{},\"id\":\"26447\",\"type\":\"Selection\"},{\"attributes\":{},\"id\":\"26325\",\"type\":\"LinearScale\"},{\"attributes\":{\"data_source\":{\"id\":\"26413\"},\"glyph\":{\"id\":\"26416\"},\"hover_glyph\":null,\"muted_glyph\":{\"id\":\"26418\"},\"nonselection_glyph\":{\"id\":\"26417\"},\"selection_glyph\":null,\"view\":{\"id\":\"26420\"}},\"id\":\"26419\",\"type\":\"GlyphRenderer\"},{\"attributes\":{},\"id\":\"26323\",\"type\":\"LinearScale\"},{\"attributes\":{\"mantissas\":[1,2,5],\"max_interval\":500.0,\"num_minor_ticks\":0},\"id\":\"26366\",\"type\":\"AdaptiveTicker\"},{\"attributes\":{\"source\":{\"id\":\"26352\"}},\"id\":\"26359\",\"type\":\"CDSView\"},{\"attributes\":{\"line_alpha\":0.1,\"line_color\":\"#fc4f30\",\"line_width\":2,\"x\":{\"field\":\"Date\"},\"y\":{\"field\":\"value\"}},\"id\":\"26386\",\"type\":\"Line\"},{\"attributes\":{\"num_minor_ticks\":5,\"tickers\":[{\"id\":\"26366\"},{\"id\":\"26367\"},{\"id\":\"26368\"},{\"id\":\"26369\"},{\"id\":\"26370\"},{\"id\":\"26371\"},{\"id\":\"26372\"},{\"id\":\"26373\"},{\"id\":\"26374\"},{\"id\":\"26375\"},{\"id\":\"26376\"},{\"id\":\"26377\"}]},\"id\":\"26328\",\"type\":\"DatetimeTicker\"},{\"attributes\":{\"data\":{\"Date\":{\"__ndarray__\":\"AAAAUGpqd0IAAMC1vGp3QgAAgBsPa3dCAABAgWFrd0IAAADns2t3QgAAwEwGbHdCAACAslhsd0IAAEAYq2x3QgAAAH79bHdCAADA409td0IAAMB6mW53QgAAgODrbndCAABARj5vd0IAAACskG93QgAAwBHjb3dCAACAdzVwd0IAAEDdh3B3QgAAAEPacHdCAADAqCxxd0IAAIAOf3F3QgAAQHTRcXdCAAAA2iNyd0IAAMA/dnJ3QgAAgKXIcndCAABACxtzd0IAAABxbXN3QgAAwNa/c3dCAACAPBJ0d0IAAECiZHR3QgAAAAi3dHdCAADAbQl1d0IAAIDTW3V3QgAAQDmudXdCAAAAnwB2d0IAAMAEU3Z3QgAAgGqldndCAABA0Pd2d0IAAAA2Snd3QgAAwJucd3dCAACAAe93d0IAAEBnQXh3QgAAAM2TeHdCAADAMuZ4d0IAAICYOHl3QgAAQP6KeXdCAAAAZN15d0IAAMDJL3p3QgAAgC+CendCAABAldR6d0IAAAD7Jnt3QgAAwGB5e3dCAACAxst7d0IAAEAsHnx3QgAAAJJwfHdCAADA98J8d0IAAIBdFX13QgAAQMNnfXdCAAAAKbp9d0IAAMCODH53QgAAgPRefndCAABAWrF+d0IAAADAA393QgAAwCVWf3dCAACAi6h/d0IAAEDx+n93QgAAAFdNgHdCAADAvJ+Ad0IAAIAi8oB3QgAAQIhEgXdCAAAA7paBd0IAAMBT6YF3QgAAgLk7gndCAABAH46Cd0IAAACF4IJ3QgAAwOoyg3dCAACAUIWDd0IAAEC214N3QgAAABwqhHdCAADAgXyEd0IAAIDnzoR3QgAAQE0hhXdCAAAAs3OFd0IAAMAYxoV3QgAAgH4YhndCAABA5GqGd0IAAABKvYZ3QgAAwK8Ph3dCAACAFWKHd0IAAEB7tId3QgAAAOEGiHdC\",\"dtype\":\"float64\",\"order\":\"little\",\"shape\":[90]},\"Variable\":[\"VET\",\"VET\",\"VET\",\"VET\",\"VET\",\"VET\",\"VET\",\"VET\",\"VET\",\"VET\",\"VET\",\"VET\",\"VET\",\"VET\",\"VET\",\"VET\",\"VET\",\"VET\",\"VET\",\"VET\",\"VET\",\"VET\",\"VET\",\"VET\",\"VET\",\"VET\",\"VET\",\"VET\",\"VET\",\"VET\",\"VET\",\"VET\",\"VET\",\"VET\",\"VET\",\"VET\",\"VET\",\"VET\",\"VET\",\"VET\",\"VET\",\"VET\",\"VET\",\"VET\",\"VET\",\"VET\",\"VET\",\"VET\",\"VET\",\"VET\",\"VET\",\"VET\",\"VET\",\"VET\",\"VET\",\"VET\",\"VET\",\"VET\",\"VET\",\"VET\",\"VET\",\"VET\",\"VET\",\"VET\",\"VET\",\"VET\",\"VET\",\"VET\",\"VET\",\"VET\",\"VET\",\"VET\",\"VET\",\"VET\",\"VET\",\"VET\",\"VET\",\"VET\",\"VET\",\"VET\",\"VET\",\"VET\",\"VET\",\"VET\",\"VET\",\"VET\",\"VET\",\"VET\",\"VET\",\"VET\"],\"value\":{\"__ndarray__\":\"eFsUrJywyz+kPVYFW7TRP+CrMZEeqMw/oB8tPxwGwT94SErmJVbDP1DnMe5So8o/sFa/w6qN4j+InL4GXEffP9y6Y73p8uU/9AxYdPOO6z9GeYbvNHrkP6ASe3x9EN4/cL4UR0lT2D+qtIZMaXXiP/ht2KVz3OE/VPEcHS7/4D8CIVt5//njP0Abv2Z2kuQ/kn4OSxx/6z9Spww20k/oP1RzBrOvevE/xE44KPge5j+S1LZx1ZLsPwqWOP42Geo/CuWuntY26z/IlKKKporpPzpl/PQn9eg/VPQCbUUY4z9oakbYZ/vkP/J/ltOq2eU/rkKu05zu4z+ocQI60iLhP3aYzB4F0eg/aK3K6v5N5j/orJd3CWzoP9oygeDjkeU/vtetkj737T9a3p66YNfpP5zVHFjAVug/6hAroPaF7D+YZ3FZoi3yP+Z8ZCDqjfI/0AWOJ4cz+T//6cj0cHICQAzGTJkCeAJAAG9rM7RTAUDskkHdzbQAQIgeqJzdwv8/Ax9iBdS+AEA68bH9ME0CQLNkfR6J4AFAdeYJgA/eAUDn/+BDrIACQBXXw5yiMABA/PJ65La9+D8Qz6Q6nVz5P67txeF5BfY/NjaJ0p5B9j/eSItEHWz3P550b3/qVfY/YB/9sXY7/D9oECXUVlf6P5Nny6dNlAFA8o3bI4pGAEB1S13dkiIBQI+rPJbQxAFAENiD0ThbA0AlPol4UJYHQPISfmLNJwdA5yyImV+sBUBmokwu43oIQFTTTaWatwdAtiIyS4eeCEADkeAv9d4HQIxTQa1ADw5A6o0Iy9/5C0Cg2lVqrhENQPz3s/akeA1Amgjqm00bD0BoHarvn5kRQDQo+B4WohJAuZH3zOZYEUAcjVlnmxoQQHOjhW14ixBAwM5V8aMSD0DofSRVgLgRQLsOe6kkZhFAKi5LtEXuEUD5ydNhXDwSQAV7A3MRuBFA\",\"dtype\":\"float64\",\"order\":\"little\",\"shape\":[90]}},\"selected\":{\"id\":\"26383\"},\"selection_policy\":{\"id\":\"26411\"}},\"id\":\"26382\",\"type\":\"ColumnDataSource\"},{\"attributes\":{\"line_color\":\"#e5ae38\",\"line_width\":2,\"x\":{\"field\":\"Date\"},\"y\":{\"field\":\"value\"}},\"id\":\"26416\",\"type\":\"Line\"},{\"attributes\":{\"axis\":{\"id\":\"26331\"},\"dimension\":1,\"grid_line_color\":null,\"ticker\":null},\"id\":\"26334\",\"type\":\"Grid\"},{\"attributes\":{},\"id\":\"26411\",\"type\":\"UnionRenderers\"},{\"attributes\":{\"axis\":{\"id\":\"26327\"},\"grid_line_color\":null,\"ticker\":null},\"id\":\"26330\",\"type\":\"Grid\"},{\"attributes\":{\"source\":{\"id\":\"26446\"}},\"id\":\"26453\",\"type\":\"CDSView\"},{\"attributes\":{\"data\":{\"Date\":{\"__ndarray__\":\"AAAAUGpqd0IAAMC1vGp3QgAAgBsPa3dCAABAgWFrd0IAAADns2t3QgAAwEwGbHdCAACAslhsd0IAAEAYq2x3QgAAAH79bHdCAADA409td0IAAMB6mW53QgAAgODrbndCAABARj5vd0IAAACskG93QgAAwBHjb3dCAACAdzVwd0IAAEDdh3B3QgAAAEPacHdCAADAqCxxd0IAAIAOf3F3QgAAQHTRcXdCAAAA2iNyd0IAAMA/dnJ3QgAAgKXIcndCAABACxtzd0IAAABxbXN3QgAAwNa/c3dCAACAPBJ0d0IAAECiZHR3QgAAAAi3dHdCAADAbQl1d0IAAIDTW3V3QgAAQDmudXdCAAAAnwB2d0IAAMAEU3Z3QgAAgGqldndCAABA0Pd2d0IAAAA2Snd3QgAAwJucd3dCAACAAe93d0IAAEBnQXh3QgAAAM2TeHdCAADAMuZ4d0IAAICYOHl3QgAAQP6KeXdCAAAAZN15d0IAAMDJL3p3QgAAgC+CendCAABAldR6d0IAAAD7Jnt3QgAAwGB5e3dCAACAxst7d0IAAEAsHnx3QgAAAJJwfHdCAADA98J8d0IAAIBdFX13QgAAQMNnfXdCAAAAKbp9d0IAAMCODH53QgAAgPRefndCAABAWrF+d0IAAADAA393QgAAwCVWf3dCAACAi6h/d0IAAEDx+n93QgAAAFdNgHdCAADAvJ+Ad0IAAIAi8oB3QgAAQIhEgXdCAAAA7paBd0IAAMBT6YF3QgAAgLk7gndCAABAH46Cd0IAAACF4IJ3QgAAwOoyg3dCAACAUIWDd0IAAEC214N3QgAAABwqhHdCAADAgXyEd0IAAIDnzoR3QgAAQE0hhXdCAAAAs3OFd0IAAMAYxoV3QgAAgH4YhndCAABA5GqGd0IAAABKvYZ3QgAAwK8Ph3dCAACAFWKHd0IAAEB7tId3QgAAAOEGiHdC\",\"dtype\":\"float64\",\"order\":\"little\",\"shape\":[90]},\"Variable\":[\"BTC\",\"BTC\",\"BTC\",\"BTC\",\"BTC\",\"BTC\",\"BTC\",\"BTC\",\"BTC\",\"BTC\",\"BTC\",\"BTC\",\"BTC\",\"BTC\",\"BTC\",\"BTC\",\"BTC\",\"BTC\",\"BTC\",\"BTC\",\"BTC\",\"BTC\",\"BTC\",\"BTC\",\"BTC\",\"BTC\",\"BTC\",\"BTC\",\"BTC\",\"BTC\",\"BTC\",\"BTC\",\"BTC\",\"BTC\",\"BTC\",\"BTC\",\"BTC\",\"BTC\",\"BTC\",\"BTC\",\"BTC\",\"BTC\",\"BTC\",\"BTC\",\"BTC\",\"BTC\",\"BTC\",\"BTC\",\"BTC\",\"BTC\",\"BTC\",\"BTC\",\"BTC\",\"BTC\",\"BTC\",\"BTC\",\"BTC\",\"BTC\",\"BTC\",\"BTC\",\"BTC\",\"BTC\",\"BTC\",\"BTC\",\"BTC\",\"BTC\",\"BTC\",\"BTC\",\"BTC\",\"BTC\",\"BTC\",\"BTC\",\"BTC\",\"BTC\",\"BTC\",\"BTC\",\"BTC\",\"BTC\",\"BTC\",\"BTC\",\"BTC\",\"BTC\",\"BTC\",\"BTC\",\"BTC\",\"BTC\",\"BTC\",\"BTC\",\"BTC\",\"BTC\"],\"value\":{\"__ndarray__\":\"wOSXe8YOnz+AUDLai7ulP6CF087bark/EG/ikT80uj/gFvdgqjS+P8Dc7O/B6cw/CKsINIZS0D9YyXZ9wxTMPxhT9CS/1tI/oOyKk66q2T8sPirSfhPdPxR5DHGDn9Y/ULdu+IYL0z/4c/hFJhrbP1jhxMoVed8/oDTVi3/L2T9AT/2n+8fXPzgKvg+/V9c/7E2cAmI62T8EJ0lmoL3XPxw9Rt8WddY/oCeBIcZTxj9UafpQemzQP+hXuZl9Z8w/cDF9gaYlzT/QRC44YDPNP+iWQHYRa84/0G/dfyAxxD8kwMpc/1XRP3xxZHpWmNM/yO1N0quM0z/AYf+Rm6/QP7xi5xnnrdE/SGs8VKR61j/UdmGqOr/bP4i5b5mIINo/bIEdtEBV3T8AT+esjqvfP9j3tQeyr94/pt+FXMOI6D+eJC87+6voP3A22DI6ouY/0t4Ye0966j/ujSPrN7npP2705uvkeek/Lrh4OupF6z+mk8lAV2nqP5om8wgX6us/SElwWa917z8srk5bptruP+rpx0LOD/I/FiQQCnkS8j9ch/cpAf7yPxjrWnne9/A/pNSi93OZ6z+wtZCgu47sP/IwQz33Luk/xJzwhCJ56D94LX9d+DfoPwzHLlaLCOc/uAg8M+pu7D/uvcCLiQHrPwa2tvVXaO0/AmbEALkC6z+yZhztbHTrP1BvN+kbiOs/flLDEIQf7j/eVU87/r3vPwDhHKuHb/E/DsEcK0YH8j/ClDEKCzfzP1yFFTex4/I/gFQudbBI9T9AI6MoBQT0P0wtV3/S/fE/BDk/CCSp8j9UStB1y+TzPySldkqpIPM/XgQ5bgpk8z8oP3gL4mTzP1a8WLw09vI/VmX7Jh//8D/8ksUiAi3xP2yPoCx8wu8/ZOgyfZOJ7j8GuiFyCIjxP3rj8mH9CPI/JJGlXMD58T8oSU8idBrzPy4+T56dzvM/\",\"dtype\":\"float64\",\"order\":\"little\",\"shape\":[90]}},\"selected\":{\"id\":\"26414\"},\"selection_policy\":{\"id\":\"26444\"}},\"id\":\"26413\",\"type\":\"ColumnDataSource\"},{\"attributes\":{},\"id\":\"26332\",\"type\":\"BasicTicker\"},{\"attributes\":{\"axis_label\":\"\",\"bounds\":\"auto\",\"formatter\":{\"id\":\"26350\"},\"major_label_orientation\":\"horizontal\",\"ticker\":{\"id\":\"26332\"}},\"id\":\"26331\",\"type\":\"LinearAxis\"},{\"attributes\":{\"line_color\":\"#30a2da\",\"line_width\":2,\"x\":{\"field\":\"Date\"},\"y\":{\"field\":\"value\"}},\"id\":\"26355\",\"type\":\"Line\"},{\"attributes\":{},\"id\":\"26479\",\"type\":\"UnionRenderers\"},{\"attributes\":{\"days\":[1,2,3,4,5,6,7,8,9,10,11,12,13,14,15,16,17,18,19,20,21,22,23,24,25,26,27,28,29,30,31]},\"id\":\"26369\",\"type\":\"DaysTicker\"},{\"attributes\":{\"line_alpha\":0.2,\"line_color\":\"#fc4f30\",\"line_width\":2,\"x\":{\"field\":\"Date\"},\"y\":{\"field\":\"value\"}},\"id\":\"26387\",\"type\":\"Line\"},{\"attributes\":{\"months\":[0,2,4,6,8,10]},\"id\":\"26374\",\"type\":\"MonthsTicker\"},{\"attributes\":{\"end\":1617062400000.0,\"reset_end\":1617062400000.0,\"reset_start\":1609113600000.0,\"start\":1609113600000.0,\"tags\":[[[\"Date\",\"Date\",null]]]},\"id\":\"26312\",\"type\":\"Range1d\"},{\"attributes\":{},\"id\":\"26350\",\"type\":\"BasicTickFormatter\"},{\"attributes\":{\"line_color\":\"#6d904f\",\"line_width\":2,\"x\":{\"field\":\"Date\"},\"y\":{\"field\":\"value\"}},\"id\":\"26449\",\"type\":\"Line\"},{\"attributes\":{\"base\":60,\"mantissas\":[1,2,5,10,15,20,30],\"max_interval\":1800000.0,\"min_interval\":1000.0,\"num_minor_ticks\":0},\"id\":\"26367\",\"type\":\"AdaptiveTicker\"},{\"attributes\":{\"months\":[0,1,2,3,4,5,6,7,8,9,10,11]},\"id\":\"26373\",\"type\":\"MonthsTicker\"},{\"attributes\":{\"line_color\":\"#fc4f30\",\"line_width\":2,\"x\":{\"field\":\"Date\"},\"y\":{\"field\":\"value\"}},\"id\":\"26385\",\"type\":\"Line\"},{\"attributes\":{\"days\":[1,4,7,10,13,16,19,22,25,28]},\"id\":\"26370\",\"type\":\"DaysTicker\"},{\"attributes\":{\"months\":[0,4,8]},\"id\":\"26375\",\"type\":\"MonthsTicker\"},{\"attributes\":{},\"id\":\"26335\",\"type\":\"SaveTool\"},{\"attributes\":{\"label\":{\"value\":\"BTC\"},\"renderers\":[{\"id\":\"26419\"}]},\"id\":\"26445\",\"type\":\"LegendItem\"},{\"attributes\":{\"line_alpha\":0.2,\"line_color\":\"#30a2da\",\"line_width\":2,\"x\":{\"field\":\"Date\"},\"y\":{\"field\":\"value\"}},\"id\":\"26357\",\"type\":\"Line\"},{\"attributes\":{\"days\":[1,8,15,22]},\"id\":\"26371\",\"type\":\"DaysTicker\"},{\"attributes\":{},\"id\":\"26336\",\"type\":\"PanTool\"},{\"attributes\":{\"line_alpha\":0.2,\"line_color\":\"#e5ae38\",\"line_width\":2,\"x\":{\"field\":\"Date\"},\"y\":{\"field\":\"value\"}},\"id\":\"26418\",\"type\":\"Line\"},{\"attributes\":{\"end\":8.694926137598433,\"reset_end\":8.694926137598433,\"reset_start\":-0.7573607751790787,\"start\":-0.7573607751790787,\"tags\":[[[\"value\",\"value\",null]]]},\"id\":\"26313\",\"type\":\"Range1d\"},{\"attributes\":{},\"id\":\"26339\",\"type\":\"ResetTool\"},{\"attributes\":{\"line_alpha\":0.1,\"line_color\":\"#e5ae38\",\"line_width\":2,\"x\":{\"field\":\"Date\"},\"y\":{\"field\":\"value\"}},\"id\":\"26417\",\"type\":\"Line\"},{\"attributes\":{},\"id\":\"26337\",\"type\":\"WheelZoomTool\"},{\"attributes\":{},\"id\":\"26348\",\"type\":\"DatetimeTickFormatter\"},{\"attributes\":{},\"id\":\"26383\",\"type\":\"Selection\"},{\"attributes\":{\"data_source\":{\"id\":\"26446\"},\"glyph\":{\"id\":\"26449\"},\"hover_glyph\":null,\"muted_glyph\":{\"id\":\"26451\"},\"nonselection_glyph\":{\"id\":\"26450\"},\"selection_glyph\":null,\"view\":{\"id\":\"26453\"}},\"id\":\"26452\",\"type\":\"GlyphRenderer\"},{\"attributes\":{\"base\":24,\"mantissas\":[1,2,4,6,8,12],\"max_interval\":43200000.0,\"min_interval\":3600000.0,\"num_minor_ticks\":0},\"id\":\"26368\",\"type\":\"AdaptiveTicker\"},{\"attributes\":{\"data_source\":{\"id\":\"26382\"},\"glyph\":{\"id\":\"26385\"},\"hover_glyph\":null,\"muted_glyph\":{\"id\":\"26387\"},\"nonselection_glyph\":{\"id\":\"26386\"},\"selection_glyph\":null,\"view\":{\"id\":\"26389\"}},\"id\":\"26388\",\"type\":\"GlyphRenderer\"},{\"attributes\":{\"overlay\":{\"id\":\"26340\"}},\"id\":\"26338\",\"type\":\"BoxZoomTool\"},{\"attributes\":{\"data_source\":{\"id\":\"26352\"},\"glyph\":{\"id\":\"26355\"},\"hover_glyph\":null,\"muted_glyph\":{\"id\":\"26357\"},\"nonselection_glyph\":{\"id\":\"26356\"},\"selection_glyph\":null,\"view\":{\"id\":\"26359\"}},\"id\":\"26358\",\"type\":\"GlyphRenderer\"},{\"attributes\":{\"line_alpha\":0.1,\"line_color\":\"#6d904f\",\"line_width\":2,\"x\":{\"field\":\"Date\"},\"y\":{\"field\":\"value\"}},\"id\":\"26450\",\"type\":\"Line\"},{\"attributes\":{\"children\":[{\"id\":\"26311\"},{\"id\":\"26318\"},{\"id\":\"26715\"}],\"margin\":[0,0,0,0],\"name\":\"Row37003\",\"tags\":[\"embedded\"]},\"id\":\"26310\",\"type\":\"Row\"},{\"attributes\":{\"margin\":[5,5,5,5],\"name\":\"HSpacer37008\",\"sizing_mode\":\"stretch_width\"},\"id\":\"26715\",\"type\":\"Spacer\"},{\"attributes\":{\"data\":{\"Date\":{\"__ndarray__\":\"AAAAUGpqd0IAAMC1vGp3QgAAgBsPa3dCAABAgWFrd0IAAADns2t3QgAAwEwGbHdCAACAslhsd0IAAEAYq2x3QgAAAH79bHdCAADA409td0IAAMB6mW53QgAAgODrbndCAABARj5vd0IAAACskG93QgAAwBHjb3dCAACAdzVwd0IAAEDdh3B3QgAAAEPacHdCAADAqCxxd0IAAIAOf3F3QgAAQHTRcXdCAAAA2iNyd0IAAMA/dnJ3QgAAgKXIcndCAABACxtzd0IAAABxbXN3QgAAwNa/c3dCAACAPBJ0d0IAAECiZHR3QgAAAAi3dHdCAADAbQl1d0IAAIDTW3V3QgAAQDmudXdCAAAAnwB2d0IAAMAEU3Z3QgAAgGqldndCAABA0Pd2d0IAAAA2Snd3QgAAwJucd3dCAACAAe93d0IAAEBnQXh3QgAAAM2TeHdCAADAMuZ4d0IAAICYOHl3QgAAQP6KeXdCAAAAZN15d0IAAMDJL3p3QgAAgC+CendCAABAldR6d0IAAAD7Jnt3QgAAwGB5e3dCAACAxst7d0IAAEAsHnx3QgAAAJJwfHdCAADA98J8d0IAAIBdFX13QgAAQMNnfXdCAAAAKbp9d0IAAMCODH53QgAAgPRefndCAABAWrF+d0IAAADAA393QgAAwCVWf3dCAACAi6h/d0IAAEDx+n93QgAAAFdNgHdCAADAvJ+Ad0IAAIAi8oB3QgAAQIhEgXdCAAAA7paBd0IAAMBT6YF3QgAAgLk7gndCAABAH46Cd0IAAACF4IJ3QgAAwOoyg3dCAACAUIWDd0IAAEC214N3QgAAABwqhHdCAADAgXyEd0IAAIDnzoR3QgAAQE0hhXdCAAAAs3OFd0IAAMAYxoV3QgAAgH4YhndCAABA5GqGd0IAAABKvYZ3QgAAwK8Ph3dCAACAFWKHd0IAAEB7tId3QgAAAOEGiHdC\",\"dtype\":\"float64\",\"order\":\"little\",\"shape\":[90]},\"Variable\":[\"ADA\",\"ADA\",\"ADA\",\"ADA\",\"ADA\",\"ADA\",\"ADA\",\"ADA\",\"ADA\",\"ADA\",\"ADA\",\"ADA\",\"ADA\",\"ADA\",\"ADA\",\"ADA\",\"ADA\",\"ADA\",\"ADA\",\"ADA\",\"ADA\",\"ADA\",\"ADA\",\"ADA\",\"ADA\",\"ADA\",\"ADA\",\"ADA\",\"ADA\",\"ADA\",\"ADA\",\"ADA\",\"ADA\",\"ADA\",\"ADA\",\"ADA\",\"ADA\",\"ADA\",\"ADA\",\"ADA\",\"ADA\",\"ADA\",\"ADA\",\"ADA\",\"ADA\",\"ADA\",\"ADA\",\"ADA\",\"ADA\",\"ADA\",\"ADA\",\"ADA\",\"ADA\",\"ADA\",\"ADA\",\"ADA\",\"ADA\",\"ADA\",\"ADA\",\"ADA\",\"ADA\",\"ADA\",\"ADA\",\"ADA\",\"ADA\",\"ADA\",\"ADA\",\"ADA\",\"ADA\",\"ADA\",\"ADA\",\"ADA\",\"ADA\",\"ADA\",\"ADA\",\"ADA\",\"ADA\",\"ADA\",\"ADA\",\"ADA\",\"ADA\",\"ADA\",\"ADA\",\"ADA\",\"ADA\",\"ADA\",\"ADA\",\"ADA\",\"ADA\",\"ADA\"],\"value\":{\"__ndarray__\":\"4MBlqRYJwj84kiPf1RfOP0hJanuWVMg/yD8bDKEixj9QFK7i4OTAP3gn7iNIycI/CFkynawd1T+QUvN1YXjdP/ZRYLfSheU/+NsAd51u8j8+jkzk0o/uPyrKZ1ceGOk/trtpTUqD6z8eQB5xilvwP3oYBWZaLvA/NvXmeMiZ7j8Y/ubdOlf0P6p3HQiGc/c/0hDCm/di9j/WbASBTg32P2IssONR2vY/UKYtJ5Kt7z+UZLd8yDL0P+Z0jCz+wPM/GKbgZaSK9D8wUw2Bs3/zPzaPE5cri/M/9nUusVRH8D9Yn1a1E5HzP55CylHe9vM/7AOnh3af9T/0immqy7LzP0gZbU7uP/o/UuQWREoN/D8qQ19IFbj9P4Tj8g/Cef0/hAXeAgTnA0D+c2xoxsoIQChKEqjlRgpAvOH2O14LC0BYZ3sf2YMMQB2kdNr4UhRAxzDumacJFEBPeVJLa+wTQKXffTOAkRNASe2txq7XEUBrHIjbIkASQK54aweigxJAe0SQCr0QE0C3hFMywKITQAMz+k8n8xNAJnhNjP/eGEBwhG9T4HIYQLw3swJPXxhAkAY8007vFEDZf2xEtBwXQCYTufSjzxdAvknvoJ4dHEBymyapMQ4eQCoEA/4+0x1A+qEO90WHHUAxxciNbq0bQFkiiMkZaRtAL2jhz8TGGEBA4SsqovUZQM/KCK8zNBlAGYJWIC5HGUDke3JTV+4YQPT+oS+19xpAtZlsUTFPGUBGi0tRAxQZQDeb6/AashZAWRuAyLp8GEAvz0eB3UoXQCRuiwDZqhZAWPly+3JQHECCOOpbAqEfQL6SuNUM2RtAvkTKpn+FHUDYEgoV9QwbQOyZlzgZsxpAWMRR8P+KGEAQc7RqSOAYQPa8FN+CrhdAujRPNWpcGED5s7E/+2kbQE59sa6FcBpAec17IAbFGkD81LOl3hwbQApwYYrmvBtA\",\"dtype\":\"float64\",\"order\":\"little\",\"shape\":[90]}},\"selected\":{\"id\":\"26447\"},\"selection_policy\":{\"id\":\"26479\"}},\"id\":\"26446\",\"type\":\"ColumnDataSource\"},{\"attributes\":{\"callback\":null,\"formatters\":{\"@{Date}\":\"datetime\"},\"renderers\":[{\"id\":\"26358\"},{\"id\":\"26388\"},{\"id\":\"26419\"},{\"id\":\"26452\"}],\"tags\":[\"hv_created\"],\"tooltips\":[[\"Variable\",\"@{Variable}\"],[\"Date\",\"@{Date}{%F %T}\"],[\"value\",\"@{value}\"]]},\"id\":\"26314\",\"type\":\"HoverTool\"},{\"attributes\":{},\"id\":\"26353\",\"type\":\"Selection\"}],\"root_ids\":[\"26310\"]},\"title\":\"Bokeh Application\",\"version\":\"2.2.3\"}};\n",
       "    var render_items = [{\"docid\":\"2a2d67ba-48e5-4d7b-801e-20d02c339112\",\"root_ids\":[\"26310\"],\"roots\":{\"26310\":\"e88e74ee-f1da-4019-bc84-a01b8fbbc2bb\"}}];\n",
       "    root.Bokeh.embed.embed_items_notebook(docs_json, render_items);\n",
       "  }\n",
       "  if (root.Bokeh !== undefined && root.Bokeh.Panel !== undefined) {\n",
       "    embed_document(root);\n",
       "  } else {\n",
       "    var attempts = 0;\n",
       "    var timer = setInterval(function(root) {\n",
       "      if (root.Bokeh !== undefined && root.Bokeh.Panel !== undefined) {\n",
       "        clearInterval(timer);\n",
       "        embed_document(root);\n",
       "      } else if (document.readyState == \"complete\") {\n",
       "        attempts++;\n",
       "        if (attempts > 100) {\n",
       "          clearInterval(timer);\n",
       "          console.log(\"Bokeh: ERROR: Unable to run BokehJS code because BokehJS library is missing\");\n",
       "        }\n",
       "      }\n",
       "    }, 10, root)\n",
       "  }\n",
       "})(window);</script>"
      ],
      "text/plain": [
       ":NdOverlay   [Variable]\n",
       "   :Curve   [Date]   (value)"
      ]
     },
     "execution_count": 279,
     "metadata": {
      "application/vnd.holoviews_exec.v0+json": {
       "id": "26310"
      }
     },
     "output_type": "execute_result"
    }
   ],
   "source": [
    "#Cumulative returns over 3 months\n",
    "cumulative_returns3.hvplot(figsize = (20,10), title = 'Cumulative returns for all crypto over 3 month')"
   ]
  },
  {
   "cell_type": "code",
   "execution_count": 280,
   "metadata": {},
   "outputs": [],
   "source": [
    "#Think we should delete this.\n",
    "# Box plot to visually show risk\n",
    "#normalised_returns.plot.box(figsize = (20,10), title = 'Box plot')"
   ]
  },
  {
   "cell_type": "code",
   "execution_count": 281,
   "metadata": {},
   "outputs": [
    {
     "data": {
      "text/plain": [
       "ETH    0.278254\n",
       "ADA    0.254582\n",
       "BTC    0.252439\n",
       "VET    0.205469\n",
       "dtype: float64"
      ]
     },
     "execution_count": 281,
     "metadata": {},
     "output_type": "execute_result"
    }
   ],
   "source": [
    "# Calculate the daily standard deviations of all portfolios\n",
    "daily_std = normalised_returns.std()\n",
    "daily_std = daily_std.sort_values(ascending=False)\n",
    "daily_std"
   ]
  },
  {
   "cell_type": "code",
   "execution_count": 282,
   "metadata": {},
   "outputs": [
    {
     "data": {
      "text/plain": [
       "ETH    5.316041\n",
       "ADA    4.863773\n",
       "BTC    4.822832\n",
       "VET    3.925478\n",
       "dtype: float64"
      ]
     },
     "execution_count": 282,
     "metadata": {},
     "output_type": "execute_result"
    }
   ],
   "source": [
    "# Calculate the annualized standard deviation (365 trading days)\n",
    "annualized_std = daily_std * np.sqrt(365)\n",
    "annualized_std.sort_values(ascending=False)\n",
    "annualized_std"
   ]
  },
  {
   "cell_type": "code",
   "execution_count": 283,
   "metadata": {},
   "outputs": [],
   "source": [
    "#Rolling Statistics\n",
    "#Risk changes over time. Analyze the rolling statistics for Risk and Beta.\n",
    "\n",
    "#Calculate and plot the rolling standard deviation for the cryptos using a 21-day window\n",
    "#Calculate the correlation between each crypto to see which may mimick BTC\n",
    "#Calculate and plot a 60-day Beta for ETH compared to the BTC"
   ]
  },
  {
   "cell_type": "code",
   "execution_count": 284,
   "metadata": {},
   "outputs": [
    {
     "data": {},
     "metadata": {},
     "output_type": "display_data"
    },
    {
     "data": {
      "application/vnd.holoviews_exec.v0+json": "",
      "text/html": [
       "<div id='26847'>\n",
       "\n",
       "\n",
       "\n",
       "\n",
       "\n",
       "  <div class=\"bk-root\" id=\"f59d7a81-0318-4fe6-bc50-a0c7bcb78983\" data-root-id=\"26847\"></div>\n",
       "</div>\n",
       "<script type=\"application/javascript\">(function(root) {\n",
       "  function embed_document(root) {\n",
       "    var docs_json = {\"723ddd43-f0a0-41a0-8c7f-32869128a202\":{\"roots\":{\"references\":[{\"attributes\":{\"days\":[1,4,7,10,13,16,19,22,25,28]},\"id\":\"26907\",\"type\":\"DaysTicker\"},{\"attributes\":{\"label\":{\"value\":\"ETH\"},\"renderers\":[{\"id\":\"26895\"}]},\"id\":\"26918\",\"type\":\"LegendItem\"},{\"attributes\":{\"text\":\"Rolling 21 day standard deviation, moving average of all portfolios over 12 months\",\"text_color\":{\"value\":\"black\"},\"text_font_size\":{\"value\":\"12pt\"}},\"id\":\"26856\",\"type\":\"Title\"},{\"attributes\":{\"click_policy\":\"mute\",\"items\":[{\"id\":\"26918\"},{\"id\":\"26949\"},{\"id\":\"26982\"},{\"id\":\"27017\"}],\"location\":[0,0],\"title\":\"Variable\"},\"id\":\"26917\",\"type\":\"Legend\"},{\"attributes\":{\"days\":[1,2,3,4,5,6,7,8,9,10,11,12,13,14,15,16,17,18,19,20,21,22,23,24,25,26,27,28,29,30,31]},\"id\":\"26906\",\"type\":\"DaysTicker\"},{\"attributes\":{\"data\":{\"Date\":{\"__ndarray__\":\"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\",\"dtype\":\"float64\",\"order\":\"little\",\"shape\":[365]},\"Variable\":[\"ADA\",\"ADA\",\"ADA\",\"ADA\",\"ADA\",\"ADA\",\"ADA\",\"ADA\",\"ADA\",\"ADA\",\"ADA\",\"ADA\",\"ADA\",\"ADA\",\"ADA\",\"ADA\",\"ADA\",\"ADA\",\"ADA\",\"ADA\",\"ADA\",\"ADA\",\"ADA\",\"ADA\",\"ADA\",\"ADA\",\"ADA\",\"ADA\",\"ADA\",\"ADA\",\"ADA\",\"ADA\",\"ADA\",\"ADA\",\"ADA\",\"ADA\",\"ADA\",\"ADA\",\"ADA\",\"ADA\",\"ADA\",\"ADA\",\"ADA\",\"ADA\",\"ADA\",\"ADA\",\"ADA\",\"ADA\",\"ADA\",\"ADA\",\"ADA\",\"ADA\",\"ADA\",\"ADA\",\"ADA\",\"ADA\",\"ADA\",\"ADA\",\"ADA\",\"ADA\",\"ADA\",\"ADA\",\"ADA\",\"ADA\",\"ADA\",\"ADA\",\"ADA\",\"ADA\",\"ADA\",\"ADA\",\"ADA\",\"ADA\",\"ADA\",\"ADA\",\"ADA\",\"ADA\",\"ADA\",\"ADA\",\"ADA\",\"ADA\",\"ADA\",\"ADA\",\"ADA\",\"ADA\",\"ADA\",\"ADA\",\"ADA\",\"ADA\",\"ADA\",\"ADA\",\"ADA\",\"ADA\",\"ADA\",\"ADA\",\"ADA\",\"ADA\",\"ADA\",\"ADA\",\"ADA\",\"ADA\",\"ADA\",\"ADA\",\"ADA\",\"ADA\",\"ADA\",\"ADA\",\"ADA\",\"ADA\",\"ADA\",\"ADA\",\"ADA\",\"ADA\",\"ADA\",\"ADA\",\"ADA\",\"ADA\",\"ADA\",\"ADA\",\"ADA\",\"ADA\",\"ADA\",\"ADA\",\"ADA\",\"ADA\",\"ADA\",\"ADA\",\"ADA\",\"ADA\",\"ADA\",\"ADA\",\"ADA\",\"ADA\",\"ADA\",\"ADA\",\"ADA\",\"ADA\",\"ADA\",\"ADA\",\"ADA\",\"ADA\",\"ADA\",\"ADA\",\"ADA\",\"ADA\",\"ADA\",\"ADA\",\"ADA\",\"ADA\",\"ADA\",\"ADA\",\"ADA\",\"ADA\",\"ADA\",\"ADA\",\"ADA\",\"ADA\",\"ADA\",\"ADA\",\"ADA\",\"ADA\",\"ADA\",\"ADA\",\"ADA\",\"ADA\",\"ADA\",\"ADA\",\"ADA\",\"ADA\",\"ADA\",\"ADA\",\"ADA\",\"ADA\",\"ADA\",\"ADA\",\"ADA\",\"ADA\",\"ADA\",\"ADA\",\"ADA\",\"ADA\",\"ADA\",\"ADA\",\"ADA\",\"ADA\",\"ADA\",\"ADA\",\"ADA\",\"ADA\",\"ADA\",\"ADA\",\"ADA\",\"ADA\",\"ADA\",\"ADA\",\"ADA\",\"ADA\",\"ADA\",\"ADA\",\"ADA\",\"ADA\",\"ADA\",\"ADA\",\"ADA\",\"ADA\",\"ADA\",\"ADA\",\"ADA\",\"ADA\",\"ADA\",\"ADA\",\"ADA\",\"ADA\",\"ADA\",\"ADA\",\"ADA\",\"ADA\",\"ADA\",\"ADA\",\"ADA\",\"ADA\",\"ADA\",\"ADA\",\"ADA\",\"ADA\",\"ADA\",\"ADA\",\"ADA\",\"ADA\",\"ADA\",\"ADA\",\"ADA\",\"ADA\",\"ADA\",\"ADA\",\"ADA\",\"ADA\",\"ADA\",\"ADA\",\"ADA\",\"ADA\",\"ADA\",\"ADA\",\"ADA\",\"ADA\",\"ADA\",\"ADA\",\"ADA\",\"ADA\",\"ADA\",\"ADA\",\"ADA\",\"ADA\",\"ADA\",\"ADA\",\"ADA\",\"ADA\",\"ADA\",\"ADA\",\"ADA\",\"ADA\",\"ADA\",\"ADA\",\"ADA\",\"ADA\",\"ADA\",\"ADA\",\"ADA\",\"ADA\",\"ADA\",\"ADA\",\"ADA\",\"ADA\",\"ADA\",\"ADA\",\"ADA\",\"ADA\",\"ADA\",\"ADA\",\"ADA\",\"ADA\",\"ADA\",\"ADA\",\"ADA\",\"ADA\",\"ADA\",\"ADA\",\"ADA\",\"ADA\",\"ADA\",\"ADA\",\"ADA\",\"ADA\",\"ADA\",\"ADA\",\"ADA\",\"ADA\",\"ADA\",\"ADA\",\"ADA\",\"ADA\",\"ADA\",\"ADA\",\"ADA\",\"ADA\",\"ADA\",\"ADA\",\"ADA\",\"ADA\",\"ADA\",\"ADA\",\"ADA\",\"ADA\",\"ADA\",\"ADA\",\"ADA\",\"ADA\",\"ADA\",\"ADA\",\"ADA\",\"ADA\",\"ADA\",\"ADA\",\"ADA\",\"ADA\",\"ADA\",\"ADA\",\"ADA\",\"ADA\",\"ADA\",\"ADA\",\"ADA\",\"ADA\",\"ADA\",\"ADA\",\"ADA\",\"ADA\",\"ADA\",\"ADA\",\"ADA\",\"ADA\",\"ADA\",\"ADA\",\"ADA\",\"ADA\",\"ADA\",\"ADA\",\"ADA\",\"ADA\",\"ADA\",\"ADA\",\"ADA\",\"ADA\",\"ADA\",\"ADA\",\"ADA\",\"ADA\",\"ADA\",\"ADA\",\"ADA\",\"ADA\",\"ADA\",\"ADA\",\"ADA\",\"ADA\",\"ADA\"],\"value\":{\"__ndarray__\":\"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\",\"dtype\":\"float64\",\"order\":\"little\",\"shape\":[365]}},\"selected\":{\"id\":\"26984\"},\"selection_policy\":{\"id\":\"27016\"}},\"id\":\"26983\",\"type\":\"ColumnDataSource\"},{\"attributes\":{\"source\":{\"id\":\"26919\"}},\"id\":\"26926\",\"type\":\"CDSView\"},{\"attributes\":{\"data\":{\"Date\":{\"__ndarray__\":\"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\",\"dtype\":\"float64\",\"order\":\"little\",\"shape\":[365]},\"Variable\":[\"ETH\",\"ETH\",\"ETH\",\"ETH\",\"ETH\",\"ETH\",\"ETH\",\"ETH\",\"ETH\",\"ETH\",\"ETH\",\"ETH\",\"ETH\",\"ETH\",\"ETH\",\"ETH\",\"ETH\",\"ETH\",\"ETH\",\"ETH\",\"ETH\",\"ETH\",\"ETH\",\"ETH\",\"ETH\",\"ETH\",\"ETH\",\"ETH\",\"ETH\",\"ETH\",\"ETH\",\"ETH\",\"ETH\",\"ETH\",\"ETH\",\"ETH\",\"ETH\",\"ETH\",\"ETH\",\"ETH\",\"ETH\",\"ETH\",\"ETH\",\"ETH\",\"ETH\",\"ETH\",\"ETH\",\"ETH\",\"ETH\",\"ETH\",\"ETH\",\"ETH\",\"ETH\",\"ETH\",\"ETH\",\"ETH\",\"ETH\",\"ETH\",\"ETH\",\"ETH\",\"ETH\",\"ETH\",\"ETH\",\"ETH\",\"ETH\",\"ETH\",\"ETH\",\"ETH\",\"ETH\",\"ETH\",\"ETH\",\"ETH\",\"ETH\",\"ETH\",\"ETH\",\"ETH\",\"ETH\",\"ETH\",\"ETH\",\"ETH\",\"ETH\",\"ETH\",\"ETH\",\"ETH\",\"ETH\",\"ETH\",\"ETH\",\"ETH\",\"ETH\",\"ETH\",\"ETH\",\"ETH\",\"ETH\",\"ETH\",\"ETH\",\"ETH\",\"ETH\",\"ETH\",\"ETH\",\"ETH\",\"ETH\",\"ETH\",\"ETH\",\"ETH\",\"ETH\",\"ETH\",\"ETH\",\"ETH\",\"ETH\",\"ETH\",\"ETH\",\"ETH\",\"ETH\",\"ETH\",\"ETH\",\"ETH\",\"ETH\",\"ETH\",\"ETH\",\"ETH\",\"ETH\",\"ETH\",\"ETH\",\"ETH\",\"ETH\",\"ETH\",\"ETH\",\"ETH\",\"ETH\",\"ETH\",\"ETH\",\"ETH\",\"ETH\",\"ETH\",\"ETH\",\"ETH\",\"ETH\",\"ETH\",\"ETH\",\"ETH\",\"ETH\",\"ETH\",\"ETH\",\"ETH\",\"ETH\",\"ETH\",\"ETH\",\"ETH\",\"ETH\",\"ETH\",\"ETH\",\"ETH\",\"ETH\",\"ETH\",\"ETH\",\"ETH\",\"ETH\",\"ETH\",\"ETH\",\"ETH\",\"ETH\",\"ETH\",\"ETH\",\"ETH\",\"ETH\",\"ETH\",\"ETH\",\"ETH\",\"ETH\",\"ETH\",\"ETH\",\"ETH\",\"ETH\",\"ETH\",\"ETH\",\"ETH\",\"ETH\",\"ETH\",\"ETH\",\"ETH\",\"ETH\",\"ETH\",\"ETH\",\"ETH\",\"ETH\",\"ETH\",\"ETH\",\"ETH\",\"ETH\",\"ETH\",\"ETH\",\"ETH\",\"ETH\",\"ETH\",\"ETH\",\"ETH\",\"ETH\",\"ETH\",\"ETH\",\"ETH\",\"ETH\",\"ETH\",\"ETH\",\"ETH\",\"ETH\",\"ETH\",\"ETH\",\"ETH\",\"ETH\",\"ETH\",\"ETH\",\"ETH\",\"ETH\",\"ETH\",\"ETH\",\"ETH\",\"ETH\",\"ETH\",\"ETH\",\"ETH\",\"ETH\",\"ETH\",\"ETH\",\"ETH\",\"ETH\",\"ETH\",\"ETH\",\"ETH\",\"ETH\",\"ETH\",\"ETH\",\"ETH\",\"ETH\",\"ETH\",\"ETH\",\"ETH\",\"ETH\",\"ETH\",\"ETH\",\"ETH\",\"ETH\",\"ETH\",\"ETH\",\"ETH\",\"ETH\",\"ETH\",\"ETH\",\"ETH\",\"ETH\",\"ETH\",\"ETH\",\"ETH\",\"ETH\",\"ETH\",\"ETH\",\"ETH\",\"ETH\",\"ETH\",\"ETH\",\"ETH\",\"ETH\",\"ETH\",\"ETH\",\"ETH\",\"ETH\",\"ETH\",\"ETH\",\"ETH\",\"ETH\",\"ETH\",\"ETH\",\"ETH\",\"ETH\",\"ETH\",\"ETH\",\"ETH\",\"ETH\",\"ETH\",\"ETH\",\"ETH\",\"ETH\",\"ETH\",\"ETH\",\"ETH\",\"ETH\",\"ETH\",\"ETH\",\"ETH\",\"ETH\",\"ETH\",\"ETH\",\"ETH\",\"ETH\",\"ETH\",\"ETH\",\"ETH\",\"ETH\",\"ETH\",\"ETH\",\"ETH\",\"ETH\",\"ETH\",\"ETH\",\"ETH\",\"ETH\",\"ETH\",\"ETH\",\"ETH\",\"ETH\",\"ETH\",\"ETH\",\"ETH\",\"ETH\",\"ETH\",\"ETH\",\"ETH\",\"ETH\",\"ETH\",\"ETH\",\"ETH\",\"ETH\",\"ETH\",\"ETH\",\"ETH\",\"ETH\",\"ETH\",\"ETH\",\"ETH\",\"ETH\",\"ETH\",\"ETH\",\"ETH\",\"ETH\",\"ETH\",\"ETH\",\"ETH\",\"ETH\",\"ETH\",\"ETH\",\"ETH\",\"ETH\",\"ETH\",\"ETH\",\"ETH\",\"ETH\",\"ETH\",\"ETH\",\"ETH\",\"ETH\",\"ETH\",\"ETH\",\"ETH\",\"ETH\",\"ETH\",\"ETH\",\"ETH\",\"ETH\",\"ETH\",\"ETH\",\"ETH\",\"ETH\",\"ETH\",\"ETH\",\"ETH\",\"ETH\"],\"value\":{\"__ndarray__\":\"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\",\"dtype\":\"float64\",\"order\":\"little\",\"shape\":[365]}},\"selected\":{\"id\":\"26890\"},\"selection_policy\":{\"id\":\"26916\"}},\"id\":\"26889\",\"type\":\"ColumnDataSource\"},{\"attributes\":{\"source\":{\"id\":\"26983\"}},\"id\":\"26990\",\"type\":\"CDSView\"},{\"attributes\":{\"data\":{\"Date\":{\"__ndarray__\":\"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\",\"dtype\":\"float64\",\"order\":\"little\",\"shape\":[365]},\"Variable\":[\"VET\",\"VET\",\"VET\",\"VET\",\"VET\",\"VET\",\"VET\",\"VET\",\"VET\",\"VET\",\"VET\",\"VET\",\"VET\",\"VET\",\"VET\",\"VET\",\"VET\",\"VET\",\"VET\",\"VET\",\"VET\",\"VET\",\"VET\",\"VET\",\"VET\",\"VET\",\"VET\",\"VET\",\"VET\",\"VET\",\"VET\",\"VET\",\"VET\",\"VET\",\"VET\",\"VET\",\"VET\",\"VET\",\"VET\",\"VET\",\"VET\",\"VET\",\"VET\",\"VET\",\"VET\",\"VET\",\"VET\",\"VET\",\"VET\",\"VET\",\"VET\",\"VET\",\"VET\",\"VET\",\"VET\",\"VET\",\"VET\",\"VET\",\"VET\",\"VET\",\"VET\",\"VET\",\"VET\",\"VET\",\"VET\",\"VET\",\"VET\",\"VET\",\"VET\",\"VET\",\"VET\",\"VET\",\"VET\",\"VET\",\"VET\",\"VET\",\"VET\",\"VET\",\"VET\",\"VET\",\"VET\",\"VET\",\"VET\",\"VET\",\"VET\",\"VET\",\"VET\",\"VET\",\"VET\",\"VET\",\"VET\",\"VET\",\"VET\",\"VET\",\"VET\",\"VET\",\"VET\",\"VET\",\"VET\",\"VET\",\"VET\",\"VET\",\"VET\",\"VET\",\"VET\",\"VET\",\"VET\",\"VET\",\"VET\",\"VET\",\"VET\",\"VET\",\"VET\",\"VET\",\"VET\",\"VET\",\"VET\",\"VET\",\"VET\",\"VET\",\"VET\",\"VET\",\"VET\",\"VET\",\"VET\",\"VET\",\"VET\",\"VET\",\"VET\",\"VET\",\"VET\",\"VET\",\"VET\",\"VET\",\"VET\",\"VET\",\"VET\",\"VET\",\"VET\",\"VET\",\"VET\",\"VET\",\"VET\",\"VET\",\"VET\",\"VET\",\"VET\",\"VET\",\"VET\",\"VET\",\"VET\",\"VET\",\"VET\",\"VET\",\"VET\",\"VET\",\"VET\",\"VET\",\"VET\",\"VET\",\"VET\",\"VET\",\"VET\",\"VET\",\"VET\",\"VET\",\"VET\",\"VET\",\"VET\",\"VET\",\"VET\",\"VET\",\"VET\",\"VET\",\"VET\",\"VET\",\"VET\",\"VET\",\"VET\",\"VET\",\"VET\",\"VET\",\"VET\",\"VET\",\"VET\",\"VET\",\"VET\",\"VET\",\"VET\",\"VET\",\"VET\",\"VET\",\"VET\",\"VET\",\"VET\",\"VET\",\"VET\",\"VET\",\"VET\",\"VET\",\"VET\",\"VET\",\"VET\",\"VET\",\"VET\",\"VET\",\"VET\",\"VET\",\"VET\",\"VET\",\"VET\",\"VET\",\"VET\",\"VET\",\"VET\",\"VET\",\"VET\",\"VET\",\"VET\",\"VET\",\"VET\",\"VET\",\"VET\",\"VET\",\"VET\",\"VET\",\"VET\",\"VET\",\"VET\",\"VET\",\"VET\",\"VET\",\"VET\",\"VET\",\"VET\",\"VET\",\"VET\",\"VET\",\"VET\",\"VET\",\"VET\",\"VET\",\"VET\",\"VET\",\"VET\",\"VET\",\"VET\",\"VET\",\"VET\",\"VET\",\"VET\",\"VET\",\"VET\",\"VET\",\"VET\",\"VET\",\"VET\",\"VET\",\"VET\",\"VET\",\"VET\",\"VET\",\"VET\",\"VET\",\"VET\",\"VET\",\"VET\",\"VET\",\"VET\",\"VET\",\"VET\",\"VET\",\"VET\",\"VET\",\"VET\",\"VET\",\"VET\",\"VET\",\"VET\",\"VET\",\"VET\",\"VET\",\"VET\",\"VET\",\"VET\",\"VET\",\"VET\",\"VET\",\"VET\",\"VET\",\"VET\",\"VET\",\"VET\",\"VET\",\"VET\",\"VET\",\"VET\",\"VET\",\"VET\",\"VET\",\"VET\",\"VET\",\"VET\",\"VET\",\"VET\",\"VET\",\"VET\",\"VET\",\"VET\",\"VET\",\"VET\",\"VET\",\"VET\",\"VET\",\"VET\",\"VET\",\"VET\",\"VET\",\"VET\",\"VET\",\"VET\",\"VET\",\"VET\",\"VET\",\"VET\",\"VET\",\"VET\",\"VET\",\"VET\",\"VET\",\"VET\",\"VET\",\"VET\",\"VET\",\"VET\",\"VET\",\"VET\",\"VET\",\"VET\",\"VET\",\"VET\",\"VET\",\"VET\",\"VET\",\"VET\",\"VET\",\"VET\",\"VET\",\"VET\",\"VET\",\"VET\",\"VET\",\"VET\",\"VET\",\"VET\",\"VET\",\"VET\",\"VET\",\"VET\",\"VET\",\"VET\",\"VET\",\"VET\",\"VET\",\"VET\"],\"value\":{\"__ndarray__\":\"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\",\"dtype\":\"float64\",\"order\":\"little\",\"shape\":[365]}},\"selected\":{\"id\":\"26920\"},\"selection_policy\":{\"id\":\"26948\"}},\"id\":\"26919\",\"type\":\"ColumnDataSource\"},{\"attributes\":{\"data_source\":{\"id\":\"26983\"},\"glyph\":{\"id\":\"26986\"},\"hover_glyph\":null,\"muted_glyph\":{\"id\":\"26988\"},\"nonselection_glyph\":{\"id\":\"26987\"},\"selection_glyph\":null,\"view\":{\"id\":\"26990\"}},\"id\":\"26989\",\"type\":\"GlyphRenderer\"},{\"attributes\":{\"margin\":[5,5,5,5],\"name\":\"HSpacer37767\",\"sizing_mode\":\"stretch_width\"},\"id\":\"27252\",\"type\":\"Spacer\"},{\"attributes\":{\"line_alpha\":0.2,\"line_color\":\"#30a2da\",\"line_width\":2,\"x\":{\"field\":\"Date\"},\"y\":{\"field\":\"value\"}},\"id\":\"26894\",\"type\":\"Line\"},{\"attributes\":{\"line_alpha\":0.1,\"line_color\":\"#fc4f30\",\"line_width\":2,\"x\":{\"field\":\"Date\"},\"y\":{\"field\":\"value\"}},\"id\":\"26923\",\"type\":\"Line\"},{\"attributes\":{\"line_alpha\":0.1,\"line_color\":\"#e5ae38\",\"line_width\":2,\"x\":{\"field\":\"Date\"},\"y\":{\"field\":\"value\"}},\"id\":\"26954\",\"type\":\"Line\"},{\"attributes\":{\"months\":[0,2,4,6,8,10]},\"id\":\"26911\",\"type\":\"MonthsTicker\"},{\"attributes\":{\"base\":60,\"mantissas\":[1,2,5,10,15,20,30],\"max_interval\":1800000.0,\"min_interval\":1000.0,\"num_minor_ticks\":0},\"id\":\"26904\",\"type\":\"AdaptiveTicker\"},{\"attributes\":{\"end\":0.18709432663126357,\"reset_end\":0.18709432663126357,\"reset_start\":-0.015715657731492735,\"start\":-0.015715657731492735,\"tags\":[[[\"value\",\"value\",null]]]},\"id\":\"26850\",\"type\":\"Range1d\"},{\"attributes\":{\"months\":[0,4,8]},\"id\":\"26912\",\"type\":\"MonthsTicker\"},{\"attributes\":{\"callback\":null,\"formatters\":{\"@{Date}\":\"datetime\"},\"renderers\":[{\"id\":\"26895\"},{\"id\":\"26925\"},{\"id\":\"26956\"},{\"id\":\"26989\"}],\"tags\":[\"hv_created\"],\"tooltips\":[[\"Variable\",\"@{Variable}\"],[\"Date\",\"@{Date}{%F %T}\"],[\"value\",\"@{value}\"]]},\"id\":\"26851\",\"type\":\"HoverTool\"},{\"attributes\":{\"axis_label\":\"Date\",\"bounds\":\"auto\",\"formatter\":{\"id\":\"26885\"},\"major_label_orientation\":\"horizontal\",\"ticker\":{\"id\":\"26865\"}},\"id\":\"26864\",\"type\":\"DatetimeAxis\"},{\"attributes\":{\"label\":{\"value\":\"ADA\"},\"renderers\":[{\"id\":\"26989\"}]},\"id\":\"27017\",\"type\":\"LegendItem\"},{\"attributes\":{},\"id\":\"27016\",\"type\":\"UnionRenderers\"},{\"attributes\":{},\"id\":\"26862\",\"type\":\"LinearScale\"},{\"attributes\":{\"months\":[0,1,2,3,4,5,6,7,8,9,10,11]},\"id\":\"26910\",\"type\":\"MonthsTicker\"},{\"attributes\":{\"line_alpha\":0.2,\"line_color\":\"#fc4f30\",\"line_width\":2,\"x\":{\"field\":\"Date\"},\"y\":{\"field\":\"value\"}},\"id\":\"26924\",\"type\":\"Line\"},{\"attributes\":{},\"id\":\"26920\",\"type\":\"Selection\"},{\"attributes\":{\"months\":[0,6]},\"id\":\"26913\",\"type\":\"MonthsTicker\"},{\"attributes\":{\"below\":[{\"id\":\"26864\"}],\"center\":[{\"id\":\"26867\"},{\"id\":\"26871\"}],\"left\":[{\"id\":\"26868\"}],\"margin\":[5,5,5,5],\"min_border_bottom\":10,\"min_border_left\":10,\"min_border_right\":10,\"min_border_top\":10,\"plot_height\":300,\"plot_width\":700,\"renderers\":[{\"id\":\"26895\"},{\"id\":\"26925\"},{\"id\":\"26956\"},{\"id\":\"26989\"}],\"right\":[{\"id\":\"26917\"}],\"sizing_mode\":\"fixed\",\"title\":{\"id\":\"26856\"},\"toolbar\":{\"id\":\"26878\"},\"x_range\":{\"id\":\"26849\"},\"x_scale\":{\"id\":\"26860\"},\"y_range\":{\"id\":\"26850\"},\"y_scale\":{\"id\":\"26862\"}},\"id\":\"26855\",\"subtype\":\"Figure\",\"type\":\"Plot\"},{\"attributes\":{\"axis\":{\"id\":\"26868\"},\"dimension\":1,\"grid_line_color\":null,\"ticker\":null},\"id\":\"26871\",\"type\":\"Grid\"},{\"attributes\":{},\"id\":\"26860\",\"type\":\"LinearScale\"},{\"attributes\":{\"data_source\":{\"id\":\"26889\"},\"glyph\":{\"id\":\"26892\"},\"hover_glyph\":null,\"muted_glyph\":{\"id\":\"26894\"},\"nonselection_glyph\":{\"id\":\"26893\"},\"selection_glyph\":null,\"view\":{\"id\":\"26896\"}},\"id\":\"26895\",\"type\":\"GlyphRenderer\"},{\"attributes\":{\"num_minor_ticks\":5,\"tickers\":[{\"id\":\"26903\"},{\"id\":\"26904\"},{\"id\":\"26905\"},{\"id\":\"26906\"},{\"id\":\"26907\"},{\"id\":\"26908\"},{\"id\":\"26909\"},{\"id\":\"26910\"},{\"id\":\"26911\"},{\"id\":\"26912\"},{\"id\":\"26913\"},{\"id\":\"26914\"}]},\"id\":\"26865\",\"type\":\"DatetimeTicker\"},{\"attributes\":{},\"id\":\"26914\",\"type\":\"YearsTicker\"},{\"attributes\":{},\"id\":\"26869\",\"type\":\"BasicTicker\"},{\"attributes\":{\"days\":[1,8,15,22]},\"id\":\"26908\",\"type\":\"DaysTicker\"},{\"attributes\":{\"axis\":{\"id\":\"26864\"},\"grid_line_color\":null,\"ticker\":null},\"id\":\"26867\",\"type\":\"Grid\"},{\"attributes\":{\"end\":1617062400000.0,\"reset_end\":1617062400000.0,\"reset_start\":1585180800000.0,\"start\":1585180800000.0,\"tags\":[[[\"Date\",\"Date\",null]]]},\"id\":\"26849\",\"type\":\"Range1d\"},{\"attributes\":{},\"id\":\"26984\",\"type\":\"Selection\"},{\"attributes\":{\"line_color\":\"#fc4f30\",\"line_width\":2,\"x\":{\"field\":\"Date\"},\"y\":{\"field\":\"value\"}},\"id\":\"26922\",\"type\":\"Line\"},{\"attributes\":{\"overlay\":{\"id\":\"26877\"}},\"id\":\"26875\",\"type\":\"BoxZoomTool\"},{\"attributes\":{\"line_alpha\":0.2,\"line_color\":\"#6d904f\",\"line_width\":2,\"x\":{\"field\":\"Date\"},\"y\":{\"field\":\"value\"}},\"id\":\"26988\",\"type\":\"Line\"},{\"attributes\":{\"data\":{\"Date\":{\"__ndarray__\":\"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\",\"dtype\":\"float64\",\"order\":\"little\",\"shape\":[365]},\"Variable\":[\"BTC\",\"BTC\",\"BTC\",\"BTC\",\"BTC\",\"BTC\",\"BTC\",\"BTC\",\"BTC\",\"BTC\",\"BTC\",\"BTC\",\"BTC\",\"BTC\",\"BTC\",\"BTC\",\"BTC\",\"BTC\",\"BTC\",\"BTC\",\"BTC\",\"BTC\",\"BTC\",\"BTC\",\"BTC\",\"BTC\",\"BTC\",\"BTC\",\"BTC\",\"BTC\",\"BTC\",\"BTC\",\"BTC\",\"BTC\",\"BTC\",\"BTC\",\"BTC\",\"BTC\",\"BTC\",\"BTC\",\"BTC\",\"BTC\",\"BTC\",\"BTC\",\"BTC\",\"BTC\",\"BTC\",\"BTC\",\"BTC\",\"BTC\",\"BTC\",\"BTC\",\"BTC\",\"BTC\",\"BTC\",\"BTC\",\"BTC\",\"BTC\",\"BTC\",\"BTC\",\"BTC\",\"BTC\",\"BTC\",\"BTC\",\"BTC\",\"BTC\",\"BTC\",\"BTC\",\"BTC\",\"BTC\",\"BTC\",\"BTC\",\"BTC\",\"BTC\",\"BTC\",\"BTC\",\"BTC\",\"BTC\",\"BTC\",\"BTC\",\"BTC\",\"BTC\",\"BTC\",\"BTC\",\"BTC\",\"BTC\",\"BTC\",\"BTC\",\"BTC\",\"BTC\",\"BTC\",\"BTC\",\"BTC\",\"BTC\",\"BTC\",\"BTC\",\"BTC\",\"BTC\",\"BTC\",\"BTC\",\"BTC\",\"BTC\",\"BTC\",\"BTC\",\"BTC\",\"BTC\",\"BTC\",\"BTC\",\"BTC\",\"BTC\",\"BTC\",\"BTC\",\"BTC\",\"BTC\",\"BTC\",\"BTC\",\"BTC\",\"BTC\",\"BTC\",\"BTC\",\"BTC\",\"BTC\",\"BTC\",\"BTC\",\"BTC\",\"BTC\",\"BTC\",\"BTC\",\"BTC\",\"BTC\",\"BTC\",\"BTC\",\"BTC\",\"BTC\",\"BTC\",\"BTC\",\"BTC\",\"BTC\",\"BTC\",\"BTC\",\"BTC\",\"BTC\",\"BTC\",\"BTC\",\"BTC\",\"BTC\",\"BTC\",\"BTC\",\"BTC\",\"BTC\",\"BTC\",\"BTC\",\"BTC\",\"BTC\",\"BTC\",\"BTC\",\"BTC\",\"BTC\",\"BTC\",\"BTC\",\"BTC\",\"BTC\",\"BTC\",\"BTC\",\"BTC\",\"BTC\",\"BTC\",\"BTC\",\"BTC\",\"BTC\",\"BTC\",\"BTC\",\"BTC\",\"BTC\",\"BTC\",\"BTC\",\"BTC\",\"BTC\",\"BTC\",\"BTC\",\"BTC\",\"BTC\",\"BTC\",\"BTC\",\"BTC\",\"BTC\",\"BTC\",\"BTC\",\"BTC\",\"BTC\",\"BTC\",\"BTC\",\"BTC\",\"BTC\",\"BTC\",\"BTC\",\"BTC\",\"BTC\",\"BTC\",\"BTC\",\"BTC\",\"BTC\",\"BTC\",\"BTC\",\"BTC\",\"BTC\",\"BTC\",\"BTC\",\"BTC\",\"BTC\",\"BTC\",\"BTC\",\"BTC\",\"BTC\",\"BTC\",\"BTC\",\"BTC\",\"BTC\",\"BTC\",\"BTC\",\"BTC\",\"BTC\",\"BTC\",\"BTC\",\"BTC\",\"BTC\",\"BTC\",\"BTC\",\"BTC\",\"BTC\",\"BTC\",\"BTC\",\"BTC\",\"BTC\",\"BTC\",\"BTC\",\"BTC\",\"BTC\",\"BTC\",\"BTC\",\"BTC\",\"BTC\",\"BTC\",\"BTC\",\"BTC\",\"BTC\",\"BTC\",\"BTC\",\"BTC\",\"BTC\",\"BTC\",\"BTC\",\"BTC\",\"BTC\",\"BTC\",\"BTC\",\"BTC\",\"BTC\",\"BTC\",\"BTC\",\"BTC\",\"BTC\",\"BTC\",\"BTC\",\"BTC\",\"BTC\",\"BTC\",\"BTC\",\"BTC\",\"BTC\",\"BTC\",\"BTC\",\"BTC\",\"BTC\",\"BTC\",\"BTC\",\"BTC\",\"BTC\",\"BTC\",\"BTC\",\"BTC\",\"BTC\",\"BTC\",\"BTC\",\"BTC\",\"BTC\",\"BTC\",\"BTC\",\"BTC\",\"BTC\",\"BTC\",\"BTC\",\"BTC\",\"BTC\",\"BTC\",\"BTC\",\"BTC\",\"BTC\",\"BTC\",\"BTC\",\"BTC\",\"BTC\",\"BTC\",\"BTC\",\"BTC\",\"BTC\",\"BTC\",\"BTC\",\"BTC\",\"BTC\",\"BTC\",\"BTC\",\"BTC\",\"BTC\",\"BTC\",\"BTC\",\"BTC\",\"BTC\",\"BTC\",\"BTC\",\"BTC\",\"BTC\",\"BTC\",\"BTC\",\"BTC\",\"BTC\",\"BTC\",\"BTC\",\"BTC\",\"BTC\",\"BTC\",\"BTC\",\"BTC\",\"BTC\",\"BTC\",\"BTC\",\"BTC\",\"BTC\",\"BTC\",\"BTC\",\"BTC\",\"BTC\",\"BTC\",\"BTC\",\"BTC\",\"BTC\",\"BTC\",\"BTC\",\"BTC\",\"BTC\",\"BTC\",\"BTC\",\"BTC\",\"BTC\",\"BTC\",\"BTC\",\"BTC\",\"BTC\",\"BTC\",\"BTC\",\"BTC\",\"BTC\",\"BTC\",\"BTC\",\"BTC\"],\"value\":{\"__ndarray__\":\"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\",\"dtype\":\"float64\",\"order\":\"little\",\"shape\":[365]}},\"selected\":{\"id\":\"26951\"},\"selection_policy\":{\"id\":\"26981\"}},\"id\":\"26950\",\"type\":\"ColumnDataSource\"},{\"attributes\":{\"children\":[{\"id\":\"26848\"},{\"id\":\"26855\"},{\"id\":\"27252\"}],\"margin\":[0,0,0,0],\"name\":\"Row37762\",\"tags\":[\"embedded\"]},\"id\":\"26847\",\"type\":\"Row\"},{\"attributes\":{\"axis_label\":\"\",\"bounds\":\"auto\",\"formatter\":{\"id\":\"26887\"},\"major_label_orientation\":\"horizontal\",\"ticker\":{\"id\":\"26869\"}},\"id\":\"26868\",\"type\":\"LinearAxis\"},{\"attributes\":{\"margin\":[5,5,5,5],\"name\":\"HSpacer37766\",\"sizing_mode\":\"stretch_width\"},\"id\":\"26848\",\"type\":\"Spacer\"},{\"attributes\":{\"line_color\":\"#6d904f\",\"line_width\":2,\"x\":{\"field\":\"Date\"},\"y\":{\"field\":\"value\"}},\"id\":\"26986\",\"type\":\"Line\"},{\"attributes\":{\"data_source\":{\"id\":\"26919\"},\"glyph\":{\"id\":\"26922\"},\"hover_glyph\":null,\"muted_glyph\":{\"id\":\"26924\"},\"nonselection_glyph\":{\"id\":\"26923\"},\"selection_glyph\":null,\"view\":{\"id\":\"26926\"}},\"id\":\"26925\",\"type\":\"GlyphRenderer\"},{\"attributes\":{\"line_alpha\":0.1,\"line_color\":\"#6d904f\",\"line_width\":2,\"x\":{\"field\":\"Date\"},\"y\":{\"field\":\"value\"}},\"id\":\"26987\",\"type\":\"Line\"},{\"attributes\":{},\"id\":\"26872\",\"type\":\"SaveTool\"},{\"attributes\":{},\"id\":\"26876\",\"type\":\"ResetTool\"},{\"attributes\":{},\"id\":\"26874\",\"type\":\"WheelZoomTool\"},{\"attributes\":{\"line_color\":\"#30a2da\",\"line_width\":2,\"x\":{\"field\":\"Date\"},\"y\":{\"field\":\"value\"}},\"id\":\"26892\",\"type\":\"Line\"},{\"attributes\":{\"line_alpha\":0.1,\"line_color\":\"#30a2da\",\"line_width\":2,\"x\":{\"field\":\"Date\"},\"y\":{\"field\":\"value\"}},\"id\":\"26893\",\"type\":\"Line\"},{\"attributes\":{\"data_source\":{\"id\":\"26950\"},\"glyph\":{\"id\":\"26953\"},\"hover_glyph\":null,\"muted_glyph\":{\"id\":\"26955\"},\"nonselection_glyph\":{\"id\":\"26954\"},\"selection_glyph\":null,\"view\":{\"id\":\"26957\"}},\"id\":\"26956\",\"type\":\"GlyphRenderer\"},{\"attributes\":{\"label\":{\"value\":\"VET\"},\"renderers\":[{\"id\":\"26925\"}]},\"id\":\"26949\",\"type\":\"LegendItem\"},{\"attributes\":{\"line_color\":\"#e5ae38\",\"line_width\":2,\"x\":{\"field\":\"Date\"},\"y\":{\"field\":\"value\"}},\"id\":\"26953\",\"type\":\"Line\"},{\"attributes\":{},\"id\":\"26890\",\"type\":\"Selection\"},{\"attributes\":{\"bottom_units\":\"screen\",\"fill_alpha\":0.5,\"fill_color\":\"lightgrey\",\"left_units\":\"screen\",\"level\":\"overlay\",\"line_alpha\":1.0,\"line_color\":\"black\",\"line_dash\":[4,4],\"line_width\":2,\"right_units\":\"screen\",\"top_units\":\"screen\"},\"id\":\"26877\",\"type\":\"BoxAnnotation\"},{\"attributes\":{\"days\":[1,15]},\"id\":\"26909\",\"type\":\"DaysTicker\"},{\"attributes\":{\"active_drag\":\"auto\",\"active_inspect\":\"auto\",\"active_multi\":null,\"active_scroll\":\"auto\",\"active_tap\":\"auto\",\"tools\":[{\"id\":\"26851\"},{\"id\":\"26872\"},{\"id\":\"26873\"},{\"id\":\"26874\"},{\"id\":\"26875\"},{\"id\":\"26876\"}]},\"id\":\"26878\",\"type\":\"Toolbar\"},{\"attributes\":{},\"id\":\"26873\",\"type\":\"PanTool\"},{\"attributes\":{\"source\":{\"id\":\"26950\"}},\"id\":\"26957\",\"type\":\"CDSView\"},{\"attributes\":{},\"id\":\"26948\",\"type\":\"UnionRenderers\"},{\"attributes\":{},\"id\":\"26981\",\"type\":\"UnionRenderers\"},{\"attributes\":{},\"id\":\"26887\",\"type\":\"BasicTickFormatter\"},{\"attributes\":{\"label\":{\"value\":\"BTC\"},\"renderers\":[{\"id\":\"26956\"}]},\"id\":\"26982\",\"type\":\"LegendItem\"},{\"attributes\":{\"base\":24,\"mantissas\":[1,2,4,6,8,12],\"max_interval\":43200000.0,\"min_interval\":3600000.0,\"num_minor_ticks\":0},\"id\":\"26905\",\"type\":\"AdaptiveTicker\"},{\"attributes\":{},\"id\":\"26951\",\"type\":\"Selection\"},{\"attributes\":{\"source\":{\"id\":\"26889\"}},\"id\":\"26896\",\"type\":\"CDSView\"},{\"attributes\":{},\"id\":\"26916\",\"type\":\"UnionRenderers\"},{\"attributes\":{},\"id\":\"26885\",\"type\":\"DatetimeTickFormatter\"},{\"attributes\":{\"line_alpha\":0.2,\"line_color\":\"#e5ae38\",\"line_width\":2,\"x\":{\"field\":\"Date\"},\"y\":{\"field\":\"value\"}},\"id\":\"26955\",\"type\":\"Line\"},{\"attributes\":{\"mantissas\":[1,2,5],\"max_interval\":500.0,\"num_minor_ticks\":0},\"id\":\"26903\",\"type\":\"AdaptiveTicker\"}],\"root_ids\":[\"26847\"]},\"title\":\"Bokeh Application\",\"version\":\"2.2.3\"}};\n",
       "    var render_items = [{\"docid\":\"723ddd43-f0a0-41a0-8c7f-32869128a202\",\"root_ids\":[\"26847\"],\"roots\":{\"26847\":\"f59d7a81-0318-4fe6-bc50-a0c7bcb78983\"}}];\n",
       "    root.Bokeh.embed.embed_items_notebook(docs_json, render_items);\n",
       "  }\n",
       "  if (root.Bokeh !== undefined && root.Bokeh.Panel !== undefined) {\n",
       "    embed_document(root);\n",
       "  } else {\n",
       "    var attempts = 0;\n",
       "    var timer = setInterval(function(root) {\n",
       "      if (root.Bokeh !== undefined && root.Bokeh.Panel !== undefined) {\n",
       "        clearInterval(timer);\n",
       "        embed_document(root);\n",
       "      } else if (document.readyState == \"complete\") {\n",
       "        attempts++;\n",
       "        if (attempts > 100) {\n",
       "          clearInterval(timer);\n",
       "          console.log(\"Bokeh: ERROR: Unable to run BokehJS code because BokehJS library is missing\");\n",
       "        }\n",
       "      }\n",
       "    }, 10, root)\n",
       "  }\n",
       "})(window);</script>"
      ],
      "text/plain": [
       ":NdOverlay   [Variable]\n",
       "   :Curve   [Date]   (value)"
      ]
     },
     "execution_count": 284,
     "metadata": {
      "application/vnd.holoviews_exec.v0+json": {
       "id": "26847"
      }
     },
     "output_type": "execute_result"
    }
   ],
   "source": [
    "# Calculate the rolling standard deviation for all portfolios using a 21-day window\n",
    "normalised_returns.rolling(window=21).std()\n",
    "# Plot the rolling standard deviation\n",
    "normalised_returns.rolling(window=21).std().hvplot(figsize = (20,10), title = 'Rolling 21 day standard deviation, moving average of all portfolios over 12 months')"
   ]
  },
  {
   "cell_type": "code",
   "execution_count": 285,
   "metadata": {},
   "outputs": [
    {
     "data": {
      "text/html": [
       "<div>\n",
       "<style scoped>\n",
       "    .dataframe tbody tr th:only-of-type {\n",
       "        vertical-align: middle;\n",
       "    }\n",
       "\n",
       "    .dataframe tbody tr th {\n",
       "        vertical-align: top;\n",
       "    }\n",
       "\n",
       "    .dataframe thead th {\n",
       "        text-align: right;\n",
       "    }\n",
       "</style>\n",
       "<table border=\"1\" class=\"dataframe\">\n",
       "  <thead>\n",
       "    <tr style=\"text-align: right;\">\n",
       "      <th></th>\n",
       "      <th>ETH</th>\n",
       "      <th>VET</th>\n",
       "      <th>BTC</th>\n",
       "      <th>ADA</th>\n",
       "    </tr>\n",
       "  </thead>\n",
       "  <tbody>\n",
       "    <tr>\n",
       "      <th>ETH</th>\n",
       "      <td>1.000000</td>\n",
       "      <td>0.887143</td>\n",
       "      <td>0.982825</td>\n",
       "      <td>0.912069</td>\n",
       "    </tr>\n",
       "    <tr>\n",
       "      <th>VET</th>\n",
       "      <td>0.887143</td>\n",
       "      <td>1.000000</td>\n",
       "      <td>0.913371</td>\n",
       "      <td>0.931107</td>\n",
       "    </tr>\n",
       "    <tr>\n",
       "      <th>BTC</th>\n",
       "      <td>0.982825</td>\n",
       "      <td>0.913371</td>\n",
       "      <td>1.000000</td>\n",
       "      <td>0.936866</td>\n",
       "    </tr>\n",
       "    <tr>\n",
       "      <th>ADA</th>\n",
       "      <td>0.912069</td>\n",
       "      <td>0.931107</td>\n",
       "      <td>0.936866</td>\n",
       "      <td>1.000000</td>\n",
       "    </tr>\n",
       "  </tbody>\n",
       "</table>\n",
       "</div>"
      ],
      "text/plain": [
       "          ETH       VET       BTC       ADA\n",
       "ETH  1.000000  0.887143  0.982825  0.912069\n",
       "VET  0.887143  1.000000  0.913371  0.931107\n",
       "BTC  0.982825  0.913371  1.000000  0.936866\n",
       "ADA  0.912069  0.931107  0.936866  1.000000"
      ]
     },
     "execution_count": 285,
     "metadata": {},
     "output_type": "execute_result"
    }
   ],
   "source": [
    "###Briar to use holoview to get this heatmap, then have to use a tab to use to create panels.\n",
    "#Kevin please do this :-)\n",
    "###Something like Week 6 homework\n",
    "\n",
    "# Calculate the correlation\n",
    "price_correlation = daily_returns.corr()\n",
    "price_correlation\n",
    "# Display de correlation matrix\n",
    "#sns.heatmap(price_correlation, vmin=-1, vmax=1)\n",
    "#Is this heatmap right?\n",
    "#hv.HeatMap(price_correlation, label = \"Heatmap of correlation of the cryptos over the past 12 months\")\n",
    "#price_correlation.hvplot.heatmap(x='ETH', y='VET', height=500, width=500, colorbar=False)"
   ]
  },
  {
   "cell_type": "code",
   "execution_count": 286,
   "metadata": {},
   "outputs": [
    {
     "data": {
      "text/html": [
       "<div>\n",
       "<style scoped>\n",
       "    .dataframe tbody tr th:only-of-type {\n",
       "        vertical-align: middle;\n",
       "    }\n",
       "\n",
       "    .dataframe tbody tr th {\n",
       "        vertical-align: top;\n",
       "    }\n",
       "\n",
       "    .dataframe thead th {\n",
       "        text-align: right;\n",
       "    }\n",
       "</style>\n",
       "<table border=\"1\" class=\"dataframe\">\n",
       "  <thead>\n",
       "    <tr style=\"text-align: right;\">\n",
       "      <th></th>\n",
       "      <th>ETH</th>\n",
       "      <th>VET</th>\n",
       "      <th>BTC</th>\n",
       "      <th>ADA</th>\n",
       "    </tr>\n",
       "  </thead>\n",
       "  <tbody>\n",
       "    <tr>\n",
       "      <th>ETH</th>\n",
       "      <td>1.000000</td>\n",
       "      <td>0.887143</td>\n",
       "      <td>0.982825</td>\n",
       "      <td>0.912069</td>\n",
       "    </tr>\n",
       "    <tr>\n",
       "      <th>VET</th>\n",
       "      <td>0.887143</td>\n",
       "      <td>1.000000</td>\n",
       "      <td>0.913371</td>\n",
       "      <td>0.931107</td>\n",
       "    </tr>\n",
       "    <tr>\n",
       "      <th>BTC</th>\n",
       "      <td>0.982825</td>\n",
       "      <td>0.913371</td>\n",
       "      <td>1.000000</td>\n",
       "      <td>0.936866</td>\n",
       "    </tr>\n",
       "    <tr>\n",
       "      <th>ADA</th>\n",
       "      <td>0.912069</td>\n",
       "      <td>0.931107</td>\n",
       "      <td>0.936866</td>\n",
       "      <td>1.000000</td>\n",
       "    </tr>\n",
       "  </tbody>\n",
       "</table>\n",
       "</div>"
      ],
      "text/plain": [
       "          ETH       VET       BTC       ADA\n",
       "ETH  1.000000  0.887143  0.982825  0.912069\n",
       "VET  0.887143  1.000000  0.913371  0.931107\n",
       "BTC  0.982825  0.913371  1.000000  0.936866\n",
       "ADA  0.912069  0.931107  0.936866  1.000000"
      ]
     },
     "execution_count": 286,
     "metadata": {},
     "output_type": "execute_result"
    }
   ],
   "source": [
    "#This is the correlation over 1 year as it takes our CSV data.\n",
    "#If we can move move it from date range eg. 5 days\n",
    "#that would give a short term trend.\n",
    "price_correlation = daily_returns.corr()\n",
    "price_correlation\n",
    "#Lowest correlation is 0.887143 between VET & ETH\n",
    "#Highest correlation is 0.982825 between BTC & ETHv"
   ]
  },
  {
   "cell_type": "code",
   "execution_count": 287,
   "metadata": {},
   "outputs": [],
   "source": [
    "#range = daily_returns.date_range(start='2021-03-20', periods=10)"
   ]
  },
  {
   "cell_type": "code",
   "execution_count": 288,
   "metadata": {},
   "outputs": [
    {
     "data": {
      "text/plain": [
       "<matplotlib.axes._subplots.AxesSubplot at 0x150fef68608>"
      ]
     },
     "execution_count": 288,
     "metadata": {},
     "output_type": "execute_result"
    },
    {
     "data": {
      "image/png": "[encoded data removed]",
      "text/plain": [
       "<Figure size 1440x720 with 1 Axes>"
      ]
     },
     "metadata": {
      "needs_background": "light"
     },
     "output_type": "display_data"
    }
   ],
   "source": [
    "#Calculate and Plot Beta for a token and the BTC\n",
    "# Calculate covariance of a single portfolio ETH\n",
    "covariance = daily_returns['ETH'].cov(daily_returns['BTC'])\n",
    "# Calculate variance of ETH\n",
    "variance = daily_returns['ETH'].var()\n",
    "# Computing beta\n",
    "ETH_beta = covariance/variance\n",
    "# Plot beta trend\n",
    "rolling_covariance = daily_returns['ETH'].rolling(window=30).cov(daily_returns['BTC'])\n",
    "rolling_variance = daily_returns['BTC'].rolling(window=30).var()\n",
    "rolling_ETH_beta = rolling_covariance / rolling_variance\n",
    "rolling_ETH_beta.plot(figsize = (20,10), title = 'Rolling 30 day beta of ETH vs BTC')"
   ]
  },
  {
   "cell_type": "code",
   "execution_count": 289,
   "metadata": {},
   "outputs": [
    {
     "data": {},
     "metadata": {},
     "output_type": "display_data"
    },
    {
     "data": {
      "application/vnd.holoviews_exec.v0+json": "",
      "text/html": [
       "<div id='27384'>\n",
       "\n",
       "\n",
       "\n",
       "\n",
       "\n",
       "  <div class=\"bk-root\" id=\"708c6b74-46d6-40e1-b35a-c24c98df798a\" data-root-id=\"27384\"></div>\n",
       "</div>\n",
       "<script type=\"application/javascript\">(function(root) {\n",
       "  function embed_document(root) {\n",
       "    var docs_json = {\"487ce48a-61cf-4efd-88ab-f11857b5401c\":{\"roots\":{\"references\":[{\"attributes\":{\"months\":[0,4,8]},\"id\":\"27449\",\"type\":\"MonthsTicker\"},{\"attributes\":{\"data_source\":{\"id\":\"27520\"},\"glyph\":{\"id\":\"27523\"},\"hover_glyph\":null,\"muted_glyph\":{\"id\":\"27525\"},\"nonselection_glyph\":{\"id\":\"27524\"},\"selection_glyph\":null,\"view\":{\"id\":\"27527\"}},\"id\":\"27526\",\"type\":\"GlyphRenderer\"},{\"attributes\":{\"num_minor_ticks\":5,\"tickers\":[{\"id\":\"27440\"},{\"id\":\"27441\"},{\"id\":\"27442\"},{\"id\":\"27443\"},{\"id\":\"27444\"},{\"id\":\"27445\"},{\"id\":\"27446\"},{\"id\":\"27447\"},{\"id\":\"27448\"},{\"id\":\"27449\"},{\"id\":\"27450\"},{\"id\":\"27451\"}]},\"id\":\"27402\",\"type\":\"DatetimeTicker\"},{\"attributes\":{\"line_alpha\":0.2,\"line_color\":\"#fc4f30\",\"line_width\":2,\"x\":{\"field\":\"Date\"},\"y\":{\"field\":\"value\"}},\"id\":\"27461\",\"type\":\"Line\"},{\"attributes\":{\"overlay\":{\"id\":\"27414\"}},\"id\":\"27412\",\"type\":\"BoxZoomTool\"},{\"attributes\":{\"line_alpha\":0.2,\"line_color\":\"#6d904f\",\"line_width\":2,\"x\":{\"field\":\"Date\"},\"y\":{\"field\":\"value\"}},\"id\":\"27525\",\"type\":\"Line\"},{\"attributes\":{},\"id\":\"27399\",\"type\":\"LinearScale\"},{\"attributes\":{\"line_alpha\":0.1,\"line_color\":\"#e5ae38\",\"line_width\":2,\"x\":{\"field\":\"Date\"},\"y\":{\"field\":\"value\"}},\"id\":\"27491\",\"type\":\"Line\"},{\"attributes\":{\"data_source\":{\"id\":\"27426\"},\"glyph\":{\"id\":\"27429\"},\"hover_glyph\":null,\"muted_glyph\":{\"id\":\"27431\"},\"nonselection_glyph\":{\"id\":\"27430\"},\"selection_glyph\":null,\"view\":{\"id\":\"27433\"}},\"id\":\"27432\",\"type\":\"GlyphRenderer\"},{\"attributes\":{\"months\":[0,2,4,6,8,10]},\"id\":\"27448\",\"type\":\"MonthsTicker\"},{\"attributes\":{\"text\":\"Portfolio 21 day EMA\",\"text_color\":{\"value\":\"black\"},\"text_font_size\":{\"value\":\"12pt\"}},\"id\":\"27393\",\"type\":\"Title\"},{\"attributes\":{\"days\":[1,2,3,4,5,6,7,8,9,10,11,12,13,14,15,16,17,18,19,20,21,22,23,24,25,26,27,28,29,30,31]},\"id\":\"27443\",\"type\":\"DaysTicker\"},{\"attributes\":{\"data_source\":{\"id\":\"27487\"},\"glyph\":{\"id\":\"27490\"},\"hover_glyph\":null,\"muted_glyph\":{\"id\":\"27492\"},\"nonselection_glyph\":{\"id\":\"27491\"},\"selection_glyph\":null,\"view\":{\"id\":\"27494\"}},\"id\":\"27493\",\"type\":\"GlyphRenderer\"},{\"attributes\":{},\"id\":\"27457\",\"type\":\"Selection\"},{\"attributes\":{},\"id\":\"27488\",\"type\":\"Selection\"},{\"attributes\":{},\"id\":\"27453\",\"type\":\"UnionRenderers\"},{\"attributes\":{\"days\":[1,15]},\"id\":\"27446\",\"type\":\"DaysTicker\"},{\"attributes\":{\"click_policy\":\"mute\",\"items\":[{\"id\":\"27455\"},{\"id\":\"27486\"},{\"id\":\"27519\"},{\"id\":\"27554\"}],\"location\":[0,0],\"title\":\"Variable\"},\"id\":\"27454\",\"type\":\"Legend\"},{\"attributes\":{},\"id\":\"27397\",\"type\":\"LinearScale\"},{\"attributes\":{\"data\":{\"Date\":{\"__ndarray__\":\"AABAN0IRd0IAAACdlBF3QgAAwALnEXdCAACAaDkSd0IAAEDOixJ3QgAAADTeEndCAADAmTATd0IAAID/ghN3QgAAQGXVE3dCAAAAyycUd0IAAMAwehR3QgAAgJbMFHdCAABA/B4Vd0IAAABicRV3QgAAwMfDFXdCAACALRYWd0IAAECTaBZ3QgAAAPm6FndCAADAXg0Xd0IAAIDEXxd3QgAAQCqyF3dCAAAAkAQYd0IAAMD1Vhh3QgAAgFupGHdCAABAwfsYd0IAAAAnThl3QgAAwIygGXdCAACA8vIZd0IAAEBYRRp3QgAAAL6XGndCAADAI+oad0IAAICJPBt3QgAAQO+OG3dCAAAAVeEbd0IAAMC6Mxx3QgAAgCCGHHdCAABAhtgcd0IAAADsKh13QgAAwFF9HXdCAACAt88dd0IAAEAdIh53QgAAAIN0HndCAADA6MYed0IAAIBOGR93QgAAQLRrH3dCAAAAGr4fd0IAAMB/ECB3QgAAgOViIHdCAABAS7Ugd0IAAACxByF3QgAAwBZaIXdCAACAfKwhd0IAAEDi/iF3QgAAAEhRIndCAADAraMid0IAAIAT9iJ3QgAAQHlII3dCAAAA35ojd0IAAMBE7SN3QgAAgKo/JHdCAABAEJIkd0IAAAB25CR3QgAAwNs2JXdCAACAQYkld0IAAECn2yV3QgAAAA0uJndCAADAcoAmd0IAAIDY0iZ3QgAAQD4lJ3dCAAAApHcnd0IAAMAJyid3QgAAgG8cKHdCAABA1W4od0IAAAA7wSh3QgAAwKATKXdCAACABmYpd0IAAEBsuCl3QgAAANIKKndCAADAN10qd0IAAICdryp3QgAAQAMCK3dCAAAAaVQrd0IAAMDOpit3QgAAgDT5K3dCAABAmkssd0IAAAAAnix3QgAAwGXwLHdCAACAy0Itd0IAAEAxlS13QgAAAJfnLXdCAADA/Dkud0IAAIBijC53QgAAQMjeLndCAAAALjEvd0IAAMCTgy93QgAAgPnVL3dCAABAXygwd0IAAADFejB3QgAAwCrNMHdCAACAkB8xd0IAAED2cTF3QgAAAFzEMXdCAADAwRYyd0IAAIAnaTJ3QgAAQI27MndCAAAA8w0zd0IAAMBYYDN3QgAAgL6yM3dCAABAJAU0d0IAAACKVzR3QgAAwO+pNHdCAACAVfw0d0IAAEC7TjV3QgAAACGhNXdCAADAhvM1d0IAAIDsRTZ3QgAAQFKYNndCAAAAuOo2d0IAAMAdPTd3QgAAgIOPN3dCAABA6eE3d0IAAABPNDh3QgAAwLSGOHdCAACAGtk4d0IAAECAKzl3QgAAAOZ9OXdCAADAS9A5d0IAAICxIjp3QgAAQBd1OndCAAAAfcc6d0IAAMDiGTt3QgAAgEhsO3dCAABArr47d0IAAAAUETx3QgAAwHljPHdCAACA37U8d0IAAEBFCD13QgAAAKtaPXdCAADAEK09d0IAAIB2/z13QgAAQNxRPndCAAAAQqQ+d0IAAMCn9j53QgAAgA1JP3dCAABAc5s/d0IAAADZ7T93QgAAwD5AQHdCAACApJJAd0IAAEAK5UB3QgAAAHA3QXdCAADA1YlBd0IAAIA73EF3QgAAQKEuQndCAAAAB4FCd0IAAMBs00J3QgAAgNIlQ3dCAABAOHhDd0IAAACeykN3QgAAwAMdRHdCAACAaW9Ed0IAAEDPwUR3QgAAADUURXdCAADAmmZFd0IAAIAAuUV3QgAAQGYLRndCAAAAzF1Gd0IAAMAxsEZ3QgAAgJcCR3dCAABA/VRHd0IAAABjp0d3QgAAwMj5R3dCAACALkxId0IAAECUnkh3QgAAAPrwSHdCAADAX0NJd0IAAIDFlUl3QgAAQCvoSXdCAAAAkTpKd0IAAMD2jEp3QgAAgFzfSndCAABAwjFLd0IAAAAohEt3QgAAwI3WS3dCAACA8yhMd0IAAEBZe0x3QgAAAL/NTHdCAADAJCBNd0IAAICKck13QgAAQPDETXdCAAAAVhdOd0IAAMC7aU53QgAAgCG8TndCAABAhw5Pd0IAAADtYE93QgAAwFKzT3dCAACAuAVQd0IAAEAeWFB3QgAAAISqUHdCAADA6fxQd0IAAIBPT1F3QgAAQLWhUXdCAAAAG/RRd0IAAMCARlJ3QgAAgOaYUndCAABATOtSd0IAAACyPVN3QgAAwBeQU3dCAACAfeJTd0IAAEDjNFR3QgAAAEmHVHdCAADArtlUd0IAAIAULFV3QgAAQHp+VXdCAAAA4NBVd0IAAMBFI1Z3QgAAgKt1VndCAABAEchWd0IAAAB3Gld3QgAAwNxsV3dCAACAQr9Xd0IAAECoEVh3QgAAAA5kWHdCAADAc7ZYd0IAAIDZCFl3QgAAQD9bWXdCAAAApa1Zd0IAAMAKAFp3QgAAgHBSWndCAABA1qRad0IAAAA891p3QgAAwKFJW3dCAACAB5xbd0IAAMA4k1x3QgAAgJ7lXHdCAABABDhdd0IAAABqil13QgAAwM/cXXdCAACANS9ed0IAAECbgV53QgAAAAHUXndCAADAZiZfd0IAAIDMeF93QgAAQDLLX3dCAAAAmB1gd0IAAMD9b2B3QgAAgGPCYHdCAABAyRRhd0IAAAAvZ2F3QgAAwJS5YXdCAACA+gtid0IAAEBgXmJ3QgAAAMawYndCAADAKwNjd0IAAICRVWN3QgAAQPenY3dCAAAAXfpjd0IAAMDCTGR3QgAAgCifZHdCAABAjvFkd0IAAAD0Q2V3QgAAwFmWZXdCAACAv+hld0IAAEAlO2Z3QgAAAIuNZndCAADA8N9md0IAAIBWMmd3QgAAQLyEZ3dCAAAAItdnd0IAAMCHKWh3QgAAgO17aHdCAABAU85od0IAAAC5IGl3QgAAwB5zaXdCAACAhMVpd0IAAEDqF2p3QgAAAFBqandCAADAtbxqd0IAAIAbD2t3QgAAQIFha3dCAAAA57Nrd0IAAMBMBmx3QgAAgLJYbHdCAABAGKtsd0IAAAB+/Wx3QgAAwONPbXdCAADAeplud0IAAIDg6253QgAAQEY+b3dCAAAArJBvd0IAAMAR4293QgAAgHc1cHdCAABA3Ydwd0IAAABD2nB3QgAAwKgscXdCAACADn9xd0IAAEB00XF3QgAAANojcndCAADAP3Zyd0IAAIClyHJ3QgAAQAsbc3dCAAAAcW1zd0IAAMDWv3N3QgAAgDwSdHdCAABAomR0d0IAAAAIt3R3QgAAwG0JdXdCAACA01t1d0IAAEA5rnV3QgAAAJ8AdndCAADABFN2d0IAAIBqpXZ3QgAAQND3dndCAAAANkp3d0IAAMCbnHd3QgAAgAHvd3dCAABAZ0F4d0IAAADNk3h3QgAAwDLmeHdCAACAmDh5d0IAAED+inl3QgAAAGTdeXdCAADAyS96d0IAAIAvgnp3QgAAQJXUendCAAAA+yZ7d0IAAMBgeXt3QgAAgMbLe3dCAABALB58d0IAAACScHx3QgAAwPfCfHdCAACAXRV9d0IAAEDDZ313QgAAACm6fXdCAADAjgx+d0IAAID0Xn53QgAAQFqxfndCAAAAwAN/d0IAAMAlVn93QgAAgIuof3dCAABA8fp/d0IAAABXTYB3QgAAwLyfgHdCAACAIvKAd0IAAECIRIF3QgAAAO6WgXdCAADAU+mBd0IAAIC5O4J3QgAAQB+OgndCAAAAheCCd0IAAMDqMoN3QgAAgFCFg3dCAABAtteDd0IAAAAcKoR3QgAAwIF8hHdCAACA586Ed0IAAEBNIYV3QgAAALNzhXdCAADAGMaFd0IAAIB+GIZ3QgAAQORqhndCAAAASr2Gd0IAAMCvD4d3QgAAgBVih3dCAABAe7SHd0IAAADhBoh3Qg==\",\"dtype\":\"float64\",\"order\":\"little\",\"shape\":[365]},\"Variable\":[\"ETH\",\"ETH\",\"ETH\",\"ETH\",\"ETH\",\"ETH\",\"ETH\",\"ETH\",\"ETH\",\"ETH\",\"ETH\",\"ETH\",\"ETH\",\"ETH\",\"ETH\",\"ETH\",\"ETH\",\"ETH\",\"ETH\",\"ETH\",\"ETH\",\"ETH\",\"ETH\",\"ETH\",\"ETH\",\"ETH\",\"ETH\",\"ETH\",\"ETH\",\"ETH\",\"ETH\",\"ETH\",\"ETH\",\"ETH\",\"ETH\",\"ETH\",\"ETH\",\"ETH\",\"ETH\",\"ETH\",\"ETH\",\"ETH\",\"ETH\",\"ETH\",\"ETH\",\"ETH\",\"ETH\",\"ETH\",\"ETH\",\"ETH\",\"ETH\",\"ETH\",\"ETH\",\"ETH\",\"ETH\",\"ETH\",\"ETH\",\"ETH\",\"ETH\",\"ETH\",\"ETH\",\"ETH\",\"ETH\",\"ETH\",\"ETH\",\"ETH\",\"ETH\",\"ETH\",\"ETH\",\"ETH\",\"ETH\",\"ETH\",\"ETH\",\"ETH\",\"ETH\",\"ETH\",\"ETH\",\"ETH\",\"ETH\",\"ETH\",\"ETH\",\"ETH\",\"ETH\",\"ETH\",\"ETH\",\"ETH\",\"ETH\",\"ETH\",\"ETH\",\"ETH\",\"ETH\",\"ETH\",\"ETH\",\"ETH\",\"ETH\",\"ETH\",\"ETH\",\"ETH\",\"ETH\",\"ETH\",\"ETH\",\"ETH\",\"ETH\",\"ETH\",\"ETH\",\"ETH\",\"ETH\",\"ETH\",\"ETH\",\"ETH\",\"ETH\",\"ETH\",\"ETH\",\"ETH\",\"ETH\",\"ETH\",\"ETH\",\"ETH\",\"ETH\",\"ETH\",\"ETH\",\"ETH\",\"ETH\",\"ETH\",\"ETH\",\"ETH\",\"ETH\",\"ETH\",\"ETH\",\"ETH\",\"ETH\",\"ETH\",\"ETH\",\"ETH\",\"ETH\",\"ETH\",\"ETH\",\"ETH\",\"ETH\",\"ETH\",\"ETH\",\"ETH\",\"ETH\",\"ETH\",\"ETH\",\"ETH\",\"ETH\",\"ETH\",\"ETH\",\"ETH\",\"ETH\",\"ETH\",\"ETH\",\"ETH\",\"ETH\",\"ETH\",\"ETH\",\"ETH\",\"ETH\",\"ETH\",\"ETH\",\"ETH\",\"ETH\",\"ETH\",\"ETH\",\"ETH\",\"ETH\",\"ETH\",\"ETH\",\"ETH\",\"ETH\",\"ETH\",\"ETH\",\"ETH\",\"ETH\",\"ETH\",\"ETH\",\"ETH\",\"ETH\",\"ETH\",\"ETH\",\"ETH\",\"ETH\",\"ETH\",\"ETH\",\"ETH\",\"ETH\",\"ETH\",\"ETH\",\"ETH\",\"ETH\",\"ETH\",\"ETH\",\"ETH\",\"ETH\",\"ETH\",\"ETH\",\"ETH\",\"ETH\",\"ETH\",\"ETH\",\"ETH\",\"ETH\",\"ETH\",\"ETH\",\"ETH\",\"ETH\",\"ETH\",\"ETH\",\"ETH\",\"ETH\",\"ETH\",\"ETH\",\"ETH\",\"ETH\",\"ETH\",\"ETH\",\"ETH\",\"ETH\",\"ETH\",\"ETH\",\"ETH\",\"ETH\",\"ETH\",\"ETH\",\"ETH\",\"ETH\",\"ETH\",\"ETH\",\"ETH\",\"ETH\",\"ETH\",\"ETH\",\"ETH\",\"ETH\",\"ETH\",\"ETH\",\"ETH\",\"ETH\",\"ETH\",\"ETH\",\"ETH\",\"ETH\",\"ETH\",\"ETH\",\"ETH\",\"ETH\",\"ETH\",\"ETH\",\"ETH\",\"ETH\",\"ETH\",\"ETH\",\"ETH\",\"ETH\",\"ETH\",\"ETH\",\"ETH\",\"ETH\",\"ETH\",\"ETH\",\"ETH\",\"ETH\",\"ETH\",\"ETH\",\"ETH\",\"ETH\",\"ETH\",\"ETH\",\"ETH\",\"ETH\",\"ETH\",\"ETH\",\"ETH\",\"ETH\",\"ETH\",\"ETH\",\"ETH\",\"ETH\",\"ETH\",\"ETH\",\"ETH\",\"ETH\",\"ETH\",\"ETH\",\"ETH\",\"ETH\",\"ETH\",\"ETH\",\"ETH\",\"ETH\",\"ETH\",\"ETH\",\"ETH\",\"ETH\",\"ETH\",\"ETH\",\"ETH\",\"ETH\",\"ETH\",\"ETH\",\"ETH\",\"ETH\",\"ETH\",\"ETH\",\"ETH\",\"ETH\",\"ETH\",\"ETH\",\"ETH\",\"ETH\",\"ETH\",\"ETH\",\"ETH\",\"ETH\",\"ETH\",\"ETH\",\"ETH\",\"ETH\",\"ETH\",\"ETH\",\"ETH\",\"ETH\",\"ETH\",\"ETH\",\"ETH\",\"ETH\",\"ETH\",\"ETH\",\"ETH\",\"ETH\",\"ETH\",\"ETH\",\"ETH\",\"ETH\",\"ETH\",\"ETH\",\"ETH\",\"ETH\",\"ETH\",\"ETH\",\"ETH\",\"ETH\",\"ETH\",\"ETH\",\"ETH\",\"ETH\",\"ETH\",\"ETH\",\"ETH\",\"ETH\",\"ETH\",\"ETH\",\"ETH\",\"ETH\",\"ETH\",\"ETH\",\"ETH\",\"ETH\",\"ETH\",\"ETH\",\"ETH\",\"ETH\",\"ETH\",\"ETH\"],\"value\":{\"__ndarray__\":\"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\",\"dtype\":\"float64\",\"order\":\"little\",\"shape\":[365]}},\"selected\":{\"id\":\"27427\"},\"selection_policy\":{\"id\":\"27453\"}},\"id\":\"27426\",\"type\":\"ColumnDataSource\"},{\"attributes\":{\"end\":1617062400000.0,\"reset_end\":1617062400000.0,\"reset_start\":1585180800000.0,\"start\":1585180800000.0,\"tags\":[[[\"Date\",\"Date\",null]]]},\"id\":\"27386\",\"type\":\"Range1d\"},{\"attributes\":{\"months\":[0,6]},\"id\":\"27450\",\"type\":\"MonthsTicker\"},{\"attributes\":{\"base\":60,\"mantissas\":[1,2,5,10,15,20,30],\"max_interval\":1800000.0,\"min_interval\":1000.0,\"num_minor_ticks\":0},\"id\":\"27441\",\"type\":\"AdaptiveTicker\"},{\"attributes\":{\"days\":[1,8,15,22]},\"id\":\"27445\",\"type\":\"DaysTicker\"},{\"attributes\":{},\"id\":\"27413\",\"type\":\"ResetTool\"},{\"attributes\":{\"line_alpha\":0.1,\"line_color\":\"#6d904f\",\"line_width\":2,\"x\":{\"field\":\"Date\"},\"y\":{\"field\":\"value\"}},\"id\":\"27524\",\"type\":\"Line\"},{\"attributes\":{\"below\":[{\"id\":\"27401\"}],\"center\":[{\"id\":\"27404\"},{\"id\":\"27408\"}],\"left\":[{\"id\":\"27405\"}],\"margin\":[5,5,5,5],\"min_border_bottom\":10,\"min_border_left\":10,\"min_border_right\":10,\"min_border_top\":10,\"plot_height\":300,\"plot_width\":700,\"renderers\":[{\"id\":\"27432\"},{\"id\":\"27462\"},{\"id\":\"27493\"},{\"id\":\"27526\"}],\"right\":[{\"id\":\"27454\"}],\"sizing_mode\":\"fixed\",\"title\":{\"id\":\"27393\"},\"toolbar\":{\"id\":\"27415\"},\"x_range\":{\"id\":\"27386\"},\"x_scale\":{\"id\":\"27397\"},\"y_range\":{\"id\":\"27387\"},\"y_scale\":{\"id\":\"27399\"}},\"id\":\"27392\",\"subtype\":\"Figure\",\"type\":\"Plot\"},{\"attributes\":{\"children\":[{\"id\":\"27385\"},{\"id\":\"27392\"},{\"id\":\"27789\"}],\"margin\":[0,0,0,0],\"name\":\"Row38521\",\"tags\":[\"embedded\"]},\"id\":\"27384\",\"type\":\"Row\"},{\"attributes\":{\"source\":{\"id\":\"27487\"}},\"id\":\"27494\",\"type\":\"CDSView\"},{\"attributes\":{\"data\":{\"Date\":{\"__ndarray__\":\"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\",\"dtype\":\"float64\",\"order\":\"little\",\"shape\":[365]},\"Variable\":[\"BTC\",\"BTC\",\"BTC\",\"BTC\",\"BTC\",\"BTC\",\"BTC\",\"BTC\",\"BTC\",\"BTC\",\"BTC\",\"BTC\",\"BTC\",\"BTC\",\"BTC\",\"BTC\",\"BTC\",\"BTC\",\"BTC\",\"BTC\",\"BTC\",\"BTC\",\"BTC\",\"BTC\",\"BTC\",\"BTC\",\"BTC\",\"BTC\",\"BTC\",\"BTC\",\"BTC\",\"BTC\",\"BTC\",\"BTC\",\"BTC\",\"BTC\",\"BTC\",\"BTC\",\"BTC\",\"BTC\",\"BTC\",\"BTC\",\"BTC\",\"BTC\",\"BTC\",\"BTC\",\"BTC\",\"BTC\",\"BTC\",\"BTC\",\"BTC\",\"BTC\",\"BTC\",\"BTC\",\"BTC\",\"BTC\",\"BTC\",\"BTC\",\"BTC\",\"BTC\",\"BTC\",\"BTC\",\"BTC\",\"BTC\",\"BTC\",\"BTC\",\"BTC\",\"BTC\",\"BTC\",\"BTC\",\"BTC\",\"BTC\",\"BTC\",\"BTC\",\"BTC\",\"BTC\",\"BTC\",\"BTC\",\"BTC\",\"BTC\",\"BTC\",\"BTC\",\"BTC\",\"BTC\",\"BTC\",\"BTC\",\"BTC\",\"BTC\",\"BTC\",\"BTC\",\"BTC\",\"BTC\",\"BTC\",\"BTC\",\"BTC\",\"BTC\",\"BTC\",\"BTC\",\"BTC\",\"BTC\",\"BTC\",\"BTC\",\"BTC\",\"BTC\",\"BTC\",\"BTC\",\"BTC\",\"BTC\",\"BTC\",\"BTC\",\"BTC\",\"BTC\",\"BTC\",\"BTC\",\"BTC\",\"BTC\",\"BTC\",\"BTC\",\"BTC\",\"BTC\",\"BTC\",\"BTC\",\"BTC\",\"BTC\",\"BTC\",\"BTC\",\"BTC\",\"BTC\",\"BTC\",\"BTC\",\"BTC\",\"BTC\",\"BTC\",\"BTC\",\"BTC\",\"BTC\",\"BTC\",\"BTC\",\"BTC\",\"BTC\",\"BTC\",\"BTC\",\"BTC\",\"BTC\",\"BTC\",\"BTC\",\"BTC\",\"BTC\",\"BTC\",\"BTC\",\"BTC\",\"BTC\",\"BTC\",\"BTC\",\"BTC\",\"BTC\",\"BTC\",\"BTC\",\"BTC\",\"BTC\",\"BTC\",\"BTC\",\"BTC\",\"BTC\",\"BTC\",\"BTC\",\"BTC\",\"BTC\",\"BTC\",\"BTC\",\"BTC\",\"BTC\",\"BTC\",\"BTC\",\"BTC\",\"BTC\",\"BTC\",\"BTC\",\"BTC\",\"BTC\",\"BTC\",\"BTC\",\"BTC\",\"BTC\",\"BTC\",\"BTC\",\"BTC\",\"BTC\",\"BTC\",\"BTC\",\"BTC\",\"BTC\",\"BTC\",\"BTC\",\"BTC\",\"BTC\",\"BTC\",\"BTC\",\"BTC\",\"BTC\",\"BTC\",\"BTC\",\"BTC\",\"BTC\",\"BTC\",\"BTC\",\"BTC\",\"BTC\",\"BTC\",\"BTC\",\"BTC\",\"BTC\",\"BTC\",\"BTC\",\"BTC\",\"BTC\",\"BTC\",\"BTC\",\"BTC\",\"BTC\",\"BTC\",\"BTC\",\"BTC\",\"BTC\",\"BTC\",\"BTC\",\"BTC\",\"BTC\",\"BTC\",\"BTC\",\"BTC\",\"BTC\",\"BTC\",\"BTC\",\"BTC\",\"BTC\",\"BTC\",\"BTC\",\"BTC\",\"BTC\",\"BTC\",\"BTC\",\"BTC\",\"BTC\",\"BTC\",\"BTC\",\"BTC\",\"BTC\",\"BTC\",\"BTC\",\"BTC\",\"BTC\",\"BTC\",\"BTC\",\"BTC\",\"BTC\",\"BTC\",\"BTC\",\"BTC\",\"BTC\",\"BTC\",\"BTC\",\"BTC\",\"BTC\",\"BTC\",\"BTC\",\"BTC\",\"BTC\",\"BTC\",\"BTC\",\"BTC\",\"BTC\",\"BTC\",\"BTC\",\"BTC\",\"BTC\",\"BTC\",\"BTC\",\"BTC\",\"BTC\",\"BTC\",\"BTC\",\"BTC\",\"BTC\",\"BTC\",\"BTC\",\"BTC\",\"BTC\",\"BTC\",\"BTC\",\"BTC\",\"BTC\",\"BTC\",\"BTC\",\"BTC\",\"BTC\",\"BTC\",\"BTC\",\"BTC\",\"BTC\",\"BTC\",\"BTC\",\"BTC\",\"BTC\",\"BTC\",\"BTC\",\"BTC\",\"BTC\",\"BTC\",\"BTC\",\"BTC\",\"BTC\",\"BTC\",\"BTC\",\"BTC\",\"BTC\",\"BTC\",\"BTC\",\"BTC\",\"BTC\",\"BTC\",\"BTC\",\"BTC\",\"BTC\",\"BTC\",\"BTC\",\"BTC\",\"BTC\",\"BTC\",\"BTC\",\"BTC\",\"BTC\",\"BTC\",\"BTC\",\"BTC\",\"BTC\",\"BTC\",\"BTC\",\"BTC\",\"BTC\",\"BTC\",\"BTC\",\"BTC\",\"BTC\",\"BTC\",\"BTC\",\"BTC\",\"BTC\",\"BTC\",\"BTC\",\"BTC\",\"BTC\",\"BTC\",\"BTC\",\"BTC\",\"BTC\",\"BTC\",\"BTC\",\"BTC\",\"BTC\",\"BTC\",\"BTC\",\"BTC\",\"BTC\",\"BTC\"],\"value\":{\"__ndarray__\":\"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\",\"dtype\":\"float64\",\"order\":\"little\",\"shape\":[365]}},\"selected\":{\"id\":\"27488\"},\"selection_policy\":{\"id\":\"27518\"}},\"id\":\"27487\",\"type\":\"ColumnDataSource\"},{\"attributes\":{},\"id\":\"27451\",\"type\":\"YearsTicker\"},{\"attributes\":{\"margin\":[5,5,5,5],\"name\":\"HSpacer38525\",\"sizing_mode\":\"stretch_width\"},\"id\":\"27385\",\"type\":\"Spacer\"},{\"attributes\":{\"axis_label\":\"Date\",\"bounds\":\"auto\",\"formatter\":{\"id\":\"27422\"},\"major_label_orientation\":\"horizontal\",\"ticker\":{\"id\":\"27402\"}},\"id\":\"27401\",\"type\":\"DatetimeAxis\"},{\"attributes\":{},\"id\":\"27406\",\"type\":\"BasicTicker\"},{\"attributes\":{\"days\":[1,4,7,10,13,16,19,22,25,28]},\"id\":\"27444\",\"type\":\"DaysTicker\"},{\"attributes\":{\"line_alpha\":0.2,\"line_color\":\"#30a2da\",\"line_width\":2,\"x\":{\"field\":\"Date\"},\"y\":{\"field\":\"value\"}},\"id\":\"27431\",\"type\":\"Line\"},{\"attributes\":{\"data\":{\"Date\":{\"__ndarray__\":\"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\",\"dtype\":\"float64\",\"order\":\"little\",\"shape\":[365]},\"Variable\":[\"VET\",\"VET\",\"VET\",\"VET\",\"VET\",\"VET\",\"VET\",\"VET\",\"VET\",\"VET\",\"VET\",\"VET\",\"VET\",\"VET\",\"VET\",\"VET\",\"VET\",\"VET\",\"VET\",\"VET\",\"VET\",\"VET\",\"VET\",\"VET\",\"VET\",\"VET\",\"VET\",\"VET\",\"VET\",\"VET\",\"VET\",\"VET\",\"VET\",\"VET\",\"VET\",\"VET\",\"VET\",\"VET\",\"VET\",\"VET\",\"VET\",\"VET\",\"VET\",\"VET\",\"VET\",\"VET\",\"VET\",\"VET\",\"VET\",\"VET\",\"VET\",\"VET\",\"VET\",\"VET\",\"VET\",\"VET\",\"VET\",\"VET\",\"VET\",\"VET\",\"VET\",\"VET\",\"VET\",\"VET\",\"VET\",\"VET\",\"VET\",\"VET\",\"VET\",\"VET\",\"VET\",\"VET\",\"VET\",\"VET\",\"VET\",\"VET\",\"VET\",\"VET\",\"VET\",\"VET\",\"VET\",\"VET\",\"VET\",\"VET\",\"VET\",\"VET\",\"VET\",\"VET\",\"VET\",\"VET\",\"VET\",\"VET\",\"VET\",\"VET\",\"VET\",\"VET\",\"VET\",\"VET\",\"VET\",\"VET\",\"VET\",\"VET\",\"VET\",\"VET\",\"VET\",\"VET\",\"VET\",\"VET\",\"VET\",\"VET\",\"VET\",\"VET\",\"VET\",\"VET\",\"VET\",\"VET\",\"VET\",\"VET\",\"VET\",\"VET\",\"VET\",\"VET\",\"VET\",\"VET\",\"VET\",\"VET\",\"VET\",\"VET\",\"VET\",\"VET\",\"VET\",\"VET\",\"VET\",\"VET\",\"VET\",\"VET\",\"VET\",\"VET\",\"VET\",\"VET\",\"VET\",\"VET\",\"VET\",\"VET\",\"VET\",\"VET\",\"VET\",\"VET\",\"VET\",\"VET\",\"VET\",\"VET\",\"VET\",\"VET\",\"VET\",\"VET\",\"VET\",\"VET\",\"VET\",\"VET\",\"VET\",\"VET\",\"VET\",\"VET\",\"VET\",\"VET\",\"VET\",\"VET\",\"VET\",\"VET\",\"VET\",\"VET\",\"VET\",\"VET\",\"VET\",\"VET\",\"VET\",\"VET\",\"VET\",\"VET\",\"VET\",\"VET\",\"VET\",\"VET\",\"VET\",\"VET\",\"VET\",\"VET\",\"VET\",\"VET\",\"VET\",\"VET\",\"VET\",\"VET\",\"VET\",\"VET\",\"VET\",\"VET\",\"VET\",\"VET\",\"VET\",\"VET\",\"VET\",\"VET\",\"VET\",\"VET\",\"VET\",\"VET\",\"VET\",\"VET\",\"VET\",\"VET\",\"VET\",\"VET\",\"VET\",\"VET\",\"VET\",\"VET\",\"VET\",\"VET\",\"VET\",\"VET\",\"VET\",\"VET\",\"VET\",\"VET\",\"VET\",\"VET\",\"VET\",\"VET\",\"VET\",\"VET\",\"VET\",\"VET\",\"VET\",\"VET\",\"VET\",\"VET\",\"VET\",\"VET\",\"VET\",\"VET\",\"VET\",\"VET\",\"VET\",\"VET\",\"VET\",\"VET\",\"VET\",\"VET\",\"VET\",\"VET\",\"VET\",\"VET\",\"VET\",\"VET\",\"VET\",\"VET\",\"VET\",\"VET\",\"VET\",\"VET\",\"VET\",\"VET\",\"VET\",\"VET\",\"VET\",\"VET\",\"VET\",\"VET\",\"VET\",\"VET\",\"VET\",\"VET\",\"VET\",\"VET\",\"VET\",\"VET\",\"VET\",\"VET\",\"VET\",\"VET\",\"VET\",\"VET\",\"VET\",\"VET\",\"VET\",\"VET\",\"VET\",\"VET\",\"VET\",\"VET\",\"VET\",\"VET\",\"VET\",\"VET\",\"VET\",\"VET\",\"VET\",\"VET\",\"VET\",\"VET\",\"VET\",\"VET\",\"VET\",\"VET\",\"VET\",\"VET\",\"VET\",\"VET\",\"VET\",\"VET\",\"VET\",\"VET\",\"VET\",\"VET\",\"VET\",\"VET\",\"VET\",\"VET\",\"VET\",\"VET\",\"VET\",\"VET\",\"VET\",\"VET\",\"VET\",\"VET\",\"VET\",\"VET\",\"VET\",\"VET\",\"VET\",\"VET\",\"VET\",\"VET\",\"VET\",\"VET\",\"VET\",\"VET\",\"VET\",\"VET\",\"VET\",\"VET\",\"VET\",\"VET\",\"VET\",\"VET\",\"VET\",\"VET\",\"VET\",\"VET\",\"VET\",\"VET\",\"VET\",\"VET\",\"VET\",\"VET\",\"VET\",\"VET\",\"VET\",\"VET\",\"VET\",\"VET\",\"VET\"],\"value\":{\"__ndarray__\":\"/Sn3Xw7aoD+pvzjl7p2gPwzWvhgXeqA/JM9CiucHoD+SBz/yngigP3bOIwrvO6A/81TMrgRsoD9rd0X5l6GgP7XFyVTW0aA/SFXcRs/0oD9yPecdpg6hP5WBdvCWcKE/cFKQ7HzqoT+0jooPeGOiP3iQUqmct6I/dHKTNdbVoj+P/e1hJ/uiP02q2rlKHKM/uuX9jZ4toz+50vxPUEWjP24YsmD4WKM/a6UZ/fmCoz+wVGGutaGjP904cf4v16M/6WhgHMv9oz9ElDbyPPyjPzgiQMZB/6M/kiZRGqEfpD9WC94hhUSkP4psSV0td6Q/oajVua+2pD/Z+Nqq4RGlPwG3NOS1VKU/rnUWMIeJpT9cL0fE//WlPw3Rdp2GIqY/vfUj5F1Vpj8N9LNyhI2mPzyqU7OwqKY/oOvTJxzQpj8F9OcgSfCmP2a7fc169qY/tBzAoWEepz8tyO1gjWWnP8bMyZAAiKc/Jf64T7B3pz/RVuxf4l+nP/xCB/jnW6c/crAiHupzpz/Yn1xoMY6nP+f+ufAJl6c/4AIuFK6opz+RxDarXbWnP3C3MiyxyKc/5hyYGkHgpz8+QOeCgPSnP0rMoDcV4qc/thzzePcEqD+UDZR8kSCoP347rFwGKKg/yE0ZJnx6qD9XG/g96KyoPwcfFYrI3ag/jPp8F2BYqT85MarGnsypP9PmmOXRjKo/N3pW/EQ9qz/eqv1/xRKsP5RlPLI+IK0/z7E7MAsCrj++heXDgqCuP6VboS35LK8/vF7b5zX6rz+coC2zulWwP4VqGTfsyLA/0Qf/1udKsT8s5uqXxfWxP2K/eFlcgbI/JUnhPZg8sz8N/vTDmN+zP/SA3p3ZNrQ/U38cHG+ftD9/KkVNWQC1P5n4WJcCVbU/n1dzOgOMtT/9UdcXv6u1P0Bpwomxw7U/vq+EqATutT/lKB1BLT62P1mdCYv9brY/ETv71LWgtj/4iuQbOse2P9lVGFFQ7rY/PFuZcPn8tj+Az1YJEw+3P6OEzCRGH7c/TNLhKjo3tz+fh65ZLnO3PyzWGFFysbc/rX3BZUEVuD8x9On8BAK5P7bcTxTKS7o/lv7irb99uz96rYy6mky9P3CaDdCsmb8/8KaHIkWhwD/dVvPvMz/BP/yirJVx+8E/2m69YYOawj+eSibXyjTDP31aniiBwMM/Ejnsu+pQxD/0zwSUQ7bEP4QCssm1F8U/csi5UT9vxT9msRFXtLnFP04vgmHNv8U/AVq3wfrxxT9HxYN19R7GPxMoXWRuRcY/Nzi5usZbxj9MCuVJ/5bGP4esEzL/t8Y/3VJAHKGYxj+1hJ3ET4fGP48hcR4ha8Y/wUndMjqIxj8vAo4WJp/GP96d2mK1t8Y/7xC3cVeqxj/taT14nq3GP3MveiFG8cY/LYV1NzIxxz9ciGJ+3IjHP0XiOSIft8c/6NlYe3olyD/3j9NG3KzIP+ENFJ1QGMk/EngVI55LyT/MRYhkw4jJPwqEdjH6pck/bYFrDXTdyT9V65E+SPHJP5Vhur/BDMo/41sqfGUryj9qYhV+ZSrKP0C5mBsmAco/+cib8rwMyj/aCO3pTenJPzwRtTqJ0Mk/W4yuoOOwyT/wnAzfBp3JP0+84/cGYsk/8RButJQzyT9LEqhBAuTIP8J3XbLSp8g/soW2rlCAyD+raljO7WbIPwprLRCJWMg/Gd269JA+yD/a1ldO9AbIP9wS0ETCYMc/MJE/Lf0Fxz/2RTbU2W7GPwvOdp7J7cU/0Fql4Y5zxT9xL+Tx1AHFP6Oj4wNBscQ/xhfkHkBtxD/Cwo3bKDfEP5kZeafGC8Q/oMvxObXQwz+V7CZfF5zDP4ESO7mSY8M/63igZjcswz8WCGHLxRvDP0FR3IwfKsM/ryKsVORRwz9YB9zEd1zDP0wTDWzAKsM/QnGXhHn1wj+44DoxnKXCP9JPHlSlfcI/SrGhBvxpwj/EpdTuClbCP4PvJRqjQMI/+o4rWrQuwj8jsbGufSrCP37iPzgtMsI/OJ50qO8fwj8WOi0gbPPBP9fTxhzixsE/lF0RayKcwT87HzKPbWzBP7BRU9+fGME/3vZMTpzwwD8o2o1mmcTAPxEbrCpBq8A/weVOsPyRwD9mzsJLIXzAP2ITTISzZsA/E94ORkZWwD+1E0MNPTzAP41qSUUpH8A/VmqdoDbxvz8ozVI48sS/P4gnfZGtxb8/KqUmUTO3vz+DLVRkCYO/P8+QrIoSeL8/junYoBGhvz/L8jfEWMq/P3yVtLHx878/HSa0VbH5vz+WClaCJuW/PyP3Mum60r8/njvgPziTvz+nn4FK6jy/P4Tq4Ac0574/VQe5v02Mvj8V5xVvTmG+P717xScIHr4/Gk4Od2atvT+wIEPyfFC9P/JEz6ZREL0/QacTZFIzvT/Tyf+cXiC9P4mYT61ZPr0/4rhZo49TvT8hZPiSF4q9P/ly4yAkrL0/ovm3ejGfvT/DwK87LKy9P6ya+nveyr0/WGrhCvkmvj9ofUp0kFa+P3dyuMi2cL4/UHOfZuiqvj+hpsvKHHe/P+O6CevtB8A/rcLq1qyQwD/burtPvhDBP6qSNiInlME/1SGfKuXLwT9Y6+FfW/vBP8MeXuAxQcI/iTxRg7d5wj+6apZQLMjCP34nvLYw58I/UU5wRQ45wz+rpB7tIaPDP1FrSkPhzMM/l+wo6KosxD9ylRAqO3jEPzOVk1Fj3MQ/r83fCx4AxT+9Zj0nKi3FP22RsZhUO8U/0SAYWEc8xT/ZIhJDWFrFP0u5HbkSdcU/sk/hvmmKxT98AZeTG6LFP9HIPDPg0MU/ZLOkutb0xT+x7uNpKCDGPz6nGuUzRsY/aSYOAXNHxj/zWK/Yry7GP3fEOx+xI8Y/7qjSB9PGxT+2I0Ym16XFP9oxT0FwfsU/fV0h/7mVxT8Ad4Qo263FPwSbvHWuNcY/qAAQf+jQxj/KQWM6QELHPzl8rINxecc/wvgeZCG1xz8WVPArbAnIP+lFX0y7Gck/msZO91fhyT+Zm5knnf7KP/zcVDc9Xsw/ZvGtfGYpzT+s4Sf/gYjNP0y5Y1PCr80/NFC5MgY7zj8Sk8x6zK/OP8KRcrW8C88/hqUgQ1eQzz932AARWAnQP+ogL6iNfdA/1I8lHQDN0D/l2swwzmzRP2Qwl/56lNE/I9rtzKDt0T9YrmW0TyrSP3DXQeenatI/kBbhU2SX0j/A5/HeQbvSP0vfG1miq9I/LV3+tvSs0j/RaQWpTLXSP4tE1/oardI/vIBr2aeO0j8jK25zJ7LSP5gnoljDvdI/h6rR77vZ0j/4hNVTs9vSP70nSLCNItM/OMRneglB0z+GJWXeY1DTPxTUQtDEgNM/XS/OoC/t0z/N8atL71XUP0cuGVmEItU/ddxASd+c1j/W2nwbjPXXP8+WpkZRCdk/eJw0Cpjv2T9BrNqfxKXaPzbRW1/WZ9s/TrptcndL3D9bni27bwzdP/Ju0aOLu90/9Kzf7KJv3j8lwT5vQsfeP4OiGqU9md4/c5OLE5553j/uwyKf6SXeP5qZ2bWu3d0//QxCpzOv3T+dI15fEXPdP6IxbNppnd0/8JlW9Muk3T/hWAQZkzzeP0b2EbSnm94/ompkll8O3z9As8AWhIvfPzpfGFvCGOA/dIZFL9Kp4D9OHqvelybhP/1Ez1mjf+E/B8a6msP+4T9yny52yGXiP7moYvxG0uI/OfdOzpgo4z8I5iXE4tzjP7ZNnrKBXuQ/DgNubFPm5D90Ikk6amjlP1hqr1WV+eU/IueV7ubA5j9PjJ/BF5jnP7ucOetoMeg/o7AauuCT6D++smWa5vvoP+ppQlZJOek/K5V/5/a46T9uNqkfcyLqP61URqTXk+o/QdfCpvYE6z8GfmsHzFrrPw==\",\"dtype\":\"float64\",\"order\":\"little\",\"shape\":[365]}},\"selected\":{\"id\":\"27457\"},\"selection_policy\":{\"id\":\"27485\"}},\"id\":\"27456\",\"type\":\"ColumnDataSource\"},{\"attributes\":{},\"id\":\"27410\",\"type\":\"PanTool\"},{\"attributes\":{\"end\":0.9923358458411617,\"reset_end\":0.9923358458411617,\"reset_start\":-0.06702261593288925,\"start\":-0.06702261593288925,\"tags\":[[[\"value\",\"value\",null]]]},\"id\":\"27387\",\"type\":\"Range1d\"},{\"attributes\":{\"base\":24,\"mantissas\":[1,2,4,6,8,12],\"max_interval\":43200000.0,\"min_interval\":3600000.0,\"num_minor_ticks\":0},\"id\":\"27442\",\"type\":\"AdaptiveTicker\"},{\"attributes\":{\"months\":[0,1,2,3,4,5,6,7,8,9,10,11]},\"id\":\"27447\",\"type\":\"MonthsTicker\"},{\"attributes\":{},\"id\":\"27485\",\"type\":\"UnionRenderers\"},{\"attributes\":{},\"id\":\"27518\",\"type\":\"UnionRenderers\"},{\"attributes\":{\"data_source\":{\"id\":\"27456\"},\"glyph\":{\"id\":\"27459\"},\"hover_glyph\":null,\"muted_glyph\":{\"id\":\"27461\"},\"nonselection_glyph\":{\"id\":\"27460\"},\"selection_glyph\":null,\"view\":{\"id\":\"27463\"}},\"id\":\"27462\",\"type\":\"GlyphRenderer\"},{\"attributes\":{\"label\":{\"value\":\"VET\"},\"renderers\":[{\"id\":\"27462\"}]},\"id\":\"27486\",\"type\":\"LegendItem\"},{\"attributes\":{\"source\":{\"id\":\"27426\"}},\"id\":\"27433\",\"type\":\"CDSView\"},{\"attributes\":{\"source\":{\"id\":\"27520\"}},\"id\":\"27527\",\"type\":\"CDSView\"},{\"attributes\":{\"mantissas\":[1,2,5],\"max_interval\":500.0,\"num_minor_ticks\":0},\"id\":\"27440\",\"type\":\"AdaptiveTicker\"},{\"attributes\":{\"axis_label\":\"\",\"bounds\":\"auto\",\"formatter\":{\"id\":\"27424\"},\"major_label_orientation\":\"horizontal\",\"ticker\":{\"id\":\"27406\"}},\"id\":\"27405\",\"type\":\"LinearAxis\"},{\"attributes\":{\"axis\":{\"id\":\"27405\"},\"dimension\":1,\"grid_line_color\":null,\"ticker\":null},\"id\":\"27408\",\"type\":\"Grid\"},{\"attributes\":{\"data\":{\"Date\":{\"__ndarray__\":\"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\",\"dtype\":\"float64\",\"order\":\"little\",\"shape\":[365]},\"Variable\":[\"ADA\",\"ADA\",\"ADA\",\"ADA\",\"ADA\",\"ADA\",\"ADA\",\"ADA\",\"ADA\",\"ADA\",\"ADA\",\"ADA\",\"ADA\",\"ADA\",\"ADA\",\"ADA\",\"ADA\",\"ADA\",\"ADA\",\"ADA\",\"ADA\",\"ADA\",\"ADA\",\"ADA\",\"ADA\",\"ADA\",\"ADA\",\"ADA\",\"ADA\",\"ADA\",\"ADA\",\"ADA\",\"ADA\",\"ADA\",\"ADA\",\"ADA\",\"ADA\",\"ADA\",\"ADA\",\"ADA\",\"ADA\",\"ADA\",\"ADA\",\"ADA\",\"ADA\",\"ADA\",\"ADA\",\"ADA\",\"ADA\",\"ADA\",\"ADA\",\"ADA\",\"ADA\",\"ADA\",\"ADA\",\"ADA\",\"ADA\",\"ADA\",\"ADA\",\"ADA\",\"ADA\",\"ADA\",\"ADA\",\"ADA\",\"ADA\",\"ADA\",\"ADA\",\"ADA\",\"ADA\",\"ADA\",\"ADA\",\"ADA\",\"ADA\",\"ADA\",\"ADA\",\"ADA\",\"ADA\",\"ADA\",\"ADA\",\"ADA\",\"ADA\",\"ADA\",\"ADA\",\"ADA\",\"ADA\",\"ADA\",\"ADA\",\"ADA\",\"ADA\",\"ADA\",\"ADA\",\"ADA\",\"ADA\",\"ADA\",\"ADA\",\"ADA\",\"ADA\",\"ADA\",\"ADA\",\"ADA\",\"ADA\",\"ADA\",\"ADA\",\"ADA\",\"ADA\",\"ADA\",\"ADA\",\"ADA\",\"ADA\",\"ADA\",\"ADA\",\"ADA\",\"ADA\",\"ADA\",\"ADA\",\"ADA\",\"ADA\",\"ADA\",\"ADA\",\"ADA\",\"ADA\",\"ADA\",\"ADA\",\"ADA\",\"ADA\",\"ADA\",\"ADA\",\"ADA\",\"ADA\",\"ADA\",\"ADA\",\"ADA\",\"ADA\",\"ADA\",\"ADA\",\"ADA\",\"ADA\",\"ADA\",\"ADA\",\"ADA\",\"ADA\",\"ADA\",\"ADA\",\"ADA\",\"ADA\",\"ADA\",\"ADA\",\"ADA\",\"ADA\",\"ADA\",\"ADA\",\"ADA\",\"ADA\",\"ADA\",\"ADA\",\"ADA\",\"ADA\",\"ADA\",\"ADA\",\"ADA\",\"ADA\",\"ADA\",\"ADA\",\"ADA\",\"ADA\",\"ADA\",\"ADA\",\"ADA\",\"ADA\",\"ADA\",\"ADA\",\"ADA\",\"ADA\",\"ADA\",\"ADA\",\"ADA\",\"ADA\",\"ADA\",\"ADA\",\"ADA\",\"ADA\",\"ADA\",\"ADA\",\"ADA\",\"ADA\",\"ADA\",\"ADA\",\"ADA\",\"ADA\",\"ADA\",\"ADA\",\"ADA\",\"ADA\",\"ADA\",\"ADA\",\"ADA\",\"ADA\",\"ADA\",\"ADA\",\"ADA\",\"ADA\",\"ADA\",\"ADA\",\"ADA\",\"ADA\",\"ADA\",\"ADA\",\"ADA\",\"ADA\",\"ADA\",\"ADA\",\"ADA\",\"ADA\",\"ADA\",\"ADA\",\"ADA\",\"ADA\",\"ADA\",\"ADA\",\"ADA\",\"ADA\",\"ADA\",\"ADA\",\"ADA\",\"ADA\",\"ADA\",\"ADA\",\"ADA\",\"ADA\",\"ADA\",\"ADA\",\"ADA\",\"ADA\",\"ADA\",\"ADA\",\"ADA\",\"ADA\",\"ADA\",\"ADA\",\"ADA\",\"ADA\",\"ADA\",\"ADA\",\"ADA\",\"ADA\",\"ADA\",\"ADA\",\"ADA\",\"ADA\",\"ADA\",\"ADA\",\"ADA\",\"ADA\",\"ADA\",\"ADA\",\"ADA\",\"ADA\",\"ADA\",\"ADA\",\"ADA\",\"ADA\",\"ADA\",\"ADA\",\"ADA\",\"ADA\",\"ADA\",\"ADA\",\"ADA\",\"ADA\",\"ADA\",\"ADA\",\"ADA\",\"ADA\",\"ADA\",\"ADA\",\"ADA\",\"ADA\",\"ADA\",\"ADA\",\"ADA\",\"ADA\",\"ADA\",\"ADA\",\"ADA\",\"ADA\",\"ADA\",\"ADA\",\"ADA\",\"ADA\",\"ADA\",\"ADA\",\"ADA\",\"ADA\",\"ADA\",\"ADA\",\"ADA\",\"ADA\",\"ADA\",\"ADA\",\"ADA\",\"ADA\",\"ADA\",\"ADA\",\"ADA\",\"ADA\",\"ADA\",\"ADA\",\"ADA\",\"ADA\",\"ADA\",\"ADA\",\"ADA\",\"ADA\",\"ADA\",\"ADA\",\"ADA\",\"ADA\",\"ADA\",\"ADA\",\"ADA\",\"ADA\",\"ADA\",\"ADA\",\"ADA\",\"ADA\",\"ADA\",\"ADA\",\"ADA\",\"ADA\",\"ADA\",\"ADA\",\"ADA\",\"ADA\",\"ADA\",\"ADA\",\"ADA\",\"ADA\",\"ADA\",\"ADA\",\"ADA\",\"ADA\",\"ADA\",\"ADA\",\"ADA\",\"ADA\",\"ADA\",\"ADA\",\"ADA\",\"ADA\",\"ADA\",\"ADA\",\"ADA\",\"ADA\",\"ADA\",\"ADA\",\"ADA\",\"ADA\",\"ADA\",\"ADA\",\"ADA\",\"ADA\",\"ADA\",\"ADA\",\"ADA\",\"ADA\"],\"value\":{\"__ndarray__\":\"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\",\"dtype\":\"float64\",\"order\":\"little\",\"shape\":[365]}},\"selected\":{\"id\":\"27521\"},\"selection_policy\":{\"id\":\"27553\"}},\"id\":\"27520\",\"type\":\"ColumnDataSource\"},{\"attributes\":{\"line_color\":\"#e5ae38\",\"line_width\":2,\"x\":{\"field\":\"Date\"},\"y\":{\"field\":\"value\"}},\"id\":\"27490\",\"type\":\"Line\"},{\"attributes\":{\"callback\":null,\"formatters\":{\"@{Date}\":\"datetime\"},\"renderers\":[{\"id\":\"27432\"},{\"id\":\"27462\"},{\"id\":\"27493\"},{\"id\":\"27526\"}],\"tags\":[\"hv_created\"],\"tooltips\":[[\"Variable\",\"@{Variable}\"],[\"Date\",\"@{Date}{%F %T}\"],[\"value\",\"@{value}\"]]},\"id\":\"27388\",\"type\":\"HoverTool\"},{\"attributes\":{},\"id\":\"27411\",\"type\":\"WheelZoomTool\"},{\"attributes\":{},\"id\":\"27422\",\"type\":\"DatetimeTickFormatter\"},{\"attributes\":{\"line_alpha\":0.1,\"line_color\":\"#fc4f30\",\"line_width\":2,\"x\":{\"field\":\"Date\"},\"y\":{\"field\":\"value\"}},\"id\":\"27460\",\"type\":\"Line\"},{\"attributes\":{},\"id\":\"27424\",\"type\":\"BasicTickFormatter\"},{\"attributes\":{\"line_alpha\":0.2,\"line_color\":\"#e5ae38\",\"line_width\":2,\"x\":{\"field\":\"Date\"},\"y\":{\"field\":\"value\"}},\"id\":\"27492\",\"type\":\"Line\"},{\"attributes\":{\"axis\":{\"id\":\"27401\"},\"grid_line_color\":null,\"ticker\":null},\"id\":\"27404\",\"type\":\"Grid\"},{\"attributes\":{\"line_color\":\"#30a2da\",\"line_width\":2,\"x\":{\"field\":\"Date\"},\"y\":{\"field\":\"value\"}},\"id\":\"27429\",\"type\":\"Line\"},{\"attributes\":{\"bottom_units\":\"screen\",\"fill_alpha\":0.5,\"fill_color\":\"lightgrey\",\"left_units\":\"screen\",\"level\":\"overlay\",\"line_alpha\":1.0,\"line_color\":\"black\",\"line_dash\":[4,4],\"line_width\":2,\"right_units\":\"screen\",\"top_units\":\"screen\"},\"id\":\"27414\",\"type\":\"BoxAnnotation\"},{\"attributes\":{},\"id\":\"27427\",\"type\":\"Selection\"},{\"attributes\":{},\"id\":\"27409\",\"type\":\"SaveTool\"},{\"attributes\":{\"label\":{\"value\":\"ADA\"},\"renderers\":[{\"id\":\"27526\"}]},\"id\":\"27554\",\"type\":\"LegendItem\"},{\"attributes\":{\"margin\":[5,5,5,5],\"name\":\"HSpacer38526\",\"sizing_mode\":\"stretch_width\"},\"id\":\"27789\",\"type\":\"Spacer\"},{\"attributes\":{\"active_drag\":\"auto\",\"active_inspect\":\"auto\",\"active_multi\":null,\"active_scroll\":\"auto\",\"active_tap\":\"auto\",\"tools\":[{\"id\":\"27388\"},{\"id\":\"27409\"},{\"id\":\"27410\"},{\"id\":\"27411\"},{\"id\":\"27412\"},{\"id\":\"27413\"}]},\"id\":\"27415\",\"type\":\"Toolbar\"},{\"attributes\":{\"line_alpha\":0.1,\"line_color\":\"#30a2da\",\"line_width\":2,\"x\":{\"field\":\"Date\"},\"y\":{\"field\":\"value\"}},\"id\":\"27430\",\"type\":\"Line\"},{\"attributes\":{\"source\":{\"id\":\"27456\"}},\"id\":\"27463\",\"type\":\"CDSView\"},{\"attributes\":{\"label\":{\"value\":\"ETH\"},\"renderers\":[{\"id\":\"27432\"}]},\"id\":\"27455\",\"type\":\"LegendItem\"},{\"attributes\":{\"label\":{\"value\":\"BTC\"},\"renderers\":[{\"id\":\"27493\"}]},\"id\":\"27519\",\"type\":\"LegendItem\"},{\"attributes\":{\"line_color\":\"#fc4f30\",\"line_width\":2,\"x\":{\"field\":\"Date\"},\"y\":{\"field\":\"value\"}},\"id\":\"27459\",\"type\":\"Line\"},{\"attributes\":{},\"id\":\"27521\",\"type\":\"Selection\"},{\"attributes\":{},\"id\":\"27553\",\"type\":\"UnionRenderers\"},{\"attributes\":{\"line_color\":\"#6d904f\",\"line_width\":2,\"x\":{\"field\":\"Date\"},\"y\":{\"field\":\"value\"}},\"id\":\"27523\",\"type\":\"Line\"}],\"root_ids\":[\"27384\"]},\"title\":\"Bokeh Application\",\"version\":\"2.2.3\"}};\n",
       "    var render_items = [{\"docid\":\"487ce48a-61cf-4efd-88ab-f11857b5401c\",\"root_ids\":[\"27384\"],\"roots\":{\"27384\":\"708c6b74-46d6-40e1-b35a-c24c98df798a\"}}];\n",
       "    root.Bokeh.embed.embed_items_notebook(docs_json, render_items);\n",
       "  }\n",
       "  if (root.Bokeh !== undefined && root.Bokeh.Panel !== undefined) {\n",
       "    embed_document(root);\n",
       "  } else {\n",
       "    var attempts = 0;\n",
       "    var timer = setInterval(function(root) {\n",
       "      if (root.Bokeh !== undefined && root.Bokeh.Panel !== undefined) {\n",
       "        clearInterval(timer);\n",
       "        embed_document(root);\n",
       "      } else if (document.readyState == \"complete\") {\n",
       "        attempts++;\n",
       "        if (attempts > 100) {\n",
       "          clearInterval(timer);\n",
       "          console.log(\"Bokeh: ERROR: Unable to run BokehJS code because BokehJS library is missing\");\n",
       "        }\n",
       "      }\n",
       "    }, 10, root)\n",
       "  }\n",
       "})(window);</script>"
      ],
      "text/plain": [
       ":NdOverlay   [Variable]\n",
       "   :Curve   [Date]   (value)"
      ]
     },
     "execution_count": 289,
     "metadata": {
      "application/vnd.holoviews_exec.v0+json": {
       "id": "27384"
      }
     },
     "output_type": "execute_result"
    }
   ],
   "source": [
    "#An alternative way to calculate a rolling window is to take the exponentially weighted moving average.\n",
    "#This is like a moving window average, but it assigns greater importance to more recent observations.\n",
    "#Try calculating the ewm with a 21-day half-life.\n",
    "ewm_pd = pd.DataFrame(normalised_returns).ewm(span=21).mean()\n",
    "ewm_pd.hvplot(figsize = (20,10), title = 'Portfolio 21 day EMA')"
   ]
  },
  {
   "cell_type": "code",
   "execution_count": 290,
   "metadata": {},
   "outputs": [
    {
     "data": {
      "text/plain": [
       "ETH    21.969220\n",
       "VET    19.965867\n",
       "BTC    24.448845\n",
       "ADA    14.271984\n",
       "dtype: float64"
      ]
     },
     "execution_count": 290,
     "metadata": {},
     "output_type": "execute_result"
    }
   ],
   "source": [
    "#Sharpe Ratios\n",
    "#In reality, investment managers and thier institutional investors look at the ratio of return-to-risk, and not just returns alone.\n",
    "#After all, if you could invest in one of two portfolios, and each offered the same 10% return, yet one offered lower risk, you'd take that one, right?\n",
    "#Using the daily returns, calculate and visualize the Sharpe ratios using a bar plot\n",
    "#Using 365 trading days instead of 252 trading days.\n",
    "\n",
    "# Annualized Sharpe Ratios\n",
    "sharpe_ratios = (daily_returns.mean() * 365) / (daily_returns.std() * np.sqrt(365))\n",
    "sharpe_ratios"
   ]
  },
  {
   "cell_type": "code",
   "execution_count": 291,
   "metadata": {},
   "outputs": [
    {
     "data": {
      "text/plain": [
       "ETH      625.593699\n",
       "VET        0.020107\n",
       "BTC    19769.044932\n",
       "ADA        0.261955\n",
       "dtype: float64"
      ]
     },
     "execution_count": 291,
     "metadata": {},
     "output_type": "execute_result"
    }
   ],
   "source": [
    "daily_returns.mean()"
   ]
  },
  {
   "cell_type": "code",
   "execution_count": 292,
   "metadata": {},
   "outputs": [
    {
     "data": {
      "text/plain": [
       "ETH      544.031647\n",
       "VET        0.019240\n",
       "BTC    15448.053622\n",
       "ADA        0.350662\n",
       "dtype: float64"
      ]
     },
     "execution_count": 292,
     "metadata": {},
     "output_type": "execute_result"
    }
   ],
   "source": [
    "daily_returns.std()"
   ]
  },
  {
   "cell_type": "code",
   "execution_count": 293,
   "metadata": {},
   "outputs": [
    {
     "data": {},
     "metadata": {},
     "output_type": "display_data"
    },
    {
     "data": {
      "application/vnd.holoviews_exec.v0+json": "",
      "text/html": [
       "<div id='27921'>\n",
       "\n",
       "\n",
       "\n",
       "\n",
       "\n",
       "  <div class=\"bk-root\" id=\"dcffd3fb-8c4c-40d9-aaf9-a4c010c034cd\" data-root-id=\"27921\"></div>\n",
       "</div>\n",
       "<script type=\"application/javascript\">(function(root) {\n",
       "  function embed_document(root) {\n",
       "    var docs_json = {\"2820a80b-bfac-47a4-881c-0a5df07edae1\":{\"roots\":{\"references\":[{\"attributes\":{},\"id\":\"27963\",\"type\":\"CategoricalTickFormatter\"},{\"attributes\":{\"margin\":[5,5,5,5],\"name\":\"HSpacer39212\",\"sizing_mode\":\"stretch_width\"},\"id\":\"27922\",\"type\":\"Spacer\"},{\"attributes\":{\"callback\":null,\"renderers\":[{\"id\":\"27961\"}],\"tags\":[\"hv_created\"],\"tooltips\":[[\"index\",\"@{index}\"],[\"0\",\"@{A_0}\"]]},\"id\":\"27925\",\"type\":\"HoverTool\"},{\"attributes\":{},\"id\":\"27956\",\"type\":\"Selection\"},{\"attributes\":{\"axis\":{\"id\":\"27938\"},\"dimension\":1,\"grid_line_color\":null,\"ticker\":null},\"id\":\"27941\",\"type\":\"Grid\"},{\"attributes\":{\"active_drag\":\"auto\",\"active_inspect\":\"auto\",\"active_multi\":null,\"active_scroll\":\"auto\",\"active_tap\":\"auto\",\"tools\":[{\"id\":\"27925\"},{\"id\":\"27942\"},{\"id\":\"27943\"},{\"id\":\"27944\"},{\"id\":\"27945\"},{\"id\":\"27946\"}]},\"id\":\"27948\",\"type\":\"Toolbar\"},{\"attributes\":{\"children\":[{\"id\":\"27922\"},{\"id\":\"27926\"},{\"id\":\"27983\"}],\"margin\":[0,0,0,0],\"name\":\"Row39208\",\"tags\":[\"embedded\"]},\"id\":\"27921\",\"type\":\"Row\"},{\"attributes\":{\"margin\":[5,5,5,5],\"name\":\"HSpacer39213\",\"sizing_mode\":\"stretch_width\"},\"id\":\"27983\",\"type\":\"Spacer\"},{\"attributes\":{\"source\":{\"id\":\"27955\"}},\"id\":\"27962\",\"type\":\"CDSView\"},{\"attributes\":{\"data\":{\"A_0\":{\"__ndarray__\":\"KwnSyR74NUDh8QMWQ/czQIeDdIbncjhAa/76bEGLLEA=\",\"dtype\":\"float64\",\"order\":\"little\",\"shape\":[4]},\"index\":[\"ETH\",\"VET\",\"BTC\",\"ADA\"]},\"selected\":{\"id\":\"27956\"},\"selection_policy\":{\"id\":\"27974\"}},\"id\":\"27955\",\"type\":\"ColumnDataSource\"},{\"attributes\":{\"text\":\"Sharpe Ratios\",\"text_color\":{\"value\":\"black\"},\"text_font_size\":{\"value\":\"12pt\"}},\"id\":\"27927\",\"type\":\"Title\"},{\"attributes\":{\"bottom_units\":\"screen\",\"fill_alpha\":0.5,\"fill_color\":\"lightgrey\",\"left_units\":\"screen\",\"level\":\"overlay\",\"line_alpha\":1.0,\"line_color\":\"black\",\"line_dash\":[4,4],\"line_width\":2,\"right_units\":\"screen\",\"top_units\":\"screen\"},\"id\":\"27947\",\"type\":\"BoxAnnotation\"},{\"attributes\":{\"fill_alpha\":{\"value\":0.1},\"fill_color\":{\"value\":\"#30a2da\"},\"line_alpha\":{\"value\":0.1},\"top\":{\"field\":\"A_0\"},\"width\":{\"value\":0.8},\"x\":{\"field\":\"index\"}},\"id\":\"27959\",\"type\":\"VBar\"},{\"attributes\":{},\"id\":\"27965\",\"type\":\"BasicTickFormatter\"},{\"attributes\":{\"below\":[{\"id\":\"27935\"}],\"center\":[{\"id\":\"27937\"},{\"id\":\"27941\"}],\"left\":[{\"id\":\"27938\"}],\"margin\":[5,5,5,5],\"min_border_bottom\":10,\"min_border_left\":10,\"min_border_right\":10,\"min_border_top\":10,\"plot_height\":300,\"plot_width\":700,\"renderers\":[{\"id\":\"27961\"}],\"sizing_mode\":\"fixed\",\"title\":{\"id\":\"27927\"},\"toolbar\":{\"id\":\"27948\"},\"x_range\":{\"id\":\"27923\"},\"x_scale\":{\"id\":\"27931\"},\"y_range\":{\"id\":\"27924\"},\"y_scale\":{\"id\":\"27933\"}},\"id\":\"27926\",\"subtype\":\"Figure\",\"type\":\"Plot\"},{\"attributes\":{\"fill_color\":{\"value\":\"#30a2da\"},\"top\":{\"field\":\"A_0\"},\"width\":{\"value\":0.8},\"x\":{\"field\":\"index\"}},\"id\":\"27958\",\"type\":\"VBar\"},{\"attributes\":{\"fill_alpha\":{\"value\":0.2},\"fill_color\":{\"value\":\"#30a2da\"},\"line_alpha\":{\"value\":0.2},\"top\":{\"field\":\"A_0\"},\"width\":{\"value\":0.8},\"x\":{\"field\":\"index\"}},\"id\":\"27960\",\"type\":\"VBar\"},{\"attributes\":{},\"id\":\"27931\",\"type\":\"CategoricalScale\"},{\"attributes\":{},\"id\":\"27943\",\"type\":\"PanTool\"},{\"attributes\":{},\"id\":\"27942\",\"type\":\"SaveTool\"},{\"attributes\":{},\"id\":\"27936\",\"type\":\"CategoricalTicker\"},{\"attributes\":{},\"id\":\"27946\",\"type\":\"ResetTool\"},{\"attributes\":{},\"id\":\"27944\",\"type\":\"WheelZoomTool\"},{\"attributes\":{},\"id\":\"27974\",\"type\":\"UnionRenderers\"},{\"attributes\":{\"overlay\":{\"id\":\"27947\"}},\"id\":\"27945\",\"type\":\"BoxZoomTool\"},{\"attributes\":{\"axis\":{\"id\":\"27935\"},\"grid_line_color\":null,\"ticker\":null},\"id\":\"27937\",\"type\":\"Grid\"},{\"attributes\":{\"data_source\":{\"id\":\"27955\"},\"glyph\":{\"id\":\"27958\"},\"hover_glyph\":null,\"muted_glyph\":{\"id\":\"27960\"},\"nonselection_glyph\":{\"id\":\"27959\"},\"selection_glyph\":null,\"view\":{\"id\":\"27962\"}},\"id\":\"27961\",\"type\":\"GlyphRenderer\"},{\"attributes\":{},\"id\":\"27933\",\"type\":\"LinearScale\"},{\"attributes\":{\"factors\":[\"ETH\",\"VET\",\"BTC\",\"ADA\"],\"tags\":[[[\"index\",\"index\",null]]]},\"id\":\"27923\",\"type\":\"FactorRange\"},{\"attributes\":{\"axis_label\":\"\",\"bounds\":\"auto\",\"formatter\":{\"id\":\"27963\"},\"major_label_orientation\":\"horizontal\",\"ticker\":{\"id\":\"27936\"}},\"id\":\"27935\",\"type\":\"CategoricalAxis\"},{\"attributes\":{\"end\":25.46653147051471,\"reset_end\":25.46653147051471,\"reset_start\":0.0,\"tags\":[[[\"0\",\"0\",null]]]},\"id\":\"27924\",\"type\":\"Range1d\"},{\"attributes\":{\"axis_label\":\"\",\"bounds\":\"auto\",\"formatter\":{\"id\":\"27965\"},\"major_label_orientation\":\"horizontal\",\"ticker\":{\"id\":\"27939\"}},\"id\":\"27938\",\"type\":\"LinearAxis\"},{\"attributes\":{},\"id\":\"27939\",\"type\":\"BasicTicker\"}],\"root_ids\":[\"27921\"]},\"title\":\"Bokeh Application\",\"version\":\"2.2.3\"}};\n",
       "    var render_items = [{\"docid\":\"2820a80b-bfac-47a4-881c-0a5df07edae1\",\"root_ids\":[\"27921\"],\"roots\":{\"27921\":\"dcffd3fb-8c4c-40d9-aaf9-a4c010c034cd\"}}];\n",
       "    root.Bokeh.embed.embed_items_notebook(docs_json, render_items);\n",
       "  }\n",
       "  if (root.Bokeh !== undefined && root.Bokeh.Panel !== undefined) {\n",
       "    embed_document(root);\n",
       "  } else {\n",
       "    var attempts = 0;\n",
       "    var timer = setInterval(function(root) {\n",
       "      if (root.Bokeh !== undefined && root.Bokeh.Panel !== undefined) {\n",
       "        clearInterval(timer);\n",
       "        embed_document(root);\n",
       "      } else if (document.readyState == \"complete\") {\n",
       "        attempts++;\n",
       "        if (attempts > 100) {\n",
       "          clearInterval(timer);\n",
       "          console.log(\"Bokeh: ERROR: Unable to run BokehJS code because BokehJS library is missing\");\n",
       "        }\n",
       "      }\n",
       "    }, 10, root)\n",
       "  }\n",
       "})(window);</script>"
      ],
      "text/plain": [
       ":Bars   [index]   (0)"
      ]
     },
     "execution_count": 293,
     "metadata": {
      "application/vnd.holoviews_exec.v0+json": {
       "id": "27921"
      }
     },
     "output_type": "execute_result"
    }
   ],
   "source": [
    "# Visualize the sharpe ratios as a bar plot\n",
    "sharpe_ratios.hvplot(figsize = (20,10), kind=\"bar\", title=\"Sharpe Ratios\")\n",
    "\n",
    "#Can talk about how Sharpe ratios might not apply to Crypto as the daily returns have been insanely high."
   ]
  },
  {
   "cell_type": "code",
   "execution_count": 294,
   "metadata": {},
   "outputs": [],
   "source": [
    "#Do we need this piece of code?\n",
    "#Shifting rows by 3 days\n",
    "#eth_shift = daily_returns[\"ETH\"].shift(periods=3, axis=\"rows\").dropna()\n",
    "#btc_unshift = daily_returns[\"BTC\"]\n",
    "#btc_unshift.head()"
   ]
  },
  {
   "cell_type": "code",
   "execution_count": 295,
   "metadata": {},
   "outputs": [
    {
     "name": "stdout",
     "output_type": "stream",
     "text": [
      "Correlation for period shift of -14 days\n",
      "          ETH       BTC\n",
      "ETH  1.000000  0.949916\n",
      "BTC  0.949916  1.000000\n",
      "Correlation for period shift of -13 days\n",
      "          ETH       BTC\n",
      "ETH  1.000000  0.950439\n",
      "BTC  0.950439  1.000000\n",
      "Correlation for period shift of -12 days\n",
      "         ETH      BTC\n",
      "ETH  1.00000  0.95198\n",
      "BTC  0.95198  1.00000\n",
      "Correlation for period shift of -11 days\n",
      "          ETH       BTC\n",
      "ETH  1.000000  0.953843\n",
      "BTC  0.953843  1.000000\n",
      "Correlation for period shift of -10 days\n",
      "         ETH      BTC\n",
      "ETH  1.00000  0.95691\n",
      "BTC  0.95691  1.00000\n",
      "Correlation for period shift of -9 days\n",
      "          ETH       BTC\n",
      "ETH  1.000000  0.958332\n",
      "BTC  0.958332  1.000000\n",
      "Correlation for period shift of -8 days\n",
      "          ETH       BTC\n",
      "ETH  1.000000  0.960409\n",
      "BTC  0.960409  1.000000\n",
      "Correlation for period shift of -7 days\n",
      "          ETH       BTC\n",
      "ETH  1.000000  0.962718\n",
      "BTC  0.962718  1.000000\n",
      "Correlation for period shift of -6 days\n",
      "          ETH       BTC\n",
      "ETH  1.000000  0.965825\n",
      "BTC  0.965825  1.000000\n",
      "Correlation for period shift of -5 days\n",
      "         ETH      BTC\n",
      "ETH  1.00000  0.96871\n",
      "BTC  0.96871  1.00000\n",
      "Correlation for period shift of -4 days\n",
      "         ETH      BTC\n",
      "ETH  1.00000  0.97146\n",
      "BTC  0.97146  1.00000\n",
      "Correlation for period shift of -3 days\n",
      "          ETH       BTC\n",
      "ETH  1.000000  0.974143\n",
      "BTC  0.974143  1.000000\n",
      "Correlation for period shift of -2 days\n",
      "          ETH       BTC\n",
      "ETH  1.000000  0.977139\n",
      "BTC  0.977139  1.000000\n",
      "Correlation for period shift of -1 days\n",
      "          ETH       BTC\n",
      "ETH  1.000000  0.979998\n",
      "BTC  0.979998  1.000000\n",
      "Correlation for period shift of 0 days\n",
      "          ETH       BTC\n",
      "ETH  1.000000  0.982825\n",
      "BTC  0.982825  1.000000\n",
      "Correlation for period shift of 1 days\n",
      "         ETH      BTC\n",
      "ETH  1.00000  0.98131\n",
      "BTC  0.98131  1.00000\n",
      "Correlation for period shift of 2 days\n",
      "          ETH       BTC\n",
      "ETH  1.000000  0.980301\n",
      "BTC  0.980301  1.000000\n",
      "Correlation for period shift of 3 days\n",
      "         ETH      BTC\n",
      "ETH  1.00000  0.97952\n",
      "BTC  0.97952  1.00000\n",
      "Correlation for period shift of 4 days\n",
      "          ETH       BTC\n",
      "ETH  1.000000  0.977903\n",
      "BTC  0.977903  1.000000\n",
      "Correlation for period shift of 5 days\n",
      "          ETH       BTC\n",
      "ETH  1.000000  0.975955\n",
      "BTC  0.975955  1.000000\n",
      "Correlation for period shift of 6 days\n",
      "          ETH       BTC\n",
      "ETH  1.000000  0.974397\n",
      "BTC  0.974397  1.000000\n",
      "Correlation for period shift of 7 days\n",
      "          ETH       BTC\n",
      "ETH  1.000000  0.972317\n",
      "BTC  0.972317  1.000000\n",
      "Correlation for period shift of 8 days\n",
      "          ETH       BTC\n",
      "ETH  1.000000  0.970753\n",
      "BTC  0.970753  1.000000\n",
      "Correlation for period shift of 9 days\n",
      "          ETH       BTC\n",
      "ETH  1.000000  0.968883\n",
      "BTC  0.968883  1.000000\n",
      "Correlation for period shift of 10 days\n",
      "          ETH       BTC\n",
      "ETH  1.000000  0.966948\n",
      "BTC  0.966948  1.000000\n",
      "Correlation for period shift of 11 days\n",
      "          ETH       BTC\n",
      "ETH  1.000000  0.964002\n",
      "BTC  0.964002  1.000000\n",
      "Correlation for period shift of 12 days\n",
      "          ETH       BTC\n",
      "ETH  1.000000  0.961458\n",
      "BTC  0.961458  1.000000\n",
      "Correlation for period shift of 13 days\n",
      "          ETH       BTC\n",
      "ETH  1.000000  0.959385\n",
      "BTC  0.959385  1.000000\n",
      "Correlation for period shift of 14 days\n",
      "          ETH       BTC\n",
      "ETH  1.000000  0.957792\n",
      "BTC  0.957792  1.000000\n"
     ]
    }
   ],
   "source": [
    "#Calculating the correlation between different cryptos.\n",
    "days = [ -14, -13, -12, -11, -10, -9, -8, -7, -6, -5, -4, -3, -2, -1, 0, 1, 2, 3, 4, 5, 6, 7, 8, 9, 10, 11, 12, 13, 14]\n",
    "for x in days:\n",
    "    eth_shift = daily_returns[\"ETH\"].shift(periods=x).dropna()\n",
    "    if x >= 0:\n",
    "        btc_unshifted = daily_returns[\"BTC\"][x:]\n",
    "    else:\n",
    "        btc_unshifted = daily_returns[\"BTC\"][:x]\n",
    "    corr_table = pd.concat([eth_shift, btc_unshifted], axis=\"columns\", join=\"inner\")\n",
    "    print(f\"Correlation for period shift of {x} days\")\n",
    "    print(corr_table.corr())\n",
    "    \n",
    "#Is there a way to read or slice the data to get the maximum correlation?"
   ]
  },
  {
   "cell_type": "code",
   "execution_count": 296,
   "metadata": {},
   "outputs": [
    {
     "name": "stdout",
     "output_type": "stream",
     "text": [
      "{'status': {'timestamp': '2021-04-11T06:10:45.249Z', 'error_code': 0, 'error_message': None, 'elapsed': 21, 'credit_count': 1, 'notice': None}, 'data': {'BTC': {'id': 1, 'name': 'Bitcoin', 'symbol': 'BTC', 'slug': 'bitcoin', 'num_market_pairs': 9529, 'date_added': '2013-04-28T00:00:00.000Z', 'tags': ['mineable', 'pow', 'sha-256', 'store-of-value', 'state-channels', 'coinbase-ventures-portfolio', 'three-arrows-capital-portfolio', 'polychain-capital-portfolio', 'binance-labs-portfolio', 'arrington-xrp-capital', 'blockchain-capital-portfolio', 'boostvc-portfolio', 'cms-holdings-portfolio', 'dcg-portfolio', 'dragonfly-capital-portfolio', 'electric-capital-portfolio', 'fabric-ventures-portfolio', 'framework-ventures', 'galaxy-digital-portfolio', 'huobi-capital', 'alameda-research-portfolio', 'a16z-portfolio', '1confirmation-portfolio', 'winklevoss-capital', 'usv-portfolio', 'placeholder-ventures-portfolio', 'pantera-capital-portfolio', 'multicoin-capital-portfolio', 'paradigm-xzy-screener'], 'max_supply': 21000000, 'circulating_supply': 18679406, 'total_supply': 18679406, 'is_active': 1, 'platform': None, 'cmc_rank': 1, 'is_fiat': 0, 'last_updated': '2021-04-11T06:10:02.000Z', 'quote': {'USD': {'price': 59649.584269644394, 'volume_24h': 52446025521.2288, 'percent_change_1h': -0.95931784, 'percent_change_24h': -2.29048409, 'percent_change_7d': 2.25852109, 'percent_change_30d': 4.96406138, 'percent_change_60d': 29.33507387, 'percent_change_90d': 66.60921824, 'market_cap': 1114218802303.9011, 'last_updated': '2021-04-11T06:10:02.000Z'}}}}}\n"
     ]
    }
   ],
   "source": [
    "#Using this API to return crypto data in JSON format, then obtaining the market cap.\n",
    "#See the following website for more info. https://coinmarketcap.com/api/documentation/v1/#operation/getV1CryptocurrencyQuotesLatest\n",
    "\n",
    "from requests import Request, Session\n",
    "from requests.exceptions import ConnectionError, Timeout, TooManyRedirects\n",
    "import json\n",
    "\n",
    "url = 'https://pro-api.coinmarketcap.com/v1/cryptocurrency/quotes/latest'\n",
    "parameters = {'symbol':'BTC'}\n",
    "headers = {\n",
    "  'Accepts': 'application/json',\n",
    "  'X-CMC_PRO_API_KEY': 'de32a3b2-bf2e-4056-86ed-c8df29833cd6',\n",
    "}\n",
    "\n",
    "session = Session()\n",
    "session.headers.update(headers)\n",
    "\n",
    "try:\n",
    "  response = session.get(url, params=parameters)\n",
    "  data = json.loads(response.text)\n",
    "  print(data)\n",
    "except (ConnectionError, Timeout, TooManyRedirects) as e:\n",
    "  print(e)"
   ]
  },
  {
   "cell_type": "code",
   "execution_count": 297,
   "metadata": {},
   "outputs": [
    {
     "data": {
      "text/plain": [
       "1114218802303.9011"
      ]
     },
     "execution_count": 297,
     "metadata": {},
     "output_type": "execute_result"
    }
   ],
   "source": [
    "#Getting BTC market cap\n",
    "BTC_MC = data[\"data\"][\"BTC\"][\"quote\"][\"USD\"][\"market_cap\"]\n",
    "BTC_MC"
   ]
  },
  {
   "cell_type": "code",
   "execution_count": 298,
   "metadata": {},
   "outputs": [
    {
     "name": "stdout",
     "output_type": "stream",
     "text": [
      "{'status': {'timestamp': '2021-04-11T06:10:45.803Z', 'error_code': 0, 'error_message': None, 'elapsed': 16, 'credit_count': 1, 'notice': None}, 'data': {'ETH': {'id': 1027, 'name': 'Ethereum', 'symbol': 'ETH', 'slug': 'ethereum', 'num_market_pairs': 6198, 'date_added': '2015-08-07T00:00:00.000Z', 'tags': ['mineable', 'pow', 'smart-contracts', 'ethereum', 'coinbase-ventures-portfolio', 'three-arrows-capital-portfolio', 'polychain-capital-portfolio', 'binance-labs-portfolio', 'arrington-xrp-capital', 'blockchain-capital-portfolio', 'boostvc-portfolio', 'cms-holdings-portfolio', 'dcg-portfolio', 'dragonfly-capital-portfolio', 'electric-capital-portfolio', 'fabric-ventures-portfolio', 'framework-ventures', 'hashkey-capital-portfolio', 'kinetic-capital', 'huobi-capital', 'alameda-research-portfolio', 'a16z-portfolio', '1confirmation-portfolio', 'winklevoss-capital', 'usv-portfolio', 'placeholder-ventures-portfolio', 'pantera-capital-portfolio', 'multicoin-capital-portfolio', 'paradigm-xzy-screener'], 'max_supply': None, 'circulating_supply': 115420096.249, 'total_supply': 115420096.249, 'is_active': 1, 'platform': None, 'cmc_rank': 2, 'is_fiat': 0, 'last_updated': '2021-04-11T06:10:02.000Z', 'quote': {'USD': {'price': 2123.145481153354, 'volume_24h': 21723027019.249043, 'percent_change_1h': -0.94967761, 'percent_change_24h': -2.4410732, 'percent_change_7d': 3.84413081, 'percent_change_30d': 17.41732812, 'percent_change_60d': 18.85795327, 'percent_change_90d': 89.03895619, 'market_cap': 245053655785.34952, 'last_updated': '2021-04-11T06:10:02.000Z'}}}}}\n"
     ]
    }
   ],
   "source": [
    "url = 'https://pro-api.coinmarketcap.com/v1/cryptocurrency/quotes/latest'\n",
    "parameters = {'symbol':'ETH'}\n",
    "headers = {\n",
    "  'Accepts': 'application/json',\n",
    "  'X-CMC_PRO_API_KEY': 'de32a3b2-bf2e-4056-86ed-c8df29833cd6',\n",
    "}\n",
    "\n",
    "session = Session()\n",
    "session.headers.update(headers)\n",
    "\n",
    "try:\n",
    "  response = session.get(url, params=parameters)\n",
    "  data = json.loads(response.text)\n",
    "  print(data)\n",
    "except (ConnectionError, Timeout, TooManyRedirects) as f:\n",
    "  print(f)"
   ]
  },
  {
   "cell_type": "code",
   "execution_count": 299,
   "metadata": {},
   "outputs": [
    {
     "data": {
      "text/plain": [
       "245053655785.34952"
      ]
     },
     "execution_count": 299,
     "metadata": {},
     "output_type": "execute_result"
    }
   ],
   "source": [
    "#Getting ETH market cap\n",
    "ETH_MC = data[\"data\"][\"ETH\"][\"quote\"][\"USD\"][\"market_cap\"]\n",
    "ETH_MC"
   ]
  },
  {
   "cell_type": "code",
   "execution_count": 300,
   "metadata": {},
   "outputs": [
    {
     "name": "stdout",
     "output_type": "stream",
     "text": [
      "{'status': {'timestamp': '2021-04-11T06:10:48.042Z', 'error_code': 0, 'error_message': None, 'elapsed': 15, 'credit_count': 1, 'notice': None}, 'data': {'ADA': {'id': 2010, 'name': 'Cardano', 'symbol': 'ADA', 'slug': 'cardano', 'num_market_pairs': 258, 'date_added': '2017-10-01T00:00:00.000Z', 'tags': ['mineable', 'dpos', 'pos', 'platform', 'research', 'smart-contracts', 'staking', 'binance-chain'], 'max_supply': 45000000000, 'circulating_supply': 31948309440.7478, 'total_supply': 45000000000, 'is_active': 1, 'platform': None, 'cmc_rank': 6, 'is_fiat': 0, 'last_updated': '2021-04-11T06:09:15.000Z', 'quote': {'USD': {'price': 1.21233269977306, 'volume_24h': 2386750521.498969, 'percent_change_1h': -0.49213215, 'percent_change_24h': -1.84164758, 'percent_change_7d': 1.8487967, 'percent_change_30d': 9.11674718, 'percent_change_60d': 59.04300054, 'percent_change_90d': 332.77475808, 'market_cap': 38731980237.486916, 'last_updated': '2021-04-11T06:09:15.000Z'}}}}}\n"
     ]
    }
   ],
   "source": [
    "url = 'https://pro-api.coinmarketcap.com/v1/cryptocurrency/quotes/latest'\n",
    "parameters = {'symbol':'ADA'}\n",
    "headers = {\n",
    "  'Accepts': 'application/json',\n",
    "  'X-CMC_PRO_API_KEY': 'de32a3b2-bf2e-4056-86ed-c8df29833cd6',\n",
    "}\n",
    "\n",
    "session = Session()\n",
    "session.headers.update(headers)\n",
    "\n",
    "try:\n",
    "  response = session.get(url, params=parameters)\n",
    "  data = json.loads(response.text)\n",
    "  print(data)\n",
    "except (ConnectionError, Timeout, TooManyRedirects) as g:\n",
    "  print(g)"
   ]
  },
  {
   "cell_type": "code",
   "execution_count": 301,
   "metadata": {},
   "outputs": [
    {
     "data": {
      "text/plain": [
       "38731980237.486916"
      ]
     },
     "execution_count": 301,
     "metadata": {},
     "output_type": "execute_result"
    }
   ],
   "source": [
    "#Getting ADA market cap\n",
    "ADA_MC = data[\"data\"][\"ADA\"][\"quote\"][\"USD\"][\"market_cap\"]\n",
    "ADA_MC"
   ]
  },
  {
   "cell_type": "code",
   "execution_count": 302,
   "metadata": {},
   "outputs": [
    {
     "name": "stdout",
     "output_type": "stream",
     "text": [
      "{'status': {'timestamp': '2021-04-11T06:10:49.413Z', 'error_code': 0, 'error_message': None, 'elapsed': 15, 'credit_count': 1, 'notice': None}, 'data': {'VET': {'id': 3077, 'name': 'VeChain', 'symbol': 'VET', 'slug': 'vechain', 'num_market_pairs': 122, 'date_added': '2017-08-22T00:00:00.000Z', 'tags': ['logistics', 'data-provenance', 'iot', 'smart-contracts', 'fenbushi-capital-portfolio'], 'max_supply': 86712634466, 'circulating_supply': 64315576989, 'total_supply': 86712634466, 'is_active': 1, 'platform': None, 'cmc_rank': 17, 'is_fiat': 0, 'last_updated': '2021-04-11T06:10:02.000Z', 'quote': {'USD': {'price': 0.13421452196559, 'volume_24h': 2181071211.8498893, 'percent_change_1h': -0.69408299, 'percent_change_24h': 1.83337125, 'percent_change_7d': 46.14926321, 'percent_change_30d': 94.30326805, 'percent_change_60d': 272.13974081, 'percent_change_90d': 447.08949653, 'market_cap': 8632084420.519735, 'last_updated': '2021-04-11T06:10:02.000Z'}}}}}\n"
     ]
    }
   ],
   "source": [
    "url = 'https://pro-api.coinmarketcap.com/v1/cryptocurrency/quotes/latest'\n",
    "parameters = {'symbol':'VET'}\n",
    "headers = {\n",
    "  'Accepts': 'application/json',\n",
    "  'X-CMC_PRO_API_KEY': 'de32a3b2-bf2e-4056-86ed-c8df29833cd6',\n",
    "}\n",
    "\n",
    "session = Session()\n",
    "session.headers.update(headers)\n",
    "\n",
    "try:\n",
    "  response = session.get(url, params=parameters)\n",
    "  data = json.loads(response.text)\n",
    "  print(data)\n",
    "except (ConnectionError, Timeout, TooManyRedirects) as g:\n",
    "  print(g)"
   ]
  },
  {
   "cell_type": "code",
   "execution_count": 303,
   "metadata": {},
   "outputs": [
    {
     "data": {
      "text/plain": [
       "8632084420.519735"
      ]
     },
     "execution_count": 303,
     "metadata": {},
     "output_type": "execute_result"
    }
   ],
   "source": [
    "#Getting VET market cap\n",
    "VET_MC = data[\"data\"][\"VET\"][\"quote\"][\"USD\"][\"market_cap\"]\n",
    "VET_MC"
   ]
  },
  {
   "cell_type": "code",
   "execution_count": 327,
   "metadata": {},
   "outputs": [
    {
     "data": {
      "text/html": [
       "<div>\n",
       "<style scoped>\n",
       "    .dataframe tbody tr th:only-of-type {\n",
       "        vertical-align: middle;\n",
       "    }\n",
       "\n",
       "    .dataframe tbody tr th {\n",
       "        vertical-align: top;\n",
       "    }\n",
       "\n",
       "    .dataframe thead th {\n",
       "        text-align: right;\n",
       "    }\n",
       "</style>\n",
       "<table border=\"1\" class=\"dataframe\">\n",
       "  <thead>\n",
       "    <tr style=\"text-align: right;\">\n",
       "      <th></th>\n",
       "      <th>Crypto</th>\n",
       "      <th>Market Capitalisation</th>\n",
       "    </tr>\n",
       "  </thead>\n",
       "  <tbody>\n",
       "    <tr>\n",
       "      <th>0</th>\n",
       "      <td>BTC</td>\n",
       "      <td>1.114219e+12</td>\n",
       "    </tr>\n",
       "    <tr>\n",
       "      <th>1</th>\n",
       "      <td>ETH</td>\n",
       "      <td>2.450537e+11</td>\n",
       "    </tr>\n",
       "    <tr>\n",
       "      <th>2</th>\n",
       "      <td>ADA</td>\n",
       "      <td>3.873198e+10</td>\n",
       "    </tr>\n",
       "    <tr>\n",
       "      <th>3</th>\n",
       "      <td>VET</td>\n",
       "      <td>8.632084e+09</td>\n",
       "    </tr>\n",
       "  </tbody>\n",
       "</table>\n",
       "</div>"
      ],
      "text/plain": [
       "  Crypto  Market Capitalisation\n",
       "0    BTC           1.114219e+12\n",
       "1    ETH           2.450537e+11\n",
       "2    ADA           3.873198e+10\n",
       "3    VET           8.632084e+09"
      ]
     },
     "execution_count": 327,
     "metadata": {},
     "output_type": "execute_result"
    }
   ],
   "source": [
    "#Combining the Market Caps into a dataframe\n",
    "import pandas as pd\n",
    "\n",
    "crypto_mc = pd.DataFrame({\"Crypto\":[\"BTC\", \"ETH\", \"ADA\", \"VET\"], \"Market Capitalisation\":[BTC_MC, ETH_MC, ADA_MC, VET_MC]})\n",
    "crypto_mc"
   ]
  },
  {
   "cell_type": "code",
   "execution_count": 328,
   "metadata": {},
   "outputs": [
    {
     "data": {
      "application/vnd.plotly.v1+json": {
       "config": {
        "plotlyServerURL": "https://plot.ly"
       },
       "data": [
        {
         "branchvalues": "total",
         "customdata": [
          [
           8632084420.519735
          ],
          [
           38731980237.486916
          ],
          [
           245053655785.34952
          ],
          [
           1114218802303.9011
          ],
          [
           38731980237.486916
          ],
          [
           1114218802303.9011
          ],
          [
           245053655785.34952
          ],
          [
           8632084420.519735
          ]
         ],
         "domain": {
          "x": [
           0,
           1
          ],
          "y": [
           0,
           1
          ]
         },
         "hovertemplate": "labels=%{label}<br>count=%{value}<br>parent=%{parent}<br>id=%{id}<br>Market Capitalisation=%{color}<extra></extra>",
         "ids": [
          "VET/8632084420.519735",
          "ADA/38731980237.486916",
          "ETH/245053655785.34952",
          "BTC/1114218802303.9011",
          "ADA",
          "BTC",
          "ETH",
          "VET"
         ],
         "labels": [
          "8632084420.519735",
          "38731980237.486916",
          "245053655785.34952",
          "1114218802303.9011",
          "ADA",
          "BTC",
          "ETH",
          "VET"
         ],
         "marker": {
          "coloraxis": "coloraxis",
          "colors": [
           8632084420.519735,
           38731980237.486916,
           245053655785.34952,
           1114218802303.9011,
           38731980237.486916,
           1114218802303.9011,
           245053655785.34952,
           8632084420.519735
          ]
         },
         "name": "",
         "parents": [
          "VET",
          "ADA",
          "ETH",
          "BTC",
          "",
          "",
          "",
          ""
         ],
         "type": "sunburst",
         "values": [
          1,
          1,
          1,
          1,
          1,
          1,
          1,
          1
         ]
        }
       ],
       "layout": {
        "autosize": true,
        "coloraxis": {
         "colorbar": {
          "title": {
           "text": "Market Capitalisation"
          }
         },
         "colorscale": [
          [
           0,
           "rgb(150,0,90)"
          ],
          [
           0.125,
           "rgb(0,0,200)"
          ],
          [
           0.25,
           "rgb(0,25,255)"
          ],
          [
           0.375,
           "rgb(0,152,255)"
          ],
          [
           0.5,
           "rgb(44,255,150)"
          ],
          [
           0.625,
           "rgb(151,255,0)"
          ],
          [
           0.75,
           "rgb(255,234,0)"
          ],
          [
           0.875,
           "rgb(255,111,0)"
          ],
          [
           1,
           "rgb(255,0,0)"
          ]
         ]
        },
        "legend": {
         "tracegroupgap": 0
        },
        "template": {
         "data": {
          "bar": [
           {
            "error_x": {
             "color": "#2a3f5f"
            },
            "error_y": {
             "color": "#2a3f5f"
            },
            "marker": {
             "line": {
              "color": "#E5ECF6",
              "width": 0.5
             }
            },
            "type": "bar"
           }
          ],
          "barpolar": [
           {
            "marker": {
             "line": {
              "color": "#E5ECF6",
              "width": 0.5
             }
            },
            "type": "barpolar"
           }
          ],
          "carpet": [
           {
            "aaxis": {
             "endlinecolor": "#2a3f5f",
             "gridcolor": "white",
             "linecolor": "white",
             "minorgridcolor": "white",
             "startlinecolor": "#2a3f5f"
            },
            "baxis": {
             "endlinecolor": "#2a3f5f",
             "gridcolor": "white",
             "linecolor": "white",
             "minorgridcolor": "white",
             "startlinecolor": "#2a3f5f"
            },
            "type": "carpet"
           }
          ],
          "choropleth": [
           {
            "colorbar": {
             "outlinewidth": 0,
             "ticks": ""
            },
            "type": "choropleth"
           }
          ],
          "contour": [
           {
            "colorbar": {
             "outlinewidth": 0,
             "ticks": ""
            },
            "colorscale": [
             [
              0,
              "#0d0887"
             ],
             [
              0.1111111111111111,
              "#46039f"
             ],
             [
              0.2222222222222222,
              "#7201a8"
             ],
             [
              0.3333333333333333,
              "#9c179e"
             ],
             [
              0.4444444444444444,
              "#bd3786"
             ],
             [
              0.5555555555555556,
              "#d8576b"
             ],
             [
              0.6666666666666666,
              "#ed7953"
             ],
             [
              0.7777777777777778,
              "#fb9f3a"
             ],
             [
              0.8888888888888888,
              "#fdca26"
             ],
             [
              1,
              "#f0f921"
             ]
            ],
            "type": "contour"
           }
          ],
          "contourcarpet": [
           {
            "colorbar": {
             "outlinewidth": 0,
             "ticks": ""
            },
            "type": "contourcarpet"
           }
          ],
          "heatmap": [
           {
            "colorbar": {
             "outlinewidth": 0,
             "ticks": ""
            },
            "colorscale": [
             [
              0,
              "#0d0887"
             ],
             [
              0.1111111111111111,
              "#46039f"
             ],
             [
              0.2222222222222222,
              "#7201a8"
             ],
             [
              0.3333333333333333,
              "#9c179e"
             ],
             [
              0.4444444444444444,
              "#bd3786"
             ],
             [
              0.5555555555555556,
              "#d8576b"
             ],
             [
              0.6666666666666666,
              "#ed7953"
             ],
             [
              0.7777777777777778,
              "#fb9f3a"
             ],
             [
              0.8888888888888888,
              "#fdca26"
             ],
             [
              1,
              "#f0f921"
             ]
            ],
            "type": "heatmap"
           }
          ],
          "heatmapgl": [
           {
            "colorbar": {
             "outlinewidth": 0,
             "ticks": ""
            },
            "colorscale": [
             [
              0,
              "#0d0887"
             ],
             [
              0.1111111111111111,
              "#46039f"
             ],
             [
              0.2222222222222222,
              "#7201a8"
             ],
             [
              0.3333333333333333,
              "#9c179e"
             ],
             [
              0.4444444444444444,
              "#bd3786"
             ],
             [
              0.5555555555555556,
              "#d8576b"
             ],
             [
              0.6666666666666666,
              "#ed7953"
             ],
             [
              0.7777777777777778,
              "#fb9f3a"
             ],
             [
              0.8888888888888888,
              "#fdca26"
             ],
             [
              1,
              "#f0f921"
             ]
            ],
            "type": "heatmapgl"
           }
          ],
          "histogram": [
           {
            "marker": {
             "colorbar": {
              "outlinewidth": 0,
              "ticks": ""
             }
            },
            "type": "histogram"
           }
          ],
          "histogram2d": [
           {
            "colorbar": {
             "outlinewidth": 0,
             "ticks": ""
            },
            "colorscale": [
             [
              0,
              "#0d0887"
             ],
             [
              0.1111111111111111,
              "#46039f"
             ],
             [
              0.2222222222222222,
              "#7201a8"
             ],
             [
              0.3333333333333333,
              "#9c179e"
             ],
             [
              0.4444444444444444,
              "#bd3786"
             ],
             [
              0.5555555555555556,
              "#d8576b"
             ],
             [
              0.6666666666666666,
              "#ed7953"
             ],
             [
              0.7777777777777778,
              "#fb9f3a"
             ],
             [
              0.8888888888888888,
              "#fdca26"
             ],
             [
              1,
              "#f0f921"
             ]
            ],
            "type": "histogram2d"
           }
          ],
          "histogram2dcontour": [
           {
            "colorbar": {
             "outlinewidth": 0,
             "ticks": ""
            },
            "colorscale": [
             [
              0,
              "#0d0887"
             ],
             [
              0.1111111111111111,
              "#46039f"
             ],
             [
              0.2222222222222222,
              "#7201a8"
             ],
             [
              0.3333333333333333,
              "#9c179e"
             ],
             [
              0.4444444444444444,
              "#bd3786"
             ],
             [
              0.5555555555555556,
              "#d8576b"
             ],
             [
              0.6666666666666666,
              "#ed7953"
             ],
             [
              0.7777777777777778,
              "#fb9f3a"
             ],
             [
              0.8888888888888888,
              "#fdca26"
             ],
             [
              1,
              "#f0f921"
             ]
            ],
            "type": "histogram2dcontour"
           }
          ],
          "mesh3d": [
           {
            "colorbar": {
             "outlinewidth": 0,
             "ticks": ""
            },
            "type": "mesh3d"
           }
          ],
          "parcoords": [
           {
            "line": {
             "colorbar": {
              "outlinewidth": 0,
              "ticks": ""
             }
            },
            "type": "parcoords"
           }
          ],
          "pie": [
           {
            "automargin": true,
            "type": "pie"
           }
          ],
          "scatter": [
           {
            "marker": {
             "colorbar": {
              "outlinewidth": 0,
              "ticks": ""
             }
            },
            "type": "scatter"
           }
          ],
          "scatter3d": [
           {
            "line": {
             "colorbar": {
              "outlinewidth": 0,
              "ticks": ""
             }
            },
            "marker": {
             "colorbar": {
              "outlinewidth": 0,
              "ticks": ""
             }
            },
            "type": "scatter3d"
           }
          ],
          "scattercarpet": [
           {
            "marker": {
             "colorbar": {
              "outlinewidth": 0,
              "ticks": ""
             }
            },
            "type": "scattercarpet"
           }
          ],
          "scattergeo": [
           {
            "marker": {
             "colorbar": {
              "outlinewidth": 0,
              "ticks": ""
             }
            },
            "type": "scattergeo"
           }
          ],
          "scattergl": [
           {
            "marker": {
             "colorbar": {
              "outlinewidth": 0,
              "ticks": ""
             }
            },
            "type": "scattergl"
           }
          ],
          "scattermapbox": [
           {
            "marker": {
             "colorbar": {
              "outlinewidth": 0,
              "ticks": ""
             }
            },
            "type": "scattermapbox"
           }
          ],
          "scatterpolar": [
           {
            "marker": {
             "colorbar": {
              "outlinewidth": 0,
              "ticks": ""
             }
            },
            "type": "scatterpolar"
           }
          ],
          "scatterpolargl": [
           {
            "marker": {
             "colorbar": {
              "outlinewidth": 0,
              "ticks": ""
             }
            },
            "type": "scatterpolargl"
           }
          ],
          "scatterternary": [
           {
            "marker": {
             "colorbar": {
              "outlinewidth": 0,
              "ticks": ""
             }
            },
            "type": "scatterternary"
           }
          ],
          "surface": [
           {
            "colorbar": {
             "outlinewidth": 0,
             "ticks": ""
            },
            "colorscale": [
             [
              0,
              "#0d0887"
             ],
             [
              0.1111111111111111,
              "#46039f"
             ],
             [
              0.2222222222222222,
              "#7201a8"
             ],
             [
              0.3333333333333333,
              "#9c179e"
             ],
             [
              0.4444444444444444,
              "#bd3786"
             ],
             [
              0.5555555555555556,
              "#d8576b"
             ],
             [
              0.6666666666666666,
              "#ed7953"
             ],
             [
              0.7777777777777778,
              "#fb9f3a"
             ],
             [
              0.8888888888888888,
              "#fdca26"
             ],
             [
              1,
              "#f0f921"
             ]
            ],
            "type": "surface"
           }
          ],
          "table": [
           {
            "cells": {
             "fill": {
              "color": "#EBF0F8"
             },
             "line": {
              "color": "white"
             }
            },
            "header": {
             "fill": {
              "color": "#C8D4E3"
             },
             "line": {
              "color": "white"
             }
            },
            "type": "table"
           }
          ]
         },
         "layout": {
          "annotationdefaults": {
           "arrowcolor": "#2a3f5f",
           "arrowhead": 0,
           "arrowwidth": 1
          },
          "autotypenumbers": "strict",
          "coloraxis": {
           "colorbar": {
            "outlinewidth": 0,
            "ticks": ""
           }
          },
          "colorscale": {
           "diverging": [
            [
             0,
             "#8e0152"
            ],
            [
             0.1,
             "#c51b7d"
            ],
            [
             0.2,
             "#de77ae"
            ],
            [
             0.3,
             "#f1b6da"
            ],
            [
             0.4,
             "#fde0ef"
            ],
            [
             0.5,
             "#f7f7f7"
            ],
            [
             0.6,
             "#e6f5d0"
            ],
            [
             0.7,
             "#b8e186"
            ],
            [
             0.8,
             "#7fbc41"
            ],
            [
             0.9,
             "#4d9221"
            ],
            [
             1,
             "#276419"
            ]
           ],
           "sequential": [
            [
             0,
             "#0d0887"
            ],
            [
             0.1111111111111111,
             "#46039f"
            ],
            [
             0.2222222222222222,
             "#7201a8"
            ],
            [
             0.3333333333333333,
             "#9c179e"
            ],
            [
             0.4444444444444444,
             "#bd3786"
            ],
            [
             0.5555555555555556,
             "#d8576b"
            ],
            [
             0.6666666666666666,
             "#ed7953"
            ],
            [
             0.7777777777777778,
             "#fb9f3a"
            ],
            [
             0.8888888888888888,
             "#fdca26"
            ],
            [
             1,
             "#f0f921"
            ]
           ],
           "sequentialminus": [
            [
             0,
             "#0d0887"
            ],
            [
             0.1111111111111111,
             "#46039f"
            ],
            [
             0.2222222222222222,
             "#7201a8"
            ],
            [
             0.3333333333333333,
             "#9c179e"
            ],
            [
             0.4444444444444444,
             "#bd3786"
            ],
            [
             0.5555555555555556,
             "#d8576b"
            ],
            [
             0.6666666666666666,
             "#ed7953"
            ],
            [
             0.7777777777777778,
             "#fb9f3a"
            ],
            [
             0.8888888888888888,
             "#fdca26"
            ],
            [
             1,
             "#f0f921"
            ]
           ]
          },
          "colorway": [
           "#636efa",
           "#EF553B",
           "#00cc96",
           "#ab63fa",
           "#FFA15A",
           "#19d3f3",
           "#FF6692",
           "#B6E880",
           "#FF97FF",
           "#FECB52"
          ],
          "font": {
           "color": "#2a3f5f"
          },
          "geo": {
           "bgcolor": "white",
           "lakecolor": "white",
           "landcolor": "#E5ECF6",
           "showlakes": true,
           "showland": true,
           "subunitcolor": "white"
          },
          "hoverlabel": {
           "align": "left"
          },
          "hovermode": "closest",
          "mapbox": {
           "style": "light"
          },
          "paper_bgcolor": "white",
          "plot_bgcolor": "#E5ECF6",
          "polar": {
           "angularaxis": {
            "gridcolor": "white",
            "linecolor": "white",
            "ticks": ""
           },
           "bgcolor": "#E5ECF6",
           "radialaxis": {
            "gridcolor": "white",
            "linecolor": "white",
            "ticks": ""
           }
          },
          "scene": {
           "xaxis": {
            "backgroundcolor": "#E5ECF6",
            "gridcolor": "white",
            "gridwidth": 2,
            "linecolor": "white",
            "showbackground": true,
            "ticks": "",
            "zerolinecolor": "white"
           },
           "yaxis": {
            "backgroundcolor": "#E5ECF6",
            "gridcolor": "white",
            "gridwidth": 2,
            "linecolor": "white",
            "showbackground": true,
            "ticks": "",
            "zerolinecolor": "white"
           },
           "zaxis": {
            "backgroundcolor": "#E5ECF6",
            "gridcolor": "white",
            "gridwidth": 2,
            "linecolor": "white",
            "showbackground": true,
            "ticks": "",
            "zerolinecolor": "white"
           }
          },
          "shapedefaults": {
           "line": {
            "color": "#2a3f5f"
           }
          },
          "ternary": {
           "aaxis": {
            "gridcolor": "white",
            "linecolor": "white",
            "ticks": ""
           },
           "baxis": {
            "gridcolor": "white",
            "linecolor": "white",
            "ticks": ""
           },
           "bgcolor": "#E5ECF6",
           "caxis": {
            "gridcolor": "white",
            "linecolor": "white",
            "ticks": ""
           }
          },
          "title": {
           "x": 0.05
          },
          "xaxis": {
           "automargin": true,
           "gridcolor": "white",
           "linecolor": "white",
           "ticks": "",
           "title": {
            "standoff": 15
           },
           "zerolinecolor": "white",
           "zerolinewidth": 2
          },
          "yaxis": {
           "automargin": true,
           "gridcolor": "white",
           "linecolor": "white",
           "ticks": "",
           "title": {
            "standoff": 15
           },
           "zerolinecolor": "white",
           "zerolinewidth": 2
          }
         }
        },
        "title": {
         "text": "Market Capitalisation of BTC, ETH, ADA & VET"
        }
       }
      },
      "image/png": "[encoded data removed]",
      "text/html": [
       "<div>                            <div id=\"99a3cf18-a0e5-4d23-a784-eb3361738411\" class=\"plotly-graph-div\" style=\"height:700px; width:100%;\"></div>            <script type=\"text/javascript\">                require([\"plotly\"], function(Plotly) {                    window.PLOTLYENV=window.PLOTLYENV || {};                                    if (document.getElementById(\"99a3cf18-a0e5-4d23-a784-eb3361738411\")) {                    Plotly.newPlot(                        \"99a3cf18-a0e5-4d23-a784-eb3361738411\",                        [{\"branchvalues\": \"total\", \"customdata\": [[8632084420.519735], [38731980237.486916], [245053655785.34952], [1114218802303.9011], [38731980237.486916], [1114218802303.9011], [245053655785.34952], [8632084420.519735]], \"domain\": {\"x\": [0.0, 1.0], \"y\": [0.0, 1.0]}, \"hovertemplate\": \"labels=%{label}<br>count=%{value}<br>parent=%{parent}<br>id=%{id}<br>Market Capitalisation=%{color}<extra></extra>\", \"ids\": [\"VET/8632084420.519735\", \"ADA/38731980237.486916\", \"ETH/245053655785.34952\", \"BTC/1114218802303.9011\", \"ADA\", \"BTC\", \"ETH\", \"VET\"], \"labels\": [\"8632084420.519735\", \"38731980237.486916\", \"245053655785.34952\", \"1114218802303.9011\", \"ADA\", \"BTC\", \"ETH\", \"VET\"], \"marker\": {\"coloraxis\": \"coloraxis\", \"colors\": [8632084420.519735, 38731980237.486916, 245053655785.34952, 1114218802303.9011, 38731980237.486916, 1114218802303.9011, 245053655785.34952, 8632084420.519735]}, \"name\": \"\", \"parents\": [\"VET\", \"ADA\", \"ETH\", \"BTC\", \"\", \"\", \"\", \"\"], \"type\": \"sunburst\", \"values\": [1, 1, 1, 1, 1, 1, 1, 1]}],                        {\"coloraxis\": {\"colorbar\": {\"title\": {\"text\": \"Market Capitalisation\"}}, \"colorscale\": [[0.0, \"rgb(150,0,90)\"], [0.125, \"rgb(0,0,200)\"], [0.25, \"rgb(0,25,255)\"], [0.375, \"rgb(0,152,255)\"], [0.5, \"rgb(44,255,150)\"], [0.625, \"rgb(151,255,0)\"], [0.75, \"rgb(255,234,0)\"], [0.875, \"rgb(255,111,0)\"], [1.0, \"rgb(255,0,0)\"]]}, \"height\": 700, \"legend\": {\"tracegroupgap\": 0}, \"template\": {\"data\": {\"bar\": [{\"error_x\": {\"color\": \"#2a3f5f\"}, \"error_y\": {\"color\": \"#2a3f5f\"}, \"marker\": {\"line\": {\"color\": \"#E5ECF6\", \"width\": 0.5}}, \"type\": \"bar\"}], \"barpolar\": [{\"marker\": {\"line\": {\"color\": \"#E5ECF6\", \"width\": 0.5}}, \"type\": \"barpolar\"}], \"carpet\": [{\"aaxis\": {\"endlinecolor\": \"#2a3f5f\", \"gridcolor\": \"white\", \"linecolor\": \"white\", \"minorgridcolor\": \"white\", \"startlinecolor\": \"#2a3f5f\"}, \"baxis\": {\"endlinecolor\": \"#2a3f5f\", \"gridcolor\": \"white\", \"linecolor\": \"white\", \"minorgridcolor\": \"white\", \"startlinecolor\": \"#2a3f5f\"}, \"type\": \"carpet\"}], \"choropleth\": [{\"colorbar\": {\"outlinewidth\": 0, \"ticks\": \"\"}, \"type\": \"choropleth\"}], \"contour\": [{\"colorbar\": {\"outlinewidth\": 0, \"ticks\": \"\"}, \"colorscale\": [[0.0, \"#0d0887\"], [0.1111111111111111, \"#46039f\"], [0.2222222222222222, \"#7201a8\"], [0.3333333333333333, \"#9c179e\"], [0.4444444444444444, \"#bd3786\"], [0.5555555555555556, \"#d8576b\"], [0.6666666666666666, \"#ed7953\"], [0.7777777777777778, \"#fb9f3a\"], [0.8888888888888888, \"#fdca26\"], [1.0, \"#f0f921\"]], \"type\": \"contour\"}], \"contourcarpet\": [{\"colorbar\": {\"outlinewidth\": 0, \"ticks\": \"\"}, \"type\": \"contourcarpet\"}], \"heatmap\": [{\"colorbar\": {\"outlinewidth\": 0, \"ticks\": \"\"}, \"colorscale\": [[0.0, \"#0d0887\"], [0.1111111111111111, \"#46039f\"], [0.2222222222222222, \"#7201a8\"], [0.3333333333333333, \"#9c179e\"], [0.4444444444444444, \"#bd3786\"], [0.5555555555555556, \"#d8576b\"], [0.6666666666666666, \"#ed7953\"], [0.7777777777777778, \"#fb9f3a\"], [0.8888888888888888, \"#fdca26\"], [1.0, \"#f0f921\"]], \"type\": \"heatmap\"}], \"heatmapgl\": [{\"colorbar\": {\"outlinewidth\": 0, \"ticks\": \"\"}, \"colorscale\": [[0.0, \"#0d0887\"], [0.1111111111111111, \"#46039f\"], [0.2222222222222222, \"#7201a8\"], [0.3333333333333333, \"#9c179e\"], [0.4444444444444444, \"#bd3786\"], [0.5555555555555556, \"#d8576b\"], [0.6666666666666666, \"#ed7953\"], [0.7777777777777778, \"#fb9f3a\"], [0.8888888888888888, \"#fdca26\"], [1.0, \"#f0f921\"]], \"type\": \"heatmapgl\"}], \"histogram\": [{\"marker\": {\"colorbar\": {\"outlinewidth\": 0, \"ticks\": \"\"}}, \"type\": \"histogram\"}], \"histogram2d\": [{\"colorbar\": {\"outlinewidth\": 0, \"ticks\": \"\"}, \"colorscale\": [[0.0, \"#0d0887\"], [0.1111111111111111, \"#46039f\"], [0.2222222222222222, \"#7201a8\"], [0.3333333333333333, \"#9c179e\"], [0.4444444444444444, \"#bd3786\"], [0.5555555555555556, \"#d8576b\"], [0.6666666666666666, \"#ed7953\"], [0.7777777777777778, \"#fb9f3a\"], [0.8888888888888888, \"#fdca26\"], [1.0, \"#f0f921\"]], \"type\": \"histogram2d\"}], \"histogram2dcontour\": [{\"colorbar\": {\"outlinewidth\": 0, \"ticks\": \"\"}, \"colorscale\": [[0.0, \"#0d0887\"], [0.1111111111111111, \"#46039f\"], [0.2222222222222222, \"#7201a8\"], [0.3333333333333333, \"#9c179e\"], [0.4444444444444444, \"#bd3786\"], [0.5555555555555556, \"#d8576b\"], [0.6666666666666666, \"#ed7953\"], [0.7777777777777778, \"#fb9f3a\"], [0.8888888888888888, \"#fdca26\"], [1.0, \"#f0f921\"]], \"type\": \"histogram2dcontour\"}], \"mesh3d\": [{\"colorbar\": {\"outlinewidth\": 0, \"ticks\": \"\"}, \"type\": \"mesh3d\"}], \"parcoords\": [{\"line\": {\"colorbar\": {\"outlinewidth\": 0, \"ticks\": \"\"}}, \"type\": \"parcoords\"}], \"pie\": [{\"automargin\": true, \"type\": \"pie\"}], \"scatter\": [{\"marker\": {\"colorbar\": {\"outlinewidth\": 0, \"ticks\": \"\"}}, \"type\": \"scatter\"}], \"scatter3d\": [{\"line\": {\"colorbar\": {\"outlinewidth\": 0, \"ticks\": \"\"}}, \"marker\": {\"colorbar\": {\"outlinewidth\": 0, \"ticks\": \"\"}}, \"type\": \"scatter3d\"}], \"scattercarpet\": [{\"marker\": {\"colorbar\": {\"outlinewidth\": 0, \"ticks\": \"\"}}, \"type\": \"scattercarpet\"}], \"scattergeo\": [{\"marker\": {\"colorbar\": {\"outlinewidth\": 0, \"ticks\": \"\"}}, \"type\": \"scattergeo\"}], \"scattergl\": [{\"marker\": {\"colorbar\": {\"outlinewidth\": 0, \"ticks\": \"\"}}, \"type\": \"scattergl\"}], \"scattermapbox\": [{\"marker\": {\"colorbar\": {\"outlinewidth\": 0, \"ticks\": \"\"}}, \"type\": \"scattermapbox\"}], \"scatterpolar\": [{\"marker\": {\"colorbar\": {\"outlinewidth\": 0, \"ticks\": \"\"}}, \"type\": \"scatterpolar\"}], \"scatterpolargl\": [{\"marker\": {\"colorbar\": {\"outlinewidth\": 0, \"ticks\": \"\"}}, \"type\": \"scatterpolargl\"}], \"scatterternary\": [{\"marker\": {\"colorbar\": {\"outlinewidth\": 0, \"ticks\": \"\"}}, \"type\": \"scatterternary\"}], \"surface\": [{\"colorbar\": {\"outlinewidth\": 0, \"ticks\": \"\"}, \"colorscale\": [[0.0, \"#0d0887\"], [0.1111111111111111, \"#46039f\"], [0.2222222222222222, \"#7201a8\"], [0.3333333333333333, \"#9c179e\"], [0.4444444444444444, \"#bd3786\"], [0.5555555555555556, \"#d8576b\"], [0.6666666666666666, \"#ed7953\"], [0.7777777777777778, \"#fb9f3a\"], [0.8888888888888888, \"#fdca26\"], [1.0, \"#f0f921\"]], \"type\": \"surface\"}], \"table\": [{\"cells\": {\"fill\": {\"color\": \"#EBF0F8\"}, \"line\": {\"color\": \"white\"}}, \"header\": {\"fill\": {\"color\": \"#C8D4E3\"}, \"line\": {\"color\": \"white\"}}, \"type\": \"table\"}]}, \"layout\": {\"annotationdefaults\": {\"arrowcolor\": \"#2a3f5f\", \"arrowhead\": 0, \"arrowwidth\": 1}, \"autotypenumbers\": \"strict\", \"coloraxis\": {\"colorbar\": {\"outlinewidth\": 0, \"ticks\": \"\"}}, \"colorscale\": {\"diverging\": [[0, \"#8e0152\"], [0.1, \"#c51b7d\"], [0.2, \"#de77ae\"], [0.3, \"#f1b6da\"], [0.4, \"#fde0ef\"], [0.5, \"#f7f7f7\"], [0.6, \"#e6f5d0\"], [0.7, \"#b8e186\"], [0.8, \"#7fbc41\"], [0.9, \"#4d9221\"], [1, \"#276419\"]], \"sequential\": [[0.0, \"#0d0887\"], [0.1111111111111111, \"#46039f\"], [0.2222222222222222, \"#7201a8\"], [0.3333333333333333, \"#9c179e\"], [0.4444444444444444, \"#bd3786\"], [0.5555555555555556, \"#d8576b\"], [0.6666666666666666, \"#ed7953\"], [0.7777777777777778, \"#fb9f3a\"], [0.8888888888888888, \"#fdca26\"], [1.0, \"#f0f921\"]], \"sequentialminus\": [[0.0, \"#0d0887\"], [0.1111111111111111, \"#46039f\"], [0.2222222222222222, \"#7201a8\"], [0.3333333333333333, \"#9c179e\"], [0.4444444444444444, \"#bd3786\"], [0.5555555555555556, \"#d8576b\"], [0.6666666666666666, \"#ed7953\"], [0.7777777777777778, \"#fb9f3a\"], [0.8888888888888888, \"#fdca26\"], [1.0, \"#f0f921\"]]}, \"colorway\": [\"#636efa\", \"#EF553B\", \"#00cc96\", \"#ab63fa\", \"#FFA15A\", \"#19d3f3\", \"#FF6692\", \"#B6E880\", \"#FF97FF\", \"#FECB52\"], \"font\": {\"color\": \"#2a3f5f\"}, \"geo\": {\"bgcolor\": \"white\", \"lakecolor\": \"white\", \"landcolor\": \"#E5ECF6\", \"showlakes\": true, \"showland\": true, \"subunitcolor\": \"white\"}, \"hoverlabel\": {\"align\": \"left\"}, \"hovermode\": \"closest\", \"mapbox\": {\"style\": \"light\"}, \"paper_bgcolor\": \"white\", \"plot_bgcolor\": \"#E5ECF6\", \"polar\": {\"angularaxis\": {\"gridcolor\": \"white\", \"linecolor\": \"white\", \"ticks\": \"\"}, \"bgcolor\": \"#E5ECF6\", \"radialaxis\": {\"gridcolor\": \"white\", \"linecolor\": \"white\", \"ticks\": \"\"}}, \"scene\": {\"xaxis\": {\"backgroundcolor\": \"#E5ECF6\", \"gridcolor\": \"white\", \"gridwidth\": 2, \"linecolor\": \"white\", \"showbackground\": true, \"ticks\": \"\", \"zerolinecolor\": \"white\"}, \"yaxis\": {\"backgroundcolor\": \"#E5ECF6\", \"gridcolor\": \"white\", \"gridwidth\": 2, \"linecolor\": \"white\", \"showbackground\": true, \"ticks\": \"\", \"zerolinecolor\": \"white\"}, \"zaxis\": {\"backgroundcolor\": \"#E5ECF6\", \"gridcolor\": \"white\", \"gridwidth\": 2, \"linecolor\": \"white\", \"showbackground\": true, \"ticks\": \"\", \"zerolinecolor\": \"white\"}}, \"shapedefaults\": {\"line\": {\"color\": \"#2a3f5f\"}}, \"ternary\": {\"aaxis\": {\"gridcolor\": \"white\", \"linecolor\": \"white\", \"ticks\": \"\"}, \"baxis\": {\"gridcolor\": \"white\", \"linecolor\": \"white\", \"ticks\": \"\"}, \"bgcolor\": \"#E5ECF6\", \"caxis\": {\"gridcolor\": \"white\", \"linecolor\": \"white\", \"ticks\": \"\"}}, \"title\": {\"x\": 0.05}, \"xaxis\": {\"automargin\": true, \"gridcolor\": \"white\", \"linecolor\": \"white\", \"ticks\": \"\", \"title\": {\"standoff\": 15}, \"zerolinecolor\": \"white\", \"zerolinewidth\": 2}, \"yaxis\": {\"automargin\": true, \"gridcolor\": \"white\", \"linecolor\": \"white\", \"ticks\": \"\", \"title\": {\"standoff\": 15}, \"zerolinecolor\": \"white\", \"zerolinewidth\": 2}}}, \"title\": {\"text\": \"Market Capitalisation of BTC, ETH, ADA & VET\"}},                        {\"responsive\": true}                    ).then(function(){\n",
       "                            \n",
       "var gd = document.getElementById('99a3cf18-a0e5-4d23-a784-eb3361738411');\n",
       "var x = new MutationObserver(function (mutations, observer) {{\n",
       "        var display = window.getComputedStyle(gd).display;\n",
       "        if (!display || display === 'none') {{\n",
       "            console.log([gd, 'removed!']);\n",
       "            Plotly.purge(gd);\n",
       "            observer.disconnect();\n",
       "        }}\n",
       "}});\n",
       "\n",
       "// Listen for the removal of the full notebook cells\n",
       "var notebookContainer = gd.closest('#notebook-container');\n",
       "if (notebookContainer) {{\n",
       "    x.observe(notebookContainer, {childList: true});\n",
       "}}\n",
       "\n",
       "// Listen for the clearing of the current output cell\n",
       "var outputEl = gd.closest('.output');\n",
       "if (outputEl) {{\n",
       "    x.observe(outputEl, {childList: true});\n",
       "}}\n",
       "\n",
       "                        })                };                });            </script>        </div>"
      ]
     },
     "metadata": {},
     "output_type": "display_data"
    }
   ],
   "source": [
    "#Creating a sunburst plot of market cap?\n",
    "import plotly.express as px\n",
    "fig = px.sunburst(\n",
    "    crypto_mc,\n",
    "    path=[\"Crypto\", \"Market Capitalisation\"],\n",
    "    color='Market Capitalisation', \n",
    "    color_continuous_scale='Rainbow',\n",
    "    title=\"Market Capitalisation of BTC, ETH, ADA & VET\",\n",
    "    height=700\n",
    ")\n",
    "\n",
    "fig.show()"
   ]
  },
  {
   "cell_type": "code",
   "execution_count": null,
   "metadata": {},
   "outputs": [],
   "source": []
  }
 ],
 "metadata": {
  "kernelspec": {
   "display_name": "Python 3",
   "language": "python",
   "name": "python3"
  },
  "language_info": {
   "codemirror_mode": {
    "name": "ipython",
    "version": 3
   },
   "file_extension": ".py",
   "mimetype": "text/x-python",
   "name": "python",
   "nbconvert_exporter": "python",
   "pygments_lexer": "ipython3",
   "version": "3.7.9"
  }
 },
 "nbformat": 4,
 "nbformat_minor": 5
}
